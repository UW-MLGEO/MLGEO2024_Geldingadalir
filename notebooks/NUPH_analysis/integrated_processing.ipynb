{
 "cells": [
  {
   "cell_type": "code",
   "execution_count": 16,
   "metadata": {},
   "outputs": [],
   "source": [
    "import os\n",
    "import numpy as np\n",
    "from obspy import read\n",
    "from obspy.signal.filter import bandpass\n",
    "from scipy.signal import stft\n",
    "\n",
    "# Parameters\n",
    "input_folder = \"./data/raw\"  # Folder with raw seismic data (.mseed files)\n",
    "output_folder = \"./data/processed_data\"  # Folder to save processed results\n",
    "os.makedirs(output_folder, exist_ok=True)\n",
    "\n",
    "target_sampling_rate = 10  # Hz\n",
    "filter_min = 1  # Hz\n",
    "filter_max = 4  # Hz\n",
    "window_duration = 3600  # seconds (1 hour)\n",
    "overlap = 0.5  # Overlap between windows (50%)\n",
    "\n",
    "# Calculate parameters\n",
    "\n",
    "nperseg = 190  # Ensures 96 frequency bins\n",
    "noverlap = int(nperseg * (1 - 128 / (28800 / nperseg)))  # Adjust for 128 time bins\n",
    "\n",
    "\n",
    "# Initialize list for processed data\n",
    "processed_data = []\n",
    "\n",
    "# Helper function to process a single file\n",
    "def process_file(filepath):\n",
    "    # Read the seismic data\n",
    "    stream = read(filepath)\n",
    "    trace = stream[0]\n",
    "    \n",
    "    sampling_rate = trace.stats.sampling_rate\n",
    "    \n",
    "    # Demean and detrend\n",
    "    trace.detrend(type=\"demean\")\n",
    "    trace.detrend(\"linear\")\n",
    "    \n",
    "    # Resample to target sampling rate\n",
    "    trace.resample(sampling_rate=target_sampling_rate)\n",
    "    \n",
    "    # Bandpass filter\n",
    "    trace.data = bandpass(trace.data, filter_min, filter_max, trace.stats.sampling_rate, corners=4, zerophase=True)\n",
    "    \n",
    "    # STFT computation\n",
    "    f, t, Zxx = stft(\n",
    "        trace.data,\n",
    "        fs=sampling_rate,\n",
    "        nperseg=nperseg,\n",
    "        noverlap=noverlap,\n",
    "    )\n",
    "    \n",
    "    # Ensure the output has the correct shape\n",
    "    stft_magnitude = np.abs(Zxx)\n",
    "    if stft_magnitude.shape != (96, 128):\n",
    "        raise ValueError(f\"STFT output shape mismatch: {stft_magnitude.shape}\")\n",
    "    \n",
    "    return stft_magnitude\n"
   ]
  },
  {
   "cell_type": "code",
   "execution_count": 17,
   "metadata": {},
   "outputs": [
    {
     "name": "stdout",
     "output_type": "stream",
     "text": [
      "Processing file: ./data/raw/20210430_9fnuph.mseed\n"
     ]
    },
    {
     "ename": "ValueError",
     "evalue": "STFT output shape mismatch: (96, 5905)",
     "output_type": "error",
     "traceback": [
      "\u001b[0;31m---------------------------------------------------------------------------\u001b[0m",
      "\u001b[0;31mValueError\u001b[0m                                Traceback (most recent call last)",
      "Cell \u001b[0;32mIn[17], line 6\u001b[0m\n\u001b[1;32m      4\u001b[0m filepath \u001b[38;5;241m=\u001b[39m os\u001b[38;5;241m.\u001b[39mpath\u001b[38;5;241m.\u001b[39mjoin(input_folder, filename)\n\u001b[1;32m      5\u001b[0m \u001b[38;5;28mprint\u001b[39m(\u001b[38;5;124mf\u001b[39m\u001b[38;5;124m\"\u001b[39m\u001b[38;5;124mProcessing file: \u001b[39m\u001b[38;5;132;01m{\u001b[39;00mfilepath\u001b[38;5;132;01m}\u001b[39;00m\u001b[38;5;124m\"\u001b[39m)\n\u001b[0;32m----> 6\u001b[0m stft_magnitude \u001b[38;5;241m=\u001b[39m \u001b[43mprocess_file\u001b[49m\u001b[43m(\u001b[49m\u001b[43mfilepath\u001b[49m\u001b[43m)\u001b[49m\n\u001b[1;32m      7\u001b[0m display(stft_magnitude\u001b[38;5;241m.\u001b[39mshape)\n\u001b[1;32m      8\u001b[0m processed_data\u001b[38;5;241m.\u001b[39mappend(stft_magnitude)  \u001b[38;5;66;03m# Append processed file to the list\u001b[39;00m\n",
      "Cell \u001b[0;32mIn[16], line 56\u001b[0m, in \u001b[0;36mprocess_file\u001b[0;34m(filepath)\u001b[0m\n\u001b[1;32m     54\u001b[0m stft_magnitude \u001b[38;5;241m=\u001b[39m np\u001b[38;5;241m.\u001b[39mabs(Zxx)\n\u001b[1;32m     55\u001b[0m \u001b[38;5;28;01mif\u001b[39;00m stft_magnitude\u001b[38;5;241m.\u001b[39mshape \u001b[38;5;241m!=\u001b[39m (\u001b[38;5;241m96\u001b[39m, \u001b[38;5;241m128\u001b[39m):\n\u001b[0;32m---> 56\u001b[0m     \u001b[38;5;28;01mraise\u001b[39;00m \u001b[38;5;167;01mValueError\u001b[39;00m(\u001b[38;5;124mf\u001b[39m\u001b[38;5;124m\"\u001b[39m\u001b[38;5;124mSTFT output shape mismatch: \u001b[39m\u001b[38;5;132;01m{\u001b[39;00mstft_magnitude\u001b[38;5;241m.\u001b[39mshape\u001b[38;5;132;01m}\u001b[39;00m\u001b[38;5;124m\"\u001b[39m)\n\u001b[1;32m     58\u001b[0m \u001b[38;5;28;01mreturn\u001b[39;00m stft_magnitude\n",
      "\u001b[0;31mValueError\u001b[0m: STFT output shape mismatch: (96, 5905)"
     ]
    }
   ],
   "source": [
    "\n",
    "# Process all files in the folder\n",
    "for filename in os.listdir(input_folder):\n",
    "    if filename.endswith(\".mseed\"):\n",
    "        filepath = os.path.join(input_folder, filename)\n",
    "        print(f\"Processing file: {filepath}\")\n",
    "        stft_magnitude = process_file(filepath)\n",
    "        display(stft_magnitude.shape)\n",
    "        processed_data.append(stft_magnitude)  # Append processed file to the list\n",
    "\n",
    "# Convert list to a single NumPy array\n",
    "processed_data_array = np.array(processed_data, dtype=object)\n",
    "print(f\"Final array shape: {processed_data_array.shape}\")\n",
    "\n",
    "# Save the array\n",
    "output_array_path = os.path.join(output_folder, \"processed_seismic_data.npy\")\n",
    "np.save(output_array_path, processed_data_array)\n",
    "print(f\"Combined data saved to: {output_array_path}\")\n"
   ]
  }
 ],
 "metadata": {
  "kernelspec": {
   "display_name": "mlgeo",
   "language": "python",
   "name": "python3"
  },
  "language_info": {
   "codemirror_mode": {
    "name": "ipython",
    "version": 3
   },
   "file_extension": ".py",
   "mimetype": "text/x-python",
   "name": "python",
   "nbconvert_exporter": "python",
   "pygments_lexer": "ipython3",
   "version": "3.11.10"
  }
 },
 "nbformat": 4,
 "nbformat_minor": 2
}
