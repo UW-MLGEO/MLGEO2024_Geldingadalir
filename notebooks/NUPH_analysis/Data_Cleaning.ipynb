{
 "cells": [
  {
   "cell_type": "markdown",
   "metadata": {},
   "source": [
    "### Cleaning/Processing Steps\n",
    "The data will be demeaned similar to Zali et al., using a more conservative downsample rate of 20 Hz, given volcanic tremor is typically between 1-9 Hz.\n",
    "\n",
    "*Read in mseed files <br>\n",
    "*Check all are the same length <br>\n",
    "*Demean and detrend <br>\n",
    "*Anti-alias filter and downsample data to 8 Hz from 100 Hz"
   ]
  },
  {
   "cell_type": "code",
   "execution_count": 1,
   "metadata": {},
   "outputs": [],
   "source": [
    "import warnings\n",
    "\n",
    "# Suppress the specific warning from obspy\n",
    "warnings.filterwarnings(\n",
    "    \"ignore\",\n",
    "    message=\"The encoding specified in trace.stats.mseed.encoding does not match the dtype of the data.*\",\n",
    "    category=UserWarning,\n",
    "    module=\"obspy.io.mseed.core\"\n",
    ")\n"
   ]
  },
  {
   "cell_type": "code",
   "execution_count": null,
   "metadata": {},
   "outputs": [
    {
     "data": {
      "text/plain": [
       "'data/raw'"
      ]
     },
     "metadata": {},
     "output_type": "display_data"
    },
    {
     "data": {
      "text/plain": [
       "'/home/jen/snap/MLGEO2024_Geldingadalir/notebooks/NUPH_analysis/data/processed'"
      ]
     },
     "metadata": {},
     "output_type": "display_data"
    },
    {
     "name": "stdout",
     "output_type": "stream",
     "text": [
      "processed file: data/raw/20210430_9fnuph.mseed\n",
      "processed file: data/raw/20210512_9fnuph.mseed\n",
      "processed file: data/raw/20210608_9fnuph.mseed\n",
      "processed file: data/raw/20210323_9fnuph.mseed\n",
      "processed file: data/raw/20210505_9fnuph.mseed\n",
      "processed file: data/raw/20210319_9fnuph.mseed\n",
      "processed file: data/raw/20210406_9fnuph.mseed\n",
      "processed file: data/raw/20210613_9fnuph.mseed\n",
      "processed file: data/raw/20210504_9fnuph.mseed\n",
      "processed file: data/raw/20210621_9fnuph.mseed\n",
      "processed file: data/raw/20210429_9fnuph.mseed\n",
      "processed file: data/raw/20210617_9fnuph.mseed\n",
      "processed file: data/raw/20210409_9fnuph.mseed\n",
      "processed file: data/raw/20210601_9fnuph.mseed\n",
      "processed file: data/raw/20210407_9fnuph.mseed\n",
      "processed file: data/raw/20210604_9fnuph.mseed\n",
      "processed file: data/raw/20210322_9fnuph.mseed\n",
      "processed file: data/raw/20210312_9fnuph.mseed\n",
      "processed file: data/raw/20210503_9fnuph.mseed\n",
      "processed file: data/raw/20210507_9fnuph.mseed\n",
      "processed file: data/raw/20210609_9fnuph.mseed\n",
      "processed file: data/raw/20210413_9fnuph.mseed\n",
      "processed file: data/raw/20210618_9fnuph.mseed\n",
      "processed file: data/raw/20210527_9fnuph.mseed\n",
      "processed file: data/raw/20210508_9fnuph.mseed\n",
      "processed file: data/raw/20210408_9fnuph.mseed\n",
      "processed file: data/raw/20210421_9fnuph.mseed\n",
      "processed file: data/raw/20210611_9fnuph.mseed\n",
      "processed file: data/raw/20210414_9fnuph.mseed\n",
      "processed file: data/raw/20210513_9fnuph.mseed\n",
      "processed file: data/raw/20210519_9fnuph.mseed\n",
      "processed file: data/raw/20210514_9fnuph.mseed\n",
      "processed file: data/raw/20210612_9fnuph.mseed\n",
      "processed file: data/raw/20210528_9fnuph.mseed\n",
      "processed file: data/raw/20210411_9fnuph.mseed\n",
      "processed file: data/raw/20210419_9fnuph.mseed\n",
      "processed file: data/raw/20210330_9fnuph.mseed\n",
      "processed file: data/raw/20210615_9fnuph.mseed\n",
      "processed file: data/raw/20210422_9fnuph.mseed\n",
      "processed file: data/raw/20210619_9fnuph.mseed\n",
      "processed file: data/raw/20210531_9fnuph.mseed\n",
      "processed file: data/raw/20210614_9fnuph.mseed\n",
      "processed file: data/raw/20210518_9fnuph.mseed\n",
      "processed file: data/raw/20210423_9fnuph.mseed\n",
      "processed file: data/raw/20210402_9fnuph.mseed\n",
      "processed file: data/raw/20210427_9fnuph.mseed\n",
      "processed file: data/raw/20210520_9fnuph.mseed\n",
      "processed file: data/raw/20210331_9fnuph.mseed\n",
      "processed file: data/raw/20210529_9fnuph.mseed\n",
      "processed file: data/raw/20210523_9fnuph.mseed\n",
      "processed file: data/raw/20210320_9fnuph.mseed\n",
      "processed file: data/raw/20210424_9fnuph.mseed\n",
      "processed file: data/raw/20210605_9fnuph.mseed\n",
      "processed file: data/raw/20210316_9fnuph.mseed\n",
      "processed file: data/raw/20210511_9fnuph.mseed\n",
      "processed file: data/raw/20210425_9fnuph.mseed\n",
      "processed file: data/raw/20210509_9fnuph.mseed\n",
      "processed file: data/raw/20210318_9fnuph.mseed\n",
      "processed file: data/raw/20210530_9fnuph.mseed\n",
      "processed file: data/raw/20210420_9fnuph.mseed\n",
      "processed file: data/raw/20210526_9fnuph.mseed\n",
      "processed file: data/raw/20210410_9fnuph.mseed\n",
      "processed file: data/raw/20210401_9fnuph.mseed\n",
      "processed file: data/raw/20210525_9fnuph.mseed\n",
      "processed file: data/raw/20210516_9fnuph.mseed\n",
      "processed file: data/raw/20210412_9fnuph.mseed\n",
      "processed file: data/raw/20210620_9fnuph.mseed\n",
      "processed file: data/raw/20210517_9fnuph.mseed\n",
      "processed file: data/raw/20210524_9fnuph.mseed\n",
      "processed file: data/raw/20210502_9fnuph.mseed\n",
      "processed file: data/raw/20210328_9fnuph.mseed\n",
      "processed file: data/raw/20210610_9fnuph.mseed\n",
      "processed file: data/raw/20210314_9fnuph.mseed\n",
      "processed file: data/raw/20210515_9fnuph.mseed\n",
      "processed file: data/raw/20210325_9fnuph.mseed\n",
      "processed file: data/raw/20210313_9fnuph.mseed\n",
      "processed file: data/raw/20210403_9fnuph.mseed\n",
      "processed file: data/raw/20210522_9fnuph.mseed\n",
      "processed file: data/raw/20210521_9fnuph.mseed\n",
      "processed file: data/raw/20210607_9fnuph.mseed\n",
      "processed file: data/raw/20210315_9fnuph.mseed\n",
      "processed file: data/raw/20210417_9fnuph.mseed\n",
      "processed file: data/raw/20210603_9fnuph.mseed\n",
      "processed file: data/raw/20210415_9fnuph.mseed\n",
      "processed file: data/raw/20210428_9fnuph.mseed\n",
      "processed file: data/raw/20210506_9fnuph.mseed\n",
      "processed file: data/raw/20210329_9fnuph.mseed\n",
      "processed file: data/raw/20210327_9fnuph.mseed\n",
      "processed file: data/raw/20210418_9fnuph.mseed\n",
      "processed file: data/raw/20210321_9fnuph.mseed\n",
      "processed file: data/raw/20210616_9fnuph.mseed\n",
      "processed file: data/raw/20210324_9fnuph.mseed\n",
      "processed file: data/raw/20210501_9fnuph.mseed\n",
      "processed file: data/raw/20210326_9fnuph.mseed\n",
      "processed file: data/raw/20210510_9fnuph.mseed\n",
      "processed file: data/raw/20210317_9fnuph.mseed\n",
      "processed file: data/raw/20210426_9fnuph.mseed\n",
      "processed file: data/raw/20210606_9fnuph.mseed\n",
      "processed file: data/raw/20210602_9fnuph.mseed\n",
      "processed file: data/raw/20210416_9fnuph.mseed\n"
     ]
    }
   ],
   "source": [
    "import os\n",
    "from obspy import read\n",
    "import glob\n",
    "import numpy as np\n",
    "\n",
    "# Define the folder paths\n",
    "#input_folder = os.getcwd() + '/data/raw'\n",
    "input_folder = 'data/raw'\n",
    "processed_folder = os.getcwd() + '/data/processed'\n",
    "\n",
    "\n",
    "display(input_folder)\n",
    "display(processed_folder)\n",
    "\n",
    "os.makedirs(processed_folder, exist_ok=True)  # Create output directory if it doesn't exist\n",
    "\n",
    "# Target sampling rate after downsampling\n",
    "target_sampling_rate = 8  # Hz\n",
    "\n",
    "length = np.array([])\n",
    "\n",
    "# Process each mseed file in the folder\n",
    "for file_path in glob.glob(f\"{input_folder}/*.mseed\"):\n",
    "    # Read the file\n",
    "    st = read(file_path)\n",
    "    #print(f'processing file: {file_path}')\n",
    "       \n",
    "    # Demean, detrend, and downsample each trace\n",
    "    for tr in st:\n",
    "        tr.detrend(\"demean\")   # Remove mean\n",
    "        tr.detrend(\"linear\")   # Remove linear trend\n",
    "        tr.filter(\"lowpass\", freq=target_sampling_rate / 2)  # Anti-aliasing filter\n",
    "        tr.resample(target_sampling_rate)  # Downsample to 8 Hz\n",
    "        \n",
    "        # tr.normalize()\n",
    "        \n",
    "    #add data length to array\n",
    "    length = np.append(length, len(tr.data))\n",
    "\n",
    "    # Save the processed data\n",
    "    output_file = os.path.join(processed_folder, os.path.basename(file_path))\n",
    "    st.write(output_file, format=\"MSEED\")\n",
    "    print(f'processed file: {file_path}')"
   ]
  },
  {
   "cell_type": "markdown",
   "metadata": {},
   "source": [
    "Check the lengths of the files."
   ]
  },
  {
   "cell_type": "code",
   "execution_count": 3,
   "metadata": {},
   "outputs": [
    {
     "name": "stdout",
     "output_type": "stream",
     "text": [
      "Files have different lengths: [760320 760320 760320 760320 760320 760320 194785 760320 760320 760320\n",
      " 760320 760320 760320 760320 760320 760320 760320 331681 760320 760320\n",
      " 760320 760320 760320 760320 760320 760320 760320 760320 760320 760320\n",
      " 760320 760320 760320 760320 760320 760320 760320 760320 760320 760320\n",
      " 760320 760320 760320 760320 760320 760320 760320 760320 760320 760320\n",
      " 760320 760320 760320 760320 760320 760320 760320 760320 760320 760320\n",
      " 760320 760320 760320 760320 760320 760320 760320 760320 760320 760320\n",
      " 760320 760320 760320 760320 760320 760320  88059 760320 760320 760320\n",
      " 760320 760320 760320 760320 760320 760320 760320 760320 760320 760320\n",
      " 760320 760320 760320 760320 760320 760320 760320 760320 760320 760320]\n"
     ]
    }
   ],
   "source": [
    "# import os\n",
    "# from obspy import read\n",
    "# import glob\n",
    "# import numpy as np\n",
    "\n",
    "# Define the processed folder path = output_folder\n",
    "processed_folder = os.getcwd() + '/data/processed'\n",
    "\n",
    "# Array to store the lengths of each file\n",
    "lengths = []\n",
    "\n",
    "# Check each processed file's length\n",
    "for file_path in glob.glob(f\"{processed_folder}/*.mseed\"):\n",
    "    # Read only metadata\n",
    "    st = read(file_path, headonly=True)\n",
    "    \n",
    "    # Extract the number of data points in each trace\n",
    "    for tr in st:\n",
    "        lengths.append(tr.stats.npts)\n",
    "\n",
    "# Convert to numpy array for easier analysis\n",
    "lengths = np.array(lengths)\n",
    "\n",
    "# Check if all files have the same length\n",
    "if np.all(lengths == lengths[0]):\n",
    "    print(f\"All files have the same length: {lengths[0]} data points.\")\n",
    "else:\n",
    "    print(\"Files have different lengths:\", lengths)"
   ]
  },
  {
   "cell_type": "markdown",
   "metadata": {},
   "source": [
    "~~This is the correct number of points (+1) for 24 hours of data sampled at 25 Hz. The single extra point is a product of the decimation, will be removed in the preparing ai ready data notebook.~~"
   ]
  }
 ],
 "metadata": {
  "kernelspec": {
   "display_name": "mlgeo",
   "language": "python",
   "name": "python3"
  },
  "language_info": {
   "codemirror_mode": {
    "name": "ipython",
    "version": 3
   },
   "file_extension": ".py",
   "mimetype": "text/x-python",
   "name": "python",
   "nbconvert_exporter": "python",
   "pygments_lexer": "ipython3",
   "version": "3.11.10"
  }
 },
 "nbformat": 4,
 "nbformat_minor": 2
}
