{
 "cells": [
  {
   "cell_type": "code",
   "execution_count": 2,
   "metadata": {},
   "outputs": [],
   "source": [
    "import obspy\n",
    "from obspy import read\n",
    "from obspy import UTCDateTime as utc\n",
    "from obspy.clients.fdsn import Client\n",
    "client = Client('IRIS')\n",
    "\n",
    "import matplotlib.pyplot as plt\n",
    "import numpy as np\n",
    "import os"
   ]
  },
  {
   "cell_type": "code",
   "execution_count": 3,
   "metadata": {},
   "outputs": [
    {
     "name": "stdout",
     "output_type": "stream",
     "text": [
      "mkdir: data/clean: File exists\n"
     ]
    }
   ],
   "source": [
    "#Make folder for cleaned data\n",
    "! mkdir data/clean\n",
    "filepath = os.getcwd() + '/data/clean/'\n",
    "raw_filepath = os.getcwd() + '/data/raw/'"
   ]
  },
  {
   "cell_type": "markdown",
   "metadata": {},
   "source": [
    "### Cleaning/Processing Steps\n",
    "The data will be pre-processed in the manner described in Zali et al., downsampling to a rate of 8 Hz.\n",
    "\n",
    "*Read in mseed files <br>\n",
    "*Check all are the same length <br>\n",
    "*Demean and detrend <br>\n",
    "*Anti-alias filter and downsample data to 8 Hz"
   ]
  },
  {
   "cell_type": "code",
   "execution_count": 4,
   "metadata": {},
   "outputs": [],
   "source": [
    "#demean, detrend, lowpass filter, and downsample\n",
    "\n",
    "def process(st, buffer, target_freq): #freq is the original sampling frequency\n",
    "    tr = st[0].copy()\n",
    "\n",
    "    #demean and detrend\n",
    "    tr.detrend('demean')\n",
    "    tr.detrend('linear')\n",
    "\n",
    "    #taper data (to specified taper buffer)\n",
    "    tr.taper(max_percentage=0.05)\n",
    "\n",
    "    #lowpass filter data to avoid aliasing when downsampling\n",
    "    tr.filter('lowpass', freq=2*target_freq, zerophase=True)\n",
    "\n",
    "    #resample to 8 Hz\n",
    "    tr.resample(target_freq, no_filter=True)\n",
    "\n",
    "    #trim off tapered edges\n",
    "    tr.trim(starttime=tr.stats.starttime+buffer, endtime=tr.stats.endtime-buffer)\n",
    "\n",
    "    return(tr)"
   ]
  },
  {
   "cell_type": "code",
   "execution_count": 12,
   "metadata": {},
   "outputs": [
    {
     "name": "stderr",
     "output_type": "stream",
     "text": [
      "/opt/anaconda3/envs/array/lib/python3.12/site-packages/obspy/io/mseed/core.py:773: UserWarning: The encoding specified in trace.stats.mseed.encoding does not match the dtype of the data.\n",
      "A suitable encoding will be chosen.\n",
      "  warnings.warn(msg, UserWarning)\n"
     ]
    }
   ],
   "source": [
    "#read in data, process, save cleaned data and figures\n",
    "length = np.array([])\n",
    "\n",
    "for i in range(100):\n",
    "    i += 1\n",
    "    mseed_name = str(i)+'_sitkin.mseed'\n",
    "    st = read(raw_filepath+mseed_name)\n",
    "\n",
    "    #parameters for processing function\n",
    "    buffer = 60*60*24*0.05 #seconds\n",
    "    freq = st[0].stats.sampling_rate\n",
    "    target_freq = 8\n",
    "\n",
    "    #do processing\n",
    "    tr = process(st, buffer, target_freq)\n",
    "\n",
    "    #save trace to mseed again\n",
    "    tr.write(filepath+str(i)+'_cleaned.mseed', format='MSEED')\n",
    "\n",
    "    #add data length to array\n",
    "    length = np.append(length, len(tr.data))\n",
    "\n",
    "    #plot and save figures\n",
    "    fig, ax = plt.subplots()\n",
    "    fig.set_size_inches(6,6)\n",
    "    ax.plot(tr.times('relative'), tr.data, c='k')\n",
    "    ax.set_title('Data for Day '+mseed_name.split('_')[0])\n",
    "    ax.set_xlabel('Time (s)')\n",
    "    ax.set_ylabel('Counts')\n",
    "    ax.set_xlim(0, len(tr.data)/freq)\n",
    "    ax.grid()\n",
    "    plt.tight_layout()\n",
    "    plt.savefig(filepath+'Day'+mseed_name.split('_')[0]+'.png')\n",
    "    plt.close();"
   ]
  },
  {
   "cell_type": "markdown",
   "metadata": {},
   "source": [
    "Save simple time series plots to visually inspect for outliers/data issues not a simple way to remove outliers algorithmically, day 87 for example has extremely impulsive events that look like malfunctions, but are real"
   ]
  },
  {
   "cell_type": "code",
   "execution_count": 13,
   "metadata": {},
   "outputs": [
    {
     "data": {
      "text/plain": [
       "array([691200.])"
      ]
     },
     "execution_count": 13,
     "metadata": {},
     "output_type": "execute_result"
    }
   ],
   "source": [
    "#check that all values in length are equal\n",
    "np.unique(length)"
   ]
  },
  {
   "cell_type": "markdown",
   "metadata": {},
   "source": [
    "This is the correct number of points for 24 hours of data sampled at 8 Hz. Check this is constant for your data or it will cause irregularities later on!"
   ]
  },
  {
   "cell_type": "markdown",
   "metadata": {},
   "source": []
  }
 ],
 "metadata": {
  "kernelspec": {
   "display_name": "mlgeo",
   "language": "python",
   "name": "python3"
  },
  "language_info": {
   "codemirror_mode": {
    "name": "ipython",
    "version": 3
   },
   "file_extension": ".py",
   "mimetype": "text/x-python",
   "name": "python",
   "nbconvert_exporter": "python",
   "pygments_lexer": "ipython3",
   "version": "3.12.5"
  }
 },
 "nbformat": 4,
 "nbformat_minor": 2
}
