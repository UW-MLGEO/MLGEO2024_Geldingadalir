{
 "cells": [
  {
   "cell_type": "markdown",
   "metadata": {},
   "source": [
    "### Cleaning/Processing Steps\n",
    "The data will be demeaned similar to Zali et al., using a more conservative downsample rate of 20 Hz, given volcanic tremor is typically between 1-9 Hz.\n",
    "\n",
    "*Read in mseed files <br>\n",
    "*Check all are the same length <br>\n",
    "*Demean and detrend <br>\n",
    "*Anti-alias filter and downsample data to 8 Hz from 100 Hz"
   ]
  },
  {
   "cell_type": "code",
   "execution_count": 10,
   "metadata": {},
   "outputs": [],
   "source": [
    "import warnings\n",
    "\n",
    "# Suppress the specific warning from obspy\n",
    "warnings.filterwarnings(\n",
    "    \"ignore\",\n",
    "    message=\"The encoding specified in trace.stats.mseed.encoding does not match the dtype of the data.*\",\n",
    "    category=UserWarning,\n",
    "    module=\"obspy.io.mseed.core\"\n",
    ")"
   ]
  },
  {
   "cell_type": "code",
   "execution_count": 11,
   "metadata": {},
   "outputs": [
    {
     "name": "stdout",
     "output_type": "stream",
     "text": [
      "Processed file 1/28: 24_20210402_9fnuph.mseed\n",
      "Processed file 2/28: 14_20210323_9fnuph.mseed\n",
      "Processed file 3/28: 15_20210324_9fnuph.mseed\n",
      "Processed file 4/28: 23_20210401_9fnuph.mseed\n",
      "Processed file 5/28: 21_20210330_9fnuph.mseed\n",
      "Processed file 6/28: 11_20210320_9fnuph.mseed\n",
      "Processed file 7/28: 10_20210319_9fnuph.mseed\n",
      "Processed file 8/28: 07_20210317_9fnuph.mseed\n",
      "Processed file 9/28: 05_20210315_9fnuph.mseed\n",
      "Processed file 10/28: 17_20210326_9fnuph.mseed\n",
      "Processed file 11/28: 22_20210331_9fnuph.mseed\n",
      "Processed file 12/28: 08_20210317_9fnuph.mseed\n",
      "Processed file 13/28: 29_20210407_9fnuph.mseed\n",
      "Processed file 14/28: 18_20210327_9fnuph.mseed\n",
      "Processed file 15/28: 02_20210313_9fnuph.mseed\n",
      "Processed file 16/28: 06_20210316_9fnuph.mseed\n",
      "Processed file 17/28: 28_20210406_9fnuph.mseed\n",
      "Processed file 18/28: 25_20210403_9fnuph.mseed\n",
      "Processed file 19/28: 09_20210318_9fnuph.mseed\n",
      "Processed file 20/28: 30_20210408_9fnuph.mseed\n",
      "Processed file 21/28: 03_20210314_9fnuph.mseed\n",
      "Processed file 22/28: 19_20210328_9fnuph.mseed\n",
      "Processed file 23/28: 04_20210314_9fnuph.mseed\n",
      "Processed file 24/28: 12_20210321_9fnuph.mseed\n",
      "Processed file 25/28: 01_20210312_9fnuph.mseed\n",
      "Processed file 26/28: 20_20210329_9fnuph.mseed\n",
      "Processed file 27/28: 13_20210322_9fnuph.mseed\n",
      "Processed file 28/28: 16_20210325_9fnuph.mseed\n",
      "Lengths of processed traces: [760320 760320 760320 760320 760320 760320 760320 760320 760320 760320\n",
      " 760320 760320 760320 760320 760320 760320 194785  88059 760320 760320\n",
      " 760320 760320 760320 760320 331681 760320 760320 760320]\n"
     ]
    }
   ],
   "source": [
    "import os\n",
    "from obspy import read\n",
    "import glob\n",
    "import numpy as np\n",
    "\n",
    "# Define the folder paths\n",
    "input_folder = os.getcwd() + '/data/raw'\n",
    "processed_folder = os.getcwd() + '/data/processed'\n",
    "# number of files in data/raw\n",
    "\n",
    "files_to_process = len(glob.glob(f'{input_folder}/*.mseed'))\n",
    "count = 1\n",
    "\n",
    "# Display folder paths for confirmation\n",
    "# display(input_folder)\n",
    "# display(processed_folder)\n",
    "\n",
    "os.makedirs(processed_folder, exist_ok=True)  # Create output directory if it doesn't exist\n",
    "\n",
    "# Target sampling rate after downsampling\n",
    "target_sampling_rate = 8  # Hz\n",
    "\n",
    "# Initialize a list to store trace lengths\n",
    "lengths = []\n",
    "\n",
    "# Process each mseed file in the folder\n",
    "for file_path in glob.glob(f\"{input_folder}/*.mseed\"):\n",
    "    try:\n",
    "        # Read the file\n",
    "        st = read(file_path)\n",
    "        st_check = st.copy()\n",
    "        \n",
    "        # for tr in st_check:\n",
    "        #     if np.isnan(tr.data).any():\n",
    "        #         print(f\"NaNs detected after merging in trace {tr.id}. Filling NaNs with zeros.\")\n",
    "        #         tr.data = np.nan_to_num(tr.data, nan=0.0)  # Replace NaNs with zeros\n",
    "        \n",
    "        # Process each trace\n",
    "        for tr in st:\n",
    "            # Preprocessing steps\n",
    "            tr.detrend(\"demean\")  # Remove mean\n",
    "            tr.detrend(\"linear\")  # Remove linear trend\n",
    "            tr.filter(\"lowpass\", freq=target_sampling_rate / 2)  # Anti-aliasing filter\n",
    "            tr.resample(target_sampling_rate)  # Downsample to 8 Hz\n",
    "            \n",
    "            tr.normalize()  # Normalize the trace to between -1 and 1\n",
    "            \n",
    "            # Record trace length\n",
    "            lengths.append(len(tr.data))\n",
    "        \n",
    "        # Save the processed data\n",
    "        output_file = os.path.join(processed_folder, os.path.basename(file_path))\n",
    "        st.write(output_file, format=\"MSEED\")\n",
    "        print(f'Processed file {count}/{files_to_process}: {os.path.basename(file_path)}')\n",
    "    \n",
    "    except Exception as e:\n",
    "        print(f\"Error processing file {file_path}: {e}\")\n",
    "        continue\n",
    "\n",
    "    count += 1\n",
    "\n",
    "# Convert lengths to a NumPy array\n",
    "lengths = np.array(lengths)\n",
    "print(f\"Lengths of processed traces: {lengths}\")\n"
   ]
  },
  {
   "cell_type": "markdown",
   "metadata": {},
   "source": [
    "~~This is the correct number of points (+1) for 24 hours of data sampled at 25 Hz. The single extra point is a product of the decimation, will be removed in the preparing ai ready data notebook.~~"
   ]
  }
 ],
 "metadata": {
  "kernelspec": {
   "display_name": "mlgeo",
   "language": "python",
   "name": "python3"
  },
  "language_info": {
   "codemirror_mode": {
    "name": "ipython",
    "version": 3
   },
   "file_extension": ".py",
   "mimetype": "text/x-python",
   "name": "python",
   "nbconvert_exporter": "python",
   "pygments_lexer": "ipython3",
   "version": "3.11.10"
  }
 },
 "nbformat": 4,
 "nbformat_minor": 2
}
