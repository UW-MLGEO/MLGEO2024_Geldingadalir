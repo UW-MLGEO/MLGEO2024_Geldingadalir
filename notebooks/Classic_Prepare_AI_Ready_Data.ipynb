{
 "cells": [
  {
   "cell_type": "markdown",
   "metadata": {},
   "source": [
    "### Preparing AI Ready Data\n",
    "This notebook extracts statistics from 100 days of seismic data for use in classic machine learning. The environment requires obspy to be installed in addition to the standard mlgeo environment"
   ]
  },
  {
   "cell_type": "code",
   "execution_count": 52,
   "metadata": {},
   "outputs": [],
   "source": [
    "#!pip install obspy\n",
    "import obspy\n",
    "from obspy import read\n",
    "from obspy import UTCDateTime as utc\n",
    "from scipy.signal import stft\n",
    "import numpy as np\n",
    "import os\n",
    "import matplotlib.pyplot as plt\n",
    "import pandas as pd"
   ]
  },
  {
   "cell_type": "code",
   "execution_count": 22,
   "metadata": {},
   "outputs": [
    {
     "name": "stdout",
     "output_type": "stream",
     "text": [
      "mkdir: data/ai_ready: File exists\n"
     ]
    }
   ],
   "source": [
    "#Make folder for AI ready data\n",
    "! mkdir data/ai_ready\n",
    "filepath = os.getcwd() + '/data/ai_ready/'\n",
    "clean_filepath = os.getcwd() + '/data/clean/'\n",
    "raw_filepath = os.getcwd() + '/data/raw/'"
   ]
  },
  {
   "cell_type": "code",
   "execution_count": 24,
   "metadata": {},
   "outputs": [],
   "source": [
    "#set eruption time for given sensor/volcano, example is for Sitkin Volcano\n",
    "eruption_time = utc('2021-05-26T05:04')"
   ]
  },
  {
   "cell_type": "code",
   "execution_count": 84,
   "metadata": {},
   "outputs": [
    {
     "name": "stdout",
     "output_type": "stream",
     "text": [
      "2021-04-06T00:00:00.000000Z\n"
     ]
    }
   ],
   "source": [
    "#read in dates file from Download_Data notebook and convert to UTC objects\n",
    "dates = [utc(date) for date in np.load(raw_filepath+'date_list.npy', allow_pickle=True)]\n",
    "print(dates[0])"
   ]
  },
  {
   "cell_type": "markdown",
   "metadata": {},
   "source": [
    "### Define Functions for Calculating Stats"
   ]
  },
  {
   "cell_type": "code",
   "execution_count": 57,
   "metadata": {},
   "outputs": [],
   "source": [
    "# General Stats Used\n",
    "def stats(data):\n",
    "    mean = np.mean(data)\n",
    "    maxx = np.max(data)\n",
    "    minn = np.min(data)\n",
    "    median = np.median(data)\n",
    "    range = np.abs(maxx - minn)\n",
    "    std = np.std(data)\n",
    "    var = np.var(data)\n",
    "\n",
    "    return(mean, maxx, minn, median, range, std, var)\n",
    "\n",
    "# Spectral Domain, use STFT using the same parameters as Zahra et al. 2024\n",
    "def compute_spec(data):\n",
    "\n",
    "    x = data\n",
    "    fs = 8 # specified by Zahra\n",
    "    nwindow = 256 #given by Zahra\n",
    "    noverlap = 32 #given by Zahra\n",
    "\n",
    "    f, t, spectra = stft(x, fs=fs, nperseg=nwindow, noverlap=noverlap)\n",
    "\n",
    "    #find magnitude of complex spectra\n",
    "    spectra = np.abs(spectra)\n",
    "\n",
    "    #find log 10 of spectra\n",
    "    log_spectra = np.log10(spectra)\n",
    "\n",
    "\n",
    "\n",
    "    return(spectra, log_spectra)"
   ]
  },
  {
   "cell_type": "markdown",
   "metadata": {},
   "source": [
    "### Cell Below Will Save Seismograms in Day Chunks and also Combine Them into 1 Large File"
   ]
  },
  {
   "cell_type": "code",
   "execution_count": 12,
   "metadata": {},
   "outputs": [],
   "source": [
    "#read in cleaned mseed files, save as daily npy files and one giant 100 day file\n",
    "hundred_data = np.array([])\n",
    "\n",
    "for i in range(100):\n",
    "    i += 1\n",
    "\n",
    "    #read mseed\n",
    "    st = read(clean_filepath+str(i)+'_cleaned.mseed')\n",
    "\n",
    "    #save data to day long npys\n",
    "    data = st[0].data \n",
    "    np.save(filepath+str(i)+'_ready.npy', data)\n",
    "\n",
    "    #append to overall array\n",
    "    hundred_data = np.append(hundred_data, data)\n",
    "\n",
    "#save hundred day data npy\n",
    "np.save(filepath+'100_days.npy', hundred_data)"
   ]
  },
  {
   "cell_type": "markdown",
   "metadata": {},
   "source": [
    "### Cells Below Will Compute and Save Time Series and Spectral Statistics For Each Hour of Seismogram Data\n",
    "Data will also be associated with a Before or After Eruption Label in Stats file"
   ]
  },
  {
   "cell_type": "code",
   "execution_count": 85,
   "metadata": {},
   "outputs": [],
   "source": [
    "#initialize statistics dataframe\n",
    "statistics = ['mean','max','min','median','range','std','var',\n",
    "              'spec_mean','spec_max','spec_min','spec_median','spec_range','spec_std','spec_var',\n",
    "              'speclog_mean','speclog_max','speclog_min','speclog_median','speclog_range','speclog_std','speclog_var',\n",
    "              'state']\n",
    "\n",
    "stats_df = pd.DataFrame(columns=statistics)"
   ]
  },
  {
   "cell_type": "code",
   "execution_count": 86,
   "metadata": {},
   "outputs": [],
   "source": [
    "for i in range(100):\n",
    "    date = dates[i]\n",
    "    date += 30*60 #add half an hour for determining eruption state\n",
    "    i += 1\n",
    "\n",
    "    #read mseed\n",
    "    st = read(clean_filepath+str(i)+'_cleaned.mseed')\n",
    "    data = st[0].data\n",
    "    hz = st[0].stats.sampling_rate\n",
    "\n",
    "    #THIS ASSUMES DATA CONTAINS 24 HOURS OF DATA PER DATA\n",
    "    split_data = np.array(np.split(data, 24))\n",
    "\n",
    "    if split_data.shape[1] == 28800:\n",
    "        for hour in np.arange(24):\n",
    "            date += 60*60\n",
    "            if date >= eruption_time:\n",
    "                state = 'after'\n",
    "            elif date < eruption_time:\n",
    "                state = 'before'\n",
    "\n",
    "            data = split_data[hour]\n",
    "            spectra, log_spectra = compute_spec(data)\n",
    "\n",
    "            tmean, tmax, tmin, tmedian, trange, tstd, tvar = stats(data)\n",
    "\n",
    "            smean, smax, smin, smedian, srange, sstd, svar = stats(spectra)\n",
    "\n",
    "            slmean, slmax, slmin, slmedian, slrange, slstd, slvar = stats(log_spectra)\n",
    "\n",
    "            stats_df.loc[len(stats_df)] = tmean, tmax, tmin, tmedian, trange, tstd, tvar, smean, smax, \\\n",
    "                smin, smedian, srange, sstd, svar, slmean, slmax, slmin, slmedian, slrange, slstd, slvar, state\n"
   ]
  },
  {
   "cell_type": "code",
   "execution_count": 87,
   "metadata": {},
   "outputs": [
    {
     "data": {
      "text/html": [
       "<div>\n",
       "<style scoped>\n",
       "    .dataframe tbody tr th:only-of-type {\n",
       "        vertical-align: middle;\n",
       "    }\n",
       "\n",
       "    .dataframe tbody tr th {\n",
       "        vertical-align: top;\n",
       "    }\n",
       "\n",
       "    .dataframe thead th {\n",
       "        text-align: right;\n",
       "    }\n",
       "</style>\n",
       "<table border=\"1\" class=\"dataframe\">\n",
       "  <thead>\n",
       "    <tr style=\"text-align: right;\">\n",
       "      <th></th>\n",
       "      <th>mean</th>\n",
       "      <th>max</th>\n",
       "      <th>min</th>\n",
       "      <th>median</th>\n",
       "      <th>range</th>\n",
       "      <th>std</th>\n",
       "      <th>var</th>\n",
       "      <th>spec_mean</th>\n",
       "      <th>spec_max</th>\n",
       "      <th>spec_min</th>\n",
       "      <th>...</th>\n",
       "      <th>spec_std</th>\n",
       "      <th>spec_var</th>\n",
       "      <th>speclog_mean</th>\n",
       "      <th>speclog_max</th>\n",
       "      <th>speclog_min</th>\n",
       "      <th>speclog_median</th>\n",
       "      <th>speclog_range</th>\n",
       "      <th>speclog_std</th>\n",
       "      <th>speclog_var</th>\n",
       "      <th>state</th>\n",
       "    </tr>\n",
       "  </thead>\n",
       "  <tbody>\n",
       "    <tr>\n",
       "      <th>0</th>\n",
       "      <td>-2.045739</td>\n",
       "      <td>1659.079530</td>\n",
       "      <td>-1318.335883</td>\n",
       "      <td>-6.963337</td>\n",
       "      <td>2977.415414</td>\n",
       "      <td>371.791134</td>\n",
       "      <td>138228.647271</td>\n",
       "      <td>10.392417</td>\n",
       "      <td>995.277247</td>\n",
       "      <td>0.004666</td>\n",
       "      <td>...</td>\n",
       "      <td>31.456352</td>\n",
       "      <td>989.502099</td>\n",
       "      <td>0.433941</td>\n",
       "      <td>2.997944</td>\n",
       "      <td>-2.331057</td>\n",
       "      <td>0.297929</td>\n",
       "      <td>5.329001</td>\n",
       "      <td>0.661548</td>\n",
       "      <td>0.437646</td>\n",
       "      <td>before</td>\n",
       "    </tr>\n",
       "    <tr>\n",
       "      <th>1</th>\n",
       "      <td>-43.245231</td>\n",
       "      <td>1800.918051</td>\n",
       "      <td>-1867.272921</td>\n",
       "      <td>-56.748376</td>\n",
       "      <td>3668.190972</td>\n",
       "      <td>476.115885</td>\n",
       "      <td>226686.335511</td>\n",
       "      <td>12.038669</td>\n",
       "      <td>1081.727088</td>\n",
       "      <td>0.010802</td>\n",
       "      <td>...</td>\n",
       "      <td>40.854324</td>\n",
       "      <td>1669.075788</td>\n",
       "      <td>0.473613</td>\n",
       "      <td>3.034118</td>\n",
       "      <td>-1.966483</td>\n",
       "      <td>0.329268</td>\n",
       "      <td>5.000601</td>\n",
       "      <td>0.658096</td>\n",
       "      <td>0.433090</td>\n",
       "      <td>before</td>\n",
       "    </tr>\n",
       "    <tr>\n",
       "      <th>2</th>\n",
       "      <td>-34.465366</td>\n",
       "      <td>2031.091640</td>\n",
       "      <td>-2252.112966</td>\n",
       "      <td>-32.267577</td>\n",
       "      <td>4283.204606</td>\n",
       "      <td>548.338617</td>\n",
       "      <td>300675.238931</td>\n",
       "      <td>12.984918</td>\n",
       "      <td>1236.088867</td>\n",
       "      <td>0.011445</td>\n",
       "      <td>...</td>\n",
       "      <td>49.401049</td>\n",
       "      <td>2440.463664</td>\n",
       "      <td>0.500578</td>\n",
       "      <td>3.092050</td>\n",
       "      <td>-1.941383</td>\n",
       "      <td>0.366436</td>\n",
       "      <td>5.033433</td>\n",
       "      <td>0.640550</td>\n",
       "      <td>0.410304</td>\n",
       "      <td>before</td>\n",
       "    </tr>\n",
       "  </tbody>\n",
       "</table>\n",
       "<p>3 rows × 22 columns</p>\n",
       "</div>"
      ],
      "text/plain": [
       "        mean          max          min     median        range         std  \\\n",
       "0  -2.045739  1659.079530 -1318.335883  -6.963337  2977.415414  371.791134   \n",
       "1 -43.245231  1800.918051 -1867.272921 -56.748376  3668.190972  476.115885   \n",
       "2 -34.465366  2031.091640 -2252.112966 -32.267577  4283.204606  548.338617   \n",
       "\n",
       "             var  spec_mean     spec_max  spec_min  ...   spec_std  \\\n",
       "0  138228.647271  10.392417   995.277247  0.004666  ...  31.456352   \n",
       "1  226686.335511  12.038669  1081.727088  0.010802  ...  40.854324   \n",
       "2  300675.238931  12.984918  1236.088867  0.011445  ...  49.401049   \n",
       "\n",
       "      spec_var  speclog_mean  speclog_max  speclog_min  speclog_median  \\\n",
       "0   989.502099      0.433941     2.997944    -2.331057        0.297929   \n",
       "1  1669.075788      0.473613     3.034118    -1.966483        0.329268   \n",
       "2  2440.463664      0.500578     3.092050    -1.941383        0.366436   \n",
       "\n",
       "   speclog_range  speclog_std  speclog_var   state  \n",
       "0       5.329001     0.661548     0.437646  before  \n",
       "1       5.000601     0.658096     0.433090  before  \n",
       "2       5.033433     0.640550     0.410304  before  \n",
       "\n",
       "[3 rows x 22 columns]"
      ]
     },
     "execution_count": 87,
     "metadata": {},
     "output_type": "execute_result"
    }
   ],
   "source": [
    "#inspect dataframe header\n",
    "stats_df.head(3)"
   ]
  },
  {
   "cell_type": "code",
   "execution_count": 90,
   "metadata": {},
   "outputs": [],
   "source": [
    "#save stats to csv file\n",
    "stats_df.to_csv(path_or_buf=filepath+'statistics.csv', index=False)"
   ]
  },
  {
   "cell_type": "code",
   "execution_count": null,
   "metadata": {},
   "outputs": [],
   "source": []
  }
 ],
 "metadata": {
  "kernelspec": {
   "display_name": "array",
   "language": "python",
   "name": "python3"
  },
  "language_info": {
   "codemirror_mode": {
    "name": "ipython",
    "version": 3
   },
   "file_extension": ".py",
   "mimetype": "text/x-python",
   "name": "python",
   "nbconvert_exporter": "python",
   "pygments_lexer": "ipython3",
   "version": "3.12.5"
  }
 },
 "nbformat": 4,
 "nbformat_minor": 2
}
