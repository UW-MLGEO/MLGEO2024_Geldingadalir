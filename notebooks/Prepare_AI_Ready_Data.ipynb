{
 "cells": [
  {
   "cell_type": "code",
   "execution_count": 19,
   "metadata": {},
   "outputs": [],
   "source": [
    "import obspy\n",
    "from obspy import read\n",
    "import numpy as np\n",
    "import pandas as pd\n",
    "import os\n",
    "from scipy.signal import stft"
   ]
  },
  {
   "cell_type": "code",
   "execution_count": 6,
   "metadata": {},
   "outputs": [
    {
     "name": "stdout",
     "output_type": "stream",
     "text": [
      "mkdir: data/ai_ready: File exists\n"
     ]
    }
   ],
   "source": [
    "#Make folder for AI ready data\n",
    "! mkdir data/ai_ready\n",
    "filepath = os.getcwd() + '/data/ai_ready/'\n",
    "clean_filepath = os.getcwd() + '/data/clean/'"
   ]
  },
  {
   "cell_type": "code",
   "execution_count": 7,
   "metadata": {},
   "outputs": [],
   "source": [
    "#read in cleaned mseed files, save as daily npy files and one giant 100 day file\n",
    "hundred_data = np.array([])\n",
    "\n",
    "for i in range(100):\n",
    "    i += 1\n",
    "\n",
    "    #read mseed\n",
    "    st = read(clean_filepath+str(i)+'_cleaned.mseed')\n",
    "\n",
    "    #save data to day long npys\n",
    "    data = st[0].data\n",
    "    np.save(filepath+str(i)+'_ready.npy', data)\n",
    "\n",
    "    #append to overall array\n",
    "    hundred_data = np.append(hundred_data, data)\n",
    "\n",
    "#save hundred day data npy\n",
    "np.save(filepath+'100_days.npy', hundred_data)"
   ]
  },
  {
   "cell_type": "markdown",
   "metadata": {},
   "source": [
    "----------------------------------------------------------\n",
    "This section of the notebook computes stft and statistics on the data seismic data"
   ]
  },
  {
   "cell_type": "code",
   "execution_count": 57,
   "metadata": {},
   "outputs": [],
   "source": [
    "#function for calculating desired stats\n",
    "def stats(x): #x being an array\n",
    "    return np.array([np.nanmean(x), np.nanmax(x), np.nanmin(x), np.nanmedian(x), np.ptp(x), np.nanstd(x)])"
   ]
  },
  {
   "cell_type": "code",
   "execution_count": 60,
   "metadata": {},
   "outputs": [],
   "source": [
    "#run stft following Zali et al. -- detailed in Figure 4\n",
    "#want 96 frequency bins and 128 time bins, 691200 data points\n",
    "fs = 8 #sampling rate Hz\n",
    "nperseg = 256 #samples per window\n",
    "noverlap = 32 #window overlap\n",
    "\n",
    "#initialize variable to hold spectrograms\n",
    "spectras = []\n",
    "\n",
    "#initialize variable for waveform and spectral statistics\n",
    "time = ['mean', 'max', 'min', 'median','range', 'std']\n",
    "spectral = ['spec_' + t for t in time]\n",
    "df = pd.DataFrame(columns=time+spectral)\n",
    "\n",
    "for i in range(100):\n",
    "    i += 1\n",
    "\n",
    "    #read mseed\n",
    "    st = read(clean_filepath+str(i)+'_cleaned.mseed')\n",
    "    data = st[0].data\n",
    "\n",
    "    #go hour by hour computing stfts and saving to array\n",
    "    for hour in np.split(data, 24):\n",
    "        out = stft(hour, fs=fs, nperseg=nperseg, noverlap=noverlap, return_onesided=True)\n",
    "\n",
    "        #get magnitude of complex spectra\n",
    "        spectra = np.abs(out[2])\n",
    "\n",
    "        #flatten spectra to feed into clustering\n",
    "        spectra = spectra.flatten()\n",
    "\n",
    "        #add row to dataframe\n",
    "        df.loc[len(df)] = np.concatenate([stats(data), stats(spectra)])\n",
    "\n",
    "        #normalize spectra\n",
    "        spectra /= np.max(spectra)\n",
    "\n",
    "        if len(spectras) < 1:\n",
    "            spectras = spectra\n",
    "\n",
    "        else: #catch for hours with missing data\n",
    "            try:\n",
    "                spectras = np.vstack([spectras, spectra])\n",
    "            except:\n",
    "                print('Unequal data lengths')\n",
    "\n",
    "#save hourly spectrogram file\n",
    "np.save(filepath+'spectra.npy', spectras)\n",
    "\n",
    "#save statistics file\n",
    "df.to_csv(path_or_buf=filepath+'statistics.csv', index=False)"
   ]
  },
  {
   "cell_type": "code",
   "execution_count": 14,
   "metadata": {},
   "outputs": [
    {
     "data": {
      "text/plain": [
       "(2400, 16770)"
      ]
     },
     "execution_count": 14,
     "metadata": {},
     "output_type": "execute_result"
    }
   ],
   "source": [
    "#inspect the dimensions of spectras array. We expect the first dimension to be 24 * n_days\n",
    "spectras.shape"
   ]
  },
  {
   "cell_type": "code",
   "execution_count": 61,
   "metadata": {},
   "outputs": [
    {
     "data": {
      "text/html": [
       "<div>\n",
       "<style scoped>\n",
       "    .dataframe tbody tr th:only-of-type {\n",
       "        vertical-align: middle;\n",
       "    }\n",
       "\n",
       "    .dataframe tbody tr th {\n",
       "        vertical-align: top;\n",
       "    }\n",
       "\n",
       "    .dataframe thead th {\n",
       "        text-align: right;\n",
       "    }\n",
       "</style>\n",
       "<table border=\"1\" class=\"dataframe\">\n",
       "  <thead>\n",
       "    <tr style=\"text-align: right;\">\n",
       "      <th></th>\n",
       "      <th>mean</th>\n",
       "      <th>max</th>\n",
       "      <th>min</th>\n",
       "      <th>median</th>\n",
       "      <th>range</th>\n",
       "      <th>std</th>\n",
       "      <th>spec_mean</th>\n",
       "      <th>spec_max</th>\n",
       "      <th>spec_min</th>\n",
       "      <th>spec_median</th>\n",
       "      <th>spec_range</th>\n",
       "      <th>spec_std</th>\n",
       "    </tr>\n",
       "  </thead>\n",
       "  <tbody>\n",
       "    <tr>\n",
       "      <th>2395</th>\n",
       "      <td>-0.000609</td>\n",
       "      <td>1.0</td>\n",
       "      <td>-0.643724</td>\n",
       "      <td>-0.000736</td>\n",
       "      <td>1.643724</td>\n",
       "      <td>0.041933</td>\n",
       "      <td>0.001138</td>\n",
       "      <td>0.074044</td>\n",
       "      <td>1.365549e-06</td>\n",
       "      <td>0.000318</td>\n",
       "      <td>0.074043</td>\n",
       "      <td>0.002634</td>\n",
       "    </tr>\n",
       "    <tr>\n",
       "      <th>2396</th>\n",
       "      <td>-0.000609</td>\n",
       "      <td>1.0</td>\n",
       "      <td>-0.643724</td>\n",
       "      <td>-0.000736</td>\n",
       "      <td>1.643724</td>\n",
       "      <td>0.041933</td>\n",
       "      <td>0.001117</td>\n",
       "      <td>0.041984</td>\n",
       "      <td>3.754943e-07</td>\n",
       "      <td>0.000329</td>\n",
       "      <td>0.041984</td>\n",
       "      <td>0.002499</td>\n",
       "    </tr>\n",
       "    <tr>\n",
       "      <th>2397</th>\n",
       "      <td>-0.000609</td>\n",
       "      <td>1.0</td>\n",
       "      <td>-0.643724</td>\n",
       "      <td>-0.000736</td>\n",
       "      <td>1.643724</td>\n",
       "      <td>0.041933</td>\n",
       "      <td>0.001135</td>\n",
       "      <td>0.141904</td>\n",
       "      <td>2.735480e-06</td>\n",
       "      <td>0.000320</td>\n",
       "      <td>0.141902</td>\n",
       "      <td>0.002977</td>\n",
       "    </tr>\n",
       "    <tr>\n",
       "      <th>2398</th>\n",
       "      <td>-0.000609</td>\n",
       "      <td>1.0</td>\n",
       "      <td>-0.643724</td>\n",
       "      <td>-0.000736</td>\n",
       "      <td>1.643724</td>\n",
       "      <td>0.041933</td>\n",
       "      <td>0.001167</td>\n",
       "      <td>0.068220</td>\n",
       "      <td>2.887628e-07</td>\n",
       "      <td>0.000327</td>\n",
       "      <td>0.068219</td>\n",
       "      <td>0.003127</td>\n",
       "    </tr>\n",
       "    <tr>\n",
       "      <th>2399</th>\n",
       "      <td>-0.000609</td>\n",
       "      <td>1.0</td>\n",
       "      <td>-0.643724</td>\n",
       "      <td>-0.000736</td>\n",
       "      <td>1.643724</td>\n",
       "      <td>0.041933</td>\n",
       "      <td>0.001215</td>\n",
       "      <td>0.079719</td>\n",
       "      <td>1.247811e-06</td>\n",
       "      <td>0.000348</td>\n",
       "      <td>0.079718</td>\n",
       "      <td>0.003212</td>\n",
       "    </tr>\n",
       "  </tbody>\n",
       "</table>\n",
       "</div>"
      ],
      "text/plain": [
       "          mean  max       min    median     range       std  spec_mean  \\\n",
       "2395 -0.000609  1.0 -0.643724 -0.000736  1.643724  0.041933   0.001138   \n",
       "2396 -0.000609  1.0 -0.643724 -0.000736  1.643724  0.041933   0.001117   \n",
       "2397 -0.000609  1.0 -0.643724 -0.000736  1.643724  0.041933   0.001135   \n",
       "2398 -0.000609  1.0 -0.643724 -0.000736  1.643724  0.041933   0.001167   \n",
       "2399 -0.000609  1.0 -0.643724 -0.000736  1.643724  0.041933   0.001215   \n",
       "\n",
       "      spec_max      spec_min  spec_median  spec_range  spec_std  \n",
       "2395  0.074044  1.365549e-06     0.000318    0.074043  0.002634  \n",
       "2396  0.041984  3.754943e-07     0.000329    0.041984  0.002499  \n",
       "2397  0.141904  2.735480e-06     0.000320    0.141902  0.002977  \n",
       "2398  0.068220  2.887628e-07     0.000327    0.068219  0.003127  \n",
       "2399  0.079719  1.247811e-06     0.000348    0.079718  0.003212  "
      ]
     },
     "execution_count": 61,
     "metadata": {},
     "output_type": "execute_result"
    }
   ],
   "source": [
    "#inspect statistics df\n",
    "df.tail()"
   ]
  },
  {
   "cell_type": "code",
   "execution_count": null,
   "metadata": {},
   "outputs": [],
   "source": []
  }
 ],
 "metadata": {
  "kernelspec": {
   "display_name": "array",
   "language": "python",
   "name": "python3"
  },
  "language_info": {
   "codemirror_mode": {
    "name": "ipython",
    "version": 3
   },
   "file_extension": ".py",
   "mimetype": "text/x-python",
   "name": "python",
   "nbconvert_exporter": "python",
   "pygments_lexer": "ipython3",
   "version": "3.12.5"
  }
 },
 "nbformat": 4,
 "nbformat_minor": 2
}
