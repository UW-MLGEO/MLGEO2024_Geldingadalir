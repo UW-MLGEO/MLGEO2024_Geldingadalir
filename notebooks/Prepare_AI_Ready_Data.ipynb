{
 "cells": [
  {
   "cell_type": "code",
   "execution_count": 1,
   "metadata": {},
   "outputs": [],
   "source": [
    "import obspy\n",
    "from obspy import read\n",
    "import numpy as np\n",
    "import os"
   ]
  },
  {
   "cell_type": "code",
   "execution_count": 2,
   "metadata": {},
   "outputs": [
    {
     "name": "stdout",
     "output_type": "stream",
     "text": [
      "mkdir: data/ai_ready: File exists\n"
     ]
    }
   ],
   "source": [
    "#Make folder for AI ready data\n",
    "! mkdir data/ai_ready\n",
    "filepath = os.getcwd() + '/data/ai_ready/'\n",
    "clean_filepath = os.getcwd() + '/data/clean/'"
   ]
  },
  {
   "cell_type": "code",
   "execution_count": 3,
   "metadata": {},
   "outputs": [
    {
     "ename": "KeyboardInterrupt",
     "evalue": "",
     "output_type": "error",
     "traceback": [
      "\u001b[0;31m---------------------------------------------------------------------------\u001b[0m",
      "\u001b[0;31mKeyboardInterrupt\u001b[0m                         Traceback (most recent call last)",
      "Cell \u001b[0;32mIn[3], line 15\u001b[0m\n\u001b[1;32m     12\u001b[0m     np\u001b[38;5;241m.\u001b[39msave(filepath\u001b[38;5;241m+\u001b[39m\u001b[38;5;28mstr\u001b[39m(i)\u001b[38;5;241m+\u001b[39m\u001b[38;5;124m'\u001b[39m\u001b[38;5;124m_ready.npy\u001b[39m\u001b[38;5;124m'\u001b[39m, data)\n\u001b[1;32m     14\u001b[0m     \u001b[38;5;66;03m#append to overall array\u001b[39;00m\n\u001b[0;32m---> 15\u001b[0m     hundred_data \u001b[38;5;241m=\u001b[39m \u001b[43mnp\u001b[49m\u001b[38;5;241;43m.\u001b[39;49m\u001b[43mappend\u001b[49m\u001b[43m(\u001b[49m\u001b[43mhundred_data\u001b[49m\u001b[43m,\u001b[49m\u001b[43m \u001b[49m\u001b[43mdata\u001b[49m\u001b[43m)\u001b[49m\n\u001b[1;32m     17\u001b[0m \u001b[38;5;66;03m#save hundred day data npy\u001b[39;00m\n\u001b[1;32m     18\u001b[0m np\u001b[38;5;241m.\u001b[39msave(filepath\u001b[38;5;241m+\u001b[39m\u001b[38;5;124m'\u001b[39m\u001b[38;5;124m100_days.npy\u001b[39m\u001b[38;5;124m'\u001b[39m, hundred_data)\n",
      "File \u001b[0;32m~/Documents/GitHub/kperks_Geldingadalir/.conda/lib/python3.11/site-packages/numpy/lib/_function_base_impl.py:5685\u001b[0m, in \u001b[0;36mappend\u001b[0;34m(arr, values, axis)\u001b[0m\n\u001b[1;32m   5683\u001b[0m     values \u001b[38;5;241m=\u001b[39m ravel(values)\n\u001b[1;32m   5684\u001b[0m     axis \u001b[38;5;241m=\u001b[39m arr\u001b[38;5;241m.\u001b[39mndim\u001b[38;5;241m-\u001b[39m\u001b[38;5;241m1\u001b[39m\n\u001b[0;32m-> 5685\u001b[0m \u001b[38;5;28;01mreturn\u001b[39;00m \u001b[43mconcatenate\u001b[49m\u001b[43m(\u001b[49m\u001b[43m(\u001b[49m\u001b[43marr\u001b[49m\u001b[43m,\u001b[49m\u001b[43m \u001b[49m\u001b[43mvalues\u001b[49m\u001b[43m)\u001b[49m\u001b[43m,\u001b[49m\u001b[43m \u001b[49m\u001b[43maxis\u001b[49m\u001b[38;5;241;43m=\u001b[39;49m\u001b[43maxis\u001b[49m\u001b[43m)\u001b[49m\n",
      "\u001b[0;31mKeyboardInterrupt\u001b[0m: "
     ]
    }
   ],
   "source": [
    "#read in cleaned mseed files, save as daily npy files and one giant 100 day file\n",
    "hundred_data = np.array([])\n",
    "\n",
    "for i in range(100):\n",
    "    i += 1\n",
    "\n",
    "    #read mseed\n",
    "    st = read(clean_filepath+str(i)+'_cleaned.mseed')\n",
    "\n",
    "    #save data to day long npys\n",
    "    data = st[0].data[0:-1] #removing extra point from decimating\n",
    "    np.save(filepath+str(i)+'_ready.npy', data)\n",
    "\n",
    "    #append to overall array\n",
    "    hundred_data = np.append(hundred_data, data)\n",
    "\n",
    "#save hundred day data npy\n",
    "np.save(filepath+'100_days.npy', hundred_data)"
   ]
  },
  {
   "cell_type": "code",
   "execution_count": null,
   "metadata": {},
   "outputs": [],
   "source": []
  }
 ],
 "metadata": {
  "kernelspec": {
   "display_name": "Python 3",
   "language": "python",
   "name": "python3"
  },
  "language_info": {
   "codemirror_mode": {
    "name": "ipython",
    "version": 3
   },
   "file_extension": ".py",
   "mimetype": "text/x-python",
   "name": "python",
   "nbconvert_exporter": "python",
   "pygments_lexer": "ipython3",
   "version": "3.11.10"
  }
 },
 "nbformat": 4,
 "nbformat_minor": 2
}
