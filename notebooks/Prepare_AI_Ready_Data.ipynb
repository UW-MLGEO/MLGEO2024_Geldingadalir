{
 "cells": [
  {
   "cell_type": "code",
   "execution_count": 1,
   "metadata": {},
   "outputs": [],
   "source": [
    "import obspy\n",
    "from obspy import read\n",
    "import numpy as np\n",
    "import os"
   ]
  },
  {
   "cell_type": "code",
   "execution_count": 2,
   "metadata": {},
   "outputs": [
    {
     "name": "stdout",
     "output_type": "stream",
     "text": [
      "/Users/atsparks/Desktop/Github\n"
     ]
    }
   ],
   "source": [
    "#Make folder for AI ready data outside of tracked directory\n",
    "filepath = os.path.abspath(os.getcwd()).split('/')[0:-2]\n",
    "filepath = '/'.join(filepath)\n",
    "print(filepath)\n",
    "\n",
    "#actually creating directory\n",
    "data_dir = filepath+'/data'\n",
    "clean_data_dir = data_dir+'/clean'\n",
    "aiready_data_dir = data_dir+'/aiready'\n",
    "\n",
    "os.mkdir(aiready_data_dir)"
   ]
  },
  {
   "cell_type": "code",
   "execution_count": 3,
   "metadata": {},
   "outputs": [],
   "source": [
    "#read in cleaned mseed files, save as daily npy files and one giant 100 day file\n",
    "hundred_data = np.array([])\n",
    "\n",
    "for i in range(100):\n",
    "    i += 1\n",
    "\n",
    "    #read mseed\n",
    "    st = read(clean_data_dir+'/'+str(i)+'_cleaned.mseed')\n",
    "\n",
    "    #save data to day long npys\n",
    "    data = st[0].data[0:-1] #removing extra point from decimating\n",
    "    np.save(aiready_data_dir+'/'+str(i)+'_ready.npy', data)\n",
    "\n",
    "    #append to overall array\n",
    "    hundred_data = np.append(hundred_data, data)\n",
    "\n",
    "#save hundred day data npy\n",
    "np.save(aiready_data_dir+'/100_days.npy', hundred_data)"
   ]
  }
 ],
 "metadata": {
  "kernelspec": {
   "display_name": "array",
   "language": "python",
   "name": "python3"
  },
  "language_info": {
   "codemirror_mode": {
    "name": "ipython",
    "version": 3
   },
   "file_extension": ".py",
   "mimetype": "text/x-python",
   "name": "python",
   "nbconvert_exporter": "python",
   "pygments_lexer": "ipython3",
   "version": "3.12.5"
  }
 },
 "nbformat": 4,
 "nbformat_minor": 2
}
