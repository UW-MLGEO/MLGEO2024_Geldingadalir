{
 "cells": [
  {
   "cell_type": "markdown",
   "metadata": {},
   "source": [
    "### Preparing AI Ready Data\n",
    "This notebook extracts statistics from 100 days of seismic data for use in classic machine learning. The environment requires obspy to be installed in addition to the standard mlgeo environment"
   ]
  },
  {
   "cell_type": "code",
   "execution_count": 1,
   "metadata": {},
   "outputs": [],
   "source": [
    "#!pip install obspy\n",
    "import obspy\n",
    "from obspy import read\n",
    "from obspy import UTCDateTime as utc\n",
    "from scipy.signal import stft\n",
    "import numpy as np\n",
    "import os\n",
    "import matplotlib.pyplot as plt\n",
    "import pandas as pd"
   ]
  },
  {
   "cell_type": "code",
   "execution_count": 2,
   "metadata": {},
   "outputs": [],
   "source": [
    "#Make folder for AI ready data\n",
    "! mkdir data/ai_ready\n",
    "filepath = os.getcwd() + '/data/ai_ready/'\n",
    "clean_filepath = os.getcwd() + '/data/clean/'\n",
    "raw_filepath = os.getcwd() + '/data/raw/'"
   ]
  },
  {
   "cell_type": "code",
   "execution_count": 3,
   "metadata": {},
   "outputs": [],
   "source": [
    "#set eruption time for given sensor/volcano, example is for Sitkin Volcano\n",
    "eruption_time = utc('2021-07-09T00:00:00')"
   ]
  },
  {
   "cell_type": "code",
   "execution_count": 4,
   "metadata": {},
   "outputs": [
    {
     "name": "stdout",
     "output_type": "stream",
     "text": [
      "2021-06-09T00:00:00.000000Z\n"
     ]
    }
   ],
   "source": [
    "#read in dates file from Download_Data notebook and convert to UTC objects\n",
    "dates = [utc(date) for date in np.load(raw_filepath+'date_list.npy', allow_pickle=True)]\n",
    "print(dates[0])"
   ]
  },
  {
   "cell_type": "markdown",
   "metadata": {},
   "source": [
    "### Define Functions for Calculating Stats"
   ]
  },
  {
   "cell_type": "code",
   "execution_count": 5,
   "metadata": {},
   "outputs": [],
   "source": [
    "# General Stats Used\n",
    "def stats(data):\n",
    "    mean = np.mean(data)\n",
    "    maxx = np.max(data)\n",
    "    minn = np.min(data)\n",
    "    median = np.median(data)\n",
    "    range = np.abs(maxx - minn)\n",
    "    std = np.std(data)\n",
    "    var = np.var(data)\n",
    "\n",
    "    return(mean, maxx, minn, median, range, std, var)\n",
    "\n",
    "# Spectral Domain, use STFT using the same parameters as Zahra et al. 2024\n",
    "def compute_spec(data):\n",
    "\n",
    "    x = data\n",
    "    fs = 8 # specified by Zahra\n",
    "    nwindow = 256 #given by Zahra\n",
    "    noverlap = 32 #given by Zahra\n",
    "\n",
    "    f, t, spectra = stft(x, fs=fs, nperseg=nwindow, noverlap=noverlap)\n",
    "\n",
    "    #find magnitude of complex spectra\n",
    "    spectra = np.abs(spectra)\n",
    "\n",
    "    #find log 10 of spectra\n",
    "    log_spectra = np.log10(spectra)\n",
    "\n",
    "\n",
    "\n",
    "    return(spectra, log_spectra)"
   ]
  },
  {
   "cell_type": "markdown",
   "metadata": {},
   "source": [
    "### Cell Below Will Save Seismograms in Day Chunks and also Combine Them into 1 Large File"
   ]
  },
  {
   "cell_type": "code",
   "execution_count": 6,
   "metadata": {},
   "outputs": [],
   "source": [
    "#read in cleaned mseed files, save as daily npy files and one giant 100 day file\n",
    "hundred_data = np.array([])\n",
    "\n",
    "for i in range(60):\n",
    "    i += 1\n",
    "\n",
    "    #read mseed\n",
    "    st = read(clean_filepath+str(i)+'_cleaned.mseed')\n",
    "\n",
    "    #save data to day long npys\n",
    "    data = st[0].data \n",
    "    np.save(filepath+str(i)+'_ready.npy', data)\n",
    "\n",
    "    #append to overall array\n",
    "    hundred_data = np.append(hundred_data, data)\n",
    "\n",
    "#save hundred day data npy\n",
    "np.save(filepath+'60_days.npy', hundred_data)"
   ]
  },
  {
   "cell_type": "markdown",
   "metadata": {},
   "source": [
    "### Cells Below Will Compute and Save Time Series and Spectral Statistics For Each Hour of Seismogram Data\n",
    "Data will also be associated with a Before or After Eruption Label in Stats file"
   ]
  },
  {
   "cell_type": "code",
   "execution_count": 7,
   "metadata": {},
   "outputs": [],
   "source": [
    "#initialize statistics dataframe\n",
    "statistics = ['mean','max','min','median','range','std','var',\n",
    "              'spec_mean','spec_max','spec_min','spec_median','spec_range','spec_std','spec_var',\n",
    "              'speclog_mean','speclog_max','speclog_min','speclog_median','speclog_range','speclog_std','speclog_var',\n",
    "              'state']\n",
    "\n",
    "stats_df = pd.DataFrame(columns=statistics)"
   ]
  },
  {
   "cell_type": "code",
   "execution_count": 8,
   "metadata": {},
   "outputs": [],
   "source": [
    "for i in range(60):\n",
    "    date = dates[i]\n",
    "    date += 30*60 #add half an hour for determining eruption state\n",
    "    i += 1\n",
    "\n",
    "    #read mseed\n",
    "    st = read(clean_filepath+str(i)+'_cleaned.mseed')\n",
    "    data = st[0].data\n",
    "    hz = st[0].stats.sampling_rate\n",
    "\n",
    "    #THIS ASSUMES DATA CONTAINS 24 HOURS OF DATA PER DATA\n",
    "    split_data = np.array(np.split(data, 24))\n",
    "\n",
    "    if split_data.shape[1] == 28800:\n",
    "        for hour in np.arange(24):\n",
    "            date += 60*60\n",
    "            if date >= eruption_time:\n",
    "                state = 'after'\n",
    "            elif date < eruption_time:\n",
    "                state = 'before'\n",
    "\n",
    "            data = split_data[hour]\n",
    "            spectra, log_spectra = compute_spec(data)\n",
    "\n",
    "            tmean, tmax, tmin, tmedian, trange, tstd, tvar = stats(data)\n",
    "\n",
    "            smean, smax, smin, smedian, srange, sstd, svar = stats(spectra)\n",
    "\n",
    "            slmean, slmax, slmin, slmedian, slrange, slstd, slvar = stats(log_spectra)\n",
    "\n",
    "            stats_df.loc[len(stats_df)] = tmean, tmax, tmin, tmedian, trange, tstd, tvar, smean, smax, \\\n",
    "                smin, smedian, srange, sstd, svar, slmean, slmax, slmin, slmedian, slrange, slstd, slvar, state\n"
   ]
  },
  {
   "cell_type": "code",
   "execution_count": 9,
   "metadata": {},
   "outputs": [
    {
     "data": {
      "text/html": [
       "<div>\n",
       "<style scoped>\n",
       "    .dataframe tbody tr th:only-of-type {\n",
       "        vertical-align: middle;\n",
       "    }\n",
       "\n",
       "    .dataframe tbody tr th {\n",
       "        vertical-align: top;\n",
       "    }\n",
       "\n",
       "    .dataframe thead th {\n",
       "        text-align: right;\n",
       "    }\n",
       "</style>\n",
       "<table border=\"1\" class=\"dataframe\">\n",
       "  <thead>\n",
       "    <tr style=\"text-align: right;\">\n",
       "      <th></th>\n",
       "      <th>mean</th>\n",
       "      <th>max</th>\n",
       "      <th>min</th>\n",
       "      <th>median</th>\n",
       "      <th>range</th>\n",
       "      <th>std</th>\n",
       "      <th>var</th>\n",
       "      <th>spec_mean</th>\n",
       "      <th>spec_max</th>\n",
       "      <th>spec_min</th>\n",
       "      <th>...</th>\n",
       "      <th>spec_std</th>\n",
       "      <th>spec_var</th>\n",
       "      <th>speclog_mean</th>\n",
       "      <th>speclog_max</th>\n",
       "      <th>speclog_min</th>\n",
       "      <th>speclog_median</th>\n",
       "      <th>speclog_range</th>\n",
       "      <th>speclog_std</th>\n",
       "      <th>speclog_var</th>\n",
       "      <th>state</th>\n",
       "    </tr>\n",
       "  </thead>\n",
       "  <tbody>\n",
       "    <tr>\n",
       "      <th>0</th>\n",
       "      <td>-3.491294</td>\n",
       "      <td>288.336167</td>\n",
       "      <td>-309.623540</td>\n",
       "      <td>-3.520637</td>\n",
       "      <td>597.959707</td>\n",
       "      <td>69.021092</td>\n",
       "      <td>4763.911140</td>\n",
       "      <td>3.995715</td>\n",
       "      <td>48.577898</td>\n",
       "      <td>0.005228</td>\n",
       "      <td>...</td>\n",
       "      <td>3.467311</td>\n",
       "      <td>12.022245</td>\n",
       "      <td>0.438096</td>\n",
       "      <td>1.686439</td>\n",
       "      <td>-2.281700</td>\n",
       "      <td>0.493160</td>\n",
       "      <td>3.968138</td>\n",
       "      <td>0.428269</td>\n",
       "      <td>0.183414</td>\n",
       "      <td>before</td>\n",
       "    </tr>\n",
       "    <tr>\n",
       "      <th>1</th>\n",
       "      <td>-4.818461</td>\n",
       "      <td>605.967566</td>\n",
       "      <td>-757.948798</td>\n",
       "      <td>-4.608615</td>\n",
       "      <td>1363.916364</td>\n",
       "      <td>71.172191</td>\n",
       "      <td>5065.480781</td>\n",
       "      <td>3.837636</td>\n",
       "      <td>76.485800</td>\n",
       "      <td>0.007620</td>\n",
       "      <td>...</td>\n",
       "      <td>3.791084</td>\n",
       "      <td>14.372317</td>\n",
       "      <td>0.409445</td>\n",
       "      <td>1.883581</td>\n",
       "      <td>-2.118037</td>\n",
       "      <td>0.460488</td>\n",
       "      <td>4.001617</td>\n",
       "      <td>0.433883</td>\n",
       "      <td>0.188255</td>\n",
       "      <td>before</td>\n",
       "    </tr>\n",
       "    <tr>\n",
       "      <th>2</th>\n",
       "      <td>-6.891544</td>\n",
       "      <td>547.064530</td>\n",
       "      <td>-617.394820</td>\n",
       "      <td>-6.908078</td>\n",
       "      <td>1164.459351</td>\n",
       "      <td>51.414491</td>\n",
       "      <td>2643.449882</td>\n",
       "      <td>3.107629</td>\n",
       "      <td>60.077691</td>\n",
       "      <td>0.006265</td>\n",
       "      <td>...</td>\n",
       "      <td>2.517431</td>\n",
       "      <td>6.337459</td>\n",
       "      <td>0.348699</td>\n",
       "      <td>1.778713</td>\n",
       "      <td>-2.203060</td>\n",
       "      <td>0.410225</td>\n",
       "      <td>3.981773</td>\n",
       "      <td>0.404384</td>\n",
       "      <td>0.163527</td>\n",
       "      <td>before</td>\n",
       "    </tr>\n",
       "  </tbody>\n",
       "</table>\n",
       "<p>3 rows × 22 columns</p>\n",
       "</div>"
      ],
      "text/plain": [
       "       mean         max         min    median        range        std  \\\n",
       "0 -3.491294  288.336167 -309.623540 -3.520637   597.959707  69.021092   \n",
       "1 -4.818461  605.967566 -757.948798 -4.608615  1363.916364  71.172191   \n",
       "2 -6.891544  547.064530 -617.394820 -6.908078  1164.459351  51.414491   \n",
       "\n",
       "           var  spec_mean   spec_max  spec_min  ...  spec_std   spec_var  \\\n",
       "0  4763.911140   3.995715  48.577898  0.005228  ...  3.467311  12.022245   \n",
       "1  5065.480781   3.837636  76.485800  0.007620  ...  3.791084  14.372317   \n",
       "2  2643.449882   3.107629  60.077691  0.006265  ...  2.517431   6.337459   \n",
       "\n",
       "   speclog_mean  speclog_max  speclog_min  speclog_median  speclog_range  \\\n",
       "0      0.438096     1.686439    -2.281700        0.493160       3.968138   \n",
       "1      0.409445     1.883581    -2.118037        0.460488       4.001617   \n",
       "2      0.348699     1.778713    -2.203060        0.410225       3.981773   \n",
       "\n",
       "   speclog_std  speclog_var   state  \n",
       "0     0.428269     0.183414  before  \n",
       "1     0.433883     0.188255  before  \n",
       "2     0.404384     0.163527  before  \n",
       "\n",
       "[3 rows x 22 columns]"
      ]
     },
     "execution_count": 9,
     "metadata": {},
     "output_type": "execute_result"
    }
   ],
   "source": [
    "#inspect dataframe header\n",
    "stats_df.head(3)"
   ]
  },
  {
   "cell_type": "code",
   "execution_count": 10,
   "metadata": {},
   "outputs": [],
   "source": [
    "#save stats to csv file\n",
    "stats_df.to_csv(path_or_buf=filepath+'statistics.csv', index=False)"
   ]
  },
  {
   "cell_type": "code",
   "execution_count": null,
   "metadata": {},
   "outputs": [],
   "source": []
  }
 ],
 "metadata": {
  "kernelspec": {
   "display_name": "ml",
   "language": "python",
   "name": "python3"
  },
  "language_info": {
   "codemirror_mode": {
    "name": "ipython",
    "version": 3
   },
   "file_extension": ".py",
   "mimetype": "text/x-python",
   "name": "python",
   "nbconvert_exporter": "python",
   "pygments_lexer": "ipython3",
   "version": "3.12.0"
  }
 },
 "nbformat": 4,
 "nbformat_minor": 2
}
