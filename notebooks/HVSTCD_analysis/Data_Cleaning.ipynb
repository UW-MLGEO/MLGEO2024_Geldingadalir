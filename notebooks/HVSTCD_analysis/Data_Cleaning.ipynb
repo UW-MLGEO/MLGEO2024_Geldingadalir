{
 "cells": [
  {
   "cell_type": "markdown",
   "metadata": {},
   "source": [
    "### Cleaning/Processing Steps\n",
    "The data will be demeaned similar to Zali et al., using a more conservative downsample rate of 20 Hz, given volcanic tremor is typically between 1-9 Hz.\n",
    "\n",
    "*Read in mseed files <br>\n",
    "*Check all are the same length <br>\n",
    "*Demean and detrend <br>\n",
    "*Anti-alias filter and downsample data to 8 Hz from 100 Hz"
   ]
  },
  {
   "cell_type": "code",
   "execution_count": null,
   "metadata": {},
   "outputs": [],
   "source": [
    "import warnings\n",
    "\n",
    "# Suppress the specific warning from obspy\n",
    "warnings.filterwarnings(\n",
    "    \"ignore\",\n",
    "    message=\"The encoding specified in trace.stats.mseed.encoding does not match the dtype of the data.*\",\n",
    "    category=UserWarning,\n",
    "    module=\"obspy.io.mseed.core\"\n",
    ")"
   ]
  },
  {
   "cell_type": "code",
   "execution_count": null,
   "metadata": {},
   "outputs": [],
   "source": [
    "import os\n",
    "from obspy import read\n",
    "import glob\n",
    "import numpy as np\n",
    "\n",
    "# Define the folder paths\n",
    "input_folder = os.getcwd() + '/data/raw'\n",
    "processed_folder = os.getcwd() + '/data/processed'\n",
    "# number of files in data/raw\n",
    "\n",
    "files_to_process = len(glob.glob(f'{input_folder}/*.mseed'))\n",
    "count = 1\n",
    "\n",
    "# Display folder paths for confirmation\n",
    "# display(input_folder)\n",
    "# display(processed_folder)\n",
    "\n",
    "os.makedirs(processed_folder, exist_ok=True)  # Create output directory if it doesn't exist\n",
    "\n",
    "# Target sampling rate after downsampling\n",
    "target_sampling_rate = 8  # Hz\n",
    "\n",
    "# Initialize a list to store trace lengths\n",
    "lengths = []\n",
    "\n",
    "# Process each mseed file in the folder\n",
    "for file_path in glob.glob(f\"{input_folder}/*.mseed\"):\n",
    "    try:\n",
    "        # Read the file\n",
    "        st = read(file_path)\n",
    "        st_check = st.copy()\n",
    "        \n",
    "        # Process each trace\n",
    "        for tr in st:\n",
    "            # Preprocessing steps\n",
    "            tr.detrend(\"demean\")  # Remove mean\n",
    "            tr.detrend(\"linear\")  # Remove linear trend\n",
    "            tr.filter(\"lowpass\", freq=target_sampling_rate / 2)  # Anti-aliasing filter\n",
    "            tr.resample(target_sampling_rate)  # Downsample to 8 Hz\n",
    "            \n",
    "            tr.normalize()  # Normalize the trace to between -1 and 1\n",
    "            \n",
    "            # Record trace length\n",
    "            lengths.append(len(tr.data))\n",
    "        \n",
    "        # Save the processed data\n",
    "        output_file = os.path.join(processed_folder, os.path.basename(file_path))\n",
    "        st.write(output_file, format=\"MSEED\")\n",
    "        print(f'Processed file {count}/{files_to_process}: {os.path.basename(file_path)}')\n",
    "    \n",
    "    except Exception as e:\n",
    "        print(f\"Error processing file {file_path}: {e}\")\n",
    "        continue\n",
    "\n",
    "    count += 1\n",
    "\n",
    "# Convert lengths to a NumPy array\n",
    "lengths = np.array(lengths)\n",
    "print(f\"Lengths of processed traces: {lengths}\")\n"
   ]
  }
 ],
 "metadata": {
  "kernelspec": {
   "display_name": "mlgeo",
   "language": "python",
   "name": "python3"
  },
  "language_info": {
   "codemirror_mode": {
    "name": "ipython",
    "version": 3
   },
   "file_extension": ".py",
   "mimetype": "text/x-python",
   "name": "python",
   "nbconvert_exporter": "python",
   "pygments_lexer": "ipython3",
   "version": "3.9.20"
  }
 },
 "nbformat": 4,
 "nbformat_minor": 2
}
