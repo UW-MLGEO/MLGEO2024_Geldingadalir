{
 "cells": [
  {
   "cell_type": "code",
   "execution_count": 126,
   "metadata": {},
   "outputs": [],
   "source": [
    "import numpy as np \n",
    "import matplotlib.pyplot as plt\n",
    "import pandas as pd\n",
    "import os\n",
    "import time\n",
    "\n",
    "import pycaret"
   ]
  },
  {
   "cell_type": "markdown",
   "metadata": {},
   "source": [
    "### AutoML/Hyperparameter Tuning\n",
    "\n",
    "Given the nature of this project as wholly unsupervised, clustering and anomaly detection are the only real models that can be run on our data. Accuracy cannot be evaluated on unlabeled data, but computational time and interpretability can be.<br> <br>\n",
    "\n",
    "To that end, this notebook using PyCaret optimally cluster the data and identify outliers."
   ]
  },
  {
   "cell_type": "markdown",
   "metadata": {},
   "source": [
    "#### Data Note\n",
    "\n",
    "This analysis was originally attempted with spectrogram data, as is done in Zali et al., but to poor results here using simpler machine learning methods. For the purpose of exploring AutoML, statistics on the data were computed and used in place of the raw spectra"
   ]
  },
  {
   "cell_type": "code",
   "execution_count": 36,
   "metadata": {},
   "outputs": [
    {
     "data": {
      "text/html": [
       "<div>\n",
       "<style scoped>\n",
       "    .dataframe tbody tr th:only-of-type {\n",
       "        vertical-align: middle;\n",
       "    }\n",
       "\n",
       "    .dataframe tbody tr th {\n",
       "        vertical-align: top;\n",
       "    }\n",
       "\n",
       "    .dataframe thead th {\n",
       "        text-align: right;\n",
       "    }\n",
       "</style>\n",
       "<table border=\"1\" class=\"dataframe\">\n",
       "  <thead>\n",
       "    <tr style=\"text-align: right;\">\n",
       "      <th></th>\n",
       "      <th>mean</th>\n",
       "      <th>max</th>\n",
       "      <th>min</th>\n",
       "      <th>median</th>\n",
       "      <th>range</th>\n",
       "      <th>std</th>\n",
       "      <th>spec_mean</th>\n",
       "      <th>spec_max</th>\n",
       "      <th>spec_min</th>\n",
       "      <th>spec_median</th>\n",
       "      <th>spec_range</th>\n",
       "      <th>spec_std</th>\n",
       "    </tr>\n",
       "  </thead>\n",
       "  <tbody>\n",
       "    <tr>\n",
       "      <th>0</th>\n",
       "      <td>0.004287</td>\n",
       "      <td>0.890882</td>\n",
       "      <td>-1.0</td>\n",
       "      <td>0.004514</td>\n",
       "      <td>1.890882</td>\n",
       "      <td>0.097879</td>\n",
       "      <td>0.004337</td>\n",
       "      <td>0.153382</td>\n",
       "      <td>7.070107e-07</td>\n",
       "      <td>0.000710</td>\n",
       "      <td>0.153382</td>\n",
       "      <td>0.010231</td>\n",
       "    </tr>\n",
       "    <tr>\n",
       "      <th>1</th>\n",
       "      <td>0.004287</td>\n",
       "      <td>0.890882</td>\n",
       "      <td>-1.0</td>\n",
       "      <td>0.004514</td>\n",
       "      <td>1.890882</td>\n",
       "      <td>0.097879</td>\n",
       "      <td>0.003954</td>\n",
       "      <td>0.150999</td>\n",
       "      <td>1.275567e-06</td>\n",
       "      <td>0.000715</td>\n",
       "      <td>0.150998</td>\n",
       "      <td>0.008960</td>\n",
       "    </tr>\n",
       "    <tr>\n",
       "      <th>2</th>\n",
       "      <td>0.004287</td>\n",
       "      <td>0.890882</td>\n",
       "      <td>-1.0</td>\n",
       "      <td>0.004514</td>\n",
       "      <td>1.890882</td>\n",
       "      <td>0.097879</td>\n",
       "      <td>0.003816</td>\n",
       "      <td>0.177869</td>\n",
       "      <td>2.608655e-06</td>\n",
       "      <td>0.000687</td>\n",
       "      <td>0.177866</td>\n",
       "      <td>0.008829</td>\n",
       "    </tr>\n",
       "    <tr>\n",
       "      <th>3</th>\n",
       "      <td>0.004287</td>\n",
       "      <td>0.890882</td>\n",
       "      <td>-1.0</td>\n",
       "      <td>0.004514</td>\n",
       "      <td>1.890882</td>\n",
       "      <td>0.097879</td>\n",
       "      <td>0.004417</td>\n",
       "      <td>0.323616</td>\n",
       "      <td>6.022107e-07</td>\n",
       "      <td>0.000681</td>\n",
       "      <td>0.323615</td>\n",
       "      <td>0.012174</td>\n",
       "    </tr>\n",
       "    <tr>\n",
       "      <th>4</th>\n",
       "      <td>0.004287</td>\n",
       "      <td>0.890882</td>\n",
       "      <td>-1.0</td>\n",
       "      <td>0.004514</td>\n",
       "      <td>1.890882</td>\n",
       "      <td>0.097879</td>\n",
       "      <td>0.003979</td>\n",
       "      <td>0.139368</td>\n",
       "      <td>5.308308e-07</td>\n",
       "      <td>0.000616</td>\n",
       "      <td>0.139368</td>\n",
       "      <td>0.009023</td>\n",
       "    </tr>\n",
       "  </tbody>\n",
       "</table>\n",
       "</div>"
      ],
      "text/plain": [
       "       mean       max  min    median     range       std  spec_mean  spec_max  \\\n",
       "0  0.004287  0.890882 -1.0  0.004514  1.890882  0.097879   0.004337  0.153382   \n",
       "1  0.004287  0.890882 -1.0  0.004514  1.890882  0.097879   0.003954  0.150999   \n",
       "2  0.004287  0.890882 -1.0  0.004514  1.890882  0.097879   0.003816  0.177869   \n",
       "3  0.004287  0.890882 -1.0  0.004514  1.890882  0.097879   0.004417  0.323616   \n",
       "4  0.004287  0.890882 -1.0  0.004514  1.890882  0.097879   0.003979  0.139368   \n",
       "\n",
       "       spec_min  spec_median  spec_range  spec_std  \n",
       "0  7.070107e-07     0.000710    0.153382  0.010231  \n",
       "1  1.275567e-06     0.000715    0.150998  0.008960  \n",
       "2  2.608655e-06     0.000687    0.177866  0.008829  \n",
       "3  6.022107e-07     0.000681    0.323615  0.012174  \n",
       "4  5.308308e-07     0.000616    0.139368  0.009023  "
      ]
     },
     "execution_count": 36,
     "metadata": {},
     "output_type": "execute_result"
    }
   ],
   "source": [
    "#read in spectras file to dataframe\n",
    "filepath = os.getcwd() + '/data/ai_ready/'\n",
    "# filename = 'spectra.npy'\n",
    "# df = pd.DataFrame(np.load(filepath+filename))\n",
    "filename = 'statistics.csv'\n",
    "df = pd.read_csv(filepath+filename)\n",
    "df.head()"
   ]
  },
  {
   "cell_type": "code",
   "execution_count": 37,
   "metadata": {},
   "outputs": [
    {
     "data": {
      "text/html": [
       "<style type=\"text/css\">\n",
       "#T_1755d_row4_col1 {\n",
       "  background-color: lightgreen;\n",
       "}\n",
       "</style>\n",
       "<table id=\"T_1755d\">\n",
       "  <thead>\n",
       "    <tr>\n",
       "      <th class=\"blank level0\" >&nbsp;</th>\n",
       "      <th id=\"T_1755d_level0_col0\" class=\"col_heading level0 col0\" >Description</th>\n",
       "      <th id=\"T_1755d_level0_col1\" class=\"col_heading level0 col1\" >Value</th>\n",
       "    </tr>\n",
       "  </thead>\n",
       "  <tbody>\n",
       "    <tr>\n",
       "      <th id=\"T_1755d_level0_row0\" class=\"row_heading level0 row0\" >0</th>\n",
       "      <td id=\"T_1755d_row0_col0\" class=\"data row0 col0\" >Session id</td>\n",
       "      <td id=\"T_1755d_row0_col1\" class=\"data row0 col1\" >120</td>\n",
       "    </tr>\n",
       "    <tr>\n",
       "      <th id=\"T_1755d_level0_row1\" class=\"row_heading level0 row1\" >1</th>\n",
       "      <td id=\"T_1755d_row1_col0\" class=\"data row1 col0\" >Original data shape</td>\n",
       "      <td id=\"T_1755d_row1_col1\" class=\"data row1 col1\" >(2400, 12)</td>\n",
       "    </tr>\n",
       "    <tr>\n",
       "      <th id=\"T_1755d_level0_row2\" class=\"row_heading level0 row2\" >2</th>\n",
       "      <td id=\"T_1755d_row2_col0\" class=\"data row2 col0\" >Transformed data shape</td>\n",
       "      <td id=\"T_1755d_row2_col1\" class=\"data row2 col1\" >(2400, 12)</td>\n",
       "    </tr>\n",
       "    <tr>\n",
       "      <th id=\"T_1755d_level0_row3\" class=\"row_heading level0 row3\" >3</th>\n",
       "      <td id=\"T_1755d_row3_col0\" class=\"data row3 col0\" >Numeric features</td>\n",
       "      <td id=\"T_1755d_row3_col1\" class=\"data row3 col1\" >12</td>\n",
       "    </tr>\n",
       "    <tr>\n",
       "      <th id=\"T_1755d_level0_row4\" class=\"row_heading level0 row4\" >4</th>\n",
       "      <td id=\"T_1755d_row4_col0\" class=\"data row4 col0\" >Preprocess</td>\n",
       "      <td id=\"T_1755d_row4_col1\" class=\"data row4 col1\" >True</td>\n",
       "    </tr>\n",
       "    <tr>\n",
       "      <th id=\"T_1755d_level0_row5\" class=\"row_heading level0 row5\" >5</th>\n",
       "      <td id=\"T_1755d_row5_col0\" class=\"data row5 col0\" >Imputation type</td>\n",
       "      <td id=\"T_1755d_row5_col1\" class=\"data row5 col1\" >simple</td>\n",
       "    </tr>\n",
       "    <tr>\n",
       "      <th id=\"T_1755d_level0_row6\" class=\"row_heading level0 row6\" >6</th>\n",
       "      <td id=\"T_1755d_row6_col0\" class=\"data row6 col0\" >Numeric imputation</td>\n",
       "      <td id=\"T_1755d_row6_col1\" class=\"data row6 col1\" >mean</td>\n",
       "    </tr>\n",
       "    <tr>\n",
       "      <th id=\"T_1755d_level0_row7\" class=\"row_heading level0 row7\" >7</th>\n",
       "      <td id=\"T_1755d_row7_col0\" class=\"data row7 col0\" >Categorical imputation</td>\n",
       "      <td id=\"T_1755d_row7_col1\" class=\"data row7 col1\" >mode</td>\n",
       "    </tr>\n",
       "    <tr>\n",
       "      <th id=\"T_1755d_level0_row8\" class=\"row_heading level0 row8\" >8</th>\n",
       "      <td id=\"T_1755d_row8_col0\" class=\"data row8 col0\" >CPU Jobs</td>\n",
       "      <td id=\"T_1755d_row8_col1\" class=\"data row8 col1\" >-1</td>\n",
       "    </tr>\n",
       "    <tr>\n",
       "      <th id=\"T_1755d_level0_row9\" class=\"row_heading level0 row9\" >9</th>\n",
       "      <td id=\"T_1755d_row9_col0\" class=\"data row9 col0\" >Use GPU</td>\n",
       "      <td id=\"T_1755d_row9_col1\" class=\"data row9 col1\" >False</td>\n",
       "    </tr>\n",
       "    <tr>\n",
       "      <th id=\"T_1755d_level0_row10\" class=\"row_heading level0 row10\" >10</th>\n",
       "      <td id=\"T_1755d_row10_col0\" class=\"data row10 col0\" >Log Experiment</td>\n",
       "      <td id=\"T_1755d_row10_col1\" class=\"data row10 col1\" >False</td>\n",
       "    </tr>\n",
       "    <tr>\n",
       "      <th id=\"T_1755d_level0_row11\" class=\"row_heading level0 row11\" >11</th>\n",
       "      <td id=\"T_1755d_row11_col0\" class=\"data row11 col0\" >Experiment Name</td>\n",
       "      <td id=\"T_1755d_row11_col1\" class=\"data row11 col1\" >cluster-default-name</td>\n",
       "    </tr>\n",
       "    <tr>\n",
       "      <th id=\"T_1755d_level0_row12\" class=\"row_heading level0 row12\" >12</th>\n",
       "      <td id=\"T_1755d_row12_col0\" class=\"data row12 col0\" >USI</td>\n",
       "      <td id=\"T_1755d_row12_col1\" class=\"data row12 col1\" >b8e4</td>\n",
       "    </tr>\n",
       "  </tbody>\n",
       "</table>\n"
      ],
      "text/plain": [
       "<pandas.io.formats.style.Styler at 0x34b00fa50>"
      ]
     },
     "metadata": {},
     "output_type": "display_data"
    }
   ],
   "source": [
    "# import pycaret clustering and init setup\n",
    "from pycaret.clustering import *\n",
    "s = setup(df, session_id = 120)"
   ]
  },
  {
   "cell_type": "code",
   "execution_count": 38,
   "metadata": {},
   "outputs": [
    {
     "data": {
      "text/plain": [
       "pycaret.clustering.oop.ClusteringExperiment"
      ]
     },
     "execution_count": 38,
     "metadata": {},
     "output_type": "execute_result"
    }
   ],
   "source": [
    "# import ClusteringExperiment and init the class\n",
    "from pycaret.clustering import ClusteringExperiment\n",
    "exp = ClusteringExperiment()\n",
    "\n",
    "# check the type of exp\n",
    "type(exp)"
   ]
  },
  {
   "cell_type": "code",
   "execution_count": 39,
   "metadata": {},
   "outputs": [
    {
     "data": {
      "text/html": [
       "<style type=\"text/css\">\n",
       "#T_8b5c2_row4_col1 {\n",
       "  background-color: lightgreen;\n",
       "}\n",
       "</style>\n",
       "<table id=\"T_8b5c2\">\n",
       "  <thead>\n",
       "    <tr>\n",
       "      <th class=\"blank level0\" >&nbsp;</th>\n",
       "      <th id=\"T_8b5c2_level0_col0\" class=\"col_heading level0 col0\" >Description</th>\n",
       "      <th id=\"T_8b5c2_level0_col1\" class=\"col_heading level0 col1\" >Value</th>\n",
       "    </tr>\n",
       "  </thead>\n",
       "  <tbody>\n",
       "    <tr>\n",
       "      <th id=\"T_8b5c2_level0_row0\" class=\"row_heading level0 row0\" >0</th>\n",
       "      <td id=\"T_8b5c2_row0_col0\" class=\"data row0 col0\" >Session id</td>\n",
       "      <td id=\"T_8b5c2_row0_col1\" class=\"data row0 col1\" >120</td>\n",
       "    </tr>\n",
       "    <tr>\n",
       "      <th id=\"T_8b5c2_level0_row1\" class=\"row_heading level0 row1\" >1</th>\n",
       "      <td id=\"T_8b5c2_row1_col0\" class=\"data row1 col0\" >Original data shape</td>\n",
       "      <td id=\"T_8b5c2_row1_col1\" class=\"data row1 col1\" >(2400, 12)</td>\n",
       "    </tr>\n",
       "    <tr>\n",
       "      <th id=\"T_8b5c2_level0_row2\" class=\"row_heading level0 row2\" >2</th>\n",
       "      <td id=\"T_8b5c2_row2_col0\" class=\"data row2 col0\" >Transformed data shape</td>\n",
       "      <td id=\"T_8b5c2_row2_col1\" class=\"data row2 col1\" >(2400, 12)</td>\n",
       "    </tr>\n",
       "    <tr>\n",
       "      <th id=\"T_8b5c2_level0_row3\" class=\"row_heading level0 row3\" >3</th>\n",
       "      <td id=\"T_8b5c2_row3_col0\" class=\"data row3 col0\" >Numeric features</td>\n",
       "      <td id=\"T_8b5c2_row3_col1\" class=\"data row3 col1\" >12</td>\n",
       "    </tr>\n",
       "    <tr>\n",
       "      <th id=\"T_8b5c2_level0_row4\" class=\"row_heading level0 row4\" >4</th>\n",
       "      <td id=\"T_8b5c2_row4_col0\" class=\"data row4 col0\" >Preprocess</td>\n",
       "      <td id=\"T_8b5c2_row4_col1\" class=\"data row4 col1\" >True</td>\n",
       "    </tr>\n",
       "    <tr>\n",
       "      <th id=\"T_8b5c2_level0_row5\" class=\"row_heading level0 row5\" >5</th>\n",
       "      <td id=\"T_8b5c2_row5_col0\" class=\"data row5 col0\" >Imputation type</td>\n",
       "      <td id=\"T_8b5c2_row5_col1\" class=\"data row5 col1\" >simple</td>\n",
       "    </tr>\n",
       "    <tr>\n",
       "      <th id=\"T_8b5c2_level0_row6\" class=\"row_heading level0 row6\" >6</th>\n",
       "      <td id=\"T_8b5c2_row6_col0\" class=\"data row6 col0\" >Numeric imputation</td>\n",
       "      <td id=\"T_8b5c2_row6_col1\" class=\"data row6 col1\" >mean</td>\n",
       "    </tr>\n",
       "    <tr>\n",
       "      <th id=\"T_8b5c2_level0_row7\" class=\"row_heading level0 row7\" >7</th>\n",
       "      <td id=\"T_8b5c2_row7_col0\" class=\"data row7 col0\" >Categorical imputation</td>\n",
       "      <td id=\"T_8b5c2_row7_col1\" class=\"data row7 col1\" >mode</td>\n",
       "    </tr>\n",
       "    <tr>\n",
       "      <th id=\"T_8b5c2_level0_row8\" class=\"row_heading level0 row8\" >8</th>\n",
       "      <td id=\"T_8b5c2_row8_col0\" class=\"data row8 col0\" >CPU Jobs</td>\n",
       "      <td id=\"T_8b5c2_row8_col1\" class=\"data row8 col1\" >-1</td>\n",
       "    </tr>\n",
       "    <tr>\n",
       "      <th id=\"T_8b5c2_level0_row9\" class=\"row_heading level0 row9\" >9</th>\n",
       "      <td id=\"T_8b5c2_row9_col0\" class=\"data row9 col0\" >Use GPU</td>\n",
       "      <td id=\"T_8b5c2_row9_col1\" class=\"data row9 col1\" >False</td>\n",
       "    </tr>\n",
       "    <tr>\n",
       "      <th id=\"T_8b5c2_level0_row10\" class=\"row_heading level0 row10\" >10</th>\n",
       "      <td id=\"T_8b5c2_row10_col0\" class=\"data row10 col0\" >Log Experiment</td>\n",
       "      <td id=\"T_8b5c2_row10_col1\" class=\"data row10 col1\" >False</td>\n",
       "    </tr>\n",
       "    <tr>\n",
       "      <th id=\"T_8b5c2_level0_row11\" class=\"row_heading level0 row11\" >11</th>\n",
       "      <td id=\"T_8b5c2_row11_col0\" class=\"data row11 col0\" >Experiment Name</td>\n",
       "      <td id=\"T_8b5c2_row11_col1\" class=\"data row11 col1\" >cluster-default-name</td>\n",
       "    </tr>\n",
       "    <tr>\n",
       "      <th id=\"T_8b5c2_level0_row12\" class=\"row_heading level0 row12\" >12</th>\n",
       "      <td id=\"T_8b5c2_row12_col0\" class=\"data row12 col0\" >USI</td>\n",
       "      <td id=\"T_8b5c2_row12_col1\" class=\"data row12 col1\" >959c</td>\n",
       "    </tr>\n",
       "  </tbody>\n",
       "</table>\n"
      ],
      "text/plain": [
       "<pandas.io.formats.style.Styler at 0x17eb71d10>"
      ]
     },
     "metadata": {},
     "output_type": "display_data"
    },
    {
     "data": {
      "text/plain": [
       "<pycaret.clustering.oop.ClusteringExperiment at 0x3414dbb10>"
      ]
     },
     "execution_count": 39,
     "metadata": {},
     "output_type": "execute_result"
    }
   ],
   "source": [
    "# init setup on exp\n",
    "exp.setup(df, session_id = 120)"
   ]
  },
  {
   "cell_type": "markdown",
   "metadata": {},
   "source": [
    "### Create Model\n",
    "\n",
    "Trains and evaluates a given model"
   ]
  },
  {
   "cell_type": "code",
   "execution_count": 40,
   "metadata": {},
   "outputs": [
    {
     "data": {
      "text/html": [
       "<div>\n",
       "<style scoped>\n",
       "    .dataframe tbody tr th:only-of-type {\n",
       "        vertical-align: middle;\n",
       "    }\n",
       "\n",
       "    .dataframe tbody tr th {\n",
       "        vertical-align: top;\n",
       "    }\n",
       "\n",
       "    .dataframe thead th {\n",
       "        text-align: right;\n",
       "    }\n",
       "</style>\n",
       "<table border=\"1\" class=\"dataframe\">\n",
       "  <thead>\n",
       "    <tr style=\"text-align: right;\">\n",
       "      <th></th>\n",
       "      <th>Name</th>\n",
       "      <th>Reference</th>\n",
       "    </tr>\n",
       "    <tr>\n",
       "      <th>ID</th>\n",
       "      <th></th>\n",
       "      <th></th>\n",
       "    </tr>\n",
       "  </thead>\n",
       "  <tbody>\n",
       "    <tr>\n",
       "      <th>kmeans</th>\n",
       "      <td>K-Means Clustering</td>\n",
       "      <td>sklearn.cluster._kmeans.KMeans</td>\n",
       "    </tr>\n",
       "    <tr>\n",
       "      <th>ap</th>\n",
       "      <td>Affinity Propagation</td>\n",
       "      <td>sklearn.cluster._affinity_propagation.Affinity...</td>\n",
       "    </tr>\n",
       "    <tr>\n",
       "      <th>meanshift</th>\n",
       "      <td>Mean Shift Clustering</td>\n",
       "      <td>sklearn.cluster._mean_shift.MeanShift</td>\n",
       "    </tr>\n",
       "    <tr>\n",
       "      <th>sc</th>\n",
       "      <td>Spectral Clustering</td>\n",
       "      <td>sklearn.cluster._spectral.SpectralClustering</td>\n",
       "    </tr>\n",
       "    <tr>\n",
       "      <th>hclust</th>\n",
       "      <td>Agglomerative Clustering</td>\n",
       "      <td>sklearn.cluster._agglomerative.AgglomerativeCl...</td>\n",
       "    </tr>\n",
       "    <tr>\n",
       "      <th>dbscan</th>\n",
       "      <td>Density-Based Spatial Clustering</td>\n",
       "      <td>sklearn.cluster._dbscan.DBSCAN</td>\n",
       "    </tr>\n",
       "    <tr>\n",
       "      <th>optics</th>\n",
       "      <td>OPTICS Clustering</td>\n",
       "      <td>sklearn.cluster._optics.OPTICS</td>\n",
       "    </tr>\n",
       "    <tr>\n",
       "      <th>birch</th>\n",
       "      <td>Birch Clustering</td>\n",
       "      <td>sklearn.cluster._birch.Birch</td>\n",
       "    </tr>\n",
       "  </tbody>\n",
       "</table>\n",
       "</div>"
      ],
      "text/plain": [
       "                                       Name  \\\n",
       "ID                                            \n",
       "kmeans                   K-Means Clustering   \n",
       "ap                     Affinity Propagation   \n",
       "meanshift             Mean Shift Clustering   \n",
       "sc                      Spectral Clustering   \n",
       "hclust             Agglomerative Clustering   \n",
       "dbscan     Density-Based Spatial Clustering   \n",
       "optics                    OPTICS Clustering   \n",
       "birch                      Birch Clustering   \n",
       "\n",
       "                                                   Reference  \n",
       "ID                                                            \n",
       "kmeans                        sklearn.cluster._kmeans.KMeans  \n",
       "ap         sklearn.cluster._affinity_propagation.Affinity...  \n",
       "meanshift              sklearn.cluster._mean_shift.MeanShift  \n",
       "sc              sklearn.cluster._spectral.SpectralClustering  \n",
       "hclust     sklearn.cluster._agglomerative.AgglomerativeCl...  \n",
       "dbscan                        sklearn.cluster._dbscan.DBSCAN  \n",
       "optics                        sklearn.cluster._optics.OPTICS  \n",
       "birch                           sklearn.cluster._birch.Birch  "
      ]
     },
     "execution_count": 40,
     "metadata": {},
     "output_type": "execute_result"
    }
   ],
   "source": [
    "#check all available models\n",
    "models()"
   ]
  },
  {
   "cell_type": "code",
   "execution_count": 143,
   "metadata": {},
   "outputs": [
    {
     "data": {
      "text/html": [],
      "text/plain": [
       "<IPython.core.display.HTML object>"
      ]
     },
     "metadata": {},
     "output_type": "display_data"
    },
    {
     "data": {
      "text/html": [
       "<style type=\"text/css\">\n",
       "</style>\n",
       "<table id=\"T_0f270\">\n",
       "  <thead>\n",
       "    <tr>\n",
       "      <th class=\"blank level0\" >&nbsp;</th>\n",
       "      <th id=\"T_0f270_level0_col0\" class=\"col_heading level0 col0\" >Silhouette</th>\n",
       "      <th id=\"T_0f270_level0_col1\" class=\"col_heading level0 col1\" >Calinski-Harabasz</th>\n",
       "      <th id=\"T_0f270_level0_col2\" class=\"col_heading level0 col2\" >Davies-Bouldin</th>\n",
       "      <th id=\"T_0f270_level0_col3\" class=\"col_heading level0 col3\" >Homogeneity</th>\n",
       "      <th id=\"T_0f270_level0_col4\" class=\"col_heading level0 col4\" >Rand Index</th>\n",
       "      <th id=\"T_0f270_level0_col5\" class=\"col_heading level0 col5\" >Completeness</th>\n",
       "    </tr>\n",
       "  </thead>\n",
       "  <tbody>\n",
       "    <tr>\n",
       "      <th id=\"T_0f270_level0_row0\" class=\"row_heading level0 row0\" >0</th>\n",
       "      <td id=\"T_0f270_row0_col0\" class=\"data row0 col0\" >0.3149</td>\n",
       "      <td id=\"T_0f270_row0_col1\" class=\"data row0 col1\" >1121.6542</td>\n",
       "      <td id=\"T_0f270_row0_col2\" class=\"data row0 col2\" >0.8878</td>\n",
       "      <td id=\"T_0f270_row0_col3\" class=\"data row0 col3\" >0</td>\n",
       "      <td id=\"T_0f270_row0_col4\" class=\"data row0 col4\" >0</td>\n",
       "      <td id=\"T_0f270_row0_col5\" class=\"data row0 col5\" >0</td>\n",
       "    </tr>\n",
       "  </tbody>\n",
       "</table>\n"
      ],
      "text/plain": [
       "<pandas.io.formats.style.Styler at 0x339db68d0>"
      ]
     },
     "metadata": {},
     "output_type": "display_data"
    },
    {
     "data": {
      "text/html": [],
      "text/plain": [
       "<IPython.core.display.HTML object>"
      ]
     },
     "metadata": {},
     "output_type": "display_data"
    }
   ],
   "source": [
    "#train kmeans model\n",
    "aggl = create_model('hclust')"
   ]
  },
  {
   "cell_type": "markdown",
   "metadata": {},
   "source": [
    "### Assign Model\n",
    "Actually assign labels using a given clustering model"
   ]
  },
  {
   "cell_type": "code",
   "execution_count": 145,
   "metadata": {},
   "outputs": [
    {
     "data": {
      "text/plain": [
       "0       Cluster 0\n",
       "1       Cluster 0\n",
       "2       Cluster 0\n",
       "3       Cluster 0\n",
       "4       Cluster 0\n",
       "          ...    \n",
       "2395    Cluster 2\n",
       "2396    Cluster 2\n",
       "2397    Cluster 2\n",
       "2398    Cluster 2\n",
       "2399    Cluster 2\n",
       "Name: Cluster, Length: 2400, dtype: object"
      ]
     },
     "execution_count": 145,
     "metadata": {},
     "output_type": "execute_result"
    }
   ],
   "source": [
    "aggl_cluster = assign_model(aggl)\n",
    "aggl_cluster.Cluster"
   ]
  },
  {
   "cell_type": "markdown",
   "metadata": {},
   "source": []
  },
  {
   "cell_type": "code",
   "execution_count": 147,
   "metadata": {},
   "outputs": [
    {
     "data": {
      "text/plain": [
       "4"
      ]
     },
     "execution_count": 147,
     "metadata": {},
     "output_type": "execute_result"
    }
   ],
   "source": [
    "#see how many clusters were chosen\n",
    "len(np.unique(aggl_cluster.Cluster))"
   ]
  },
  {
   "cell_type": "markdown",
   "metadata": {},
   "source": [
    "### Visualize Model"
   ]
  },
  {
   "cell_type": "code",
   "execution_count": 148,
   "metadata": {},
   "outputs": [
    {
     "data": {
      "text/html": [],
      "text/plain": [
       "<IPython.core.display.HTML object>"
      ]
     },
     "metadata": {},
     "output_type": "display_data"
    },
    {
     "data": {
      "application/vnd.plotly.v1+json": {
       "config": {
        "plotlyServerURL": "https://plot.ly"
       },
       "data": [
        {
         "customdata": [
          [
           0.0042873602
          ],
          [
           0.00023565622
          ],
          [
           0.00023565622
          ],
          [
           0.00023565622
          ],
          [
           0.00023565622
          ],
          [
           0.00023565622
          ],
          [
           0.00023565622
          ],
          [
           0.00023565622
          ],
          [
           0.00023565622
          ],
          [
           0.00023565622
          ],
          [
           0.00023565622
          ],
          [
           0.00023565622
          ],
          [
           0.00023565622
          ],
          [
           0.00023565622
          ],
          [
           0.000078110934
          ],
          [
           0.00023565622
          ],
          [
           0.00023565622
          ],
          [
           0.00023565622
          ],
          [
           0.00023565622
          ],
          [
           0.00008135765
          ],
          [
           0.00008135765
          ],
          [
           0.00008135765
          ],
          [
           0.00008135765
          ],
          [
           0.00008135765
          ],
          [
           0.00008135765
          ],
          [
           0.00008135765
          ],
          [
           0.00008135765
          ],
          [
           0.00008135765
          ],
          [
           0.00008135765
          ],
          [
           0.0009986815
          ],
          [
           0.0009986815
          ],
          [
           0.00023565622
          ],
          [
           0.00023565622
          ],
          [
           0.00023565622
          ],
          [
           0.000078110934
          ],
          [
           0.000078110934
          ],
          [
           0.000078110934
          ],
          [
           0.000078110934
          ],
          [
           0.00025736948
          ],
          [
           0.00025736948
          ],
          [
           0.00025736948
          ],
          [
           0.00025736948
          ],
          [
           0.00025736948
          ],
          [
           0.00025736948
          ],
          [
           0.00025736948
          ],
          [
           0.00025736948
          ],
          [
           -0.000024737974
          ],
          [
           -0.000024737974
          ],
          [
           -0.000024737974
          ],
          [
           -0.000024737974
          ],
          [
           -0.000024737974
          ],
          [
           -0.000024737974
          ],
          [
           -0.000024737974
          ],
          [
           0.00025736948
          ],
          [
           0.00008135765
          ],
          [
           0.00025736948
          ],
          [
           0.00025736948
          ],
          [
           0.000078110934
          ],
          [
           0.000078110934
          ],
          [
           0.000078110934
          ],
          [
           0.000078110934
          ],
          [
           0.000078110934
          ],
          [
           0.000078110934
          ],
          [
           0.000078110934
          ],
          [
           0.000078110934
          ],
          [
           0.000078110934
          ],
          [
           0.00025736948
          ],
          [
           0.00025736948
          ],
          [
           0.00025736948
          ],
          [
           0.00025736948
          ],
          [
           0.00025736948
          ],
          [
           0.00025736948
          ],
          [
           0.00025736948
          ],
          [
           0.00008135765
          ],
          [
           0.00008135765
          ],
          [
           0.00008135765
          ],
          [
           0.000021957709
          ],
          [
           0.000021957709
          ],
          [
           0.000021957709
          ],
          [
           0.000021957709
          ],
          [
           0.000021957709
          ],
          [
           0.000021957709
          ],
          [
           0.000021957709
          ],
          [
           0.000021957709
          ],
          [
           0.000021957709
          ],
          [
           0.000021957709
          ],
          [
           0.000021957709
          ],
          [
           0.000021957709
          ],
          [
           0.000021957709
          ],
          [
           0.000021957709
          ],
          [
           0.000021957709
          ],
          [
           0.000021957709
          ],
          [
           0.000021957709
          ],
          [
           0.000021957709
          ],
          [
           0.000021957709
          ],
          [
           -0.0000971467
          ],
          [
           -0.0000971467
          ],
          [
           -0.0000971467
          ],
          [
           -0.0000971467
          ],
          [
           0.000182543
          ],
          [
           0.000182543
          ],
          [
           0.000182543
          ],
          [
           0.000182543
          ],
          [
           0.000182543
          ],
          [
           0.000182543
          ],
          [
           0.000182543
          ],
          [
           0.000182543
          ],
          [
           0.000182543
          ],
          [
           0.000182543
          ],
          [
           0.000021957709
          ],
          [
           0.000021957709
          ],
          [
           -0.000024737974
          ],
          [
           0.000021957709
          ],
          [
           -0.00042449136
          ],
          [
           -0.00061853655
          ],
          [
           -0.00061853655
          ],
          [
           -0.00061853655
          ],
          [
           -0.00061853655
          ],
          [
           -0.00061853655
          ],
          [
           -0.00061853655
          ],
          [
           -0.00061853655
          ],
          [
           -0.00061853655
          ],
          [
           0.00008135765
          ],
          [
           0.00008135765
          ],
          [
           0.00008135765
          ],
          [
           0.00008135765
          ],
          [
           0.00008135765
          ],
          [
           0.00008135765
          ],
          [
           0.00008135765
          ],
          [
           -0.00061853655
          ],
          [
           0.000021957709
          ],
          [
           -0.00061853655
          ],
          [
           -0.00061853655
          ],
          [
           -0.00042449136
          ],
          [
           -0.00030360496
          ],
          [
           -0.00030360496
          ],
          [
           -0.00030360496
          ],
          [
           -0.00030360496
          ],
          [
           -0.00030360496
          ],
          [
           -0.00030360496
          ],
          [
           -0.00030360496
          ],
          [
           -0.00030360496
          ],
          [
           -0.00061853655
          ],
          [
           -0.00061853655
          ],
          [
           -0.00061853655
          ],
          [
           -0.00061853655
          ],
          [
           -0.00061853655
          ],
          [
           -0.00061853655
          ],
          [
           -0.00061853655
          ],
          [
           -0.000024737974
          ],
          [
           -0.000024737974
          ],
          [
           -0.000024737974
          ],
          [
           -0.001160805
          ],
          [
           -0.001160805
          ],
          [
           -0.001160805
          ],
          [
           -0.001160805
          ],
          [
           -0.001160805
          ],
          [
           -0.001160805
          ],
          [
           -0.001160805
          ],
          [
           -0.002443639
          ],
          [
           -0.002443639
          ],
          [
           -0.002443639
          ],
          [
           -0.002443639
          ],
          [
           -0.002443639
          ],
          [
           -0.002443639
          ],
          [
           -0.002443639
          ],
          [
           -0.0030447384
          ],
          [
           -0.001160805
          ],
          [
           -0.0030447384
          ],
          [
           -0.001160805
          ],
          [
           -0.001160805
          ],
          [
           -0.0002609221
          ],
          [
           -0.0002609221
          ],
          [
           -0.0002609221
          ],
          [
           -0.0002609221
          ],
          [
           -0.0002609221
          ],
          [
           -0.0002609221
          ],
          [
           -0.0002609221
          ],
          [
           -0.0002609221
          ],
          [
           0.00039675587
          ],
          [
           0.00039675587
          ],
          [
           0.00039675587
          ],
          [
           0.00039675587
          ],
          [
           -0.001160805
          ],
          [
           -0.001160805
          ],
          [
           -0.001160805
          ],
          [
           -0.001160805
          ],
          [
           -0.0002609221
          ],
          [
           -0.0030447384
          ],
          [
           -0.0030447384
          ],
          [
           -0.005854571
          ],
          [
           -0.005854571
          ],
          [
           0.005155664
          ],
          [
           0.005155664
          ],
          [
           0.005155664
          ],
          [
           0.005155664
          ],
          [
           0.005155664
          ],
          [
           0.005155664
          ],
          [
           0.005155664
          ],
          [
           0.005155664
          ],
          [
           0.005155664
          ],
          [
           0.005155664
          ],
          [
           0.005155664
          ],
          [
           0.005155664
          ],
          [
           0.005155664
          ],
          [
           -0.005854571
          ],
          [
           -0.0030447384
          ],
          [
           -0.005854571
          ],
          [
           -0.005854571
          ],
          [
           -0.0030447384
          ],
          [
           -0.0030447384
          ],
          [
           -0.0030447384
          ],
          [
           -0.0030447384
          ],
          [
           -0.0030447384
          ],
          [
           -0.0030447384
          ],
          [
           -0.0030447384
          ],
          [
           -0.005854571
          ],
          [
           -0.005854571
          ],
          [
           -0.005854571
          ],
          [
           -0.005854571
          ],
          [
           -0.005854571
          ],
          [
           -0.005854571
          ],
          [
           -0.005854571
          ],
          [
           -0.005854571
          ],
          [
           -0.005854571
          ],
          [
           -0.0000971467
          ],
          [
           -0.0002609221
          ],
          [
           -0.0002609221
          ],
          [
           0.001969636
          ],
          [
           0.001969636
          ],
          [
           0.001969636
          ],
          [
           0.001969636
          ],
          [
           0.001969636
          ],
          [
           0.001969636
          ],
          [
           0.001969636
          ],
          [
           0.001969636
          ],
          [
           0.001969636
          ],
          [
           0.001969636
          ],
          [
           0.001969636
          ],
          [
           0.001969636
          ],
          [
           0.001969636
          ],
          [
           0.001969636
          ],
          [
           0.001969636
          ],
          [
           0.001969636
          ],
          [
           0.001969636
          ],
          [
           0.001969636
          ],
          [
           0.001969636
          ],
          [
           -0.000024737974
          ],
          [
           -0.000024737974
          ],
          [
           -0.000024737974
          ],
          [
           -0.000024737974
          ],
          [
           -0.000024737974
          ],
          [
           -0.000024737974
          ],
          [
           -0.000024737974
          ],
          [
           -0.000024737974
          ],
          [
           -0.000024737974
          ],
          [
           -0.000024737974
          ],
          [
           -0.000024737974
          ],
          [
           -0.000024737974
          ],
          [
           -0.000024737974
          ],
          [
           0.001969636
          ],
          [
           0.001969636
          ],
          [
           0.001969636
          ],
          [
           -0.0002609221
          ],
          [
           0.001969636
          ],
          [
           -0.0012744891
          ],
          [
           0.00018097484
          ],
          [
           0.00018097484
          ],
          [
           0.00018097484
          ],
          [
           0.00018097484
          ],
          [
           0.00018097484
          ],
          [
           0.00018097484
          ],
          [
           0.00018097484
          ],
          [
           0.00018097484
          ],
          [
           0.00018097484
          ],
          [
           0.00018097484
          ],
          [
           0.00018097484
          ],
          [
           0.00018097484
          ],
          [
           0.00018097484
          ],
          [
           0.00018097484
          ],
          [
           -0.0002609221
          ],
          [
           0.00018097484
          ],
          [
           0.001969636
          ],
          [
           -0.0012744891
          ],
          [
           -0.0012744891
          ],
          [
           -0.0012744891
          ],
          [
           -0.0012744891
          ],
          [
           -0.0012744891
          ],
          [
           -0.0012744891
          ],
          [
           -0.0012744891
          ],
          [
           -0.0012744891
          ],
          [
           -0.0012744891
          ],
          [
           -0.0012744891
          ],
          [
           -0.0012744891
          ],
          [
           -0.0012744891
          ],
          [
           -0.0012744891
          ],
          [
           -0.0012744891
          ],
          [
           -0.0012744891
          ],
          [
           -0.0012744891
          ],
          [
           -0.0012744891
          ],
          [
           -0.0012744891
          ],
          [
           -0.0000971467
          ],
          [
           -0.0000971467
          ],
          [
           -0.0000971467
          ],
          [
           -0.00027329268
          ],
          [
           -0.00027329268
          ],
          [
           -0.00027329268
          ],
          [
           -0.00027329268
          ],
          [
           -0.00027329268
          ],
          [
           -0.00027329268
          ],
          [
           -0.00027329268
          ],
          [
           -0.00027329268
          ],
          [
           -0.00027329268
          ],
          [
           -0.00027329268
          ],
          [
           0.0004867659
          ],
          [
           0.0004867659
          ],
          [
           0.0004867659
          ],
          [
           0.0004867659
          ],
          [
           0.0004867659
          ],
          [
           -0.00027329268
          ],
          [
           0.00041258452
          ],
          [
           -0.00027329268
          ],
          [
           -0.00027329268
          ],
          [
           -0.00007980825
          ],
          [
           -0.00007980825
          ],
          [
           -0.0001520705
          ],
          [
           -0.0001520705
          ],
          [
           -0.0001520705
          ],
          [
           -0.0001520705
          ],
          [
           -0.0001520705
          ],
          [
           -0.0001520705
          ],
          [
           -0.0001520705
          ],
          [
           -0.0001520705
          ],
          [
           -0.00027329268
          ],
          [
           -0.00027329268
          ],
          [
           -0.00027329268
          ],
          [
           -0.00027329268
          ],
          [
           -0.00027329268
          ],
          [
           -0.00027329268
          ],
          [
           0.000005723107
          ],
          [
           0.00041258452
          ],
          [
           0.00041258452
          ],
          [
           -0.00007140639
          ],
          [
           -0.00007140639
          ],
          [
           -0.00007140639
          ],
          [
           -0.00007140639
          ],
          [
           -0.00007140639
          ],
          [
           -0.00007140639
          ],
          [
           -0.00007140639
          ],
          [
           -0.00007140639
          ],
          [
           -0.00007140639
          ],
          [
           -0.00029050338
          ],
          [
           -0.00029050338
          ],
          [
           -0.00029050338
          ],
          [
           -0.00029050338
          ],
          [
           -0.00029050338
          ],
          [
           -0.00029050338
          ],
          [
           -0.00007140639
          ],
          [
           0.00041258452
          ],
          [
           -0.00007140639
          ],
          [
           -0.00007140639
          ],
          [
           0.00041258452
          ],
          [
           0.00041258452
          ],
          [
           0.00041258452
          ],
          [
           0.00041258452
          ],
          [
           0.00041258452
          ],
          [
           0.00041258452
          ],
          [
           0.00041258452
          ],
          [
           0.00041258452
          ],
          [
           0.00041258452
          ],
          [
           0.00041258452
          ],
          [
           -0.00007140639
          ],
          [
           -0.00007140639
          ],
          [
           -0.00007140639
          ],
          [
           -0.00007140639
          ],
          [
           -0.00007140639
          ],
          [
           -0.00007140639
          ],
          [
           -0.00029050338
          ],
          [
           -0.00045167367
          ],
          [
           -0.00045167367
          ],
          [
           0.00049330137
          ],
          [
           0.00049330137
          ],
          [
           0.00049330137
          ],
          [
           0.00049330137
          ],
          [
           0.00049330137
          ],
          [
           0.00049330137
          ],
          [
           0.00049330137
          ],
          [
           0.00049330137
          ],
          [
           0.00049330137
          ],
          [
           -0.0004187568
          ],
          [
           -0.0004187568
          ],
          [
           -0.0004187568
          ],
          [
           -0.0004187568
          ],
          [
           -0.0004187568
          ],
          [
           -0.0004187568
          ],
          [
           0.00049330137
          ],
          [
           -0.0004187568
          ],
          [
           0.0000024250942
          ],
          [
           0.00033838538
          ],
          [
           0.00033838538
          ],
          [
           0.00033838538
          ],
          [
           0.00033838538
          ],
          [
           0.00033838538
          ],
          [
           0.00033838538
          ],
          [
           0.00033838538
          ],
          [
           0.00033838538
          ],
          [
           0.00033838538
          ],
          [
           0.00033838538
          ],
          [
           0.00033838538
          ],
          [
           0.00033838538
          ],
          [
           0.00033838538
          ],
          [
           0.00033838538
          ],
          [
           0.00033838538
          ],
          [
           0.00033838538
          ],
          [
           0.00033838538
          ],
          [
           -0.00045167367
          ],
          [
           -0.0004187568
          ],
          [
           -0.0004187568
          ],
          [
           -0.00045167367
          ],
          [
           -0.00045167367
          ],
          [
           -0.00045167367
          ],
          [
           -0.00045167367
          ],
          [
           -0.00045167367
          ],
          [
           -0.00045167367
          ],
          [
           -0.00045167367
          ],
          [
           -0.00045167367
          ],
          [
           -0.00045167367
          ],
          [
           -0.00045167367
          ],
          [
           -0.00045167367
          ],
          [
           -0.00045167367
          ],
          [
           -0.00045167367
          ],
          [
           -0.00045167367
          ],
          [
           -0.00045167367
          ],
          [
           -0.00045167367
          ],
          [
           -0.0004187568
          ],
          [
           -0.00045167367
          ],
          [
           -0.00045167367
          ],
          [
           -0.0004187568
          ],
          [
           -0.0004187568
          ],
          [
           -0.0004187568
          ],
          [
           -0.0004187568
          ],
          [
           -0.0004187568
          ],
          [
           -0.0004187568
          ],
          [
           -0.0004187568
          ],
          [
           -0.0004187568
          ],
          [
           -0.0004187568
          ],
          [
           -0.0004187568
          ],
          [
           -0.0004187568
          ],
          [
           -0.0004187568
          ],
          [
           -0.0004187568
          ],
          [
           -0.00045167367
          ],
          [
           -0.00045167367
          ],
          [
           -0.00045167367
          ],
          [
           0.005155664
          ],
          [
           -0.00029050338
          ],
          [
           -0.00029050338
          ],
          [
           0.0003350489
          ],
          [
           0.0003350489
          ],
          [
           0.0003350489
          ],
          [
           0.0003350489
          ],
          [
           0.0003350489
          ],
          [
           0.0003350489
          ],
          [
           0.0003350489
          ],
          [
           0.0003350489
          ],
          [
           0.0003350489
          ],
          [
           0.0003350489
          ],
          [
           0.0003350489
          ],
          [
           0.0003350489
          ],
          [
           0.0003350489
          ],
          [
           0.0003350489
          ],
          [
           0.0019233004
          ],
          [
           -0.000040784165
          ],
          [
           0.0019233004
          ],
          [
           -0.000040784165
          ],
          [
           -0.000040784165
          ],
          [
           -0.000040784165
          ],
          [
           -0.000040784165
          ],
          [
           -0.000040784165
          ],
          [
           -0.000040784165
          ],
          [
           -0.000040784165
          ],
          [
           -0.000040784165
          ],
          [
           -0.000040784165
          ],
          [
           -0.000040784165
          ],
          [
           -0.000040784165
          ],
          [
           -0.000040784165
          ],
          [
           -0.000040784165
          ],
          [
           -0.000040784165
          ],
          [
           -0.000040784165
          ],
          [
           -0.000040784165
          ],
          [
           -0.000040784165
          ],
          [
           -0.000040784165
          ],
          [
           -0.000040784165
          ],
          [
           0.0019233004
          ],
          [
           -0.00057188194
          ],
          [
           -0.00057188194
          ],
          [
           -0.00057188194
          ],
          [
           -0.00057188194
          ],
          [
           -0.00057188194
          ],
          [
           -0.002084868
          ],
          [
           -0.0000971467
          ],
          [
           -0.0000971467
          ],
          [
           -0.0000971467
          ],
          [
           -0.0000971467
          ],
          [
           -0.0000971467
          ],
          [
           -0.0000971467
          ],
          [
           -0.0000971467
          ],
          [
           -0.0000971467
          ],
          [
           -0.0000971467
          ],
          [
           -0.0000971467
          ],
          [
           -0.00057188194
          ],
          [
           0.0019233004
          ],
          [
           -0.00057188194
          ],
          [
           -0.00057188194
          ],
          [
           -0.00057188194
          ],
          [
           -0.00057188194
          ],
          [
           -0.00057188194
          ],
          [
           -0.00057188194
          ],
          [
           -0.00057188194
          ],
          [
           -0.00057188194
          ],
          [
           -0.00057188194
          ],
          [
           -0.00057188194
          ],
          [
           -0.00057188194
          ],
          [
           -0.00057188194
          ],
          [
           -0.00057188194
          ],
          [
           -0.00057188194
          ],
          [
           -0.00057188194
          ],
          [
           -0.00057188194
          ],
          [
           -0.00057188194
          ],
          [
           -0.00057188194
          ],
          [
           -0.00029050338
          ],
          [
           -0.000040784165
          ],
          [
           0.000051314608
          ],
          [
           -0.00034991448
          ],
          [
           -0.00034991448
          ],
          [
           -0.00034991448
          ],
          [
           -0.00033053674
          ],
          [
           -0.00033053674
          ],
          [
           -0.00033053674
          ],
          [
           -0.00033053674
          ],
          [
           -0.00033053674
          ],
          [
           -0.00033053674
          ],
          [
           -0.00033053674
          ],
          [
           -0.00033053674
          ],
          [
           -0.00033053674
          ],
          [
           -0.00033053674
          ],
          [
           -0.0000051388397
          ],
          [
           -0.001712072
          ],
          [
           -0.00034991448
          ],
          [
           -0.001712072
          ],
          [
           -0.00034991448
          ],
          [
           -0.00034991448
          ],
          [
           -0.0017759596
          ],
          [
           -0.0017759596
          ],
          [
           -0.0017759596
          ],
          [
           -0.0017759596
          ],
          [
           -0.0017759596
          ],
          [
           -0.0017759596
          ],
          [
           -0.0017759596
          ],
          [
           -0.0017759596
          ],
          [
           -0.0017759596
          ],
          [
           -0.0017759596
          ],
          [
           -0.0017759596
          ],
          [
           -0.0017759596
          ],
          [
           -0.00034991448
          ],
          [
           -0.00034991448
          ],
          [
           -0.00034991448
          ],
          [
           -0.00034991448
          ],
          [
           0.000051314608
          ],
          [
           -0.001712072
          ],
          [
           -0.000015236459
          ],
          [
           -0.0006396583
          ],
          [
           -0.0006396583
          ],
          [
           -0.0006396583
          ],
          [
           -0.0006396583
          ],
          [
           -0.0006396583
          ],
          [
           -0.0006396583
          ],
          [
           -0.0006396583
          ],
          [
           -0.0006396583
          ],
          [
           -0.0006396583
          ],
          [
           -0.0006396583
          ],
          [
           -0.0006396583
          ],
          [
           0.000051314608
          ],
          [
           0.000051314608
          ],
          [
           0.000051314608
          ],
          [
           0.000051314608
          ],
          [
           -0.0006396583
          ],
          [
           -0.001712072
          ],
          [
           -0.0006396583
          ],
          [
           -0.0006396583
          ],
          [
           -0.000015236459
          ],
          [
           -0.000015236459
          ],
          [
           -0.000015236459
          ],
          [
           -0.000015236459
          ],
          [
           -0.000015236459
          ],
          [
           -0.000015236459
          ],
          [
           -0.000015236459
          ],
          [
           -0.000015236459
          ],
          [
           -0.0006396583
          ],
          [
           -0.0006396583
          ],
          [
           -0.0006396583
          ],
          [
           -0.0006396583
          ],
          [
           -0.0006396583
          ],
          [
           -0.0006396583
          ],
          [
           -0.0006396583
          ],
          [
           -0.0006396583
          ],
          [
           0.005155664
          ],
          [
           -0.00030360496
          ],
          [
           0.0036776536
          ],
          [
           -0.00858689
          ],
          [
           -0.00858689
          ],
          [
           -0.00858689
          ],
          [
           -0.00858689
          ],
          [
           0.0017568755
          ],
          [
           -0.00858689
          ],
          [
           -0.00858689
          ],
          [
           -0.00858689
          ],
          [
           0.012179484
          ],
          [
           0.012179484
          ],
          [
           -0.00858689
          ],
          [
           -0.00858689
          ],
          [
           -0.00858689
          ],
          [
           -0.00858689
          ],
          [
           -0.00858689
          ],
          [
           -0.00858689
          ],
          [
           -0.007861798
          ],
          [
           -0.007861798
          ],
          [
           -0.007861798
          ],
          [
           -0.007861798
          ],
          [
           -0.007861798
          ],
          [
           -0.007861798
          ],
          [
           -0.007861798
          ],
          [
           -0.007861798
          ],
          [
           -0.007861798
          ],
          [
           -0.007861798
          ],
          [
           -0.0017282191
          ],
          [
           0.012179484
          ],
          [
           0.012179484
          ],
          [
           0.012179484
          ],
          [
           -0.007861798
          ],
          [
           -0.00858689
          ],
          [
           -0.00858689
          ],
          [
           -0.00858689
          ],
          [
           0.00042671742
          ],
          [
           0.00042671742
          ],
          [
           0.00042671742
          ],
          [
           0.00042671742
          ],
          [
           0.00042671742
          ],
          [
           0.00042671742
          ],
          [
           0.00042671742
          ],
          [
           0.00042671742
          ],
          [
           0.00042671742
          ],
          [
           -0.0027075566
          ],
          [
           -0.0027075566
          ],
          [
           -0.0027075566
          ],
          [
           -0.0027075566
          ],
          [
           -0.0027075566
          ],
          [
           -0.0027075566
          ],
          [
           -0.0027075566
          ],
          [
           -0.006267281
          ],
          [
           -0.00858689
          ],
          [
           -0.00858689
          ],
          [
           -0.00858689
          ],
          [
           -0.00858689
          ],
          [
           -0.00858689
          ],
          [
           -0.00858689
          ],
          [
           0.012179484
          ],
          [
           -0.00858689
          ],
          [
           -0.0027075566
          ],
          [
           -0.0027075566
          ],
          [
           -0.0027075566
          ],
          [
           -0.0027075566
          ],
          [
           -0.0027075566
          ],
          [
           -0.0027075566
          ],
          [
           -0.00858689
          ],
          [
           -0.006267281
          ],
          [
           0.0000890963
          ],
          [
           -0.006267281
          ],
          [
           0.012179484
          ],
          [
           0.012179484
          ],
          [
           0.012179484
          ],
          [
           0.012179484
          ],
          [
           0.012179484
          ],
          [
           0.012179484
          ],
          [
           0.012179484
          ],
          [
           0.012179484
          ],
          [
           0.012179484
          ],
          [
           0.012179484
          ],
          [
           0.012179484
          ],
          [
           0.012179484
          ],
          [
           0.012179484
          ],
          [
           0.012179484
          ],
          [
           0.012179484
          ],
          [
           0.012179484
          ],
          [
           0.012179484
          ],
          [
           -0.006267281
          ],
          [
           -0.006267281
          ],
          [
           -0.006267281
          ],
          [
           -0.006267281
          ],
          [
           -0.006267281
          ],
          [
           -0.006267281
          ],
          [
           0.0036776536
          ],
          [
           -0.006267281
          ],
          [
           -0.006267281
          ],
          [
           -0.006267281
          ],
          [
           -0.006267281
          ],
          [
           -0.006267281
          ],
          [
           -0.006267281
          ],
          [
           0.012179484
          ],
          [
           -0.006267281
          ],
          [
           0.00042671742
          ],
          [
           -0.006267281
          ],
          [
           -0.00004161903
          ],
          [
           -0.006267281
          ],
          [
           -0.006267281
          ],
          [
           -0.006267281
          ],
          [
           -0.006267281
          ],
          [
           -0.006267281
          ],
          [
           -0.007861798
          ],
          [
           -0.007861798
          ],
          [
           -0.007861798
          ],
          [
           -0.007861798
          ],
          [
           -0.007861798
          ],
          [
           -0.007861798
          ],
          [
           -0.007861798
          ],
          [
           -0.007861798
          ],
          [
           -0.007861798
          ],
          [
           -0.007861798
          ],
          [
           -0.007861798
          ],
          [
           -0.007861798
          ],
          [
           -0.00004161903
          ],
          [
           -0.00004161903
          ],
          [
           -0.00004161903
          ],
          [
           -0.00004161903
          ],
          [
           -0.00004161903
          ],
          [
           -0.00004161903
          ],
          [
           -0.006267281
          ],
          [
           -0.00004161903
          ],
          [
           -0.00004161903
          ],
          [
           -0.00004161903
          ],
          [
           -0.00004161903
          ],
          [
           -0.00004161903
          ],
          [
           -0.00004161903
          ],
          [
           -0.007861798
          ],
          [
           -0.00004161903
          ],
          [
           0.00042671742
          ],
          [
           -0.006267281
          ],
          [
           0.00042671742
          ],
          [
           0.002127288
          ],
          [
           0.0036776536
          ],
          [
           0.0036776536
          ],
          [
           0.0036776536
          ],
          [
           0.0036776536
          ],
          [
           0.0036776536
          ],
          [
           0.0036776536
          ],
          [
           0.0036776536
          ],
          [
           0.0036776536
          ],
          [
           0.0036776536
          ],
          [
           0.0036776536
          ],
          [
           0.0036776536
          ],
          [
           0.0036776536
          ],
          [
           0.00042671742
          ],
          [
           0.00042671742
          ],
          [
           0.002127288
          ],
          [
           0.002127288
          ],
          [
           0.002127288
          ],
          [
           0.002127288
          ],
          [
           0.0036776536
          ],
          [
           0.00042671742
          ],
          [
           0.0036776536
          ],
          [
           0.002127288
          ],
          [
           0.002127288
          ],
          [
           0.002127288
          ],
          [
           0.002127288
          ],
          [
           0.0036776536
          ],
          [
           0.002127288
          ],
          [
           0.002127288
          ],
          [
           0.002127288
          ],
          [
           0.002127288
          ],
          [
           0.002127288
          ],
          [
           0.002127288
          ],
          [
           0.002127288
          ],
          [
           0.002127288
          ],
          [
           0.002127288
          ],
          [
           0.0036776536
          ],
          [
           0.0036776536
          ],
          [
           0.0036776536
          ],
          [
           0.0042873602
          ],
          [
           0.0042873602
          ],
          [
           0.0042873602
          ],
          [
           0.0042873602
          ],
          [
           0.0036776536
          ],
          [
           0.00042671742
          ],
          [
           0.0036776536
          ],
          [
           0.00042671742
          ],
          [
           0.00042671742
          ],
          [
           0.00042671742
          ],
          [
           0.00042671742
          ],
          [
           0.00042671742
          ],
          [
           0.0036776536
          ],
          [
           0.00042671742
          ],
          [
           0.00042671742
          ],
          [
           0.00042671742
          ],
          [
           0.0036776536
          ]
         ],
         "hovertemplate": "Cluster=Cluster 0<br>PCA1=%{x}<br>PCA2=%{y}<br>Feature=%{customdata[0]}<extra></extra>",
         "legendgroup": "Cluster 0",
         "marker": {
          "color": "#636efa",
          "opacity": 0.5,
          "symbol": "circle"
         },
         "mode": "markers",
         "name": "Cluster 0",
         "showlegend": true,
         "textposition": "top center",
         "type": "scattergl",
         "x": [
          0.0030773198,
          0.05249432,
          0.21868908,
          0.14324893,
          0.8053863,
          0.2553578,
          0.123987034,
          0.21026918,
          0.10818307,
          -0.013678208,
          0.10110789,
          0.10834111,
          -0.018268364,
          -0.0011949008,
          0.62922114,
          0.15318452,
          0.32891533,
          0.1943782,
          0.25199354,
          0.51968807,
          0.7348711,
          0.6825909,
          0.5558226,
          0.7447375,
          0.43110362,
          0.4281396,
          0.5321478,
          0.13608775,
          0.049489424,
          0.052456915,
          0.11682892,
          0.026822485,
          0.069495074,
          0.14520326,
          0.44572383,
          0.75752,
          0.37905666,
          0.4759077,
          0.4762555,
          0.43971574,
          0.41538662,
          0.55223525,
          0.6851142,
          0.54734856,
          0.5667287,
          0.5051076,
          0.13676046,
          0.27759528,
          0.09418077,
          0.10568125,
          0.052867953,
          0.17965844,
          0.29205748,
          0.5432156,
          0.4220587,
          0.24126714,
          0.14127657,
          0.3420803,
          0.4503857,
          0.45230633,
          0.29200006,
          0.18678983,
          0.0981827,
          0.00040499136,
          -0.037315737,
          -0.061357886,
          0.3035466,
          0.2712091,
          0.09241825,
          0.31819317,
          0.4625814,
          0.13397835,
          0.54675704,
          0.10856927,
          0.085488014,
          0.619039,
          1.0318605,
          0.46037257,
          0.49300346,
          0.3198348,
          0.4015999,
          0.6757132,
          0.40931034,
          0.48924288,
          0.56565166,
          0.3359361,
          0.4344916,
          0.5770504,
          0.7769335,
          -0.0017896262,
          0.17522357,
          0.82648224,
          0.18156101,
          0.5877644,
          0.5166179,
          0.4686659,
          0.5409935,
          0.45338157,
          0.60678965,
          0.0981868,
          0.11086519,
          0.20105648,
          0.13515873,
          0.10602271,
          0.3218021,
          0.3075309,
          0.1342766,
          0.119417876,
          0.18142419,
          0.2685653,
          0.48714334,
          0.20296182,
          0.008453226,
          0.01686207,
          0.22185272,
          0.17711286,
          0.19395487,
          0.2001374,
          0.09854834,
          0.14773679,
          0.3145081,
          0.59164286,
          0.21373668,
          0.16409445,
          0.13579647,
          0.09877265,
          0.18625565,
          0.5297473,
          0.41500556,
          0.29231146,
          0.050404437,
          0.78849477,
          0.24841411,
          -0.0033365758,
          0.31913564,
          0.34545428,
          0.23048311,
          0.35887396,
          0.22772826,
          0.1521095,
          0.12512213,
          0.08877988,
          0.22814503,
          0.09652,
          0.1399053,
          0.06461098,
          0.08465618,
          0.31507948,
          0.4460278,
          0.22732918,
          0.4131735,
          0.26681373,
          0.18809307,
          0.0080977185,
          -0.0318109,
          0.15575449,
          -0.011969848,
          -0.0034444667,
          0.11627859,
          0.18034767,
          0.4828515,
          0.33303457,
          0.2891632,
          0.23770435,
          0.6336277,
          0.5911021,
          0.54397744,
          0.04593347,
          0.2595635,
          0.2588348,
          -0.029433833,
          0.8817714,
          0.45734066,
          0.39956778,
          0.13718301,
          0.14161073,
          0.10113227,
          0.21558522,
          0.21363562,
          0.39063215,
          0.19989116,
          0.40515,
          0.78715384,
          0.9929828,
          0.5032782,
          0.015344022,
          0.51584256,
          0.53262013,
          0.30839998,
          0.18550768,
          0.2970318,
          0.3478409,
          0.021001792,
          0.015379075,
          0.017318916,
          0.015259666,
          0.107314244,
          0.08077416,
          0.029278474,
          0.073075086,
          0.06633338,
          0.23109585,
          0.04805801,
          0.02303169,
          0.05378503,
          0.44438052,
          0.7158959,
          0.46313804,
          0.80735487,
          0.21449398,
          0.18373318,
          0.0911034,
          0.06737157,
          -0.03519356,
          0.56171983,
          0.07148963,
          0.096599706,
          0.23510486,
          0.094668694,
          0.21010758,
          0.16120444,
          0.19593081,
          0.21733716,
          0.3194974,
          0.5383823,
          0.5006173,
          0.26814923,
          0.3116187,
          0.18555082,
          0.16115434,
          0.18009847,
          0.16347267,
          0.16561143,
          0.29655734,
          0.46719518,
          0.31628147,
          0.23131919,
          0.293325,
          0.20886195,
          0.41606587,
          0.23981735,
          0.13557298,
          0.0969894,
          0.30840373,
          0.13678904,
          0.10861006,
          0.07775063,
          0.43768567,
          0.46232936,
          0.35223755,
          0.38737345,
          0.6806854,
          0.3870508,
          0.60440916,
          0.87655026,
          0.7313029,
          0.65777075,
          0.39071807,
          0.42287707,
          0.3048815,
          0.0142228305,
          -0.030508604,
          0.038198836,
          0.22164294,
          0.14683454,
          0.75880075,
          0.21782158,
          0.16030577,
          0.22689374,
          0.70816374,
          0.20773068,
          0.34387076,
          0.30056038,
          0.19722769,
          0.23376709,
          0.26988888,
          0.20399612,
          0.26790246,
          0.2214961,
          0.14866027,
          0.40618953,
          0.16141196,
          0.14829902,
          0.050607983,
          -0.027337153,
          0.41176555,
          0.46458274,
          0.58886373,
          0.47688255,
          0.29751834,
          -0.028285976,
          0.030861698,
          0.16358119,
          -0.00847953,
          -0.033335958,
          0.053048372,
          0.0072948043,
          -0.009557987,
          -0.029265456,
          -0.036815744,
          -0.034561336,
          0.93571764,
          0.62959194,
          0.34741873,
          0.14812955,
          0.19766784,
          0.48402888,
          0.21844669,
          0.09322662,
          0.11264582,
          0.43145147,
          0.27688205,
          0.25441188,
          0.4040049,
          0.019630529,
          0.019135924,
          0.021871973,
          -0.0031943966,
          0.11485808,
          0.29503655,
          0.38278016,
          0.110357076,
          0.39178362,
          0.045958277,
          0.3959859,
          0.053660393,
          0.05999568,
          0.08090001,
          0.009732931,
          0.16779153,
          0.18938388,
          0.4346696,
          0.49430242,
          0.18138169,
          0.27248192,
          0.28103784,
          0.2174775,
          0.31753495,
          0.19269148,
          0.40109584,
          0.46728384,
          0.6237091,
          0.14485854,
          0.42850083,
          0.24260113,
          0.7521979,
          0.51918155,
          0.55111235,
          0.15307836,
          0.37773916,
          0.45913073,
          0.23629956,
          0.17247634,
          0.57357544,
          0.43032333,
          0.55097044,
          0.32686055,
          -0.01783878,
          0.41352424,
          -0.03970325,
          0.19755188,
          0.18788385,
          0.3057524,
          0.30649722,
          0.2698726,
          0.22708572,
          0.66321695,
          0.684755,
          0.7307994,
          0.85765725,
          0.24101041,
          0.9417178,
          0.59680426,
          0.587531,
          0.83476675,
          0.47156975,
          0.0658122,
          0.3469308,
          0.24926181,
          0.28219712,
          0.043630283,
          0.12415076,
          0.14583382,
          0.49579895,
          0.7002567,
          0.60596275,
          0.53829443,
          0.45666638,
          0.46195838,
          0.6119115,
          0.6085477,
          0.8447664,
          0.31772056,
          0.28394353,
          0.37129778,
          0.032878634,
          0.10214004,
          0.096118614,
          0.45748812,
          0.76226574,
          0.75684994,
          0.3226861,
          0.32434985,
          0.18127424,
          0.04168633,
          0.08085514,
          0.052232433,
          0.23279874,
          0.32236806,
          0.11228028,
          0.16166498,
          0.20791224,
          0.06894428,
          0.16833282,
          0.51452893,
          0.20183045,
          0.5629845,
          0.42286712,
          0.31380427,
          0.39693883,
          0.49689513,
          0.1899663,
          0.17093985,
          0.37675396,
          0.5004807,
          0.7118534,
          0.5306184,
          0.37059912,
          0.16696465,
          0.14730419,
          0.44507733,
          0.109737195,
          0.1737314,
          0.2359048,
          0.53024626,
          0.5953894,
          0.24065521,
          0.3199628,
          0.2265759,
          0.3137674,
          0.19228043,
          0.19821258,
          0.10600308,
          0.15946019,
          0.09005926,
          0.10502468,
          0.04320145,
          0.22509642,
          0.116771035,
          0.08432074,
          0.23226433,
          0.45220605,
          0.7002557,
          0.096605755,
          0.25553352,
          0.6518444,
          0.57623965,
          0.31507844,
          0.5070156,
          0.5496092,
          0.45103195,
          0.42535388,
          0.3181661,
          0.45584828,
          0.4120477,
          0.3426963,
          0.82621527,
          0.69362617,
          0.3979587,
          0.27100468,
          0.55595565,
          0.5019018,
          0.19572176,
          0.2540751,
          0.052467026,
          0.032282792,
          0.040314563,
          0.027034953,
          -0.005362375,
          0.058439877,
          0.12546827,
          0.16239722,
          0.03192771,
          0.06759408,
          0.08828698,
          0.39138585,
          0.34601492,
          0.101205006,
          0.04689356,
          0.18838896,
          0.10102154,
          0.24767415,
          0.39300984,
          0.20042388,
          0.1816587,
          0.15032253,
          0.06311395,
          0.06636991,
          0.3186826,
          0.35924336,
          0.20813239,
          0.3607295,
          1.0292629,
          0.517967,
          0.32849726,
          0.40866205,
          0.34381947,
          0.2693751,
          0.31199148,
          0.035090253,
          0.6139909,
          0.1500128,
          0.053371534,
          0.31412607,
          0.92386454,
          0.84153295,
          0.77099097,
          0.66169494,
          0.4470183,
          0.29409528,
          0.41910422,
          0.66473013,
          0.3178377,
          0.22648157,
          0.5011278,
          0.12964186,
          0.10539983,
          -0.028981272,
          0.11211178,
          0.5073298,
          0.028339222,
          0.046619713,
          0.85866606,
          0.39064664,
          0.21413426,
          0.038076896,
          0.110252984,
          0.08604834,
          -0.011654132,
          -0.010105473,
          0.15004103,
          0.045515366,
          0.052558023,
          0.015622939,
          0.015329007,
          0.37140346,
          0.6939111,
          0.5106924,
          0.47290024,
          0.14613445,
          0.25117117,
          0.76391584,
          0.2951546,
          0.24530797,
          0.03971495,
          0.01884614,
          0.030297713,
          0.09671639,
          0.43205675,
          0.19339672,
          0.18866271,
          0.5796597,
          0.8727564,
          0.1369418,
          0.1328316,
          0.10354308,
          0.3537218,
          0.051862072,
          0.41273817,
          0.15275729,
          0.19563729,
          0.37246457,
          0.1519643,
          0.35417712,
          0.1426593,
          0.24374786,
          0.5224104,
          0.38394094,
          0.38308978,
          0.53817445,
          0.43370298,
          0.014651185,
          0.0037199142,
          0.16138554,
          0.03154621,
          0.20457584,
          0.56046087,
          0.40730697,
          0.11245613,
          0.17139506,
          0.2570694,
          0.23390548,
          0.33126768,
          0.25926304,
          0.1451551,
          0.07402617,
          0.12875393,
          0.3481509,
          0.29878366,
          0.40137815,
          0.35701066,
          0.45574144,
          0.35424832,
          0.19159217,
          0.22649713,
          0.023433363,
          0.175629,
          0.05413927,
          0.14863859,
          0.22666284,
          0.22258563,
          0.34280473,
          0.0845773,
          0.23929416,
          0.23450084,
          0.17167814,
          0.22190025,
          0.21209833,
          0.5073134,
          0.25271967,
          0.41874713,
          0.52325517,
          0.16635227,
          0.5180665,
          0.14629361,
          0.27384317,
          0.48135093,
          0.4439841,
          0.36950934,
          0.24637282,
          0.097312674,
          0.0936232,
          -0.07463657,
          -0.04533864,
          0.053820144,
          0.327019,
          0.05537619,
          0.09214299,
          0.2881208,
          0.14411616,
          0.08203368,
          0.06442482,
          0.3069613,
          0.13313505,
          0.062625565,
          0.0010283159,
          -0.03243894,
          -0.034252718,
          0.009500709,
          -0.026865046,
          0.022687227,
          -0.03336606,
          0.5324487,
          0.64368266,
          0.6962126,
          0.67475444,
          0.80559653,
          0.62042093,
          0.23004715,
          0.087449506,
          0.04868173,
          0.005092723,
          0.21511036,
          0.035360258,
          0.089836404,
          0.10553511,
          0.15431017,
          -0.023189478,
          0.36776778,
          0.2850561,
          0.43490446,
          0.5773262,
          0.49158397,
          0.41949087,
          0.009819317,
          0.34194186,
          0.08164299,
          0.12073089,
          0.5238356,
          0.6744272,
          0.49497104,
          0.48304993,
          0.047293298,
          0.04825921,
          -0.0016419407,
          0.044752702,
          0.0020320462,
          0.004821598,
          -0.016605543,
          0.12043099,
          0.14471221,
          0.13866843,
          0.16351241,
          0.17248239,
          0.17435776,
          0.17622174,
          0.1547106,
          0.15164651,
          0.13617574,
          0.059923775,
          0.07674205,
          0.8768401,
          0.45429635,
          0.3278258,
          0.5587131,
          0.48226857,
          0.5764149,
          0.16493435,
          0.6432427,
          0.10713899,
          0.5021009,
          0.1538986,
          0.20295641,
          0.26051494,
          0.009208361,
          -0.027366828,
          -0.023670781,
          -0.0028356914,
          0.021892186,
          -0.047053404,
          0.33986947,
          0.33027688,
          0.2620877,
          0.43011692,
          0.434412,
          0.26845676,
          0.317389,
          0.11951945,
          0.25567588,
          -0.02125651,
          0.06569172,
          -0.03718417,
          0.10356649,
          0.13294983,
          0.103808254,
          0.17094986,
          0.10678939,
          0.0877284,
          0.34744188,
          0.12487365,
          0.12540947,
          0.14841592,
          0.19947349,
          -0.021652512,
          -0.028990908,
          0.7214438,
          0.28608355,
          0.27195132,
          -0.015700402,
          0.067094274,
          0.03802964,
          0.11167944,
          0.3147304,
          0.36736768,
          0.25531736,
          0.33335432,
          0.33111104,
          0.26710516,
          0.4093463,
          0.32120642,
          0.18529163,
          0.050761867,
          0.14553197,
          0.36836785,
          0.34244257,
          0.34859747,
          -0.086887404,
          0.05818999,
          -0.09762323,
          0.24286675,
          0.29144245,
          0.22481316,
          0.11350564,
          0.40990147,
          0.12598747,
          0.18504184,
          0.21919698,
          0.1915864,
          0.13808681,
          0.257777,
          0.18324661,
          0.3148641,
          0.06645555,
          0.3542935,
          -0.06739914,
          0.09100828,
          -0.0002726844,
          0.037061393,
          0.239672,
          -0.016432662,
          0.091498256,
          0.44416544,
          0.11177464,
          0.40601513,
          0.21517171,
          0.26321092,
          0.47969103,
          0.3802804,
          0.08708236,
          0.42406887,
          0.16230129,
          0.28221503,
          0.19486204
         ],
         "xaxis": "x",
         "y": [
          -0.11720743,
          -0.12097533,
          -0.13472071,
          -0.12848422,
          -0.18324974,
          -0.13775656,
          -0.12688914,
          -0.1340249,
          -0.12558232,
          -0.115500204,
          -0.124997236,
          -0.12559418,
          -0.115120545,
          -0.11653296,
          -0.16021104,
          -0.12930329,
          -0.14383978,
          -0.13271365,
          -0.13747945,
          0.027361827,
          0.009559757,
          0.013886493,
          0.02437636,
          0.008742149,
          0.0346902,
          0.034937605,
          0.026335908,
          0.059096683,
          0.06626286,
          0.17873189,
          0.17340292,
          -0.11885081,
          -0.12238187,
          -0.1286467,
          -0.14503819,
          -0.17082822,
          -0.13952185,
          -0.14753099,
          0.012010806,
          0.015036925,
          0.017048435,
          0.0057284394,
          -0.005265311,
          0.006131642,
          0.0045274426,
          0.00962473,
          0.13119699,
          0.11954915,
          0.13472109,
          0.13376887,
          0.13813779,
          0.12764722,
          0.11835115,
          0.0064769094,
          0.03544054,
          0.031454124,
          0.039725266,
          -0.13646027,
          -0.14541838,
          -0.14558017,
          -0.13231924,
          -0.12361237,
          -0.11628366,
          -0.10819598,
          -0.10507468,
          -0.10308515,
          0.026306322,
          0.028979704,
          0.043766994,
          0.025088891,
          0.0131478,
          0.04032892,
          0.006184643,
          0.061372876,
          0.06328246,
          0.019149182,
          -0.1654463,
          -0.11816742,
          -0.120866805,
          -0.10654222,
          -0.11330732,
          -0.13597983,
          -0.11394244,
          -0.12055519,
          -0.12687948,
          -0.107874654,
          -0.11602426,
          -0.1278175,
          -0.14434832,
          -0.079934776,
          -0.09457833,
          -0.14845477,
          -0.09510266,
          -0.12870714,
          -0.12281829,
          0.22614205,
          0.22016005,
          0.22740611,
          0.21471784,
          0.065969005,
          0.064920224,
          0.057458688,
          0.06290858,
          0.06531969,
          0.047468826,
          0.048650704,
          0.0629824,
          0.06421182,
          0.059083607,
          -0.10229944,
          -0.12038398,
          0.12571938,
          -0.08078177,
          -0.11524255,
          0.05404261,
          0.057745855,
          0.056351677,
          0.05583914,
          0.06424277,
          0.060171437,
          0.046376016,
          0.023446657,
          0.052677076,
          0.056781065,
          0.059122372,
          0.062186945,
          0.05494715,
          0.026531508,
          0.036022104,
          0.0482158,
          -0.08425315,
          0.0071678758,
          0.051844206,
          -0.11357361,
          -0.11603926,
          -0.11821744,
          -0.10870916,
          -0.1193285,
          -0.10848022,
          -0.102222845,
          -0.09998854,
          -0.096983284,
          0.053523056,
          0.06440972,
          0.060821503,
          0.06704903,
          0.06539157,
          0.046331983,
          0.035495,
          0.123704866,
          0.10833417,
          0.12043721,
          -0.13849634,
          -0.12360657,
          -0.12030425,
          -0.135821,
          -0.12194543,
          -0.1226515,
          -0.13255349,
          0.38166994,
          0.35665026,
          0.36903885,
          0.37266687,
          0.3769231,
          0.34417507,
          0.34768975,
          -0.17807022,
          -0.12673499,
          -0.15454485,
          -0.14434633,
          -0.120501116,
          -0.15540978,
          -0.12030473,
          -0.11552209,
          -0.093821086,
          -0.094185494,
          -0.09083769,
          -0.10030577,
          -0.100142896,
          -0.07147556,
          -0.055698723,
          -0.07268151,
          -0.10428585,
          -0.20508116,
          -0.16457373,
          -0.12420627,
          -0.16560628,
          -0.12653248,
          -0.15858498,
          -0.14841928,
          -0.11646557,
          -0.120667756,
          0.16695434,
          0.1674193,
          0.1672589,
          0.16742945,
          0.15981361,
          0.16200848,
          0.16626942,
          0.16264677,
          0.16320421,
          0.14957671,
          0.16471612,
          0.16678606,
          0.16424157,
          -0.12865281,
          -0.19228727,
          -0.13020468,
          -0.15867756,
          -0.15081559,
          -0.14827122,
          -0.14060895,
          -0.13864519,
          -0.13016115,
          -0.17954679,
          -0.13898332,
          -0.09988492,
          -0.11134386,
          -0.09972438,
          -0.10927418,
          -0.10522876,
          -0.108100004,
          -0.10987344,
          -0.1183274,
          -0.13642944,
          0.22350173,
          -0.1046514,
          -0.108251356,
          -0.14615636,
          -0.14413911,
          -0.14570366,
          -0.1443282,
          -0.14450552,
          -0.15533844,
          -0.16945392,
          -0.15696977,
          -0.14994088,
          -0.15507042,
          -0.14808585,
          -0.16522342,
          -0.15064356,
          -0.14202063,
          -0.13882965,
          -0.15631703,
          -0.14212097,
          -0.13979027,
          -0.13723756,
          0.10630643,
          0.10426738,
          0.11337046,
          0.1104647,
          0.08620408,
          0.110490695,
          0.09250997,
          0.07000166,
          0.08201697,
          0.08809636,
          0.11018766,
          0.107528314,
          0.117288634,
          -0.1319823,
          -0.12828138,
          -0.1339656,
          -0.10080709,
          -0.14295188,
          -0.19176449,
          -0.09095862,
          -0.08620367,
          -0.09171433,
          -0.13151802,
          -0.09012868,
          -0.10138743,
          -0.09780494,
          -0.0892589,
          -0.092279516,
          -0.09526852,
          -0.089818686,
          -0.095102325,
          -0.09126396,
          -0.08524093,
          -0.11607292,
          -0.0862923,
          -0.1430733,
          -0.13318442,
          -0.12673606,
          -0.16306111,
          -0.16742794,
          -0.17771018,
          -0.16844104,
          -0.15360557,
          -0.12665743,
          -0.13154934,
          -0.14252652,
          -0.12829638,
          -0.12624037,
          -0.13338575,
          -0.1296013,
          -0.12820718,
          -0.12657674,
          -0.12595183,
          -0.12613891,
          0.18750834,
          0.21282953,
          0.23617494,
          -0.10098822,
          -0.10508374,
          -0.12877257,
          -0.10680312,
          -0.09644355,
          -0.09804978,
          -0.12441971,
          -0.11163477,
          -0.10977648,
          -0.12214824,
          -0.12208306,
          -0.122045375,
          -0.12227064,
          -0.12019768,
          -0.12996322,
          -0.11313923,
          0.20181412,
          -0.09786304,
          -0.12114157,
          -0.113462344,
          -0.14241716,
          0.15271837,
          0.1521938,
          0.1504638,
          0.15635079,
          0.1432757,
          0.1414883,
          0.1211962,
          0.11626459,
          -0.10373771,
          -0.11127384,
          -0.11198274,
          -0.1067258,
          -0.11500059,
          -0.10467409,
          -0.0769194,
          0.19482376,
          0.18188863,
          -0.14215313,
          -0.16561331,
          -0.15023822,
          -0.19239165,
          -0.17312084,
          -0.17575377,
          -0.14283241,
          -0.16141924,
          -0.1681529,
          -0.1186685,
          -0.11339195,
          -0.14657205,
          -0.13472803,
          -0.14470463,
          -0.12616608,
          -0.12869292,
          0.19927236,
          -0.12688462,
          -0.1465116,
          0.21793991,
          0.20818804,
          0.20812978,
          0.21115851,
          0.21469449,
          0.17861721,
          0.1768362,
          0.17302865,
          0.16253307,
          0.21354143,
          -0.20807207,
          -0.17954345,
          -0.17877667,
          -0.19922565,
          -0.16917887,
          -0.13561484,
          -0.12782384,
          -0.11186429,
          -0.11458527,
          0.11297875,
          0.106316045,
          0.10452308,
          0.075571366,
          0.058655843,
          0.066462524,
          0.07205344,
          0.07880803,
          0.07837007,
          0.14112264,
          0.141402,
          0.12186637,
          0.16546172,
          0.16826014,
          0.16103418,
          0.113868184,
          0.18330058,
          -0.10739571,
          0.036547,
          0.011325976,
          0.011779746,
          0.047693297,
          0.04755846,
          0.05939464,
          0.070941746,
          0.06770193,
          0.07006901,
          0.055132322,
          0.04772486,
          0.06510223,
          0.06101636,
          0.05719262,
          0.06868675,
          0.060465828,
          0.031826958,
          -0.10794009,
          0.14518423,
          0.15676318,
          -0.11720156,
          -0.12407767,
          -0.13234532,
          -0.10695817,
          -0.10538389,
          -0.1224096,
          -0.13264582,
          -0.15012969,
          -0.13513735,
          -0.12190064,
          -0.10505466,
          -0.1034308,
          -0.12805738,
          -0.10032049,
          -0.10561452,
          -0.11075809,
          0.14788279,
          -0.1404947,
          -0.11115047,
          0.16527835,
          0.17300218,
          0.16578904,
          0.1758397,
          0.1753524,
          0.18297842,
          0.17855665,
          0.18429838,
          0.18306144,
          0.18817349,
          0.1731277,
          0.18208638,
          0.18477212,
          -0.110456765,
          -0.12864883,
          -0.1491699,
          0.16070078,
          -0.12026395,
          -0.15304945,
          0.23147544,
          0.25307688,
          0.23719962,
          0.23367883,
          0.24183056,
          0.24395627,
          0.25282037,
          0.2414346,
          0.2450558,
          0.25079212,
          0.21079497,
          0.22176409,
          0.2462206,
          0.25672632,
          -0.081669524,
          0.09857171,
          -0.05187042,
          0.119075544,
          0.13575178,
          0.13741922,
          0.1367559,
          0.13785613,
          0.14053613,
          0.13525811,
          0.1297131,
          0.12665676,
          0.13745049,
          0.13450141,
          0.13278672,
          0.10771265,
          0.111467026,
          0.1317187,
          0.13621294,
          0.12450972,
          0.13173486,
          0.11960333,
          -0.06819356,
          -0.14395131,
          -0.14239927,
          -0.13980699,
          -0.132593,
          -0.1328622,
          0.31466296,
          0.23519659,
          0.24769811,
          0.23507336,
          0.17977512,
          0.22206497,
          0.2377389,
          0.23110823,
          0.23647422,
          0.24263233,
          0.23910867,
          -0.13027425,
          -0.08646767,
          -0.13978203,
          -0.13178562,
          -0.15335737,
          -0.20379475,
          -0.19699235,
          -0.19115388,
          -0.1821091,
          -0.16435416,
          -0.15170255,
          -0.1620474,
          -0.18236153,
          -0.15366484,
          -0.14610827,
          -0.16882277,
          -0.13809615,
          -0.1360899,
          -0.12497479,
          -0.13664417,
          -0.14109568,
          0.13774633,
          -0.12003684,
          -0.15205362,
          -0.113337986,
          -0.09873533,
          -0.12794374,
          -0.13391306,
          -0.13191293,
          -0.12383094,
          -0.123959005,
          -0.13720505,
          -0.12855884,
          -0.12914222,
          -0.1260877,
          -0.12606199,
          -0.12572668,
          0.41999894,
          -0.12327004,
          0.4382803,
          -0.09311386,
          -0.10179944,
          -0.02629267,
          0.012482468,
          0.016605947,
          0.033615083,
          0.035342216,
          0.034393486,
          0.028898006,
          0.001160489,
          0.020899476,
          0.021293115,
          -0.011056799,
          -0.035297394,
          -0.09235084,
          -0.09201191,
          -0.08958994,
          -0.11028498,
          -0.120472044,
          0.44325665,
          -0.10486934,
          0.36183453,
          0.34720764,
          0.36544788,
          0.34872139,
          0.3662166,
          0.3578548,
          0.33480108,
          0.34625596,
          0.34632608,
          0.3334972,
          0.3421427,
          -0.11739265,
          -0.11648861,
          -0.12952875,
          -0.11879098,
          0.3610961,
          0.43104208,
          0.3443252,
          0.36871797,
          -0.106412105,
          -0.1134984,
          -0.11158321,
          -0.119635805,
          -0.11368089,
          -0.10424361,
          -0.09835876,
          -0.10288138,
          0.34921974,
          0.35330072,
          0.34481582,
          0.34848508,
          0.3403196,
          0.34871423,
          0.3621699,
          0.3592819,
          0.16675328,
          -0.10417,
          -0.10926551,
          0.11877748,
          0.11232343,
          0.112659834,
          0.10271675,
          0.06394648,
          0.11127886,
          0.11167526,
          0.116873816,
          -0.12867999,
          -0.12786753,
          0.08910878,
          0.11016591,
          0.09643218,
          0.08778872,
          0.117312685,
          0.088219166,
          -0.123802446,
          -0.1343533,
          -0.15151809,
          -0.1484291,
          -0.14226717,
          -0.13208726,
          -0.11975044,
          -0.11944303,
          -0.10552619,
          -0.10795018,
          -0.12752508,
          -0.13737403,
          -0.114902206,
          -0.11794317,
          -0.13553584,
          0.11915113,
          0.124285996,
          0.12574379,
          -0.15171339,
          -0.13733572,
          -0.13150334,
          -0.12640755,
          -0.12363974,
          -0.1234898,
          -0.12710805,
          -0.12410087,
          -0.12819918,
          -0.11317398,
          -0.15997712,
          -0.16918367,
          -0.17352557,
          -0.17175359,
          -0.18258101,
          -0.16725835,
          -0.13573599,
          0.1238406,
          0.12704688,
          0.13065374,
          0.11328485,
          0.12815106,
          0.12364318,
          -0.11905198,
          0.11830809,
          -0.11401472,
          -0.14635304,
          -0.13951282,
          -0.15191165,
          -0.16369668,
          -0.15660417,
          0.09637373,
          -0.11752071,
          -0.15388262,
          -0.123463035,
          -0.12030913,
          -0.15365604,
          -0.16611023,
          -0.15126711,
          -0.15027641,
          -0.11423326,
          -0.1143123,
          -0.110185355,
          -0.11402211,
          -0.11048839,
          -0.11071921,
          -0.10894724,
          -0.120284066,
          -0.12229145,
          -0.12179405,
          -0.12384896,
          -0.12458969,
          -0.13113007,
          -0.13129018,
          -0.12951143,
          -0.12925819,
          -0.12797311,
          -0.121666625,
          -0.11113544,
          -0.18924764,
          -0.15428767,
          -0.14382415,
          -0.16292395,
          -0.15660675,
          -0.1643924,
          -0.12396509,
          -0.16991894,
          -0.13518542,
          -0.15824243,
          -0.13202213,
          -0.13349795,
          -0.1382562,
          -0.11746966,
          -0.1144437,
          -0.11474852,
          -0.11146642,
          -0.11351191,
          -0.10780899,
          -0.13981159,
          -0.13901833,
          -0.1333788,
          -0.1472819,
          -0.14763585,
          -0.13390808,
          -0.13795224,
          -0.12158741,
          -0.13285056,
          -0.117529586,
          -0.12471926,
          -0.11621011,
          -0.12785211,
          -0.13028343,
          -0.12787408,
          -0.13084686,
          -0.12811935,
          -0.12654322,
          -0.14802396,
          -0.12961565,
          -0.12965982,
          -0.13156386,
          -0.12820105,
          -0.11749482,
          -0.12392477,
          -0.17638911,
          -0.14998737,
          0.09877444,
          -0.103490226,
          -0.11034006,
          -0.10793156,
          -0.1140246,
          -0.13082169,
          -0.13517644,
          -0.12590763,
          -0.1323624,
          -0.13217795,
          -0.12688372,
          -0.13864838,
          -0.13135852,
          -0.14164895,
          -0.13052158,
          0.10923099,
          0.09079768,
          0.092942536,
          0.09243223,
          -0.09759801,
          -0.13113597,
          -0.0967102,
          0.10118265,
          0.097164564,
          0.10267494,
          0.111880675,
          -0.13869701,
          0.11084993,
          0.105966136,
          0.1031403,
          0.10542394,
          0.1098486,
          0.09994892,
          0.1061125,
          0.095224224,
          0.11577428,
          -0.1340969,
          -0.09921181,
          -0.11231676,
          -0.11692904,
          -0.12001716,
          -0.13677731,
          -0.115593135,
          -0.112355426,
          -0.16306436,
          -0.11403405,
          -0.15990764,
          -0.14412117,
          -0.14809403,
          -0.16600366,
          -0.157783,
          -0.11199153,
          -0.16140191,
          -0.13974722,
          -0.14966622,
          -0.120907895
         ],
         "yaxis": "y"
        },
        {
         "customdata": [
          [
           0.00015638175
          ],
          [
           0.0019233004
          ],
          [
           0.0019233004
          ],
          [
           0.0019233004
          ],
          [
           0.00015638175
          ],
          [
           0.0019233004
          ],
          [
           0.0019233004
          ],
          [
           0.0019233004
          ],
          [
           0.00015638175
          ],
          [
           0.0019233004
          ],
          [
           0.00015638175
          ],
          [
           0.0019233004
          ],
          [
           0.0019233004
          ],
          [
           0.00015638175
          ],
          [
           0.00015638175
          ],
          [
           0.0019233004
          ],
          [
           0.0019233004
          ],
          [
           0.00015638175
          ],
          [
           0.00015638175
          ],
          [
           -0.0000051388397
          ],
          [
           0.0019233004
          ],
          [
           0.00013272866
          ],
          [
           0.00013272866
          ],
          [
           -0.00008604935
          ],
          [
           -0.00008604935
          ],
          [
           -0.00008604935
          ],
          [
           -0.00008604935
          ],
          [
           -0.00008604935
          ],
          [
           -0.00008604935
          ],
          [
           -0.00008604935
          ],
          [
           -0.00008604935
          ],
          [
           -0.00008604935
          ],
          [
           -0.00008604935
          ],
          [
           0.00013272866
          ],
          [
           -0.000040784165
          ],
          [
           0.0019233004
          ],
          [
           0.0019233004
          ],
          [
           0.0019233004
          ],
          [
           0.0019233004
          ],
          [
           0.0019233004
          ],
          [
           0.0019233004
          ],
          [
           -0.00008604935
          ],
          [
           -0.00008604935
          ],
          [
           -0.0003384281
          ],
          [
           -0.00008604935
          ],
          [
           0.0019233004
          ],
          [
           0.0019233004
          ],
          [
           -0.0003384281
          ],
          [
           0.00015638175
          ],
          [
           -0.0003384281
          ],
          [
           -0.0000051388397
          ],
          [
           -0.0000051388397
          ],
          [
           -0.0000051388397
          ],
          [
           -0.0000051388397
          ],
          [
           -0.0000051388397
          ],
          [
           -0.0000051388397
          ],
          [
           -0.0000051388397
          ],
          [
           -0.0000051388397
          ],
          [
           -0.0000051388397
          ],
          [
           -0.0000051388397
          ],
          [
           -0.0000051388397
          ],
          [
           -0.0000051388397
          ],
          [
           -0.0000051388397
          ],
          [
           0.00015638175
          ],
          [
           0.00015638175
          ],
          [
           0.00015638175
          ],
          [
           0.00015638175
          ],
          [
           -0.0000051388397
          ],
          [
           -0.0000051388397
          ],
          [
           -0.0000051388397
          ],
          [
           -0.0003384281
          ],
          [
           -0.0003384281
          ],
          [
           -0.0003384281
          ],
          [
           -0.0003384281
          ],
          [
           -0.0000051388397
          ],
          [
           -0.0000051388397
          ],
          [
           0.00015638175
          ],
          [
           -0.0003384281
          ],
          [
           0.00015638175
          ],
          [
           -0.0000051388397
          ],
          [
           0.00015638175
          ],
          [
           0.00015638175
          ],
          [
           -0.0003384281
          ],
          [
           0.00015638175
          ],
          [
           0.00015638175
          ],
          [
           0.00015638175
          ],
          [
           0.00015638175
          ],
          [
           0.00015638175
          ],
          [
           -0.00008604935
          ],
          [
           -0.00008604935
          ],
          [
           0.00015638175
          ],
          [
           -0.0015613617
          ],
          [
           -0.0000051388397
          ],
          [
           -0.0003384281
          ],
          [
           -0.00008604935
          ],
          [
           -0.00008604935
          ],
          [
           -0.00008604935
          ],
          [
           -0.00008604935
          ],
          [
           -0.00008604935
          ],
          [
           -0.00008604935
          ],
          [
           0.00013272866
          ],
          [
           -0.00008604935
          ],
          [
           -0.0003384281
          ],
          [
           -0.0000051388397
          ],
          [
           -0.0003384281
          ],
          [
           -0.0000051388397
          ],
          [
           -0.00008604935
          ],
          [
           -0.00008604935
          ],
          [
           -4.5274422e-7
          ],
          [
           -4.5274422e-7
          ],
          [
           0.000015871143
          ],
          [
           0.000015871143
          ],
          [
           0.000015871143
          ],
          [
           0.0013994726
          ],
          [
           0.0013994726
          ],
          [
           0.0013994726
          ],
          [
           0.0013994726
          ],
          [
           0.0013994726
          ],
          [
           0.000015871143
          ],
          [
           0.0013994726
          ],
          [
           0.0013994726
          ],
          [
           0.0013994726
          ],
          [
           0.0013994726
          ],
          [
           0.0013994726
          ],
          [
           0.0013994726
          ],
          [
           0.0013994726
          ],
          [
           0.0013994726
          ],
          [
           0.0013994726
          ],
          [
           0.0013994726
          ],
          [
           0.000010628685
          ],
          [
           0.000010628685
          ],
          [
           0.000010628685
          ],
          [
           0.000010628685
          ],
          [
           0.000010628685
          ],
          [
           0.000010628685
          ],
          [
           0.000010628685
          ],
          [
           0.000010628685
          ],
          [
           0.000010628685
          ],
          [
           0.000010628685
          ],
          [
           0.000015871143
          ],
          [
           0.0013994726
          ],
          [
           0.0013994726
          ],
          [
           0.00013272866
          ],
          [
           0.000015871143
          ],
          [
           0.000015871143
          ],
          [
           0.000015871143
          ],
          [
           0.000051314608
          ],
          [
           0.00013272866
          ],
          [
           0.00013272866
          ],
          [
           0.00013272866
          ],
          [
           0.000051314608
          ],
          [
           0.00013272866
          ],
          [
           0.00013272866
          ],
          [
           0.00013272866
          ],
          [
           0.000051314608
          ],
          [
           0.000051314608
          ],
          [
           0.000051314608
          ],
          [
           0.000010628685
          ],
          [
           0.000051314608
          ],
          [
           0.000051314608
          ],
          [
           0.000051314608
          ],
          [
           0.000051314608
          ],
          [
           0.000051314608
          ],
          [
           0.000051314608
          ],
          [
           0.000051314608
          ],
          [
           0.000051314608
          ],
          [
           0.000015871143
          ],
          [
           0.000051314608
          ],
          [
           0.000051314608
          ],
          [
           0.00013272866
          ],
          [
           0.00013272866
          ],
          [
           0.00013272866
          ],
          [
           0.00013272866
          ],
          [
           0.000051314608
          ],
          [
           -4.5274422e-7
          ],
          [
           0.000010628685
          ],
          [
           0.000010628685
          ],
          [
           -4.5274422e-7
          ],
          [
           -4.5274422e-7
          ],
          [
           0.00013272866
          ],
          [
           0.00013272866
          ],
          [
           0.00013272866
          ],
          [
           0.00013272866
          ],
          [
           -0.000040784165
          ],
          [
           0.00013272866
          ],
          [
           0.00013272866
          ],
          [
           0.00013272866
          ],
          [
           -4.5274422e-7
          ],
          [
           -4.5274422e-7
          ],
          [
           -4.5274422e-7
          ],
          [
           -4.5274422e-7
          ],
          [
           -4.5274422e-7
          ],
          [
           -4.5274422e-7
          ],
          [
           -4.5274422e-7
          ],
          [
           -4.5274422e-7
          ],
          [
           -4.5274422e-7
          ],
          [
           -4.5274422e-7
          ],
          [
           -4.5274422e-7
          ],
          [
           -4.5274422e-7
          ],
          [
           -4.5274422e-7
          ],
          [
           -4.5274422e-7
          ],
          [
           -4.5274422e-7
          ],
          [
           -4.5274422e-7
          ],
          [
           -4.5274422e-7
          ],
          [
           -4.5274422e-7
          ],
          [
           -4.5274422e-7
          ],
          [
           0.0013994726
          ],
          [
           0.0013994726
          ],
          [
           0.0013994726
          ],
          [
           0.0013994726
          ],
          [
           0.000015871143
          ],
          [
           0.000010628685
          ],
          [
           0.000015871143
          ],
          [
           0.000015871143
          ],
          [
           0.000015871143
          ],
          [
           0.000015871143
          ],
          [
           0.000015871143
          ],
          [
           0.000015871143
          ],
          [
           0.000010628685
          ],
          [
           0.000010628685
          ],
          [
           0.000010628685
          ],
          [
           0.000010628685
          ],
          [
           0.000010628685
          ],
          [
           0.000010628685
          ],
          [
           0.000010628685
          ],
          [
           0.000015871143
          ],
          [
           0.000015871143
          ],
          [
           0.000015871143
          ],
          [
           0.000015871143
          ],
          [
           0.000015871143
          ],
          [
           0.000015871143
          ],
          [
           0.000015871143
          ],
          [
           -0.000040784165
          ],
          [
           0.00013272866
          ],
          [
           0.00013272866
          ],
          [
           0.000010628685
          ],
          [
           0.000010628685
          ],
          [
           0.0013994726
          ],
          [
           0.0013994726
          ],
          [
           0.0013994726
          ],
          [
           0.000015871143
          ],
          [
           0.000010628685
          ],
          [
           -0.0015613617
          ],
          [
           -0.0003384281
          ],
          [
           0.0000981868
          ],
          [
           0.0000981868
          ],
          [
           0.0000981868
          ],
          [
           0.0000981868
          ],
          [
           0.0000981868
          ],
          [
           0.0000981868
          ],
          [
           0.0000981868
          ],
          [
           0.0000981868
          ],
          [
           0.0000981868
          ],
          [
           0.0000981868
          ],
          [
           0.0000981868
          ],
          [
           0.0000981868
          ],
          [
           0.0000981868
          ],
          [
           0.0000981868
          ],
          [
           0.0000981868
          ],
          [
           0.0000981868
          ],
          [
           0.0000981868
          ],
          [
           0.0000981868
          ],
          [
           0.0000981868
          ],
          [
           0.00049330137
          ],
          [
           0.00049330137
          ],
          [
           0.00049330137
          ],
          [
           0.00049330137
          ],
          [
           0.00049330137
          ],
          [
           0.00049330137
          ],
          [
           0.00049330137
          ],
          [
           0.00049330137
          ],
          [
           0.0042873602
          ],
          [
           0.0042873602
          ],
          [
           -0.0004187568
          ],
          [
           0.0000981868
          ],
          [
           0.0000981868
          ],
          [
           0.0000981868
          ],
          [
           0.0000981868
          ],
          [
           0.0000981868
          ],
          [
           0.0017568755
          ],
          [
           0.0017568755
          ],
          [
           0.0017568755
          ],
          [
           0.000005723107
          ],
          [
           0.000005723107
          ],
          [
           0.000005723107
          ],
          [
           0.000005723107
          ],
          [
           0.000005723107
          ],
          [
           0.0017568755
          ],
          [
           0.0017568755
          ],
          [
           -0.00005395058
          ],
          [
           -0.00005395058
          ],
          [
           -0.00005395058
          ],
          [
           -0.00005395058
          ],
          [
           -0.00005395058
          ],
          [
           -0.00005395058
          ],
          [
           -0.00005395058
          ],
          [
           -0.00005395058
          ],
          [
           0.000005723107
          ],
          [
           0.000005723107
          ],
          [
           0.000005723107
          ],
          [
           0.000005723107
          ],
          [
           0.0017568755
          ],
          [
           0.000005723107
          ],
          [
           0.000005723107
          ],
          [
           0.000005723107
          ],
          [
           0.000005723107
          ],
          [
           0.000005723107
          ],
          [
           0.000005723107
          ],
          [
           0.0042873602
          ],
          [
           0.000005723107
          ],
          [
           0.000005723107
          ],
          [
           0.000005723107
          ],
          [
           0.000005723107
          ],
          [
           0.0017568755
          ],
          [
           0.000005723107
          ],
          [
           0.000005723107
          ],
          [
           0.000005723107
          ],
          [
           0.000005723107
          ],
          [
           -0.00005395058
          ],
          [
           0.0042873602
          ],
          [
           0.00049330137
          ],
          [
           0.0042873602
          ],
          [
           0.0000024250942
          ],
          [
           0.0000024250942
          ],
          [
           0.0000024250942
          ],
          [
           0.0000024250942
          ],
          [
           0.0000024250942
          ],
          [
           0.0000024250942
          ],
          [
           0.0000024250942
          ],
          [
           0.0000024250942
          ],
          [
           0.0000024250942
          ],
          [
           0.0042873602
          ],
          [
           0.0000024250942
          ],
          [
           0.0000024250942
          ],
          [
           0.0000024250942
          ],
          [
           0.0000024250942
          ],
          [
           0.0042873602
          ],
          [
           0.0000024250942
          ],
          [
           0.0042873602
          ],
          [
           0.0042873602
          ],
          [
           0.0042873602
          ],
          [
           0.00033838538
          ],
          [
           0.00033838538
          ],
          [
           0.00033838538
          ],
          [
           0.00033838538
          ],
          [
           0.00033838538
          ],
          [
           0.00033838538
          ],
          [
           0.0042873602
          ],
          [
           0.0042873602
          ],
          [
           0.0042873602
          ],
          [
           0.00033838538
          ],
          [
           0.0042873602
          ],
          [
           0.0042873602
          ],
          [
           0.0042873602
          ],
          [
           0.0042873602
          ],
          [
           0.0042873602
          ],
          [
           0.0000024250942
          ],
          [
           0.0000024250942
          ],
          [
           0.0000024250942
          ],
          [
           0.000035635258
          ],
          [
           0.000035635258
          ],
          [
           0.000035635258
          ],
          [
           0.000035635258
          ],
          [
           0.000035635258
          ],
          [
           0.000035635258
          ],
          [
           0.000035635258
          ],
          [
           0.000035635258
          ],
          [
           0.000035635258
          ],
          [
           0.000035635258
          ],
          [
           0.00049330137
          ],
          [
           0.00049330137
          ],
          [
           0.00049330137
          ],
          [
           0.00049330137
          ],
          [
           0.0042873602
          ],
          [
           0.000035635258
          ],
          [
           0.000035635258
          ],
          [
           0.000035635258
          ],
          [
           0.000035635258
          ],
          [
           0.0000024250942
          ],
          [
           0.0000024250942
          ],
          [
           0.0000024250942
          ],
          [
           0.0000024250942
          ],
          [
           0.0000024250942
          ],
          [
           0.0000024250942
          ],
          [
           0.000035635258
          ],
          [
           0.00049330137
          ],
          [
           0.000035635258
          ],
          [
           0.000035635258
          ],
          [
           0.000035635258
          ],
          [
           0.000035635258
          ],
          [
           0.000035635258
          ],
          [
           0.000035635258
          ],
          [
           0.000035635258
          ],
          [
           0.000035635258
          ],
          [
           0.000035635258
          ],
          [
           -0.00005395058
          ],
          [
           -0.00005395058
          ],
          [
           -0.00005395058
          ],
          [
           0.000067400695
          ],
          [
           0.000067400695
          ],
          [
           0.000067400695
          ],
          [
           0.000067400695
          ],
          [
           0.000067400695
          ],
          [
           0.000067400695
          ],
          [
           0.000067400695
          ],
          [
           0.000067400695
          ],
          [
           0.000067400695
          ],
          [
           0.000067400695
          ],
          [
           0.000067400695
          ],
          [
           0.000067400695
          ],
          [
           0.000067400695
          ],
          [
           0.000067400695
          ],
          [
           0.000067400695
          ],
          [
           0.000067400695
          ],
          [
           0.000067400695
          ],
          [
           0.000067400695
          ],
          [
           0.000067400695
          ],
          [
           -0.00007140639
          ],
          [
           -0.00007140639
          ],
          [
           0.0000890963
          ],
          [
           0.0000890963
          ],
          [
           -0.00007140639
          ],
          [
           0.0000890963
          ],
          [
           0.0000890963
          ],
          [
           0.0000890963
          ],
          [
           0.0000890963
          ],
          [
           0.0000890963
          ],
          [
           0.0000890963
          ],
          [
           0.0000890963
          ],
          [
           0.0000890963
          ],
          [
           0.000067400695
          ],
          [
           0.000067400695
          ],
          [
           0.000067400695
          ],
          [
           0.000067400695
          ],
          [
           0.0000890963
          ],
          [
           -0.0017759596
          ],
          [
           -0.00033053674
          ],
          [
           -0.00033053674
          ],
          [
           -0.00033053674
          ],
          [
           -0.00033053674
          ],
          [
           -0.00033053674
          ],
          [
           -0.0003384281
          ],
          [
           -0.0003384281
          ],
          [
           -0.0003384281
          ],
          [
           -0.0003384281
          ],
          [
           -0.0003384281
          ],
          [
           -0.0003384281
          ],
          [
           -0.0003384281
          ],
          [
           -0.0003384281
          ],
          [
           -0.0003384281
          ],
          [
           -0.0003384281
          ],
          [
           -0.00033053674
          ],
          [
           -0.00033053674
          ],
          [
           -0.00033053674
          ],
          [
           -0.00033053674
          ],
          [
           -0.0017759596
          ],
          [
           -0.0017759596
          ],
          [
           -0.0017759596
          ],
          [
           -0.0017759596
          ],
          [
           -0.0017759596
          ],
          [
           -0.0017759596
          ],
          [
           -0.0017759596
          ],
          [
           -0.00007140639
          ],
          [
           -0.0017759596
          ],
          [
           -0.0017759596
          ],
          [
           -0.0017759596
          ],
          [
           -0.00033053674
          ],
          [
           -0.00033053674
          ],
          [
           -0.00033053674
          ],
          [
           -0.00033053674
          ],
          [
           -0.00033053674
          ],
          [
           -0.0017759596
          ],
          [
           -0.00007140639
          ],
          [
           -0.00007140639
          ],
          [
           0.0000890963
          ],
          [
           -0.0001520705
          ],
          [
           0.0017568755
          ],
          [
           0.0017568755
          ],
          [
           0.0017568755
          ],
          [
           -0.0001520705
          ],
          [
           -0.0001520705
          ],
          [
           -0.0001520705
          ],
          [
           -0.0001520705
          ],
          [
           -0.0001520705
          ],
          [
           -0.0001520705
          ],
          [
           -0.0001520705
          ],
          [
           0.0017568755
          ],
          [
           0.0017568755
          ],
          [
           0.0017568755
          ],
          [
           0.0017568755
          ],
          [
           -0.0001520705
          ],
          [
           -0.0001520705
          ],
          [
           -0.0001520705
          ],
          [
           -0.0001520705
          ],
          [
           -0.00005395058
          ],
          [
           -0.00005395058
          ],
          [
           -0.00005395058
          ],
          [
           -0.00005395058
          ],
          [
           -0.00005395058
          ],
          [
           -0.00005395058
          ],
          [
           -0.00005395058
          ],
          [
           0.0017568755
          ],
          [
           -0.00005395058
          ],
          [
           -0.00005395058
          ],
          [
           -0.00005395058
          ],
          [
           -0.00005395058
          ],
          [
           -0.0001520705
          ],
          [
           -0.0001520705
          ],
          [
           -0.0001520705
          ],
          [
           -0.0001520705
          ],
          [
           -0.00005395058
          ],
          [
           -0.0003384281
          ],
          [
           0.0017568755
          ],
          [
           0.0017568755
          ],
          [
           0.0004867659
          ],
          [
           0.0004867659
          ],
          [
           0.0004867659
          ],
          [
           0.0004867659
          ],
          [
           0.0000890963
          ],
          [
           0.0000890963
          ],
          [
           0.0000890963
          ],
          [
           0.0000890963
          ],
          [
           0.0000890963
          ],
          [
           0.0000890963
          ],
          [
           0.0000890963
          ],
          [
           0.0000890963
          ],
          [
           0.0000890963
          ],
          [
           0.0000890963
          ],
          [
           0.0000890963
          ],
          [
           0.0004867659
          ],
          [
           0.0004867659
          ],
          [
           0.0004867659
          ],
          [
           0.0004867659
          ],
          [
           0.0017568755
          ],
          [
           0.0017568755
          ],
          [
           0.0017568755
          ],
          [
           0.0017568755
          ],
          [
           0.0017568755
          ],
          [
           0.0004867659
          ],
          [
           0.0004867659
          ],
          [
           0.0017568755
          ],
          [
           0.0004867659
          ],
          [
           0.0004867659
          ],
          [
           0.0004867659
          ],
          [
           0.0004867659
          ],
          [
           0.0004867659
          ],
          [
           0.0004867659
          ],
          [
           0.0004867659
          ],
          [
           0.0004867659
          ],
          [
           0.0004867659
          ],
          [
           0.000067400695
          ],
          [
           0.00015638175
          ],
          [
           0.00025736948
          ],
          [
           0.000091974165
          ],
          [
           -0.00019869533
          ],
          [
           -0.00019869533
          ],
          [
           -0.00019869533
          ],
          [
           -0.00019869533
          ],
          [
           -0.00019869533
          ],
          [
           -0.00019869533
          ],
          [
           0.000091974165
          ],
          [
           0.000091974165
          ],
          [
           0.000091974165
          ],
          [
           0.000091974165
          ],
          [
           0.000091974165
          ],
          [
           0.000091974165
          ],
          [
           0.000091974165
          ],
          [
           0.000091974165
          ],
          [
           0.000091974165
          ],
          [
           0.000091974165
          ],
          [
           0.000091974165
          ],
          [
           0.000091974165
          ],
          [
           0.000091974165
          ],
          [
           0.000091974165
          ],
          [
           0.000091974165
          ],
          [
           0.000091974165
          ],
          [
           -0.00019869533
          ],
          [
           -0.00006962558
          ],
          [
           -0.00019869533
          ],
          [
           0.000091974165
          ],
          [
           0.000091974165
          ],
          [
           0.000091974165
          ],
          [
           -0.0017282191
          ],
          [
           -0.0017282191
          ],
          [
           -0.0017282191
          ],
          [
           -0.0017282191
          ],
          [
           -0.0017282191
          ],
          [
           -0.0017282191
          ],
          [
           -0.00006962558
          ],
          [
           -0.00006962558
          ],
          [
           -0.00006962558
          ],
          [
           -0.00006962558
          ],
          [
           -0.00006962558
          ],
          [
           -0.00006962558
          ],
          [
           -0.00019869533
          ],
          [
           -0.00006962558
          ],
          [
           -0.00019869533
          ],
          [
           -0.00019869533
          ],
          [
           -0.00019869533
          ],
          [
           -0.00019869533
          ],
          [
           -0.00019869533
          ],
          [
           -0.00019869533
          ],
          [
           -0.00019869533
          ],
          [
           -0.00006962558
          ],
          [
           0.000091974165
          ],
          [
           0.000091974165
          ],
          [
           0.000091974165
          ],
          [
           0.000091974165
          ],
          [
           -0.00019869533
          ],
          [
           -0.00061853655
          ],
          [
           -0.00019869533
          ],
          [
           -0.00019869533
          ],
          [
           0.00039675587
          ],
          [
           0.00039675587
          ],
          [
           0.00039675587
          ],
          [
           0.00039675587
          ],
          [
           0.00039675587
          ],
          [
           0.00039675587
          ],
          [
           0.0000053437548
          ],
          [
           0.0000053437548
          ],
          [
           0.0000053437548
          ],
          [
           0.0000053437548
          ],
          [
           0.0000053437548
          ],
          [
           0.0000053437548
          ],
          [
           0.0000053437548
          ],
          [
           0.0000053437548
          ],
          [
           0.0000053437548
          ],
          [
           0.0000053437548
          ],
          [
           0.0000053437548
          ],
          [
           0.0000053437548
          ],
          [
           0.0000053437548
          ],
          [
           0.0000053437548
          ],
          [
           0.0000053437548
          ],
          [
           0.0000053437548
          ],
          [
           0.0000053437548
          ],
          [
           0.0000053437548
          ],
          [
           0.0000053437548
          ],
          [
           0.00039675587
          ],
          [
           0.00039675587
          ],
          [
           0.00039675587
          ],
          [
           0.00039675587
          ],
          [
           -0.00019869533
          ],
          [
           -0.00006962558
          ],
          [
           -0.00006962558
          ],
          [
           -0.0012744891
          ],
          [
           -0.00006962558
          ],
          [
           -0.00006962558
          ],
          [
           -0.00006962558
          ],
          [
           -0.00006962558
          ],
          [
           -0.00006962558
          ],
          [
           -0.0012744891
          ],
          [
           -0.00006962558
          ],
          [
           -0.00042449136
          ],
          [
           -0.00019869533
          ],
          [
           -0.0012744891
          ],
          [
           -0.0012744891
          ],
          [
           -0.0027075566
          ],
          [
           -0.0027075566
          ],
          [
           -0.0027075566
          ],
          [
           -0.0027075566
          ],
          [
           -0.0027075566
          ],
          [
           -0.0027075566
          ],
          [
           -0.00006962558
          ],
          [
           0.00039675587
          ],
          [
           0.00039675587
          ],
          [
           0.00039675587
          ],
          [
           0.00039675587
          ],
          [
           -0.0012744891
          ],
          [
           0.0000053437548
          ],
          [
           -0.00061853655
          ],
          [
           -0.00061853655
          ],
          [
           -0.00030398727
          ],
          [
           -0.00030398727
          ],
          [
           -0.00030398727
          ],
          [
           -0.00030398727
          ],
          [
           -0.00030398727
          ],
          [
           -0.00030398727
          ],
          [
           -0.00030398727
          ],
          [
           -0.00030398727
          ],
          [
           -0.00030398727
          ],
          [
           -0.00030398727
          ],
          [
           -0.00030398727
          ],
          [
           -0.00030398727
          ],
          [
           -0.00030398727
          ],
          [
           -0.00030398727
          ],
          [
           -0.00030398727
          ],
          [
           -0.00030398727
          ],
          [
           -0.00030398727
          ],
          [
           -0.00030398727
          ],
          [
           -0.00030398727
          ],
          [
           -0.00030398727
          ],
          [
           0.0009986815
          ],
          [
           0.0009986815
          ],
          [
           0.0009986815
          ],
          [
           0.0009986815
          ],
          [
           0.0009986815
          ],
          [
           -0.00030398727
          ],
          [
           -0.00030398727
          ],
          [
           -0.00030398727
          ],
          [
           -0.00030398727
          ],
          [
           0.00025736948
          ],
          [
           0.00025736948
          ],
          [
           0.00025736948
          ],
          [
           0.00025736948
          ],
          [
           0.00025736948
          ],
          [
           -0.00012825345
          ],
          [
           -0.00012825345
          ],
          [
           -0.00012825345
          ],
          [
           -0.00012825345
          ],
          [
           -0.00012825345
          ],
          [
           -0.00012825345
          ],
          [
           -0.00012825345
          ],
          [
           0.0009986815
          ],
          [
           -0.00012825345
          ],
          [
           -0.00012825345
          ],
          [
           -0.00012825345
          ],
          [
           -0.00012825345
          ],
          [
           -0.00012825345
          ],
          [
           -0.00012825345
          ],
          [
           -0.00012825345
          ],
          [
           -0.00012825345
          ],
          [
           -0.00012825345
          ],
          [
           0.00023565622
          ],
          [
           0.00023565622
          ],
          [
           0.00023565622
          ],
          [
           0.00023565622
          ],
          [
           -0.00012825345
          ],
          [
           -0.00061853655
          ],
          [
           0.0009986815
          ],
          [
           0.0009986815
          ],
          [
           -0.00012825345
          ],
          [
           -0.00012825345
          ],
          [
           -0.00012825345
          ],
          [
           -0.00012825345
          ],
          [
           -0.00004161903
          ],
          [
           -0.00004161903
          ],
          [
           -0.00004161903
          ],
          [
           -0.00004161903
          ],
          [
           -0.00004161903
          ],
          [
           -0.00004161903
          ],
          [
           -0.00004161903
          ],
          [
           -0.00004161903
          ],
          [
           -0.00004161903
          ],
          [
           -0.00004161903
          ],
          [
           -0.00019869533
          ],
          [
           -0.00019869533
          ],
          [
           -0.0017282191
          ],
          [
           -0.00019869533
          ],
          [
           0.00008135765
          ],
          [
           0.00008135765
          ],
          [
           -0.0017282191
          ],
          [
           -0.0017282191
          ],
          [
           -0.00061853655
          ],
          [
           -0.0017282191
          ],
          [
           -0.00061853655
          ],
          [
           -0.00012825345
          ],
          [
           -0.00012825345
          ],
          [
           -0.0017282191
          ],
          [
           -0.0017282191
          ],
          [
           0.0009986815
          ],
          [
           0.0009986815
          ],
          [
           0.0009986815
          ],
          [
           0.0009986815
          ],
          [
           0.0009986815
          ],
          [
           0.0009986815
          ],
          [
           0.0009986815
          ],
          [
           0.0009986815
          ],
          [
           0.0009986815
          ],
          [
           0.0009986815
          ],
          [
           0.0009986815
          ],
          [
           0.0009986815
          ],
          [
           0.0009986815
          ],
          [
           0.0009986815
          ],
          [
           -0.0017282191
          ],
          [
           -0.0017282191
          ],
          [
           -0.0017282191
          ],
          [
           -0.0017282191
          ],
          [
           -0.0017282191
          ],
          [
           -0.0017282191
          ],
          [
           -0.0017282191
          ],
          [
           -0.0017282191
          ],
          [
           -0.0017282191
          ],
          [
           -0.0017282191
          ],
          [
           -0.0017282191
          ],
          [
           -0.00012825345
          ],
          [
           0.00008135765
          ],
          [
           0.0000053437548
          ],
          [
           0.0000053437548
          ],
          [
           0.0000053437548
          ],
          [
           -0.00086011784
          ],
          [
           -0.00086011784
          ],
          [
           -0.00086011784
          ],
          [
           0.0000053437548
          ],
          [
           -0.00086011784
          ],
          [
           -0.00086011784
          ],
          [
           -0.00086011784
          ],
          [
           -0.00086011784
          ],
          [
           -0.00086011784
          ],
          [
           -0.00086011784
          ],
          [
           -0.00086011784
          ],
          [
           -0.0032053401
          ],
          [
           -0.0032053401
          ],
          [
           -0.00057804206
          ],
          [
           -0.00057804206
          ],
          [
           -0.00057804206
          ],
          [
           -0.00057804206
          ],
          [
           -0.00057804206
          ],
          [
           -0.00057804206
          ],
          [
           -0.00057804206
          ],
          [
           -0.0032053401
          ],
          [
           -0.00086011784
          ],
          [
           -0.00086011784
          ],
          [
           -0.00086011784
          ],
          [
           -0.0032053401
          ],
          [
           -0.0030447384
          ],
          [
           -0.0030447384
          ],
          [
           -0.0030447384
          ],
          [
           -0.0030447384
          ],
          [
           -0.0030447384
          ],
          [
           -0.0030447384
          ],
          [
           -0.0030447384
          ],
          [
           -0.0030447384
          ],
          [
           -0.0030447384
          ],
          [
           -0.0030447384
          ],
          [
           -0.00086011784
          ],
          [
           -0.00086011784
          ],
          [
           -0.00086011784
          ],
          [
           -0.00086011784
          ],
          [
           -0.00086011784
          ],
          [
           -0.00086011784
          ],
          [
           -0.00086011784
          ],
          [
           -0.00086011784
          ],
          [
           -0.00086011784
          ],
          [
           -0.00086011784
          ],
          [
           -0.00057804206
          ],
          [
           -0.00057804206
          ],
          [
           -0.00057804206
          ],
          [
           -0.00057804206
          ],
          [
           -0.0015613617
          ],
          [
           0.005155664
          ],
          [
           -0.0015613617
          ],
          [
           -0.0015613617
          ],
          [
           0.005155664
          ],
          [
           -0.0015613617
          ],
          [
           -0.0015613617
          ],
          [
           -0.0015613617
          ],
          [
           -0.0015613617
          ],
          [
           -0.0015613617
          ],
          [
           -0.0015613617
          ],
          [
           -0.0015613617
          ],
          [
           -0.0015613617
          ],
          [
           -0.0015613617
          ],
          [
           -0.0015613617
          ],
          [
           -0.0015613617
          ],
          [
           -0.0015613617
          ],
          [
           -0.0015613617
          ],
          [
           -0.0015613617
          ],
          [
           -0.0015613617
          ],
          [
           -0.0015613617
          ],
          [
           -0.0015613617
          ],
          [
           -0.0030447384
          ],
          [
           -0.0015613617
          ],
          [
           0.005155664
          ],
          [
           -0.00057804206
          ],
          [
           -0.00057804206
          ],
          [
           -0.00057804206
          ],
          [
           -0.00057804206
          ],
          [
           -0.00057804206
          ],
          [
           -0.00057804206
          ],
          [
           -0.00057804206
          ],
          [
           -0.00057804206
          ],
          [
           -0.00057804206
          ],
          [
           -0.00057804206
          ],
          [
           -0.00057804206
          ],
          [
           -0.00057804206
          ],
          [
           -0.00057804206
          ],
          [
           0.005155664
          ],
          [
           0.005155664
          ],
          [
           0.005155664
          ],
          [
           0.005155664
          ],
          [
           -0.0032053401
          ],
          [
           -0.0032053401
          ],
          [
           0.005155664
          ],
          [
           -0.0015613617
          ],
          [
           0.005155664
          ],
          [
           -0.0030447384
          ],
          [
           -0.00086011784
          ],
          [
           0.000182543
          ],
          [
           0.000182543
          ],
          [
           0.00039675587
          ],
          [
           0.00039675587
          ],
          [
           0.00039675587
          ],
          [
           -0.0027075566
          ],
          [
           -0.0027075566
          ],
          [
           -0.0027075566
          ],
          [
           -0.0027075566
          ],
          [
           -0.001160805
          ],
          [
           -0.001160805
          ],
          [
           -0.001160805
          ],
          [
           -0.001160805
          ],
          [
           -0.0027075566
          ],
          [
           -0.001160805
          ],
          [
           -0.001160805
          ],
          [
           -0.001160805
          ],
          [
           -0.001160805
          ],
          [
           0.00039675587
          ],
          [
           -0.001160805
          ],
          [
           0.00039675587
          ],
          [
           0.000182543
          ],
          [
           -0.00006962558
          ],
          [
           0.000021957709
          ],
          [
           -0.00006962558
          ],
          [
           -0.00006962558
          ],
          [
           -0.00006962558
          ],
          [
           -0.00006962558
          ],
          [
           -0.00006962558
          ],
          [
           0.000182543
          ],
          [
           0.000182543
          ],
          [
           0.002127288
          ],
          [
           0.002127288
          ],
          [
           0.002127288
          ],
          [
           0.002127288
          ],
          [
           0.002127288
          ],
          [
           0.002127288
          ],
          [
           0.000182543
          ],
          [
           0.000182543
          ],
          [
           0.00039675587
          ],
          [
           0.000182543
          ],
          [
           -0.001160805
          ],
          [
           -0.000047034253
          ],
          [
           0.000182543
          ],
          [
           -0.000047034253
          ],
          [
           -0.000047034253
          ],
          [
           -0.000047034253
          ],
          [
           -0.000047034253
          ],
          [
           -0.000047034253
          ],
          [
           -0.000047034253
          ],
          [
           -0.000047034253
          ],
          [
           -0.000047034253
          ],
          [
           0.000182543
          ],
          [
           -0.000047034253
          ],
          [
           -0.000047034253
          ],
          [
           -0.000047034253
          ],
          [
           -0.000047034253
          ],
          [
           -0.000047034253
          ],
          [
           -0.000047034253
          ],
          [
           -0.000047034253
          ],
          [
           -0.000047034253
          ],
          [
           -0.000047034253
          ],
          [
           -0.000047034253
          ],
          [
           -0.000047034253
          ],
          [
           0.000182543
          ],
          [
           0.000182543
          ],
          [
           0.000182543
          ],
          [
           -0.000047034253
          ],
          [
           0.000182543
          ],
          [
           -0.000047034253
          ],
          [
           -0.000047034253
          ],
          [
           -0.000047034253
          ]
         ],
         "hovertemplate": "Cluster=Cluster 1<br>PCA1=%{x}<br>PCA2=%{y}<br>Feature=%{customdata[0]}<extra></extra>",
         "legendgroup": "Cluster 1",
         "marker": {
          "color": "#EF553B",
          "opacity": 0.5,
          "symbol": "circle"
         },
         "mode": "markers",
         "name": "Cluster 1",
         "showlegend": true,
         "textposition": "top center",
         "type": "scattergl",
         "x": [
          -0.1786258,
          0.022942886,
          -0.011820611,
          -0.03354299,
          -0.21641825,
          -0.07442264,
          -0.12162301,
          -0.04236533,
          -0.19749582,
          -0.066971585,
          -0.21312444,
          0.049019955,
          -0.15617803,
          -0.19944939,
          -0.20576234,
          -0.05705629,
          -0.027197352,
          -0.21106735,
          -0.21683095,
          -0.22171667,
          -0.06708476,
          -0.2019135,
          -0.19030206,
          -0.15110981,
          -0.18540329,
          -0.16644157,
          -0.18202457,
          -0.18656658,
          -0.1894482,
          -0.19256838,
          -0.18951404,
          -0.19179894,
          -0.18748339,
          -0.1988244,
          -0.10161437,
          -0.06790727,
          -0.039080136,
          -0.1327974,
          -0.13922559,
          -0.10843081,
          -0.13262881,
          -0.20154738,
          -0.19836639,
          -0.16774164,
          -0.19692458,
          -0.118707284,
          -0.09623245,
          -0.1706071,
          -0.22047059,
          -0.11778329,
          -0.22044744,
          -0.19392513,
          -0.2147663,
          -0.21911566,
          -0.22113329,
          -0.21911749,
          -0.21668486,
          -0.21945575,
          -0.21922836,
          -0.22098878,
          -0.22146553,
          -0.22201106,
          -0.2206074,
          -0.19149336,
          -0.18067129,
          -0.17971314,
          -0.19889924,
          -0.22201045,
          -0.22205752,
          -0.22167361,
          -0.17072965,
          -0.14035992,
          -0.16218859,
          -0.14107329,
          -0.22205755,
          -0.22181466,
          -0.15514453,
          -0.15871617,
          -0.19860335,
          -0.22131589,
          -0.22298117,
          -0.22011864,
          -0.17142087,
          -0.21553075,
          -0.21048112,
          -0.20845814,
          -0.20080616,
          -0.19745573,
          -0.1949023,
          -0.20395166,
          -0.17553288,
          -0.04762682,
          -0.2204797,
          -0.16369046,
          -0.20931385,
          -0.18937951,
          -0.19356933,
          -0.20359677,
          -0.20456235,
          -0.20528997,
          -0.17978318,
          -0.20934387,
          -0.17057177,
          -0.2218265,
          -0.19257224,
          -0.22105674,
          -0.20240973,
          -0.19361489,
          -0.14409041,
          -0.2019335,
          -0.14752452,
          -0.094947204,
          -0.104477055,
          -0.20924889,
          -0.20749313,
          -0.20882711,
          -0.20760329,
          -0.20925808,
          -0.14700581,
          -0.20755118,
          -0.20761766,
          -0.12940684,
          -0.20925376,
          -0.20666263,
          -0.2055785,
          -0.20064706,
          -0.19428483,
          -0.19980578,
          -0.19722156,
          -0.14441311,
          -0.13741629,
          -0.16510803,
          -0.11237655,
          -0.13525297,
          -0.07190691,
          -0.07526588,
          -0.121644765,
          -0.07403049,
          -0.115831666,
          -0.1285579,
          -0.2098258,
          -0.20890616,
          -0.21070753,
          -0.07344139,
          -0.1503904,
          -0.121203154,
          -0.028948925,
          -0.20916615,
          -0.19924767,
          -0.215918,
          -0.024451101,
          -0.21224695,
          -0.21470796,
          -0.21575928,
          -0.093324035,
          -0.07029556,
          -0.06777435,
          -0.10394511,
          -0.07898644,
          -0.091274574,
          -0.055208694,
          -0.09826088,
          -0.0895981,
          -0.03931763,
          -0.07995783,
          -0.012011487,
          -0.0936675,
          -0.044451814,
          -0.06576797,
          -0.21587431,
          -0.21451217,
          -0.21249805,
          -0.21310362,
          -0.08809547,
          -0.20245716,
          -0.05169866,
          -0.117020525,
          -0.18974216,
          -0.19800209,
          -0.2037164,
          -0.18910372,
          -0.18047827,
          -0.1961316,
          -0.043604963,
          -0.20746076,
          -0.12433,
          -0.21021318,
          -0.20022309,
          -0.1953028,
          -0.19472718,
          -0.19639826,
          -0.19168222,
          -0.19582953,
          -0.19456461,
          -0.20021717,
          -0.20150699,
          -0.20226,
          -0.20147535,
          -0.20198452,
          -0.20230217,
          -0.19967364,
          -0.199548,
          -0.18182601,
          -0.17632283,
          -0.20188057,
          -0.20124176,
          -0.15842836,
          -0.2018564,
          -0.20101342,
          -0.20134032,
          -0.13363695,
          -0.13535616,
          -0.12907815,
          -0.10981975,
          -0.051924214,
          -0.10431748,
          -0.11752352,
          -0.12785779,
          -0.1434919,
          -0.16811788,
          -0.13355267,
          -0.1769348,
          -0.17586745,
          -0.17244013,
          -0.049746703,
          -0.08309394,
          -0.103444025,
          -0.07460891,
          -0.13503444,
          -0.13505858,
          -0.09487762,
          -0.17533632,
          -0.12527879,
          -0.18494791,
          -0.19111538,
          -0.18442994,
          -0.18289979,
          -0.19695428,
          -0.19939607,
          -0.20140798,
          -0.061322883,
          -0.14529856,
          -0.15422297,
          -0.14557919,
          -0.22348695,
          -0.22210684,
          -0.21948369,
          -0.21875691,
          -0.22116327,
          -0.22216913,
          -0.22194722,
          -0.22003353,
          -0.2209526,
          -0.2197944,
          -0.22099105,
          -0.22260301,
          -0.22023048,
          -0.22325687,
          -0.2223392,
          -0.22340788,
          -0.22342618,
          -0.22312096,
          -0.22214608,
          -0.025498908,
          -0.068939865,
          -0.10701558,
          -0.08816531,
          -0.10219988,
          -0.07799307,
          -0.121445,
          -0.13245335,
          -0.10252106,
          -0.068377286,
          -0.045021053,
          -0.225672,
          -0.22276643,
          -0.22202693,
          -0.2186364,
          -0.124119096,
          -0.1829706,
          -0.0015413895,
          -0.15337467,
          -0.21591139,
          -0.21359678,
          -0.21369034,
          -0.21328315,
          -0.21371101,
          -0.13737136,
          -0.1271647,
          -0.18889779,
          -0.19299456,
          -0.19273692,
          -0.19988069,
          -0.19362278,
          -0.012994306,
          -0.16454755,
          -0.19710736,
          -0.21552296,
          -0.21245117,
          -0.2093761,
          -0.20946422,
          -0.15546748,
          -0.20392978,
          -0.19502342,
          -0.1941346,
          -0.19945209,
          -0.19819142,
          -0.20237723,
          -0.08895035,
          -0.20781659,
          -0.20811138,
          -0.20524234,
          -0.115828305,
          -0.120383926,
          -0.21460892,
          -0.21344058,
          -0.20807798,
          -0.21336983,
          -0.19654572,
          -0.12936284,
          -0.062532365,
          -0.07193228,
          -0.1703218,
          -0.15454987,
          -0.12861542,
          -0.12317823,
          -0.18546326,
          -0.19396628,
          -0.21398473,
          -0.21251407,
          -0.0069498075,
          -0.08848729,
          -0.040955346,
          -0.027834073,
          -0.10643584,
          -0.13451278,
          -0.06641978,
          -0.21319906,
          -0.0771089,
          -0.11635551,
          -0.103777185,
          -0.040825535,
          -0.11747917,
          -0.07826753,
          -0.09818329,
          -0.019692134,
          -0.080739014,
          -0.09669617,
          -0.10768379,
          -0.12548509,
          0.012928631,
          -0.11035341,
          -0.11086157,
          -0.10037311,
          -0.1274843,
          -0.07627434,
          -0.2137813,
          -0.21742712,
          -0.21875776,
          -0.21306993,
          -0.2172382,
          -0.21424232,
          -0.2051437,
          -0.20659582,
          -0.1957724,
          -0.19237995,
          -0.18368447,
          -0.18847908,
          -0.19016322,
          -0.07927626,
          -0.04060817,
          -0.03051027,
          -0.04693752,
          -0.11915428,
          -0.20786965,
          -0.21113822,
          -0.20916303,
          -0.20861766,
          -0.21542065,
          -0.21511604,
          -0.2088008,
          -0.21508437,
          -0.20469804,
          -0.22004542,
          -0.1594436,
          -0.051310413,
          -0.20759885,
          -0.21587904,
          -0.21383622,
          -0.21717234,
          -0.21215354,
          -0.21360934,
          -0.20401028,
          -0.20984362,
          -0.21402106,
          -0.1963879,
          -0.19350587,
          -0.19796802,
          -0.2120183,
          -0.21481991,
          -0.21265438,
          -0.21551839,
          -0.14100415,
          -0.21697672,
          -0.2173494,
          -0.21610343,
          -0.21768285,
          -0.2175448,
          -0.2156869,
          -0.20987952,
          -0.2093008,
          -0.19525337,
          -0.19928974,
          -0.2041916,
          -0.1948427,
          -0.20105824,
          -0.17327033,
          -0.107501976,
          -0.12893003,
          -0.21559086,
          -0.21485,
          -0.14488731,
          -0.19185649,
          -0.21552674,
          -0.21499388,
          -0.2140468,
          -0.039840244,
          -0.18694578,
          -0.20753823,
          -0.17042024,
          -0.15756725,
          -0.18578973,
          -0.19494201,
          -0.19841161,
          -0.21179074,
          -0.030512698,
          -0.09989254,
          -0.047829513,
          -0.04693803,
          -0.04596327,
          -0.077453926,
          -0.13846512,
          -0.16970526,
          -0.16142073,
          -0.16251387,
          -0.19105516,
          -0.19308709,
          -0.1811668,
          -0.15332323,
          -0.13776436,
          -0.12955576,
          -0.14664385,
          -0.14377688,
          -0.06677006,
          -0.044494443,
          -0.09353387,
          -0.1344215,
          -0.08711853,
          -0.115534544,
          -0.069821544,
          -0.11616964,
          -0.13234143,
          -0.15301336,
          -0.09937507,
          -0.04998078,
          -0.070146315,
          -0.10045238,
          -0.07183534,
          -0.10208823,
          -0.11707438,
          -0.066337526,
          -0.11558623,
          -0.09046043,
          -0.07208788,
          -0.21104763,
          -0.07972897,
          -0.08992837,
          -0.022499314,
          -0.035381805,
          -0.021535428,
          -0.071249165,
          -0.1398485,
          -0.08706472,
          -0.11351985,
          -0.08751664,
          -0.046835683,
          -0.041438207,
          -0.112419866,
          -0.0798131,
          -0.08173007,
          -0.13882676,
          -0.1365866,
          -0.1474855,
          -0.118018515,
          -0.19888365,
          -0.19748297,
          -0.1983825,
          -0.19920994,
          -0.19978832,
          -0.19762252,
          -0.19556822,
          -0.056192096,
          -0.19732438,
          -0.1945692,
          -0.19552891,
          -0.19545393,
          -0.1057763,
          -0.077338316,
          -0.09485245,
          -0.113492794,
          -0.19508584,
          -0.14207332,
          -0.06732188,
          -0.09961616,
          -0.121093296,
          -0.06518364,
          -0.036032453,
          -0.09986975,
          -0.21156952,
          -0.21007912,
          -0.2099482,
          -0.21301457,
          -0.21118344,
          -0.21148884,
          -0.20627914,
          -0.21227698,
          -0.20825925,
          -0.21197009,
          -0.21394306,
          -0.06709511,
          -0.069653876,
          -0.13467866,
          -0.09782882,
          -0.0055644684,
          -0.039383367,
          -0.05747927,
          0.005048923,
          -0.010731969,
          -0.15929982,
          -0.15134172,
          -0.12591006,
          -0.1916058,
          -0.16900074,
          -0.19365743,
          -0.20086676,
          -0.17777637,
          -0.11769305,
          -0.097266294,
          -0.14505722,
          -0.17483744,
          -0.20423988,
          -0.1669995,
          -0.017842663,
          -0.16605009,
          -0.117968194,
          -0.13043645,
          -0.116443016,
          -0.13376209,
          -0.13566594,
          -0.14135087,
          -0.14819434,
          -0.14611661,
          -0.17437655,
          -0.17738533,
          -0.1657382,
          -0.1530445,
          -0.14166729,
          -0.10524841,
          -0.13491666,
          -0.13775942,
          -0.103220984,
          -0.15727581,
          -0.15038396,
          -0.15741204,
          -0.16708633,
          -0.09160871,
          -0.16734631,
          -0.2039054,
          -0.078169495,
          -0.19322914,
          -0.19075833,
          -0.18399882,
          -0.1693796,
          -0.18156567,
          -0.14876692,
          -0.13744746,
          -0.1317108,
          -0.1149704,
          -0.20565823,
          -0.2066068,
          -0.20671184,
          -0.20561966,
          -0.20122953,
          -0.20017648,
          -0.20196055,
          -0.20100175,
          -0.17824434,
          -0.17564422,
          -0.13813649,
          -0.14851974,
          -0.19101192,
          -0.11377289,
          -0.08653595,
          -0.20462643,
          -0.13568649,
          -0.16062783,
          -0.18086064,
          -0.18781333,
          -0.18568313,
          -0.083939955,
          -0.20257932,
          -0.19846705,
          -0.14682314,
          -0.1408474,
          -0.14025524,
          -0.07616728,
          -0.09830902,
          -0.015396201,
          -0.21356821,
          -0.20630093,
          -0.20578226,
          -0.19833854,
          -0.19210117,
          -0.20239861,
          -0.19259317,
          -0.19540998,
          -0.17392269,
          -0.19391134,
          -0.19326471,
          -0.1969258,
          -0.20099898,
          -0.1851168,
          -0.20658469,
          -0.20366146,
          -0.1848635,
          -0.16870505,
          -0.149083,
          -0.14178962,
          -0.14918922,
          -0.018594982,
          -0.009066897,
          -0.1931887,
          -0.20019916,
          -0.20671026,
          -0.07864408,
          -0.20697555,
          -0.20653874,
          -0.18737401,
          -0.2080696,
          -0.20730738,
          -0.08287594,
          -0.2066272,
          -0.0662096,
          -0.20329978,
          -0.07816025,
          -0.06959562,
          -0.1136501,
          -0.073109105,
          -0.10425793,
          -0.063442655,
          -0.106299914,
          -0.06333128,
          -0.2060897,
          -0.07678901,
          -0.06225229,
          -0.0271899,
          -0.032172494,
          -0.06517309,
          -0.16070238,
          -0.073906235,
          -0.08237834,
          -0.1072232,
          -0.14036192,
          -0.048771214,
          -0.055260416,
          -0.0039535197,
          -0.0007887172,
          0.058876354,
          -0.09204882,
          -0.05487204,
          -0.046971463,
          -0.11261711,
          -0.08347583,
          -0.10211259,
          -0.1407881,
          -0.16037941,
          -0.16373052,
          -0.19340922,
          -0.17384103,
          -0.18276097,
          -0.16784076,
          -0.16639689,
          -0.16944106,
          -0.10394556,
          -0.14337681,
          -0.13864757,
          -0.11684175,
          -0.11414733,
          -0.081237495,
          -0.079783365,
          -0.11081883,
          -0.08783282,
          -0.057615526,
          -0.10804367,
          -0.0009956461,
          -0.17852268,
          -0.18672302,
          -0.19806409,
          -0.15890265,
          -0.18790957,
          -0.18649922,
          -0.1904883,
          -0.085497946,
          -0.1920504,
          -0.1679812,
          -0.119681396,
          -0.17740288,
          -0.13317116,
          -0.097762994,
          -0.040568836,
          -0.023370165,
          -0.1612136,
          -0.045396645,
          -0.06519876,
          -0.10549624,
          -0.10430873,
          -0.18469921,
          -0.01888521,
          -0.07238156,
          -0.0067128637,
          -0.14863345,
          -0.1645558,
          -0.16436194,
          -0.16589028,
          -0.05495896,
          -0.08356832,
          -0.076235056,
          -0.0727146,
          -0.053705007,
          -0.07931857,
          -0.07565162,
          -0.07417015,
          -0.061635796,
          -0.05779901,
          -0.15566675,
          -0.14983039,
          -0.17079325,
          -0.16740143,
          -0.062634625,
          -0.08479607,
          -0.18162039,
          -0.17423081,
          -0.05488892,
          -0.17793894,
          -0.023160422,
          -0.15513496,
          -0.12642835,
          -0.13067344,
          -0.10465555,
          -0.05488932,
          -0.07223943,
          -0.07903023,
          -0.0930113,
          -0.15119724,
          -0.15164503,
          -0.15573512,
          -0.16086891,
          -0.1103793,
          -0.1419834,
          -0.15844946,
          -0.15774238,
          -0.022815362,
          -0.159969,
          -0.16943689,
          -0.17864008,
          -0.1280931,
          -0.10858067,
          -0.14540753,
          -0.13696298,
          -0.13310911,
          -0.14208445,
          -0.119548075,
          -0.0482177,
          -0.087921046,
          -0.071149155,
          -0.060286794,
          -0.19003348,
          -0.20145333,
          -0.20213075,
          -0.107605144,
          -0.09009432,
          -0.0959828,
          -0.20642091,
          -0.02415503,
          -0.0486208,
          -0.1529438,
          -0.16437156,
          -0.13480389,
          -0.07635362,
          -0.1609072,
          -0.07857888,
          -0.09203133,
          -0.18599766,
          -0.16937555,
          -0.16036709,
          -0.129794,
          -0.18006878,
          -0.18763901,
          -0.17718962,
          -0.034382004,
          -0.09467447,
          -0.0785068,
          -0.1295527,
          -0.089966185,
          -0.16073695,
          -0.15380318,
          -0.13745408,
          -0.15857449,
          -0.16145688,
          -0.16270451,
          -0.14707597,
          -0.15444933,
          -0.13293737,
          -0.078401186,
          -0.1454763,
          -0.17630161,
          -0.16825016,
          -0.16745597,
          -0.1361774,
          -0.14312519,
          -0.13993381,
          -0.119755074,
          -0.028368989,
          -0.12192275,
          -0.17612243,
          -0.18232884,
          -0.17916457,
          -0.19604555,
          -0.14084338,
          -0.046393104,
          -0.076631606,
          -0.11053287,
          -0.03827651,
          -0.1317269,
          -0.12225638,
          -0.11567138,
          -0.113607824,
          -0.022108518,
          -0.0833078,
          -0.0747171,
          0.01864922,
          0.0004468537,
          -0.05152256,
          -0.086859494,
          -0.08979275,
          -0.13049796,
          -0.1591696,
          -0.16175963,
          -0.100079134,
          -0.11819664,
          -0.07651516,
          -0.12869477,
          -0.023353176,
          -0.20651396,
          -0.1946106,
          -0.16025253,
          -0.20411457,
          -0.20364681,
          -0.20415956,
          -0.20324643,
          -0.20065363,
          -0.2014703,
          -0.20505808,
          -0.19902806,
          -0.2018004,
          -0.19972053,
          -0.075904906,
          -0.07110186,
          -0.04910883,
          -0.05850992,
          -0.06624884,
          -0.07738133,
          -0.012071018,
          -0.12816168,
          -0.027447794,
          -0.08477827,
          -0.013834588,
          0.017093688,
          -0.17235976,
          -0.11202216,
          -0.1364794,
          -0.11526653,
          -0.07687161,
          -0.08326494,
          -0.11730076,
          -0.10198968,
          -0.15802751,
          -0.16617525,
          -0.17397109,
          -0.06985315,
          -0.065441005,
          -0.11792868,
          -0.15787715,
          -0.15163402,
          -0.15205513,
          -0.0069842096,
          -0.08712997,
          0.009386284,
          -0.11507076,
          -0.2068318,
          -0.07995914,
          -0.2029113,
          -0.2043926,
          -0.20212425,
          -0.20254196,
          -0.19818333,
          -0.011683711,
          0.01772627,
          -0.034819353,
          0.002898155,
          -0.032607354,
          -0.10318287,
          -0.10231451,
          -0.108231805,
          -0.054616865,
          -0.11576027,
          -0.09656089,
          -0.1268477,
          -0.09169181,
          -0.19499926,
          -0.15352194,
          -0.22073609,
          -0.2166591,
          -0.2167762,
          -0.21401832,
          -0.21232918,
          -0.2171747,
          -0.20182939,
          -0.21249956,
          -0.17282696,
          -0.20171037,
          -0.162587,
          -0.20218427,
          -0.18640019,
          -0.18947771,
          -0.10659802,
          -0.14626965,
          -0.2052219,
          -0.1844372,
          -0.20324904,
          -0.19648452,
          -0.17106116,
          -0.17870599,
          -0.14074017,
          -0.20228691,
          -0.1482953,
          -0.19188607,
          -0.17618689,
          -0.17685197
         ],
         "xaxis": "x",
         "y": [
          -0.11517714,
          -0.037578873,
          -0.03470334,
          -0.03290473,
          -0.11205076,
          -0.029522855,
          -0.025618503,
          -0.032176,
          -0.113615975,
          -0.03013923,
          -0.112323135,
          -0.039734755,
          -0.022760492,
          -0.11345432,
          -0.112932265,
          -0.03095954,
          -0.03342999,
          -0.11249334,
          -0.112016566,
          -0.07666286,
          -0.030130446,
          -0.11388513,
          -0.11484571,
          -0.018813897,
          -0.015977068,
          -0.017545419,
          -0.016256507,
          -0.015880793,
          -0.015642371,
          -0.015384307,
          -0.015636934,
          -0.015447962,
          -0.015805038,
          -0.11414099,
          0.14849721,
          -0.030062562,
          -0.032446317,
          -0.02469446,
          -0.024163434,
          -0.026709724,
          -0.024708398,
          -0.014641565,
          -0.01490472,
          -0.10474478,
          -0.015023898,
          -0.025859756,
          -0.027719242,
          -0.10450773,
          -0.1117154,
          -0.1088772,
          -0.07676786,
          -0.078962244,
          -0.07723794,
          -0.07687811,
          -0.07671115,
          -0.076877914,
          -0.07707911,
          -0.076849915,
          -0.07686871,
          -0.076723106,
          -0.07668367,
          -0.07663852,
          -0.07675465,
          -0.11411258,
          -0.115007855,
          -0.11508686,
          -0.11350003,
          -0.07663854,
          -0.07663466,
          -0.07666643,
          -0.10449773,
          -0.10700997,
          -0.1052042,
          -0.10695046,
          -0.07663466,
          -0.07665474,
          -0.11711906,
          -0.10549127,
          -0.11352435,
          -0.07669602,
          -0.11150776,
          -0.11174458,
          -0.10444047,
          -0.11212398,
          -0.11254171,
          -0.112709165,
          -0.1133422,
          -0.113619216,
          -0.015191212,
          -0.0144426795,
          -0.11543251,
          -0.1050466,
          -0.07676521,
          -0.10507963,
          -0.01399911,
          -0.015648229,
          -0.015301399,
          -0.014471962,
          -0.014392191,
          -0.014332003,
          -0.1157159,
          -0.013996671,
          -0.104510605,
          -0.076653786,
          -0.10269062,
          -0.076717466,
          -0.014570276,
          -0.0152976625,
          0.15739158,
          0.16217694,
          -0.0009092042,
          -0.0052582123,
          -0.004469871,
          -0.11288662,
          -0.11303205,
          -0.11292173,
          -0.11302261,
          -0.112885766,
          -0.00095203257,
          -0.11302703,
          -0.11302146,
          -0.119491145,
          -0.11288624,
          -0.11310054,
          -0.11319026,
          -0.11359827,
          -0.11412456,
          -0.113668144,
          -0.113881946,
          -0.057985026,
          -0.058564324,
          -0.05627383,
          -0.060635258,
          -0.058743328,
          -0.063982904,
          -0.06370577,
          -0.059869085,
          -0.06380784,
          -0.060350318,
          -0.0024783576,
          -0.1128388,
          -0.11291478,
          -0.1131579,
          -0.007037976,
          -0.0006727023,
          -0.0030862123,
          -0.11378566,
          -0.11328521,
          -0.114105664,
          -0.1127268,
          -0.114158906,
          -0.113030486,
          -0.11282683,
          -0.11273995,
          -0.108461544,
          -0.110365726,
          -0.11057456,
          -0.06133342,
          -0.109646514,
          -0.108630076,
          -0.11161308,
          -0.10805223,
          -0.108768746,
          -0.11292869,
          -0.10956573,
          -0.115187995,
          -0.005364413,
          -0.11250381,
          -0.110739626,
          -0.11273034,
          -0.11284301,
          -0.11300962,
          -0.11295967,
          -0.10889311,
          0.16222022,
          -0.065656774,
          -0.060251962,
          0.16116847,
          0.16185172,
          -0.113736056,
          -0.11494472,
          -0.115658335,
          -0.11436335,
          0.1436987,
          -0.113426246,
          -0.12030297,
          -0.11319869,
          0.16203544,
          0.16162844,
          0.16158086,
          0.16171905,
          0.1613289,
          0.16167194,
          0.1615674,
          0.16203494,
          0.16214167,
          0.16220391,
          0.16213906,
          0.16218117,
          0.16220744,
          0.16198996,
          0.16197962,
          0.16051364,
          0.16005838,
          0.16217256,
          0.16211972,
          -0.11709119,
          -0.11349844,
          -0.113568015,
          -0.113541156,
          -0.0020578883,
          -0.05873508,
          -0.0024349876,
          -0.0040281187,
          -0.008817598,
          -0.004483636,
          -0.0033908621,
          -0.0025364857,
          -0.058061853,
          -0.056024645,
          -0.058884438,
          -0.055295177,
          -0.055383407,
          -0.055666804,
          -0.065816864,
          -0.006239559,
          -0.0045561083,
          -0.006940666,
          -0.0019417485,
          -0.0019401928,
          -0.005263505,
          0.0013917481,
          0.15045518,
          -0.115288615,
          -0.114778504,
          -0.054675028,
          -0.05480156,
          -0.11390416,
          -0.11370219,
          -0.1135358,
          -0.008040056,
          -0.057912663,
          -0.09622966,
          -0.106578365,
          -0.10892327,
          -0.10903742,
          -0.10925444,
          -0.109314576,
          -0.10911551,
          -0.109032325,
          -0.10905068,
          -0.10920899,
          -0.10913303,
          -0.10922883,
          -0.10912979,
          -0.10899642,
          -0.109192684,
          -0.10894234,
          -0.109018266,
          -0.10892981,
          -0.10892835,
          -0.108953536,
          -0.10903418,
          0.11869831,
          0.12229158,
          0.12544069,
          0.12388151,
          0.1250422,
          0.12304014,
          0.12663439,
          0.12754469,
          -0.108469255,
          -0.111294195,
          0.19547217,
          -0.10874247,
          -0.10898281,
          -0.10904402,
          -0.10932457,
          -0.11714333,
          0.08607846,
          0.07106987,
          0.08363009,
          -0.02588029,
          -0.026071778,
          -0.026064048,
          -0.026097706,
          -0.02606233,
          0.08230673,
          0.08146205,
          0.15809487,
          0.15843375,
          0.15841253,
          0.15900338,
          0.15848568,
          0.1435451,
          0.15608041,
          0.15877391,
          -0.025912426,
          -0.026166517,
          -0.026420943,
          -0.026413597,
          0.0838036,
          -0.026871508,
          -0.02760822,
          -0.027681753,
          -0.027241845,
          -0.02734612,
          -0.02699998,
          -0.10959218,
          -0.026549932,
          -0.026525505,
          -0.026763009,
          -0.034160256,
          0.080901965,
          -0.025988057,
          -0.026084725,
          -0.02652834,
          -0.026090559,
          0.15872751,
          -0.10624978,
          0.1217605,
          -0.11100122,
          -0.08535277,
          -0.08665775,
          -0.088802814,
          -0.089252144,
          -0.08410018,
          -0.08339707,
          -0.08174112,
          -0.081862755,
          -0.09886698,
          -0.10963154,
          -0.096055545,
          -0.0971412,
          -0.09063725,
          -0.08831469,
          -0.111458294,
          -0.081805974,
          -0.11057404,
          -0.10732539,
          -0.108367205,
          0.07776755,
          0.08410767,
          0.080863975,
          0.08251157,
          0.07601907,
          0.08106812,
          -0.10895246,
          -0.10804355,
          -0.106571145,
          0.0733194,
          -0.10782222,
          -0.10778118,
          -0.10864792,
          -0.10640556,
          -0.110641174,
          -0.08175778,
          -0.08145622,
          -0.08134618,
          -0.1062467,
          -0.10590192,
          -0.106149726,
          -0.10690229,
          -0.10678237,
          -0.107677616,
          -0.10795829,
          -0.10867731,
          -0.10828088,
          -0.108141564,
          0.12314565,
          0.119946584,
          0.11911108,
          0.12047015,
          -0.10709399,
          -0.106676765,
          -0.10640644,
          -0.10656986,
          -0.10661491,
          -0.0816222,
          -0.0816474,
          -0.082169786,
          -0.08165003,
          -0.082509056,
          -0.08123967,
          -0.110682726,
          0.12083236,
          -0.106699266,
          -0.106014304,
          -0.10618328,
          -0.1059073,
          -0.10632246,
          -0.10620207,
          -0.106996246,
          -0.10651349,
          -0.10616796,
          0.15871449,
          0.1584761,
          0.15884517,
          -0.02584504,
          -0.025613245,
          -0.02579235,
          -0.025555497,
          -0.03171952,
          -0.02543486,
          -0.025404032,
          -0.025507106,
          -0.025376445,
          -0.025387868,
          -0.025541559,
          -0.02602192,
          -0.026069809,
          -0.027231771,
          -0.026898105,
          -0.026492458,
          -0.027265932,
          -0.026751675,
          -0.029050427,
          -0.12127727,
          -0.11950501,
          -0.10775996,
          -0.10782123,
          -0.11818502,
          -0.10972305,
          -0.107765295,
          -0.10780935,
          -0.10788768,
          -0.122297965,
          -0.11012943,
          -0.10842602,
          -0.11149675,
          -0.030349314,
          -0.028014934,
          -0.027257739,
          -0.026970522,
          -0.10807427,
          0.039425343,
          -0.11653149,
          -0.1208384,
          -0.12091168,
          -0.12099248,
          -0.11838746,
          -0.10716616,
          -0.104582444,
          -0.10526743,
          -0.105177075,
          -0.10281604,
          -0.102648094,
          -0.10363405,
          -0.1059372,
          -0.10722403,
          -0.10790372,
          -0.11266409,
          -0.112901375,
          -0.119270936,
          -0.12111357,
          0.04463862,
          0.04802073,
          0.044108387,
          0.046458684,
          0.042676892,
          0.04651076,
          0.04784838,
          -0.11751282,
          0.045121428,
          0.041035302,
          0.042703673,
          -0.11648524,
          -0.1188523,
          -0.116349585,
          -0.115109816,
          -0.11930713,
          0.046462424,
          -0.12268671,
          -0.12420657,
          -0.10813573,
          0.16375156,
          0.07838219,
          0.07280478,
          0.07386969,
          0.15893766,
          0.16305076,
          0.16872472,
          0.16435902,
          0.16654728,
          0.1643959,
          0.1610303,
          0.07437153,
          0.08024268,
          0.07754543,
          0.07770332,
          0.16864008,
          0.16845517,
          0.16935636,
          0.1669191,
          0.15892091,
          0.15880506,
          0.15887946,
          0.15894787,
          0.15899572,
          0.15881656,
          0.15864664,
          0.07559038,
          0.15879191,
          0.158564,
          0.15864338,
          0.15863714,
          0.16590613,
          0.16355412,
          0.16500248,
          0.16654482,
          0.15860672,
          -0.10686799,
          0.07651179,
          0.07918224,
          -0.110445395,
          -0.11507067,
          -0.11748144,
          -0.11220077,
          -0.10809282,
          -0.10821598,
          -0.10822674,
          -0.10797317,
          -0.10812467,
          -0.10809944,
          -0.10853032,
          -0.108034134,
          -0.10836639,
          -0.108059466,
          -0.10789625,
          -0.11491243,
          -0.11470032,
          -0.109321095,
          -0.11236891,
          0.0714034,
          0.074199565,
          0.07569662,
          0.070524134,
          0.07182958,
          -0.107284285,
          -0.107942715,
          0.081358016,
          -0.104612134,
          -0.10648161,
          -0.104442164,
          -0.103845924,
          -0.105756104,
          -0.11072637,
          -0.1124161,
          -0.10846272,
          -0.10599896,
          -0.02648849,
          -0.11613857,
          0.052889623,
          0.21580324,
          0.12525985,
          0.12629114,
          0.12513351,
          0.12656623,
          0.12672402,
          0.1271945,
          0.21432614,
          0.21415408,
          0.21649195,
          0.21674074,
          0.21577756,
          0.21472734,
          0.213786,
          0.21077324,
          0.21322767,
          0.21346258,
          0.21060571,
          0.21507744,
          0.21450728,
          0.21508865,
          0.21588881,
          0.2096454,
          0.12934455,
          0.07444801,
          0.121967316,
          0.21805139,
          0.21784696,
          0.2172879,
          -0.10906149,
          -0.1080537,
          -0.1107668,
          -0.111703075,
          -0.11217728,
          -0.11356181,
          0.074593015,
          0.074671485,
          0.074680194,
          0.07458983,
          0.07422662,
          0.07413957,
          0.13220794,
          0.0742078,
          0.13024603,
          0.13003094,
          0.12692867,
          0.12778729,
          0.13130227,
          0.12491247,
          0.12265866,
          0.07450765,
          0.21329084,
          0.21535468,
          0.21702822,
          0.2176034,
          0.13086131,
          0.07933731,
          0.13225912,
          0.13191901,
          -0.027020548,
          -0.027515281,
          -0.02756405,
          -0.0328648,
          -0.031033328,
          -0.03789207,
          -0.083975166,
          -0.084576346,
          -0.08461928,
          -0.085234866,
          -0.08575105,
          -0.08489938,
          -0.08571038,
          -0.085477315,
          -0.08725491,
          -0.085601114,
          -0.08565453,
          -0.085351996,
          -0.085015014,
          -0.08632853,
          -0.084552884,
          -0.084794685,
          -0.08634968,
          -0.087686755,
          -0.08930993,
          -0.027436752,
          -0.026824484,
          -0.037625633,
          -0.038414743,
          0.1314823,
          0.07414147,
          0.074680015,
          -0.12249205,
          0.07470196,
          0.07466586,
          0.07308041,
          0.07479248,
          0.07472943,
          -0.1221419,
          0.07467317,
          -0.10837198,
          0.1323187,
          -0.12253202,
          -0.123240545,
          -0.106532454,
          -0.109885305,
          -0.10730893,
          -0.110684805,
          -0.10713964,
          -0.11069455,
          0.074628696,
          -0.032812763,
          -0.034015153,
          -0.036915738,
          -0.036503438,
          -0.12360569,
          -0.08834851,
          0.07850674,
          0.07920788,
          -0.011198306,
          -0.008457125,
          -0.016033387,
          -0.0154974535,
          -0.019741584,
          -0.020002926,
          -0.024936846,
          -0.01245352,
          -0.015529135,
          -0.0161822,
          -0.010752784,
          -0.013162267,
          -0.011621268,
          -0.008421618,
          -0.00680104,
          -0.00652379,
          -0.0040689437,
          -0.005687723,
          -0.0049498896,
          -0.006183976,
          0.19683585,
          0.19708739,
          0.1916694,
          0.19493169,
          0.19454022,
          -0.010402601,
          -0.010625657,
          -0.013348889,
          -0.013469004,
          0.06058134,
          0.05868029,
          0.05618074,
          0.06035184,
          0.051497936,
          -0.07183267,
          -0.07115435,
          -0.07021634,
          -0.073455356,
          -0.07105625,
          -0.07117307,
          -0.0708431,
          0.19014359,
          -0.07071419,
          -0.07270479,
          -0.07670023,
          -0.071925946,
          -0.07558451,
          -0.0785143,
          -0.083245195,
          -0.08466732,
          -0.07326556,
          -0.112876855,
          -0.11123934,
          -0.107904956,
          -0.1080025,
          -0.07132226,
          0.07395602,
          0.18905775,
          0.18362555,
          -0.07430627,
          -0.072989404,
          -0.07300524,
          -0.07287907,
          -0.11473898,
          -0.11237293,
          -0.11297979,
          -0.113271214,
          -0.114843875,
          -0.11272516,
          -0.11302845,
          -0.11315081,
          -0.11418758,
          -0.11450527,
          0.12837803,
          0.12789546,
          -0.10894415,
          0.129349,
          0.07553707,
          0.07737099,
          -0.108048566,
          -0.10865992,
          0.07693326,
          -0.108353496,
          0.074309714,
          -0.07376853,
          -0.07614436,
          -0.11226333,
          -0.11441557,
          0.18761258,
          0.18904705,
          0.1896081,
          0.19076535,
          0.19557893,
          0.1956159,
          0.19595432,
          0.19637881,
          0.1922022,
          0.19481675,
          0.19617839,
          0.19612005,
          0.1849582,
          0.19630423,
          -0.10905678,
          -0.108294815,
          -0.112477735,
          -0.11409307,
          -0.11104553,
          -0.111744165,
          -0.112062454,
          -0.11131993,
          -0.11318496,
          -0.11908492,
          -0.11580012,
          -0.0807159,
          0.07534339,
          -0.08592196,
          -0.08497755,
          -0.08492137,
          0.033325817,
          0.031876843,
          0.032364108,
          -0.08456637,
          0.026422521,
          0.02844749,
          0.037076868,
          0.03802209,
          0.035576418,
          0.030740274,
          0.03773501,
          -0.106762305,
          -0.10564968,
          0.04772585,
          0.04635076,
          0.04560569,
          0.0430762,
          0.047235318,
          0.04786155,
          0.046997305,
          -0.11041751,
          0.032255508,
          0.030918738,
          0.03514073,
          -0.10582025,
          -0.11977568,
          -0.120348886,
          -0.12170183,
          -0.1199543,
          -0.1197155,
          -0.11961196,
          -0.120904624,
          -0.12029544,
          -0.12207545,
          -0.12658757,
          0.036458448,
          0.039008416,
          0.038342472,
          0.038276624,
          0.035689574,
          0.03626407,
          0.035999976,
          0.03433105,
          0.02677232,
          0.03450982,
          0.04690908,
          0.047422376,
          0.047160566,
          0.048557118,
          -0.09733575,
          0.1725287,
          -0.102647275,
          -0.09984307,
          0.1718567,
          -0.09809104,
          -0.0988737,
          -0.09941853,
          -0.09958925,
          -0.10715748,
          -0.10209522,
          -0.10280662,
          -0.11052975,
          -0.109024264,
          -0.10472513,
          -0.10180221,
          -0.10155993,
          -0.09819265,
          -0.09582043,
          -0.09560625,
          -0.100708246,
          -0.09920965,
          -0.1267419,
          -0.09834212,
          0.17062265,
          0.049422987,
          0.04843849,
          0.045595497,
          0.049224477,
          0.049185783,
          0.04922806,
          0.04915247,
          0.04893802,
          0.04900561,
          0.049302433,
          0.048803784,
          0.049033005,
          0.048860785,
          0.17496987,
          0.17457281,
          0.1727536,
          0.17353082,
          -0.10778362,
          -0.106863596,
          0.1696897,
          -0.09838587,
          0.17096123,
          -0.1260592,
          0.025569627,
          0.07267888,
          0.08835047,
          -0.02989912,
          -0.027875884,
          -0.029630465,
          -0.10957551,
          -0.10904718,
          -0.10623168,
          -0.10749842,
          -0.10986391,
          -0.10918982,
          -0.10854496,
          -0.11715705,
          -0.11052113,
          -0.11318098,
          -0.109876305,
          -0.11039272,
          -0.110357985,
          -0.03858703,
          -0.11572896,
          -0.039941017,
          0.083611466,
          0.07469006,
          -0.07346881,
          0.07436581,
          0.074488305,
          0.07430065,
          0.07433519,
          0.0739747,
          0.075057745,
          0.072624326,
          0.1241527,
          0.1210333,
          0.123970225,
          0.12980686,
          0.12973446,
          0.13022402,
          0.07860975,
          0.08366818,
          -0.031178018,
          0.08458585,
          -0.11535137,
          -0.1011774,
          0.08679232,
          -0.09904843,
          -0.09938568,
          -0.099376,
          -0.09960413,
          -0.09974377,
          -0.099343054,
          -0.10061229,
          -0.09972975,
          0.08838908,
          -0.100622214,
          -0.10385875,
          -0.10058319,
          -0.10188887,
          -0.1016344,
          -0.10849071,
          -0.10520859,
          -0.1003318,
          -0.10205129,
          -0.10049491,
          -0.10105451,
          0.08824309,
          0.088875525,
          0.08573503,
          -0.10057461,
          0.08635992,
          -0.101435035,
          -0.10273385,
          -0.102678895
         ],
         "yaxis": "y"
        },
        {
         "customdata": [
          [
           0.00045696108
          ],
          [
           -0.000048758164
          ],
          [
           -0.000048758164
          ],
          [
           -0.000048758164
          ],
          [
           -0.0006085049
          ],
          [
           -0.0006085049
          ],
          [
           -0.0006085049
          ],
          [
           -0.0006085049
          ],
          [
           -0.0006085049
          ],
          [
           0.00045696108
          ],
          [
           -0.0006085049
          ],
          [
           -0.0006085049
          ],
          [
           -0.0006085049
          ],
          [
           -0.0006085049
          ],
          [
           -0.0006085049
          ],
          [
           -0.0006085049
          ],
          [
           -0.0006085049
          ],
          [
           -0.0006085049
          ],
          [
           0.00045696108
          ],
          [
           0.00045696108
          ],
          [
           0.00045696108
          ],
          [
           -0.0006085049
          ],
          [
           0.00045696108
          ],
          [
           0.00045696108
          ],
          [
           0.00045696108
          ],
          [
           0.00045696108
          ],
          [
           0.00045696108
          ],
          [
           0.00045696108
          ],
          [
           -0.00075630605
          ],
          [
           -0.00075630605
          ],
          [
           -0.00075630605
          ],
          [
           -0.00075630605
          ],
          [
           -0.0006085049
          ],
          [
           -0.0006085049
          ],
          [
           -0.000048758164
          ],
          [
           -0.0006085049
          ],
          [
           -0.0006085049
          ],
          [
           -0.0006085049
          ],
          [
           0.00045696108
          ],
          [
           0.00045696108
          ],
          [
           -0.0006085049
          ],
          [
           -0.0006085049
          ],
          [
           0.00045696108
          ],
          [
           -0.0006085049
          ],
          [
           -0.000048758164
          ],
          [
           -0.002443639
          ],
          [
           -0.000048758164
          ],
          [
           -0.002443639
          ],
          [
           -0.002443639
          ],
          [
           -0.002443639
          ],
          [
           -0.002443639
          ],
          [
           -0.002443639
          ],
          [
           -0.002443639
          ],
          [
           0.00041258452
          ],
          [
           0.00041258452
          ],
          [
           0.00041258452
          ],
          [
           -0.002443639
          ],
          [
           0.00041258452
          ],
          [
           0.00041258452
          ],
          [
           0.00041258452
          ],
          [
           0.00041258452
          ],
          [
           0.00041258452
          ],
          [
           0.00041258452
          ],
          [
           -0.002443639
          ],
          [
           -0.002443639
          ],
          [
           -0.002443639
          ],
          [
           -0.002443639
          ],
          [
           0.00041258452
          ],
          [
           -0.000048758164
          ],
          [
           -0.002443639
          ],
          [
           -0.002443639
          ],
          [
           -0.000048758164
          ],
          [
           -0.000048758164
          ],
          [
           -0.000048758164
          ],
          [
           -0.000048758164
          ],
          [
           -0.000048758164
          ],
          [
           -0.000048758164
          ],
          [
           -0.000048758164
          ],
          [
           -0.000048758164
          ],
          [
           -0.000048758164
          ],
          [
           -0.002443639
          ],
          [
           -0.000048758164
          ],
          [
           -0.000048758164
          ],
          [
           -0.000048758164
          ],
          [
           -0.000048758164
          ],
          [
           -0.000048758164
          ],
          [
           -0.000048758164
          ],
          [
           -0.000048758164
          ],
          [
           0.00045696108
          ],
          [
           -0.002443639
          ],
          [
           -0.002443639
          ],
          [
           -0.000048758164
          ],
          [
           0.00045696108
          ],
          [
           -0.0006085049
          ],
          [
           0.00045696108
          ],
          [
           -0.001712072
          ],
          [
           -0.001712072
          ],
          [
           -0.001712072
          ],
          [
           -0.001712072
          ],
          [
           -0.001712072
          ],
          [
           -0.001712072
          ],
          [
           -0.001712072
          ],
          [
           -0.001712072
          ],
          [
           -0.00075630605
          ],
          [
           -0.00075630605
          ],
          [
           -0.00075630605
          ],
          [
           0.00026662485
          ],
          [
           0.00026662485
          ],
          [
           0.00026662485
          ],
          [
           -0.002084868
          ],
          [
           -0.002084868
          ],
          [
           -0.002084868
          ],
          [
           -0.002084868
          ],
          [
           -0.002084868
          ],
          [
           -0.002084868
          ],
          [
           -0.002084868
          ],
          [
           -0.002084868
          ],
          [
           -0.002084868
          ],
          [
           -0.002084868
          ],
          [
           -0.002084868
          ],
          [
           -0.002084868
          ],
          [
           -0.002084868
          ],
          [
           -0.002084868
          ],
          [
           -0.002084868
          ],
          [
           -0.001712072
          ],
          [
           -0.001712072
          ],
          [
           -0.001712072
          ],
          [
           -0.001712072
          ],
          [
           -0.0006085049
          ],
          [
           0.00026662485
          ],
          [
           -0.0006396583
          ],
          [
           -0.0006396583
          ],
          [
           0.00026662485
          ],
          [
           0.00026662485
          ],
          [
           0.00026662485
          ],
          [
           0.00026662485
          ],
          [
           0.00026662485
          ],
          [
           0.00026662485
          ],
          [
           0.00026662485
          ],
          [
           0.00026662485
          ],
          [
           0.00026662485
          ],
          [
           0.00026662485
          ],
          [
           -0.002084868
          ],
          [
           0.00026662485
          ],
          [
           0.00026662485
          ],
          [
           0.00026662485
          ],
          [
           0.00026662485
          ],
          [
           0.00026662485
          ],
          [
           0.00026662485
          ],
          [
           0.00026662485
          ],
          [
           0.00026662485
          ],
          [
           -0.001712072
          ],
          [
           -0.001712072
          ],
          [
           -0.001712072
          ],
          [
           -0.001712072
          ],
          [
           -0.001712072
          ],
          [
           -0.001712072
          ],
          [
           -0.001712072
          ],
          [
           0.00026662485
          ],
          [
           -0.002084868
          ],
          [
           -0.001712072
          ],
          [
           -0.002084868
          ],
          [
           -0.0000971467
          ],
          [
           -0.0000971467
          ],
          [
           -0.0000971467
          ],
          [
           0.00045696108
          ],
          [
           -0.00075630605
          ],
          [
           -0.00075630605
          ],
          [
           -0.00075630605
          ],
          [
           -0.0000971467
          ],
          [
           -0.0000971467
          ],
          [
           0.0003350489
          ],
          [
           -0.00075630605
          ],
          [
           0.0003350489
          ],
          [
           0.0003350489
          ],
          [
           0.0003350489
          ],
          [
           0.0003350489
          ],
          [
           0.0003350489
          ],
          [
           0.0003350489
          ],
          [
           0.0003350489
          ],
          [
           0.0003350489
          ],
          [
           0.00045696108
          ],
          [
           0.00045696108
          ],
          [
           -0.00075630605
          ],
          [
           0.0003350489
          ],
          [
           0.00045696108
          ],
          [
           -0.0000971467
          ],
          [
           -0.00075630605
          ],
          [
           -0.002084868
          ],
          [
           0.00026662485
          ],
          [
           -0.002084868
          ],
          [
           -0.002084868
          ],
          [
           -0.002084868
          ],
          [
           -0.00075630605
          ],
          [
           -0.00075630605
          ],
          [
           -0.00075630605
          ],
          [
           -0.00075630605
          ],
          [
           -0.00075630605
          ],
          [
           -0.00075630605
          ],
          [
           -0.00075630605
          ],
          [
           -0.002084868
          ],
          [
           -0.00075630605
          ],
          [
           -0.00075630605
          ],
          [
           -0.00075630605
          ],
          [
           -0.00075630605
          ],
          [
           0.00045696108
          ],
          [
           0.00045696108
          ],
          [
           0.00045696108
          ]
         ],
         "hovertemplate": "Cluster=Cluster 2<br>PCA1=%{x}<br>PCA2=%{y}<br>Feature=%{customdata[0]}<extra></extra>",
         "legendgroup": "Cluster 2",
         "marker": {
          "color": "#00cc96",
          "opacity": 0.5,
          "symbol": "circle"
         },
         "mode": "markers",
         "name": "Cluster 2",
         "showlegend": true,
         "textposition": "top center",
         "type": "scattergl",
         "x": [
          -0.15332603,
          -0.17093535,
          -0.16289097,
          -0.17348152,
          -0.011159173,
          -0.037587244,
          0.029736947,
          0.08831187,
          0.07189409,
          -0.16390216,
          -0.08803824,
          -0.11189481,
          -0.06867291,
          -0.041250188,
          -0.09019404,
          -0.09527472,
          -0.019696023,
          -0.1062425,
          -0.08627794,
          -0.16085376,
          -0.118814945,
          -0.136712,
          -0.09887678,
          -0.091698565,
          -0.05588382,
          -0.011865432,
          -0.08580817,
          -0.12309322,
          -0.1595995,
          -0.17272311,
          -0.1672817,
          -0.15391262,
          -0.14503601,
          -0.15120505,
          -0.16968176,
          -0.07881701,
          -0.123369955,
          0.015489387,
          -0.054759663,
          -0.14522612,
          -0.15124738,
          -0.123376474,
          -0.12479384,
          -0.045434184,
          -0.16631494,
          0.048569333,
          -0.16468044,
          0.0071341703,
          -0.06605396,
          -0.091022715,
          -0.07135147,
          -0.09666052,
          -0.11915958,
          0.07731303,
          0.13935383,
          0.06078346,
          0.020512432,
          0.1153507,
          0.05753174,
          0.028935393,
          -0.059716396,
          -0.039950825,
          -0.08619179,
          -0.10334719,
          -0.022769425,
          0.044870067,
          0.062165268,
          -0.045380216,
          -0.1635393,
          -0.028354686,
          -0.0585231,
          -0.15246454,
          -0.15810405,
          -0.16635554,
          -0.15747933,
          -0.15587464,
          -0.15214933,
          -0.15140098,
          -0.15554278,
          -0.16538824,
          -0.06476134,
          -0.15925144,
          -0.1535976,
          -0.151287,
          -0.14352807,
          -0.16157748,
          -0.15347266,
          -0.15463722,
          -0.16110517,
          -0.03039628,
          -0.0050788727,
          -0.15175907,
          -0.1514247,
          -0.07091785,
          -0.14937277,
          -0.07452111,
          -0.043586876,
          -0.06646986,
          0.026581721,
          -0.03594457,
          0.09911559,
          0.034829166,
          0.19089524,
          -0.17038824,
          -0.15953757,
          -0.16864234,
          -0.017694881,
          0.02637862,
          0.053414952,
          -0.08632702,
          -0.056596633,
          -0.03756732,
          -0.059035897,
          -0.032985386,
          -0.122666694,
          -0.08154641,
          -0.10870895,
          -0.07984582,
          -0.10936593,
          -0.12895408,
          -0.1354333,
          -0.11735827,
          -0.15336052,
          -0.14120968,
          -0.101929,
          -0.051338524,
          -0.07755297,
          -0.07377384,
          -0.08689888,
          -0.13105777,
          -0.001241748,
          -0.020017918,
          -0.06436579,
          -0.05877839,
          -0.10577561,
          -0.112327196,
          -0.13952674,
          -0.14799543,
          -0.08118326,
          -0.14601836,
          -0.14194147,
          -0.13143523,
          -0.11794076,
          -0.1600123,
          -0.13040096,
          -0.11504865,
          -0.09427086,
          -0.11063798,
          -0.09244312,
          -0.0844537,
          -0.08779598,
          0.032850202,
          -0.031011274,
          0.054997746,
          0.05630633,
          0.004423628,
          0.016878782,
          -0.011589884,
          -0.13175435,
          -0.085029565,
          0.15955469,
          -0.022422329,
          0.04108513,
          0.056739144,
          -0.05761224,
          -0.10267426,
          -0.10582054,
          -0.113551565,
          -0.14117679,
          0.003012688,
          0.12520261,
          -0.046650235,
          -0.15100998,
          -0.023297409,
          0.05089168,
          0.06377351,
          -0.008387009,
          -0.00874291,
          0.010139222,
          0.13417655,
          0.09723134,
          -0.11591194,
          -0.1660827,
          -0.09779686,
          -0.014866575,
          -0.15229084,
          0.15209545,
          -0.17244752,
          -0.023500642,
          0.15238142,
          -0.008778341,
          -0.03654516,
          0.053339116,
          -0.16808566,
          -0.17253892,
          -0.154368,
          -0.1642318,
          -0.17135468,
          -0.16412382,
          -0.16837375,
          -0.12156058,
          -0.17321226,
          -0.15516244,
          -0.11645392,
          -0.10965975,
          -0.15109265,
          -0.13115907,
          -0.14900512
         ],
         "xaxis": "x",
         "y": [
          0.28946945,
          0.36549655,
          0.36483088,
          0.365707,
          0.32981786,
          0.332005,
          0.3264361,
          0.32159096,
          0.32294968,
          0.2903442,
          0.33617792,
          0.3381513,
          0.33457652,
          0.3323088,
          0.33635685,
          0.33677647,
          0.33052564,
          0.33768398,
          0.28392303,
          0.29009193,
          0.2866138,
          0.3402046,
          0.28496516,
          0.28437006,
          0.28140774,
          0.2777671,
          0.2838844,
          0.28696853,
          0.281372,
          0.28245783,
          0.28200787,
          0.28090167,
          0.34089303,
          0.34140334,
          0.36539286,
          0.33541596,
          0.3391009,
          0.327616,
          0.28131568,
          0.28879926,
          0.34140688,
          0.33910155,
          0.28710908,
          0.33265498,
          0.36511424,
          0.3925733,
          0.36497894,
          0.39600113,
          0.4020545,
          0.40411994,
          0.4024928,
          0.40458658,
          0.4064475,
          0.22708581,
          0.22195323,
          0.22845258,
          0.3948939,
          0.2239404,
          0.22872257,
          0.23108912,
          0.23842211,
          0.23678784,
          0.24061222,
          0.40513948,
          0.39847445,
          0.39287937,
          0.3914481,
          0.23723623,
          0.3648847,
          0.39893663,
          0.40143266,
          0.36396858,
          0.36443493,
          0.36511746,
          0.36438337,
          0.36425048,
          0.363942,
          0.36388028,
          0.36422315,
          0.36503747,
          0.40194848,
          0.36452976,
          0.36406207,
          0.3638709,
          0.36322924,
          0.36472213,
          0.3640516,
          0.36414805,
          0.2901127,
          0.3991045,
          0.39701185,
          0.36391,
          0.2893121,
          0.33476213,
          0.28914222,
          0.48356324,
          0.48100427,
          0.48289764,
          0.47520083,
          0.48037255,
          0.4692017,
          0.47451687,
          0.46160635,
          0.28226465,
          0.28136703,
          0.28212008,
          0.32427245,
          0.32062668,
          0.31839022,
          0.3481627,
          0.34570295,
          0.344129,
          0.34590438,
          0.34374973,
          0.35116845,
          0.34776816,
          0.35001475,
          0.34762704,
          0.35006908,
          0.35168928,
          0.35222536,
          0.3507302,
          0.3537085,
          0.35270348,
          0.48583013,
          0.48164573,
          0.48381385,
          0.4835015,
          0.33608395,
          0.33365044,
          0.37812382,
          0.37967667,
          0.32813427,
          0.32767195,
          0.3315591,
          0.3321007,
          0.33435115,
          0.33505166,
          0.32952568,
          0.33488828,
          0.33455122,
          0.33368197,
          0.3507785,
          0.33604595,
          0.33359626,
          0.33232617,
          0.3306075,
          0.33196107,
          0.33045617,
          0.3297956,
          0.33007178,
          0.47468045,
          0.47996336,
          0.47284934,
          0.4727403,
          0.47703207,
          0.4760021,
          0.4783569,
          0.33370832,
          0.34805623,
          0.4642002,
          0.34287637,
          0.26151755,
          0.2602222,
          0.26968125,
          0.28527948,
          0.2769235,
          0.27756277,
          0.27984825,
          0.26466665,
          0.2545593,
          0.2830019,
          0.28066152,
          0.28107092,
          0.27493158,
          0.273868,
          0.27983677,
          0.27986753,
          0.27830487,
          0.26804367,
          0.2710999,
          0.28637472,
          0.29052457,
          0.27625766,
          0.2803726,
          0.28938362,
          0.25233218,
          0.2824351,
          0.34296528,
          0.31020218,
          0.34174773,
          0.34404528,
          0.33660907,
          0.2820742,
          0.28244266,
          0.28093955,
          0.28175548,
          0.2823445,
          0.2817465,
          0.28209838,
          0.35107777,
          0.28249857,
          0.2810056,
          0.27780342,
          0.27724117,
          0.28928453,
          0.28763556,
          0.2891118
         ],
         "yaxis": "y"
        },
        {
         "customdata": [
          [
           -0.00035845744
          ],
          [
           -0.00035845744
          ],
          [
           -0.00035845744
          ],
          [
           -0.00035845744
          ],
          [
           -0.00035845744
          ],
          [
           0.00021137939
          ],
          [
           -0.005854571
          ],
          [
           0.00021137939
          ],
          [
           0.00021137939
          ],
          [
           0.00021137939
          ],
          [
           0.00021137939
          ],
          [
           -0.0032053401
          ],
          [
           -0.005854571
          ],
          [
           -0.00003716108
          ],
          [
           -0.00003716108
          ],
          [
           -0.00003716108
          ],
          [
           -0.00003716108
          ],
          [
           -0.00003716108
          ],
          [
           -0.00003716108
          ],
          [
           -0.005854571
          ],
          [
           -0.005854571
          ],
          [
           -0.005854571
          ],
          [
           0.00021137939
          ],
          [
           -0.0032053401
          ],
          [
           -0.005854571
          ],
          [
           -0.005854571
          ],
          [
           -0.005854571
          ],
          [
           -0.005854571
          ],
          [
           -0.0032053401
          ],
          [
           -0.005854571
          ],
          [
           0.00021137939
          ],
          [
           -0.00016436982
          ],
          [
           0.00021137939
          ],
          [
           0.000006518898
          ],
          [
           0.000006518898
          ],
          [
           0.000006518898
          ],
          [
           0.000006518898
          ],
          [
           0.000006518898
          ],
          [
           -0.000001024476
          ],
          [
           -0.000001024476
          ],
          [
           -0.000001024476
          ],
          [
           -0.00003716108
          ],
          [
           -0.000001024476
          ],
          [
           -0.000001024476
          ],
          [
           -0.000001024476
          ],
          [
           -0.000001024476
          ],
          [
           -0.000001024476
          ],
          [
           -0.000001024476
          ],
          [
           -0.00016436982
          ],
          [
           0.00021137939
          ],
          [
           -0.00016436982
          ],
          [
           -0.00016436982
          ],
          [
           0.00021137939
          ],
          [
           0.00021137939
          ],
          [
           0.00021137939
          ],
          [
           0.00021137939
          ],
          [
           0.00021137939
          ],
          [
           0.00021137939
          ],
          [
           0.00021137939
          ],
          [
           0.00021137939
          ],
          [
           0.00021137939
          ],
          [
           0.00021137939
          ],
          [
           0.00021137939
          ],
          [
           0.00021137939
          ],
          [
           0.00021137939
          ],
          [
           0.00021137939
          ],
          [
           0.00021137939
          ],
          [
           -0.00016436982
          ],
          [
           -0.00003716108
          ],
          [
           -0.00035845744
          ],
          [
           -0.00003716108
          ],
          [
           -0.000092768154
          ],
          [
           -0.000092768154
          ],
          [
           -0.000092768154
          ],
          [
           -0.000092768154
          ],
          [
           -0.000092768154
          ],
          [
           -0.000092768154
          ],
          [
           -0.000092768154
          ],
          [
           -0.000092768154
          ],
          [
           -0.000001024476
          ],
          [
           -0.000040396837
          ],
          [
           -0.000040396837
          ],
          [
           -0.000092768154
          ],
          [
           -0.000040396837
          ],
          [
           -0.000040396837
          ],
          [
           -0.000040396837
          ],
          [
           -0.000040396837
          ],
          [
           -0.000040396837
          ],
          [
           -0.000040396837
          ],
          [
           -0.000040396837
          ],
          [
           -0.000040396837
          ],
          [
           -0.000040396837
          ],
          [
           -0.0032053401
          ],
          [
           -0.0032053401
          ],
          [
           -0.0032053401
          ],
          [
           -0.000040396837
          ],
          [
           -0.0032053401
          ],
          [
           -0.000092768154
          ],
          [
           -0.000092768154
          ],
          [
           -0.000001024476
          ],
          [
           -0.000001024476
          ],
          [
           -0.000001024476
          ],
          [
           -0.000001024476
          ],
          [
           -0.000001024476
          ],
          [
           -0.000001024476
          ],
          [
           -0.000001024476
          ],
          [
           -0.000001024476
          ],
          [
           -0.000001024476
          ],
          [
           -0.000001024476
          ],
          [
           -0.000001024476
          ],
          [
           -0.000092768154
          ],
          [
           -0.000001024476
          ],
          [
           -0.000092768154
          ],
          [
           -0.000092768154
          ],
          [
           -0.000092768154
          ],
          [
           -0.000092768154
          ],
          [
           -0.000092768154
          ],
          [
           -0.000092768154
          ],
          [
           -0.000092768154
          ],
          [
           -0.000092768154
          ],
          [
           -0.000092768154
          ],
          [
           -0.000092768154
          ],
          [
           -0.000092768154
          ],
          [
           -0.000092768154
          ],
          [
           -0.0032053401
          ],
          [
           -0.0032053401
          ],
          [
           -0.000040396837
          ],
          [
           -0.00035845744
          ],
          [
           -0.00035845744
          ],
          [
           -0.0032053401
          ],
          [
           -0.0032053401
          ],
          [
           -0.0032053401
          ],
          [
           -0.0032053401
          ],
          [
           -0.0032053401
          ],
          [
           -0.0032053401
          ],
          [
           -0.0032053401
          ],
          [
           -0.0032053401
          ],
          [
           -0.00003716108
          ],
          [
           -0.00035845744
          ],
          [
           -0.00003716108
          ],
          [
           -0.00003716108
          ],
          [
           -0.00003716108
          ],
          [
           -0.00003716108
          ],
          [
           -0.00003716108
          ],
          [
           -0.00003716108
          ],
          [
           -0.00003716108
          ],
          [
           -0.00003716108
          ],
          [
           -0.00003716108
          ],
          [
           -0.00003716108
          ],
          [
           -0.00003716108
          ],
          [
           -0.00003716108
          ],
          [
           -0.00003716108
          ],
          [
           -0.00035845744
          ],
          [
           -0.00035845744
          ],
          [
           -0.00035845744
          ],
          [
           -0.000040396837
          ],
          [
           -0.000040396837
          ],
          [
           -0.000040396837
          ],
          [
           -0.000040396837
          ],
          [
           -0.000040396837
          ],
          [
           -0.000040396837
          ],
          [
           -0.0032053401
          ],
          [
           -0.000040396837
          ],
          [
           -0.000040396837
          ],
          [
           -0.000040396837
          ],
          [
           -0.000040396837
          ],
          [
           -0.000040396837
          ],
          [
           -0.00035845744
          ],
          [
           -0.00035845744
          ],
          [
           -0.00035845744
          ],
          [
           -0.00035845744
          ],
          [
           -0.00035845744
          ],
          [
           -0.00035845744
          ],
          [
           -0.00035845744
          ],
          [
           -0.00035845744
          ],
          [
           -0.00035845744
          ],
          [
           -0.00016436982
          ],
          [
           -0.00035845744
          ],
          [
           -0.00035845744
          ],
          [
           -0.00035845744
          ],
          [
           -0.00003716108
          ],
          [
           -0.00016436982
          ],
          [
           -0.00007980825
          ],
          [
           -0.00016436982
          ],
          [
           0.0011170113
          ],
          [
           0.0011170113
          ],
          [
           0.0011170113
          ],
          [
           0.0011170113
          ],
          [
           0.0011170113
          ],
          [
           -0.00030360496
          ],
          [
           -0.00030360496
          ],
          [
           -0.00030360496
          ],
          [
           -0.00030360496
          ],
          [
           -0.00030360496
          ],
          [
           -0.00030360496
          ],
          [
           -0.000015236459
          ],
          [
           -0.000015236459
          ],
          [
           -0.000015236459
          ],
          [
           -0.000015236459
          ],
          [
           -0.000015236459
          ],
          [
           -0.000015236459
          ],
          [
           -0.000015236459
          ],
          [
           -0.000015236459
          ],
          [
           -0.000015236459
          ],
          [
           -0.000015236459
          ],
          [
           -0.000015236459
          ],
          [
           -0.000015236459
          ],
          [
           -0.000015236459
          ],
          [
           -0.000015236459
          ],
          [
           -0.000015236459
          ],
          [
           -0.00029050338
          ],
          [
           0.0011170113
          ],
          [
           -0.00029050338
          ],
          [
           0.0011170113
          ],
          [
           0.0011170113
          ],
          [
           0.0011170113
          ],
          [
           0.0011170113
          ],
          [
           0.0011170113
          ],
          [
           0.0011170113
          ],
          [
           0.0018685651
          ],
          [
           0.0011170113
          ],
          [
           0.0018685651
          ],
          [
           0.0011170113
          ],
          [
           0.0018685651
          ],
          [
           0.0018685651
          ],
          [
           0.0018685651
          ],
          [
           0.0018685651
          ],
          [
           0.0018685651
          ],
          [
           -0.00030360496
          ],
          [
           0.0018685651
          ],
          [
           0.0018685651
          ],
          [
           0.0018685651
          ],
          [
           -0.00030360496
          ],
          [
           -0.00030360496
          ],
          [
           -0.00030360496
          ],
          [
           -0.00030360496
          ],
          [
           -0.00030360496
          ],
          [
           -0.00030360496
          ],
          [
           -0.00030360496
          ],
          [
           0.0018685651
          ],
          [
           0.0018685651
          ],
          [
           0.0011170113
          ],
          [
           0.0011170113
          ],
          [
           0.0018685651
          ],
          [
           -0.00029050338
          ],
          [
           -0.00029050338
          ],
          [
           -0.00034991448
          ],
          [
           -0.00034991448
          ],
          [
           0.00015839405
          ],
          [
           0.00015839405
          ],
          [
           0.00015839405
          ],
          [
           -0.00034991448
          ],
          [
           -0.00034991448
          ],
          [
           -0.00034991448
          ],
          [
           -0.00034991448
          ],
          [
           -0.00034991448
          ],
          [
           -0.00034991448
          ],
          [
           0.000078110934
          ],
          [
           0.000078110934
          ],
          [
           0.000078110934
          ],
          [
           -0.000001024476
          ],
          [
           -0.00034991448
          ],
          [
           -0.00034991448
          ],
          [
           -0.00034991448
          ],
          [
           -0.00034991448
          ],
          [
           -0.00034991448
          ],
          [
           0.000078110934
          ],
          [
           0.000078110934
          ],
          [
           0.000078110934
          ],
          [
           0.000078110934
          ],
          [
           0.000078110934
          ],
          [
           0.000078110934
          ],
          [
           0.000078110934
          ],
          [
           -0.00034991448
          ],
          [
           -0.00029050338
          ],
          [
           0.00015839405
          ],
          [
           0.00015839405
          ],
          [
           -0.00029050338
          ],
          [
           -0.00029050338
          ],
          [
           -0.00029050338
          ],
          [
           -0.00029050338
          ],
          [
           -0.00029050338
          ],
          [
           -0.00029050338
          ],
          [
           -0.00029050338
          ],
          [
           -0.00029050338
          ],
          [
           -0.00029050338
          ],
          [
           0.00015839405
          ],
          [
           0.00015839405
          ],
          [
           0.00015839405
          ],
          [
           0.00015839405
          ],
          [
           0.00015839405
          ],
          [
           0.00015839405
          ],
          [
           0.00015839405
          ],
          [
           0.00015839405
          ],
          [
           0.00015839405
          ],
          [
           0.00015839405
          ],
          [
           0.00015839405
          ],
          [
           0.00015839405
          ],
          [
           0.00015839405
          ],
          [
           0.00015839405
          ],
          [
           0.00015839405
          ],
          [
           0.00015839405
          ],
          [
           0.00015839405
          ],
          [
           0.00015839405
          ],
          [
           0.00015839405
          ],
          [
           -0.00016436982
          ],
          [
           0.0011170113
          ],
          [
           0.0011170113
          ],
          [
           -0.00007980825
          ],
          [
           -0.00007980825
          ],
          [
           -0.00007980825
          ],
          [
           -0.00007980825
          ],
          [
           -0.00007980825
          ],
          [
           -0.00007980825
          ],
          [
           -0.00007980825
          ],
          [
           0.000006518898
          ],
          [
           0.000006518898
          ],
          [
           0.000006518898
          ],
          [
           0.000006518898
          ],
          [
           0.000006518898
          ],
          [
           0.000006518898
          ],
          [
           0.000006518898
          ],
          [
           0.000006518898
          ],
          [
           0.000006518898
          ],
          [
           0.000006518898
          ],
          [
           0.000006518898
          ],
          [
           0.000006518898
          ],
          [
           0.000006518898
          ],
          [
           0.000006518898
          ],
          [
           0.000006518898
          ],
          [
           0.000006518898
          ],
          [
           0.000006518898
          ],
          [
           -0.00042449136
          ],
          [
           -0.00042449136
          ],
          [
           -0.00042449136
          ],
          [
           -0.00007980825
          ],
          [
           -0.00042449136
          ],
          [
           -0.00007980825
          ],
          [
           -0.00007980825
          ],
          [
           -0.00016436982
          ],
          [
           -0.00016436982
          ],
          [
           -0.00016436982
          ],
          [
           -0.00016436982
          ],
          [
           -0.00016436982
          ],
          [
           -0.00016436982
          ],
          [
           -0.00016436982
          ],
          [
           -0.00016436982
          ],
          [
           -0.00016436982
          ],
          [
           -0.00016436982
          ],
          [
           -0.00016436982
          ],
          [
           -0.00016436982
          ],
          [
           -0.00016436982
          ],
          [
           -0.00016436982
          ],
          [
           -0.00016436982
          ],
          [
           -0.00007980825
          ],
          [
           -0.00007980825
          ],
          [
           -0.00007980825
          ],
          [
           0.000006518898
          ],
          [
           0.000006518898
          ],
          [
           -0.00007980825
          ],
          [
           -0.00007980825
          ],
          [
           -0.00007980825
          ],
          [
           -0.00007980825
          ],
          [
           -0.00007980825
          ],
          [
           -0.00007980825
          ],
          [
           -0.00007980825
          ],
          [
           -0.00007980825
          ],
          [
           0.0011170113
          ],
          [
           -0.00042449136
          ],
          [
           -0.00042449136
          ],
          [
           0.00018097484
          ],
          [
           0.00018097484
          ],
          [
           0.0018685651
          ],
          [
           0.0018685651
          ],
          [
           0.0018685651
          ],
          [
           0.0018685651
          ],
          [
           0.0018685651
          ],
          [
           0.0018685651
          ],
          [
           0.0018685651
          ],
          [
           0.0018685651
          ],
          [
           0.0018685651
          ],
          [
           0.0018685651
          ],
          [
           -0.00027329268
          ],
          [
           -0.00027329268
          ],
          [
           -0.00027329268
          ],
          [
           -0.00027329268
          ],
          [
           -0.00027329268
          ],
          [
           -0.00042449136
          ],
          [
           -0.00042449136
          ],
          [
           -0.00042449136
          ],
          [
           -0.00030360496
          ],
          [
           0.0018685651
          ],
          [
           0.0011170113
          ],
          [
           0.0011170113
          ],
          [
           0.0011170113
          ],
          [
           0.0011170113
          ],
          [
           0.0011170113
          ],
          [
           0.00018097484
          ],
          [
           -0.00042449136
          ],
          [
           0.00018097484
          ],
          [
           0.00018097484
          ],
          [
           -0.00042449136
          ],
          [
           0.000051314608
          ],
          [
           -0.00042449136
          ],
          [
           -0.00042449136
          ],
          [
           -0.00042449136
          ],
          [
           -0.00042449136
          ],
          [
           -0.00042449136
          ],
          [
           -0.0002609221
          ],
          [
           -0.0002609221
          ],
          [
           -0.0002609221
          ],
          [
           -0.0002609221
          ],
          [
           -0.0002609221
          ],
          [
           -0.0002609221
          ],
          [
           -0.0002609221
          ],
          [
           -0.0002609221
          ],
          [
           -0.0002609221
          ],
          [
           -0.0002609221
          ],
          [
           -0.0002609221
          ],
          [
           -0.00042449136
          ],
          [
           -0.00042449136
          ],
          [
           -0.00042449136
          ],
          [
           0.000051314608
          ],
          [
           -0.00042449136
          ],
          [
           -0.00042449136
          ],
          [
           0.00018097484
          ],
          [
           0.00018097484
          ],
          [
           0.00018097484
          ],
          [
           0.00018097484
          ],
          [
           -0.000001024476
          ]
         ],
         "hovertemplate": "Cluster=Cluster 3<br>PCA1=%{x}<br>PCA2=%{y}<br>Feature=%{customdata[0]}<extra></extra>",
         "legendgroup": "Cluster 3",
         "marker": {
          "color": "#ab63fa",
          "opacity": 0.5,
          "symbol": "circle"
         },
         "mode": "markers",
         "name": "Cluster 3",
         "showlegend": true,
         "textposition": "top center",
         "type": "scattergl",
         "x": [
          -0.091664694,
          -0.11262321,
          -0.09472662,
          -0.066957206,
          -0.043295976,
          -0.21939822,
          0.01662343,
          -0.21982226,
          -0.21682803,
          -0.21754228,
          -0.21749993,
          -0.16066942,
          -0.09727251,
          -0.17913057,
          -0.16743623,
          -0.16310702,
          -0.16498509,
          -0.18071511,
          -0.16386765,
          0.036244195,
          -0.05111445,
          0.026009327,
          -0.22002687,
          -0.16627888,
          -0.047751684,
          -0.08419175,
          -0.09412576,
          -0.10448932,
          -0.12616067,
          -0.02281066,
          -0.21935733,
          -0.19896625,
          -0.21952708,
          -0.22177687,
          -0.22197983,
          -0.22181216,
          -0.22202586,
          -0.22185217,
          -0.22332226,
          -0.22395103,
          -0.22202764,
          -0.18133378,
          -0.22408845,
          -0.22396974,
          -0.22394176,
          -0.22393294,
          -0.22404431,
          -0.22385013,
          -0.18471202,
          -0.21984747,
          -0.187409,
          -0.19583529,
          -0.21877688,
          -0.21460998,
          -0.21146654,
          -0.21571796,
          -0.21018659,
          -0.2140757,
          -0.2156489,
          -0.21688895,
          -0.20411122,
          -0.21178307,
          -0.21450599,
          -0.16298114,
          -0.21601546,
          -0.21558295,
          -0.21675707,
          -0.19697051,
          -0.1802049,
          -0.18664157,
          -0.19236381,
          -0.19364466,
          -0.19966659,
          -0.18939327,
          -0.17692426,
          -0.18060213,
          -0.17064822,
          -0.18639247,
          -0.19597383,
          -0.22393864,
          -0.21511456,
          -0.2143388,
          -0.19721086,
          -0.21380687,
          -0.21400054,
          -0.21554591,
          -0.20622748,
          -0.21628441,
          -0.21790704,
          -0.21734247,
          -0.21634996,
          -0.218332,
          -0.14468798,
          -0.17089705,
          -0.18065219,
          -0.2106883,
          -0.18691893,
          -0.21181992,
          -0.18972297,
          -0.22407572,
          -0.22406057,
          -0.22401208,
          -0.2241525,
          -0.22416839,
          -0.20886415,
          -0.2241064,
          -0.22409472,
          -0.22411767,
          -0.22410673,
          -0.22392093,
          -0.21034266,
          -0.22410184,
          -0.20457312,
          -0.19618884,
          -0.19348781,
          -0.19140755,
          -0.19475845,
          -0.20225517,
          -0.20366672,
          -0.21105255,
          -0.21211176,
          -0.2095457,
          -0.213565,
          -0.20337622,
          -0.15044092,
          -0.13114837,
          -0.18897723,
          -0.12546028,
          -0.09670248,
          -0.19095945,
          -0.15624917,
          -0.17966007,
          -0.174501,
          -0.16407555,
          -0.12474431,
          -0.15360449,
          -0.12774344,
          -0.16623825,
          -0.031312488,
          -0.14218664,
          -0.17785907,
          -0.18494025,
          -0.18863346,
          -0.20289473,
          -0.18467453,
          -0.17850482,
          -0.1765272,
          -0.17174275,
          -0.16628805,
          -0.16366577,
          -0.014647033,
          -0.18380086,
          -0.072605185,
          0.0012580677,
          -0.14490367,
          -0.2176405,
          -0.21684547,
          -0.21692091,
          -0.21088013,
          -0.21486351,
          -0.21779393,
          -0.1719755,
          -0.21780694,
          -0.21686035,
          -0.21556121,
          -0.21134862,
          -0.21444885,
          -0.15923038,
          -0.1660672,
          -0.1812639,
          -0.17181756,
          -0.17463984,
          -0.1834631,
          -0.15599446,
          -0.17520595,
          -0.15946685,
          -0.20272698,
          -0.18259664,
          -0.16832298,
          -0.1532106,
          -0.19230558,
          -0.14830033,
          -0.18672583,
          -0.2086915,
          -0.1542432,
          -0.15291499,
          -0.18329565,
          -0.19661373,
          -0.16915658,
          -0.027892107,
          -0.07647928,
          -0.02712279,
          -0.004719693,
          0.049335282,
          0.039323486,
          -0.055093993,
          -0.14963943,
          -0.14892904,
          -0.12843347,
          -0.120313056,
          -0.09329272,
          -0.0074989623,
          0.016135493,
          0.0006188886,
          0.017755715,
          -0.040799618,
          -0.080123484,
          -0.104404084,
          -0.12522772,
          -0.15998769,
          -0.0313604,
          -0.17124233,
          -0.07713503,
          -0.14097567,
          -0.037274096,
          0.010760959,
          -0.05006475,
          -0.059852112,
          -0.084499046,
          -0.12982656,
          -0.15866676,
          -0.13820434,
          -0.09862604,
          -0.15106347,
          -0.15897566,
          -0.15761136,
          -0.13829674,
          -0.17080195,
          -0.011739275,
          -0.17468603,
          -0.16666241,
          -0.174718,
          -0.019379063,
          0.008257682,
          0.022374427,
          -0.10129779,
          -0.126327,
          -0.1397826,
          -0.111510485,
          -0.17643544,
          -0.16696449,
          -0.039682943,
          -0.16382785,
          -0.124279395,
          -0.08971957,
          0.043513678,
          0.033439565,
          0.042412832,
          -0.1566317,
          -0.19399491,
          -0.19669637,
          -0.01681596,
          -0.111584805,
          -0.07017345,
          -0.0605197,
          -0.032817837,
          0.04406406,
          -0.1707674,
          -0.1734461,
          -0.14698327,
          -0.22399963,
          0.03821471,
          0.045860834,
          -0.029622197,
          0.033583548,
          0.007554479,
          -0.11760826,
          -0.120028414,
          -0.1546082,
          -0.1407209,
          -0.13351199,
          -0.13305749,
          -0.15041882,
          0.003841063,
          -0.008277366,
          -0.18762639,
          -0.19346835,
          0.01718096,
          -0.044501115,
          -0.16242237,
          -0.048716486,
          -0.06268689,
          -0.039299686,
          0.0039361105,
          0.0052035344,
          -0.041812446,
          -0.21338134,
          -0.21579573,
          -0.21567696,
          -0.21577641,
          -0.21584219,
          -0.20774513,
          -0.21495141,
          -0.21287441,
          -0.21064112,
          -0.15592092,
          -0.20777768,
          -0.20695043,
          -0.20687759,
          -0.20746346,
          -0.20420808,
          -0.20440806,
          -0.19495322,
          -0.18946907,
          -0.1858615,
          -0.21045196,
          0.033292685,
          0.013220082,
          -0.1980549,
          -0.19312756,
          -0.1902818,
          -0.1752362,
          -0.20332342,
          -0.2031824,
          -0.19937134,
          -0.22194616,
          -0.22177075,
          -0.22143626,
          -0.2220653,
          -0.22189479,
          -0.22173895,
          -0.221906,
          -0.2214734,
          -0.22087541,
          -0.22051719,
          -0.22061923,
          -0.19069068,
          -0.20870483,
          -0.21126653,
          -0.21396545,
          -0.20821859,
          -0.21431057,
          -0.1988485,
          -0.14618047,
          -0.18538764,
          -0.19527689,
          -0.1964832,
          -0.20697303,
          -0.2061928,
          -0.21104611,
          -0.21132736,
          -0.20680209,
          -0.20066644,
          -0.2100639,
          -0.21032017,
          -0.21109454,
          -0.20312487,
          -0.20390813,
          -0.2089145,
          -0.20706195,
          -0.2058706,
          -0.20093827,
          -0.19272292,
          -0.18454243,
          -0.19881469,
          -0.18734886,
          -0.19044808,
          -0.22142293,
          -0.2216754,
          -0.17563416,
          -0.19276355,
          -0.20457515,
          -0.20690067,
          -0.21280327,
          -0.20033693,
          -0.19902706,
          -0.20863429,
          -0.049592774,
          -0.20155415,
          -0.14374936,
          -0.0869594,
          -0.13959593,
          -0.14264409,
          -0.13810298,
          -0.13748743,
          -0.14363252,
          -0.14337073,
          -0.12145022,
          -0.13987127,
          -0.13482264,
          -0.111215286,
          -0.12144984,
          -0.028921116,
          0.021037403,
          -0.05332445,
          -0.066706836,
          -0.12390956,
          -0.17223106,
          -0.19481061,
          -0.12279572,
          0.03461043,
          -0.12827283,
          -0.058229446,
          -0.078407176,
          -0.0047137053,
          0.038966075,
          -0.0061487383,
          -0.05539021,
          -0.17982394,
          -0.036800127,
          0.010612776,
          -0.111625455,
          -0.11175836,
          -0.16249542,
          -0.12727302,
          -0.09801924,
          -0.12417225,
          -0.11853166,
          -0.16587427,
          -0.14822857,
          -0.1436858,
          -0.1547729,
          -0.13068056,
          -0.11335693,
          -0.1411763,
          -0.10228338,
          -0.0066848686,
          -0.08915375,
          -0.059152775,
          -0.120568335,
          -0.1085765,
          -0.12297432,
          -0.12719728,
          -0.14767016,
          -0.16277966,
          -0.10072094,
          -0.09429576,
          0.03306123,
          -0.026251229,
          -0.2240754
         ],
         "xaxis": "x",
         "y": [
          -0.06145808,
          -0.05972405,
          -0.061204378,
          -0.06350205,
          -0.06545935,
          -0.08218706,
          -0.09326904,
          -0.08215197,
          -0.082399726,
          -0.082340576,
          -0.082344115,
          -0.09997158,
          -0.08384796,
          -0.07773106,
          -0.07869836,
          -0.079056256,
          -0.078901075,
          -0.0776001,
          -0.07899363,
          -0.09489561,
          -0.08766539,
          -0.09404674,
          -0.08213505,
          -0.099507354,
          -0.08794486,
          -0.084930606,
          -0.084109,
          -0.083251566,
          -0.10282629,
          -0.09000846,
          -0.08219043,
          -0.06343126,
          -0.082176395,
          -0.088133104,
          -0.08811629,
          -0.08813016,
          -0.08811249,
          -0.08812685,
          -0.09108689,
          -0.0910349,
          -0.09119398,
          -0.07754872,
          -0.09102352,
          -0.09103335,
          -0.09103566,
          -0.09103638,
          -0.09102716,
          -0.091043234,
          -0.064610355,
          -0.0821499,
          -0.06438714,
          -0.063690186,
          -0.08223846,
          -0.08258313,
          -0.08284321,
          -0.082491495,
          -0.0829492,
          -0.082627416,
          -0.08249722,
          -0.082394615,
          -0.083452,
          -0.0828171,
          -0.08259178,
          -0.086854756,
          -0.082466975,
          -0.082502715,
          -0.08240562,
          -0.06359628,
          -0.07764221,
          -0.05360081,
          -0.07663647,
          -0.08233006,
          -0.08183186,
          -0.082681775,
          -0.08371308,
          -0.08340899,
          -0.08423213,
          -0.082929835,
          -0.08213716,
          -0.091035925,
          -0.07359208,
          -0.073656216,
          -0.082035065,
          -0.07370024,
          -0.073684186,
          -0.073556356,
          -0.07432712,
          -0.07349525,
          -0.07336105,
          -0.07340772,
          -0.073489815,
          -0.073325865,
          -0.101294234,
          -0.0991256,
          -0.09831808,
          -0.07395819,
          -0.0977993,
          -0.080826394,
          -0.082654364,
          -0.09102457,
          -0.09102583,
          -0.09102983,
          -0.09101823,
          -0.09101691,
          -0.09228303,
          -0.09102202,
          -0.09102299,
          -0.091021106,
          -0.091022015,
          -0.09103738,
          -0.080948554,
          -0.09102242,
          -0.081425995,
          -0.082119524,
          -0.082342915,
          -0.08251499,
          -0.082237795,
          -0.08161771,
          -0.08150085,
          -0.08088994,
          -0.0808023,
          -0.08101448,
          -0.08068202,
          -0.081525005,
          -0.100817725,
          -0.102414824,
          -0.075754225,
          -0.058661893,
          -0.061041515,
          -0.09746532,
          -0.10033661,
          -0.09839998,
          -0.0988268,
          -0.09968919,
          -0.10294276,
          -0.100555755,
          -0.102695055,
          -0.07879749,
          -0.06644929,
          -0.08078717,
          -0.07783592,
          -0.07725026,
          -0.07694485,
          -0.07576509,
          -0.07727218,
          -0.07778262,
          -0.07794648,
          -0.078342244,
          -0.07879339,
          -0.07901055,
          -0.09133755,
          -0.077344485,
          -0.06303439,
          -0.069142856,
          -0.057053417,
          -0.07338307,
          -0.07344882,
          -0.073442556,
          -0.07394236,
          -0.07361277,
          -0.073370375,
          -0.099035636,
          -0.073369294,
          -0.07344761,
          -0.07355509,
          -0.0739035,
          -0.07364713,
          -0.05586841,
          -0.05530282,
          -0.05404569,
          -0.054827098,
          -0.054593876,
          -0.053863827,
          -0.056135986,
          -0.054546848,
          -0.055848826,
          -0.06312006,
          -0.05393531,
          -0.05511598,
          -0.056366175,
          -0.076641075,
          -0.06762262,
          -0.094211444,
          -0.062626675,
          -0.08715128,
          -0.087261155,
          -0.08474808,
          -0.083646365,
          -0.085917674,
          -0.08733156,
          -0.08331265,
          -0.087394975,
          -0.08924785,
          -0.09371918,
          -0.09289206,
          -0.08767365,
          -0.07985384,
          -0.079912566,
          -0.08160803,
          -0.08227944,
          -0.08451462,
          -0.091612116,
          -0.09356922,
          -0.09228436,
          -0.09370242,
          -0.08885878,
          -0.085605025,
          -0.083595715,
          -0.081872925,
          -0.07899774,
          -0.09652962,
          -0.08574521,
          -0.0927431,
          -0.088248886,
          -0.09682672,
          -0.10080219,
          -0.09577027,
          -0.09496022,
          -0.09292088,
          -0.096424185,
          -0.08678566,
          -0.09573122,
          -0.09175163,
          -0.09466764,
          -0.094012976,
          -0.09412592,
          -0.09572369,
          -0.093034774,
          -0.088670045,
          -0.09271334,
          -0.09337706,
          -0.09271135,
          -0.0880365,
          -0.090322345,
          -0.09148921,
          -0.08125998,
          -0.079189666,
          -0.078076445,
          -0.08041436,
          -0.09256929,
          -0.09335292,
          -0.096626915,
          -0.08635881,
          -0.096882984,
          -0.09170227,
          -0.10272301,
          -0.08378787,
          -0.08453138,
          -0.07105323,
          -0.06796281,
          -0.067739345,
          -0.07963021,
          -0.071790494,
          -0.07521475,
          -0.07601477,
          -0.078306735,
          -0.08466769,
          -0.094035275,
          -0.0938137,
          -0.096002504,
          -0.09103087,
          -0.08418221,
          -0.08481569,
          -0.07857065,
          -0.083799094,
          -0.08164667,
          -0.09843254,
          -0.09823205,
          -0.095371924,
          -0.096520685,
          -0.097117335,
          -0.097154856,
          -0.095718436,
          -0.08134001,
          -0.09843879,
          -0.06848966,
          -0.068006285,
          -0.10054507,
          -0.09544243,
          -0.08568774,
          -0.09509279,
          -0.093937896,
          -0.095871836,
          -0.09944891,
          -0.0995547,
          -0.09566469,
          -0.06635902,
          -0.06615928,
          -0.0661691,
          -0.066160865,
          -0.066155426,
          -0.06682524,
          -0.066229105,
          -0.066400886,
          -0.06658566,
          -0.07111249,
          -0.06682249,
          -0.066890925,
          -0.06689702,
          -0.06684862,
          -0.06711776,
          -0.06710133,
          -0.06788342,
          -0.06833725,
          -0.068635456,
          -0.06248107,
          -0.10266644,
          -0.1010039,
          -0.09327445,
          -0.09368229,
          -0.0939176,
          -0.09516179,
          -0.09283868,
          -0.09285039,
          -0.09316559,
          -0.08811908,
          -0.088133596,
          -0.08816126,
          -0.088109225,
          -0.08812333,
          -0.08813623,
          -0.088122405,
          -0.0881582,
          -0.08820766,
          -0.08823731,
          -0.08822887,
          -0.09070468,
          -0.0892146,
          -0.08900265,
          -0.08877946,
          -0.08925475,
          -0.08875076,
          -0.09739939,
          -0.10175562,
          -0.09851283,
          -0.09350433,
          -0.097595274,
          -0.09253673,
          -0.09260123,
          -0.06243188,
          -0.0624086,
          -0.062783055,
          -0.063290566,
          -0.062513135,
          -0.06249192,
          -0.06242791,
          -0.06308713,
          -0.063022405,
          -0.062608294,
          -0.062761515,
          -0.06286006,
          -0.06326804,
          -0.06394764,
          -0.06462431,
          -0.093211636,
          -0.09416002,
          -0.093904175,
          -0.08816238,
          -0.08814148,
          -0.095129006,
          -0.093712114,
          -0.092735074,
          -0.09254276,
          -0.09205442,
          -0.09308561,
          -0.09319388,
          -0.09239931,
          -0.09580899,
          -0.09717561,
          -0.10195722,
          -0.06574654,
          -0.061392114,
          -0.09536373,
          -0.09573934,
          -0.095790155,
          -0.09528209,
          -0.09530392,
          -0.097116835,
          -0.095593445,
          -0.096010484,
          -0.09796336,
          -0.09711729,
          -0.086338654,
          -0.09047021,
          -0.084319904,
          -0.08321334,
          -0.07848122,
          -0.09960134,
          -0.09773346,
          -0.103690915,
          -0.09250286,
          -0.09655251,
          -0.09509354,
          -0.093425974,
          -0.09952142,
          -0.103136495,
          -0.09940375,
          -0.06835753,
          -0.098973036,
          -0.06989574,
          -0.07381816,
          -0.10461467,
          -0.10693545,
          -0.10040647,
          -0.10332026,
          -0.10574054,
          -0.10357726,
          -0.104043774,
          -0.068748586,
          -0.07020829,
          -0.070584126,
          -0.06966702,
          -0.07165985,
          -0.07309256,
          -0.07079185,
          -0.074009255,
          -0.08191684,
          -0.07509525,
          -0.07757713,
          -0.10387567,
          -0.104866795,
          -0.10367562,
          -0.10565823,
          -0.10163286,
          -0.10038295,
          -0.064608686,
          -0.06513998,
          -0.07567412,
          -0.070768304,
          -0.09102459
         ],
         "yaxis": "y"
        }
       ],
       "layout": {
        "height": 600,
        "legend": {
         "title": {
          "text": "Cluster"
         },
         "tracegroupgap": 0
        },
        "margin": {
         "t": 60
        },
        "plot_bgcolor": "rgb(240,240,240)",
        "template": {
         "data": {
          "bar": [
           {
            "error_x": {
             "color": "#2a3f5f"
            },
            "error_y": {
             "color": "#2a3f5f"
            },
            "marker": {
             "line": {
              "color": "#E5ECF6",
              "width": 0.5
             },
             "pattern": {
              "fillmode": "overlay",
              "size": 10,
              "solidity": 0.2
             }
            },
            "type": "bar"
           }
          ],
          "barpolar": [
           {
            "marker": {
             "line": {
              "color": "#E5ECF6",
              "width": 0.5
             },
             "pattern": {
              "fillmode": "overlay",
              "size": 10,
              "solidity": 0.2
             }
            },
            "type": "barpolar"
           }
          ],
          "carpet": [
           {
            "aaxis": {
             "endlinecolor": "#2a3f5f",
             "gridcolor": "white",
             "linecolor": "white",
             "minorgridcolor": "white",
             "startlinecolor": "#2a3f5f"
            },
            "baxis": {
             "endlinecolor": "#2a3f5f",
             "gridcolor": "white",
             "linecolor": "white",
             "minorgridcolor": "white",
             "startlinecolor": "#2a3f5f"
            },
            "type": "carpet"
           }
          ],
          "choropleth": [
           {
            "colorbar": {
             "outlinewidth": 0,
             "ticks": ""
            },
            "type": "choropleth"
           }
          ],
          "contour": [
           {
            "colorbar": {
             "outlinewidth": 0,
             "ticks": ""
            },
            "colorscale": [
             [
              0,
              "#0d0887"
             ],
             [
              0.1111111111111111,
              "#46039f"
             ],
             [
              0.2222222222222222,
              "#7201a8"
             ],
             [
              0.3333333333333333,
              "#9c179e"
             ],
             [
              0.4444444444444444,
              "#bd3786"
             ],
             [
              0.5555555555555556,
              "#d8576b"
             ],
             [
              0.6666666666666666,
              "#ed7953"
             ],
             [
              0.7777777777777778,
              "#fb9f3a"
             ],
             [
              0.8888888888888888,
              "#fdca26"
             ],
             [
              1,
              "#f0f921"
             ]
            ],
            "type": "contour"
           }
          ],
          "contourcarpet": [
           {
            "colorbar": {
             "outlinewidth": 0,
             "ticks": ""
            },
            "type": "contourcarpet"
           }
          ],
          "heatmap": [
           {
            "colorbar": {
             "outlinewidth": 0,
             "ticks": ""
            },
            "colorscale": [
             [
              0,
              "#0d0887"
             ],
             [
              0.1111111111111111,
              "#46039f"
             ],
             [
              0.2222222222222222,
              "#7201a8"
             ],
             [
              0.3333333333333333,
              "#9c179e"
             ],
             [
              0.4444444444444444,
              "#bd3786"
             ],
             [
              0.5555555555555556,
              "#d8576b"
             ],
             [
              0.6666666666666666,
              "#ed7953"
             ],
             [
              0.7777777777777778,
              "#fb9f3a"
             ],
             [
              0.8888888888888888,
              "#fdca26"
             ],
             [
              1,
              "#f0f921"
             ]
            ],
            "type": "heatmap"
           }
          ],
          "heatmapgl": [
           {
            "colorbar": {
             "outlinewidth": 0,
             "ticks": ""
            },
            "colorscale": [
             [
              0,
              "#0d0887"
             ],
             [
              0.1111111111111111,
              "#46039f"
             ],
             [
              0.2222222222222222,
              "#7201a8"
             ],
             [
              0.3333333333333333,
              "#9c179e"
             ],
             [
              0.4444444444444444,
              "#bd3786"
             ],
             [
              0.5555555555555556,
              "#d8576b"
             ],
             [
              0.6666666666666666,
              "#ed7953"
             ],
             [
              0.7777777777777778,
              "#fb9f3a"
             ],
             [
              0.8888888888888888,
              "#fdca26"
             ],
             [
              1,
              "#f0f921"
             ]
            ],
            "type": "heatmapgl"
           }
          ],
          "histogram": [
           {
            "marker": {
             "pattern": {
              "fillmode": "overlay",
              "size": 10,
              "solidity": 0.2
             }
            },
            "type": "histogram"
           }
          ],
          "histogram2d": [
           {
            "colorbar": {
             "outlinewidth": 0,
             "ticks": ""
            },
            "colorscale": [
             [
              0,
              "#0d0887"
             ],
             [
              0.1111111111111111,
              "#46039f"
             ],
             [
              0.2222222222222222,
              "#7201a8"
             ],
             [
              0.3333333333333333,
              "#9c179e"
             ],
             [
              0.4444444444444444,
              "#bd3786"
             ],
             [
              0.5555555555555556,
              "#d8576b"
             ],
             [
              0.6666666666666666,
              "#ed7953"
             ],
             [
              0.7777777777777778,
              "#fb9f3a"
             ],
             [
              0.8888888888888888,
              "#fdca26"
             ],
             [
              1,
              "#f0f921"
             ]
            ],
            "type": "histogram2d"
           }
          ],
          "histogram2dcontour": [
           {
            "colorbar": {
             "outlinewidth": 0,
             "ticks": ""
            },
            "colorscale": [
             [
              0,
              "#0d0887"
             ],
             [
              0.1111111111111111,
              "#46039f"
             ],
             [
              0.2222222222222222,
              "#7201a8"
             ],
             [
              0.3333333333333333,
              "#9c179e"
             ],
             [
              0.4444444444444444,
              "#bd3786"
             ],
             [
              0.5555555555555556,
              "#d8576b"
             ],
             [
              0.6666666666666666,
              "#ed7953"
             ],
             [
              0.7777777777777778,
              "#fb9f3a"
             ],
             [
              0.8888888888888888,
              "#fdca26"
             ],
             [
              1,
              "#f0f921"
             ]
            ],
            "type": "histogram2dcontour"
           }
          ],
          "mesh3d": [
           {
            "colorbar": {
             "outlinewidth": 0,
             "ticks": ""
            },
            "type": "mesh3d"
           }
          ],
          "parcoords": [
           {
            "line": {
             "colorbar": {
              "outlinewidth": 0,
              "ticks": ""
             }
            },
            "type": "parcoords"
           }
          ],
          "pie": [
           {
            "automargin": true,
            "type": "pie"
           }
          ],
          "scatter": [
           {
            "fillpattern": {
             "fillmode": "overlay",
             "size": 10,
             "solidity": 0.2
            },
            "type": "scatter"
           }
          ],
          "scatter3d": [
           {
            "line": {
             "colorbar": {
              "outlinewidth": 0,
              "ticks": ""
             }
            },
            "marker": {
             "colorbar": {
              "outlinewidth": 0,
              "ticks": ""
             }
            },
            "type": "scatter3d"
           }
          ],
          "scattercarpet": [
           {
            "marker": {
             "colorbar": {
              "outlinewidth": 0,
              "ticks": ""
             }
            },
            "type": "scattercarpet"
           }
          ],
          "scattergeo": [
           {
            "marker": {
             "colorbar": {
              "outlinewidth": 0,
              "ticks": ""
             }
            },
            "type": "scattergeo"
           }
          ],
          "scattergl": [
           {
            "marker": {
             "colorbar": {
              "outlinewidth": 0,
              "ticks": ""
             }
            },
            "type": "scattergl"
           }
          ],
          "scattermapbox": [
           {
            "marker": {
             "colorbar": {
              "outlinewidth": 0,
              "ticks": ""
             }
            },
            "type": "scattermapbox"
           }
          ],
          "scatterpolar": [
           {
            "marker": {
             "colorbar": {
              "outlinewidth": 0,
              "ticks": ""
             }
            },
            "type": "scatterpolar"
           }
          ],
          "scatterpolargl": [
           {
            "marker": {
             "colorbar": {
              "outlinewidth": 0,
              "ticks": ""
             }
            },
            "type": "scatterpolargl"
           }
          ],
          "scatterternary": [
           {
            "marker": {
             "colorbar": {
              "outlinewidth": 0,
              "ticks": ""
             }
            },
            "type": "scatterternary"
           }
          ],
          "surface": [
           {
            "colorbar": {
             "outlinewidth": 0,
             "ticks": ""
            },
            "colorscale": [
             [
              0,
              "#0d0887"
             ],
             [
              0.1111111111111111,
              "#46039f"
             ],
             [
              0.2222222222222222,
              "#7201a8"
             ],
             [
              0.3333333333333333,
              "#9c179e"
             ],
             [
              0.4444444444444444,
              "#bd3786"
             ],
             [
              0.5555555555555556,
              "#d8576b"
             ],
             [
              0.6666666666666666,
              "#ed7953"
             ],
             [
              0.7777777777777778,
              "#fb9f3a"
             ],
             [
              0.8888888888888888,
              "#fdca26"
             ],
             [
              1,
              "#f0f921"
             ]
            ],
            "type": "surface"
           }
          ],
          "table": [
           {
            "cells": {
             "fill": {
              "color": "#EBF0F8"
             },
             "line": {
              "color": "white"
             }
            },
            "header": {
             "fill": {
              "color": "#C8D4E3"
             },
             "line": {
              "color": "white"
             }
            },
            "type": "table"
           }
          ]
         },
         "layout": {
          "annotationdefaults": {
           "arrowcolor": "#2a3f5f",
           "arrowhead": 0,
           "arrowwidth": 1
          },
          "autotypenumbers": "strict",
          "coloraxis": {
           "colorbar": {
            "outlinewidth": 0,
            "ticks": ""
           }
          },
          "colorscale": {
           "diverging": [
            [
             0,
             "#8e0152"
            ],
            [
             0.1,
             "#c51b7d"
            ],
            [
             0.2,
             "#de77ae"
            ],
            [
             0.3,
             "#f1b6da"
            ],
            [
             0.4,
             "#fde0ef"
            ],
            [
             0.5,
             "#f7f7f7"
            ],
            [
             0.6,
             "#e6f5d0"
            ],
            [
             0.7,
             "#b8e186"
            ],
            [
             0.8,
             "#7fbc41"
            ],
            [
             0.9,
             "#4d9221"
            ],
            [
             1,
             "#276419"
            ]
           ],
           "sequential": [
            [
             0,
             "#0d0887"
            ],
            [
             0.1111111111111111,
             "#46039f"
            ],
            [
             0.2222222222222222,
             "#7201a8"
            ],
            [
             0.3333333333333333,
             "#9c179e"
            ],
            [
             0.4444444444444444,
             "#bd3786"
            ],
            [
             0.5555555555555556,
             "#d8576b"
            ],
            [
             0.6666666666666666,
             "#ed7953"
            ],
            [
             0.7777777777777778,
             "#fb9f3a"
            ],
            [
             0.8888888888888888,
             "#fdca26"
            ],
            [
             1,
             "#f0f921"
            ]
           ],
           "sequentialminus": [
            [
             0,
             "#0d0887"
            ],
            [
             0.1111111111111111,
             "#46039f"
            ],
            [
             0.2222222222222222,
             "#7201a8"
            ],
            [
             0.3333333333333333,
             "#9c179e"
            ],
            [
             0.4444444444444444,
             "#bd3786"
            ],
            [
             0.5555555555555556,
             "#d8576b"
            ],
            [
             0.6666666666666666,
             "#ed7953"
            ],
            [
             0.7777777777777778,
             "#fb9f3a"
            ],
            [
             0.8888888888888888,
             "#fdca26"
            ],
            [
             1,
             "#f0f921"
            ]
           ]
          },
          "colorway": [
           "#636efa",
           "#EF553B",
           "#00cc96",
           "#ab63fa",
           "#FFA15A",
           "#19d3f3",
           "#FF6692",
           "#B6E880",
           "#FF97FF",
           "#FECB52"
          ],
          "font": {
           "color": "#2a3f5f"
          },
          "geo": {
           "bgcolor": "white",
           "lakecolor": "white",
           "landcolor": "#E5ECF6",
           "showlakes": true,
           "showland": true,
           "subunitcolor": "white"
          },
          "hoverlabel": {
           "align": "left"
          },
          "hovermode": "closest",
          "mapbox": {
           "style": "light"
          },
          "paper_bgcolor": "white",
          "plot_bgcolor": "#E5ECF6",
          "polar": {
           "angularaxis": {
            "gridcolor": "white",
            "linecolor": "white",
            "ticks": ""
           },
           "bgcolor": "#E5ECF6",
           "radialaxis": {
            "gridcolor": "white",
            "linecolor": "white",
            "ticks": ""
           }
          },
          "scene": {
           "xaxis": {
            "backgroundcolor": "#E5ECF6",
            "gridcolor": "white",
            "gridwidth": 2,
            "linecolor": "white",
            "showbackground": true,
            "ticks": "",
            "zerolinecolor": "white"
           },
           "yaxis": {
            "backgroundcolor": "#E5ECF6",
            "gridcolor": "white",
            "gridwidth": 2,
            "linecolor": "white",
            "showbackground": true,
            "ticks": "",
            "zerolinecolor": "white"
           },
           "zaxis": {
            "backgroundcolor": "#E5ECF6",
            "gridcolor": "white",
            "gridwidth": 2,
            "linecolor": "white",
            "showbackground": true,
            "ticks": "",
            "zerolinecolor": "white"
           }
          },
          "shapedefaults": {
           "line": {
            "color": "#2a3f5f"
           }
          },
          "ternary": {
           "aaxis": {
            "gridcolor": "white",
            "linecolor": "white",
            "ticks": ""
           },
           "baxis": {
            "gridcolor": "white",
            "linecolor": "white",
            "ticks": ""
           },
           "bgcolor": "#E5ECF6",
           "caxis": {
            "gridcolor": "white",
            "linecolor": "white",
            "ticks": ""
           }
          },
          "title": {
           "x": 0.05
          },
          "xaxis": {
           "automargin": true,
           "gridcolor": "white",
           "linecolor": "white",
           "ticks": "",
           "title": {
            "standoff": 15
           },
           "zerolinecolor": "white",
           "zerolinewidth": 2
          },
          "yaxis": {
           "automargin": true,
           "gridcolor": "white",
           "linecolor": "white",
           "ticks": "",
           "title": {
            "standoff": 15
           },
           "zerolinecolor": "white",
           "zerolinewidth": 2
          }
         }
        },
        "title": {
         "text": "2D Cluster PCA Plot"
        },
        "xaxis": {
         "anchor": "y",
         "domain": [
          0,
          1
         ],
         "title": {
          "text": "PCA1"
         }
        },
        "yaxis": {
         "anchor": "x",
         "domain": [
          0,
          1
         ],
         "title": {
          "text": "PCA2"
         }
        }
       }
      }
     },
     "metadata": {},
     "output_type": "display_data"
    }
   ],
   "source": [
    "plot_model(aggl, plot = 'cluster')"
   ]
  },
  {
   "cell_type": "markdown",
   "metadata": {},
   "source": [
    "### Plot Elbow Curve for Clustering"
   ]
  },
  {
   "cell_type": "code",
   "execution_count": 149,
   "metadata": {},
   "outputs": [
    {
     "data": {
      "text/html": [],
      "text/plain": [
       "<IPython.core.display.HTML object>"
      ]
     },
     "metadata": {},
     "output_type": "display_data"
    },
    {
     "data": {
      "image/png": "[encoded data removed]",
      "text/plain": [
       "<Figure size 800x550 with 1 Axes>"
      ]
     },
     "metadata": {},
     "output_type": "display_data"
    }
   ],
   "source": [
    "plot_model(aggl, plot = 'elbow')"
   ]
  },
  {
   "cell_type": "markdown",
   "metadata": {},
   "source": [
    "### Plot Silhoutte\n",
    "\n",
    "Only seems to work for kmeans model. This appears to be a bug with this version of pycaret, as other models have silhouette scores."
   ]
  },
  {
   "cell_type": "code",
   "execution_count": 152,
   "metadata": {},
   "outputs": [],
   "source": [
    "#plot_model(kmeans, plot = 'silhouette')"
   ]
  },
  {
   "cell_type": "markdown",
   "metadata": {},
   "source": [
    "### Now Run for All Model Options and Compare Performance"
   ]
  },
  {
   "cell_type": "code",
   "execution_count": 77,
   "metadata": {},
   "outputs": [],
   "source": [
    "model_list = ['kmeans', 'ap', 'meanshift', 'sc', 'hclust', 'dbscan', 'optics', 'birch']"
   ]
  },
  {
   "cell_type": "markdown",
   "metadata": {},
   "source": [
    "### Brief Description of the Algorithms Tested\n",
    "K-Means Clustering : Minimizes the distance of the data points relative to a given number of centroids <br><br>\n",
    "\n",
    "Affinity Propagation : Clusters points based on a similarity function, requires a set number of clusters and eigenvectors to use. <br><br>\n",
    "\n",
    "Mean Shift Clustering : Seeks to group data according to maximas in an underlying density function. Does not require a present cluster number. <br><br>\n",
    "\n",
    "Spectral Clustering : Uses the eigenvectors of the data's similarity matrix to reduce the data's dimension and then k-means clustering. <br><br>\n",
    "\n",
    "Agglomerative Clustering : Begins with each point as it's own cluster, and progressively merges clusters to maximize the distance between clusters.<br><br>\n",
    "\n",
    "DBSCAN : Forms clusters by separating areas of low and high density, two parameters must be set to decide what is considered 'dense'. <br><br>\n",
    "\n",
    "OPTICS : Is similar to DBSCAN, but can have a less rigid definition of density.<br><br>\n",
    "\n",
    "BIRCH : Clusters by first performing extreme dimensionality reduction to the data, and incrementally adding complexity back in until given, threshold, branching, and cluster number parameters are met."
   ]
  },
  {
   "cell_type": "code",
   "execution_count": 130,
   "metadata": {},
   "outputs": [
    {
     "data": {
      "text/html": [],
      "text/plain": [
       "<IPython.core.display.HTML object>"
      ]
     },
     "metadata": {},
     "output_type": "display_data"
    },
    {
     "data": {
      "text/html": [
       "<style type=\"text/css\">\n",
       "</style>\n",
       "<table id=\"T_15e4e\">\n",
       "  <thead>\n",
       "    <tr>\n",
       "      <th class=\"blank level0\" >&nbsp;</th>\n",
       "      <th id=\"T_15e4e_level0_col0\" class=\"col_heading level0 col0\" >Silhouette</th>\n",
       "      <th id=\"T_15e4e_level0_col1\" class=\"col_heading level0 col1\" >Calinski-Harabasz</th>\n",
       "      <th id=\"T_15e4e_level0_col2\" class=\"col_heading level0 col2\" >Davies-Bouldin</th>\n",
       "      <th id=\"T_15e4e_level0_col3\" class=\"col_heading level0 col3\" >Homogeneity</th>\n",
       "      <th id=\"T_15e4e_level0_col4\" class=\"col_heading level0 col4\" >Rand Index</th>\n",
       "      <th id=\"T_15e4e_level0_col5\" class=\"col_heading level0 col5\" >Completeness</th>\n",
       "    </tr>\n",
       "  </thead>\n",
       "  <tbody>\n",
       "    <tr>\n",
       "      <th id=\"T_15e4e_level0_row0\" class=\"row_heading level0 row0\" >0</th>\n",
       "      <td id=\"T_15e4e_row0_col0\" class=\"data row0 col0\" >0.3994</td>\n",
       "      <td id=\"T_15e4e_row0_col1\" class=\"data row0 col1\" >1637.5477</td>\n",
       "      <td id=\"T_15e4e_row0_col2\" class=\"data row0 col2\" >0.8706</td>\n",
       "      <td id=\"T_15e4e_row0_col3\" class=\"data row0 col3\" >0</td>\n",
       "      <td id=\"T_15e4e_row0_col4\" class=\"data row0 col4\" >0</td>\n",
       "      <td id=\"T_15e4e_row0_col5\" class=\"data row0 col5\" >0</td>\n",
       "    </tr>\n",
       "  </tbody>\n",
       "</table>\n"
      ],
      "text/plain": [
       "<pandas.io.formats.style.Styler at 0x343dbdf90>"
      ]
     },
     "metadata": {},
     "output_type": "display_data"
    },
    {
     "data": {
      "text/html": [],
      "text/plain": [
       "<IPython.core.display.HTML object>"
      ]
     },
     "metadata": {},
     "output_type": "display_data"
    },
    {
     "data": {
      "text/html": [],
      "text/plain": [
       "<IPython.core.display.HTML object>"
      ]
     },
     "metadata": {},
     "output_type": "display_data"
    },
    {
     "data": {
      "text/html": [
       "<style type=\"text/css\">\n",
       "</style>\n",
       "<table id=\"T_76104\">\n",
       "  <thead>\n",
       "    <tr>\n",
       "      <th class=\"blank level0\" >&nbsp;</th>\n",
       "      <th id=\"T_76104_level0_col0\" class=\"col_heading level0 col0\" >Silhouette</th>\n",
       "      <th id=\"T_76104_level0_col1\" class=\"col_heading level0 col1\" >Calinski-Harabasz</th>\n",
       "      <th id=\"T_76104_level0_col2\" class=\"col_heading level0 col2\" >Davies-Bouldin</th>\n",
       "      <th id=\"T_76104_level0_col3\" class=\"col_heading level0 col3\" >Homogeneity</th>\n",
       "      <th id=\"T_76104_level0_col4\" class=\"col_heading level0 col4\" >Rand Index</th>\n",
       "      <th id=\"T_76104_level0_col5\" class=\"col_heading level0 col5\" >Completeness</th>\n",
       "    </tr>\n",
       "  </thead>\n",
       "  <tbody>\n",
       "    <tr>\n",
       "      <th id=\"T_76104_level0_row0\" class=\"row_heading level0 row0\" >0</th>\n",
       "      <td id=\"T_76104_row0_col0\" class=\"data row0 col0\" >0.2587</td>\n",
       "      <td id=\"T_76104_row0_col1\" class=\"data row0 col1\" >249.7507</td>\n",
       "      <td id=\"T_76104_row0_col2\" class=\"data row0 col2\" >0.6476</td>\n",
       "      <td id=\"T_76104_row0_col3\" class=\"data row0 col3\" >0</td>\n",
       "      <td id=\"T_76104_row0_col4\" class=\"data row0 col4\" >0</td>\n",
       "      <td id=\"T_76104_row0_col5\" class=\"data row0 col5\" >0</td>\n",
       "    </tr>\n",
       "  </tbody>\n",
       "</table>\n"
      ],
      "text/plain": [
       "<pandas.io.formats.style.Styler at 0x358445350>"
      ]
     },
     "metadata": {},
     "output_type": "display_data"
    },
    {
     "data": {
      "text/html": [],
      "text/plain": [
       "<IPython.core.display.HTML object>"
      ]
     },
     "metadata": {},
     "output_type": "display_data"
    },
    {
     "data": {
      "text/html": [],
      "text/plain": [
       "<IPython.core.display.HTML object>"
      ]
     },
     "metadata": {},
     "output_type": "display_data"
    },
    {
     "data": {
      "text/html": [
       "<style type=\"text/css\">\n",
       "</style>\n",
       "<table id=\"T_a60d8\">\n",
       "  <thead>\n",
       "    <tr>\n",
       "      <th class=\"blank level0\" >&nbsp;</th>\n",
       "      <th id=\"T_a60d8_level0_col0\" class=\"col_heading level0 col0\" >Silhouette</th>\n",
       "      <th id=\"T_a60d8_level0_col1\" class=\"col_heading level0 col1\" >Calinski-Harabasz</th>\n",
       "      <th id=\"T_a60d8_level0_col2\" class=\"col_heading level0 col2\" >Davies-Bouldin</th>\n",
       "      <th id=\"T_a60d8_level0_col3\" class=\"col_heading level0 col3\" >Homogeneity</th>\n",
       "      <th id=\"T_a60d8_level0_col4\" class=\"col_heading level0 col4\" >Rand Index</th>\n",
       "      <th id=\"T_a60d8_level0_col5\" class=\"col_heading level0 col5\" >Completeness</th>\n",
       "    </tr>\n",
       "  </thead>\n",
       "  <tbody>\n",
       "    <tr>\n",
       "      <th id=\"T_a60d8_level0_row0\" class=\"row_heading level0 row0\" >0</th>\n",
       "      <td id=\"T_a60d8_row0_col0\" class=\"data row0 col0\" >0</td>\n",
       "      <td id=\"T_a60d8_row0_col1\" class=\"data row0 col1\" >0</td>\n",
       "      <td id=\"T_a60d8_row0_col2\" class=\"data row0 col2\" >0</td>\n",
       "      <td id=\"T_a60d8_row0_col3\" class=\"data row0 col3\" >0</td>\n",
       "      <td id=\"T_a60d8_row0_col4\" class=\"data row0 col4\" >0</td>\n",
       "      <td id=\"T_a60d8_row0_col5\" class=\"data row0 col5\" >0</td>\n",
       "    </tr>\n",
       "  </tbody>\n",
       "</table>\n"
      ],
      "text/plain": [
       "<pandas.io.formats.style.Styler at 0x343cd4350>"
      ]
     },
     "metadata": {},
     "output_type": "display_data"
    },
    {
     "data": {
      "text/html": [],
      "text/plain": [
       "<IPython.core.display.HTML object>"
      ]
     },
     "metadata": {},
     "output_type": "display_data"
    },
    {
     "data": {
      "text/html": [],
      "text/plain": [
       "<IPython.core.display.HTML object>"
      ]
     },
     "metadata": {},
     "output_type": "display_data"
    },
    {
     "data": {
      "text/html": [
       "<style type=\"text/css\">\n",
       "</style>\n",
       "<table id=\"T_9d4f6\">\n",
       "  <thead>\n",
       "    <tr>\n",
       "      <th class=\"blank level0\" >&nbsp;</th>\n",
       "      <th id=\"T_9d4f6_level0_col0\" class=\"col_heading level0 col0\" >Silhouette</th>\n",
       "      <th id=\"T_9d4f6_level0_col1\" class=\"col_heading level0 col1\" >Calinski-Harabasz</th>\n",
       "      <th id=\"T_9d4f6_level0_col2\" class=\"col_heading level0 col2\" >Davies-Bouldin</th>\n",
       "      <th id=\"T_9d4f6_level0_col3\" class=\"col_heading level0 col3\" >Homogeneity</th>\n",
       "      <th id=\"T_9d4f6_level0_col4\" class=\"col_heading level0 col4\" >Rand Index</th>\n",
       "      <th id=\"T_9d4f6_level0_col5\" class=\"col_heading level0 col5\" >Completeness</th>\n",
       "    </tr>\n",
       "  </thead>\n",
       "  <tbody>\n",
       "    <tr>\n",
       "      <th id=\"T_9d4f6_level0_row0\" class=\"row_heading level0 row0\" >0</th>\n",
       "      <td id=\"T_9d4f6_row0_col0\" class=\"data row0 col0\" >0.3873</td>\n",
       "      <td id=\"T_9d4f6_row0_col1\" class=\"data row0 col1\" >1464.9151</td>\n",
       "      <td id=\"T_9d4f6_row0_col2\" class=\"data row0 col2\" >0.9241</td>\n",
       "      <td id=\"T_9d4f6_row0_col3\" class=\"data row0 col3\" >0</td>\n",
       "      <td id=\"T_9d4f6_row0_col4\" class=\"data row0 col4\" >0</td>\n",
       "      <td id=\"T_9d4f6_row0_col5\" class=\"data row0 col5\" >0</td>\n",
       "    </tr>\n",
       "  </tbody>\n",
       "</table>\n"
      ],
      "text/plain": [
       "<pandas.io.formats.style.Styler at 0x17cf01590>"
      ]
     },
     "metadata": {},
     "output_type": "display_data"
    },
    {
     "data": {
      "text/html": [],
      "text/plain": [
       "<IPython.core.display.HTML object>"
      ]
     },
     "metadata": {},
     "output_type": "display_data"
    },
    {
     "data": {
      "text/html": [],
      "text/plain": [
       "<IPython.core.display.HTML object>"
      ]
     },
     "metadata": {},
     "output_type": "display_data"
    },
    {
     "data": {
      "text/html": [
       "<style type=\"text/css\">\n",
       "</style>\n",
       "<table id=\"T_ec3bc\">\n",
       "  <thead>\n",
       "    <tr>\n",
       "      <th class=\"blank level0\" >&nbsp;</th>\n",
       "      <th id=\"T_ec3bc_level0_col0\" class=\"col_heading level0 col0\" >Silhouette</th>\n",
       "      <th id=\"T_ec3bc_level0_col1\" class=\"col_heading level0 col1\" >Calinski-Harabasz</th>\n",
       "      <th id=\"T_ec3bc_level0_col2\" class=\"col_heading level0 col2\" >Davies-Bouldin</th>\n",
       "      <th id=\"T_ec3bc_level0_col3\" class=\"col_heading level0 col3\" >Homogeneity</th>\n",
       "      <th id=\"T_ec3bc_level0_col4\" class=\"col_heading level0 col4\" >Rand Index</th>\n",
       "      <th id=\"T_ec3bc_level0_col5\" class=\"col_heading level0 col5\" >Completeness</th>\n",
       "    </tr>\n",
       "  </thead>\n",
       "  <tbody>\n",
       "    <tr>\n",
       "      <th id=\"T_ec3bc_level0_row0\" class=\"row_heading level0 row0\" >0</th>\n",
       "      <td id=\"T_ec3bc_row0_col0\" class=\"data row0 col0\" >0.3149</td>\n",
       "      <td id=\"T_ec3bc_row0_col1\" class=\"data row0 col1\" >1121.6542</td>\n",
       "      <td id=\"T_ec3bc_row0_col2\" class=\"data row0 col2\" >0.8878</td>\n",
       "      <td id=\"T_ec3bc_row0_col3\" class=\"data row0 col3\" >0</td>\n",
       "      <td id=\"T_ec3bc_row0_col4\" class=\"data row0 col4\" >0</td>\n",
       "      <td id=\"T_ec3bc_row0_col5\" class=\"data row0 col5\" >0</td>\n",
       "    </tr>\n",
       "  </tbody>\n",
       "</table>\n"
      ],
      "text/plain": [
       "<pandas.io.formats.style.Styler at 0x358403910>"
      ]
     },
     "metadata": {},
     "output_type": "display_data"
    },
    {
     "data": {
      "text/html": [],
      "text/plain": [
       "<IPython.core.display.HTML object>"
      ]
     },
     "metadata": {},
     "output_type": "display_data"
    },
    {
     "data": {
      "text/html": [],
      "text/plain": [
       "<IPython.core.display.HTML object>"
      ]
     },
     "metadata": {},
     "output_type": "display_data"
    },
    {
     "data": {
      "text/html": [
       "<style type=\"text/css\">\n",
       "</style>\n",
       "<table id=\"T_085fe\">\n",
       "  <thead>\n",
       "    <tr>\n",
       "      <th class=\"blank level0\" >&nbsp;</th>\n",
       "      <th id=\"T_085fe_level0_col0\" class=\"col_heading level0 col0\" >Silhouette</th>\n",
       "      <th id=\"T_085fe_level0_col1\" class=\"col_heading level0 col1\" >Calinski-Harabasz</th>\n",
       "      <th id=\"T_085fe_level0_col2\" class=\"col_heading level0 col2\" >Davies-Bouldin</th>\n",
       "      <th id=\"T_085fe_level0_col3\" class=\"col_heading level0 col3\" >Homogeneity</th>\n",
       "      <th id=\"T_085fe_level0_col4\" class=\"col_heading level0 col4\" >Rand Index</th>\n",
       "      <th id=\"T_085fe_level0_col5\" class=\"col_heading level0 col5\" >Completeness</th>\n",
       "    </tr>\n",
       "  </thead>\n",
       "  <tbody>\n",
       "    <tr>\n",
       "      <th id=\"T_085fe_level0_row0\" class=\"row_heading level0 row0\" >0</th>\n",
       "      <td id=\"T_085fe_row0_col0\" class=\"data row0 col0\" >0</td>\n",
       "      <td id=\"T_085fe_row0_col1\" class=\"data row0 col1\" >0</td>\n",
       "      <td id=\"T_085fe_row0_col2\" class=\"data row0 col2\" >0</td>\n",
       "      <td id=\"T_085fe_row0_col3\" class=\"data row0 col3\" >0</td>\n",
       "      <td id=\"T_085fe_row0_col4\" class=\"data row0 col4\" >0</td>\n",
       "      <td id=\"T_085fe_row0_col5\" class=\"data row0 col5\" >0</td>\n",
       "    </tr>\n",
       "  </tbody>\n",
       "</table>\n"
      ],
      "text/plain": [
       "<pandas.io.formats.style.Styler at 0x349c7d910>"
      ]
     },
     "metadata": {},
     "output_type": "display_data"
    },
    {
     "data": {
      "text/html": [],
      "text/plain": [
       "<IPython.core.display.HTML object>"
      ]
     },
     "metadata": {},
     "output_type": "display_data"
    },
    {
     "data": {
      "text/html": [],
      "text/plain": [
       "<IPython.core.display.HTML object>"
      ]
     },
     "metadata": {},
     "output_type": "display_data"
    },
    {
     "data": {
      "text/html": [
       "<style type=\"text/css\">\n",
       "</style>\n",
       "<table id=\"T_562e2\">\n",
       "  <thead>\n",
       "    <tr>\n",
       "      <th class=\"blank level0\" >&nbsp;</th>\n",
       "      <th id=\"T_562e2_level0_col0\" class=\"col_heading level0 col0\" >Silhouette</th>\n",
       "      <th id=\"T_562e2_level0_col1\" class=\"col_heading level0 col1\" >Calinski-Harabasz</th>\n",
       "      <th id=\"T_562e2_level0_col2\" class=\"col_heading level0 col2\" >Davies-Bouldin</th>\n",
       "      <th id=\"T_562e2_level0_col3\" class=\"col_heading level0 col3\" >Homogeneity</th>\n",
       "      <th id=\"T_562e2_level0_col4\" class=\"col_heading level0 col4\" >Rand Index</th>\n",
       "      <th id=\"T_562e2_level0_col5\" class=\"col_heading level0 col5\" >Completeness</th>\n",
       "    </tr>\n",
       "  </thead>\n",
       "  <tbody>\n",
       "    <tr>\n",
       "      <th id=\"T_562e2_level0_row0\" class=\"row_heading level0 row0\" >0</th>\n",
       "      <td id=\"T_562e2_row0_col0\" class=\"data row0 col0\" >0.0976</td>\n",
       "      <td id=\"T_562e2_row0_col1\" class=\"data row0 col1\" >19.3250</td>\n",
       "      <td id=\"T_562e2_row0_col2\" class=\"data row0 col2\" >1.2250</td>\n",
       "      <td id=\"T_562e2_row0_col3\" class=\"data row0 col3\" >0</td>\n",
       "      <td id=\"T_562e2_row0_col4\" class=\"data row0 col4\" >0</td>\n",
       "      <td id=\"T_562e2_row0_col5\" class=\"data row0 col5\" >0</td>\n",
       "    </tr>\n",
       "  </tbody>\n",
       "</table>\n"
      ],
      "text/plain": [
       "<pandas.io.formats.style.Styler at 0x17d8fc950>"
      ]
     },
     "metadata": {},
     "output_type": "display_data"
    },
    {
     "data": {
      "text/html": [],
      "text/plain": [
       "<IPython.core.display.HTML object>"
      ]
     },
     "metadata": {},
     "output_type": "display_data"
    },
    {
     "data": {
      "text/html": [],
      "text/plain": [
       "<IPython.core.display.HTML object>"
      ]
     },
     "metadata": {},
     "output_type": "display_data"
    },
    {
     "data": {
      "text/html": [
       "<style type=\"text/css\">\n",
       "</style>\n",
       "<table id=\"T_4f04c\">\n",
       "  <thead>\n",
       "    <tr>\n",
       "      <th class=\"blank level0\" >&nbsp;</th>\n",
       "      <th id=\"T_4f04c_level0_col0\" class=\"col_heading level0 col0\" >Silhouette</th>\n",
       "      <th id=\"T_4f04c_level0_col1\" class=\"col_heading level0 col1\" >Calinski-Harabasz</th>\n",
       "      <th id=\"T_4f04c_level0_col2\" class=\"col_heading level0 col2\" >Davies-Bouldin</th>\n",
       "      <th id=\"T_4f04c_level0_col3\" class=\"col_heading level0 col3\" >Homogeneity</th>\n",
       "      <th id=\"T_4f04c_level0_col4\" class=\"col_heading level0 col4\" >Rand Index</th>\n",
       "      <th id=\"T_4f04c_level0_col5\" class=\"col_heading level0 col5\" >Completeness</th>\n",
       "    </tr>\n",
       "  </thead>\n",
       "  <tbody>\n",
       "    <tr>\n",
       "      <th id=\"T_4f04c_level0_row0\" class=\"row_heading level0 row0\" >0</th>\n",
       "      <td id=\"T_4f04c_row0_col0\" class=\"data row0 col0\" >0</td>\n",
       "      <td id=\"T_4f04c_row0_col1\" class=\"data row0 col1\" >0</td>\n",
       "      <td id=\"T_4f04c_row0_col2\" class=\"data row0 col2\" >0</td>\n",
       "      <td id=\"T_4f04c_row0_col3\" class=\"data row0 col3\" >0</td>\n",
       "      <td id=\"T_4f04c_row0_col4\" class=\"data row0 col4\" >0</td>\n",
       "      <td id=\"T_4f04c_row0_col5\" class=\"data row0 col5\" >0</td>\n",
       "    </tr>\n",
       "  </tbody>\n",
       "</table>\n"
      ],
      "text/plain": [
       "<pandas.io.formats.style.Styler at 0x17cd69bd0>"
      ]
     },
     "metadata": {},
     "output_type": "display_data"
    },
    {
     "data": {
      "text/html": [],
      "text/plain": [
       "<IPython.core.display.HTML object>"
      ]
     },
     "metadata": {},
     "output_type": "display_data"
    }
   ],
   "source": [
    "performance_df = pd.DataFrame(columns=[\"Silhouette\",'Calinski-Harabasz','Davies-Bouldin',\n",
    "                                       'Homogeneity','Rand Index', 'Completeness'])\n",
    "\n",
    "#create list to store compute time\n",
    "times = []\n",
    "\n",
    "for model in model_list:\n",
    "    time1 = time.time()\n",
    "    create_model(model)\n",
    "    time2 = time.time()\n",
    "    dtime = time2 - time1\n",
    "    times.append(dtime)\n",
    "\n",
    "    performance_df.loc[len(performance_df)] = pull().to_numpy()[0]\n",
    "\n",
    "performance_df['Model'] = model_list\n",
    "performance_df['Time'] = times"
   ]
  },
  {
   "cell_type": "code",
   "execution_count": 131,
   "metadata": {},
   "outputs": [
    {
     "data": {
      "text/html": [
       "<div>\n",
       "<style scoped>\n",
       "    .dataframe tbody tr th:only-of-type {\n",
       "        vertical-align: middle;\n",
       "    }\n",
       "\n",
       "    .dataframe tbody tr th {\n",
       "        vertical-align: top;\n",
       "    }\n",
       "\n",
       "    .dataframe thead th {\n",
       "        text-align: right;\n",
       "    }\n",
       "</style>\n",
       "<table border=\"1\" class=\"dataframe\">\n",
       "  <thead>\n",
       "    <tr style=\"text-align: right;\">\n",
       "      <th></th>\n",
       "      <th>Silhouette</th>\n",
       "      <th>Calinski-Harabasz</th>\n",
       "      <th>Davies-Bouldin</th>\n",
       "      <th>Homogeneity</th>\n",
       "      <th>Rand Index</th>\n",
       "      <th>Completeness</th>\n",
       "      <th>Model</th>\n",
       "      <th>Time</th>\n",
       "    </tr>\n",
       "  </thead>\n",
       "  <tbody>\n",
       "    <tr>\n",
       "      <th>0</th>\n",
       "      <td>0.3994</td>\n",
       "      <td>1637.5477</td>\n",
       "      <td>0.8706</td>\n",
       "      <td>0.0</td>\n",
       "      <td>0.0</td>\n",
       "      <td>0.0</td>\n",
       "      <td>kmeans</td>\n",
       "      <td>0.377512</td>\n",
       "    </tr>\n",
       "    <tr>\n",
       "      <th>1</th>\n",
       "      <td>0.2587</td>\n",
       "      <td>249.7507</td>\n",
       "      <td>0.6476</td>\n",
       "      <td>0.0</td>\n",
       "      <td>0.0</td>\n",
       "      <td>0.0</td>\n",
       "      <td>ap</td>\n",
       "      <td>9.775017</td>\n",
       "    </tr>\n",
       "    <tr>\n",
       "      <th>2</th>\n",
       "      <td>0.0000</td>\n",
       "      <td>0.0000</td>\n",
       "      <td>0.0000</td>\n",
       "      <td>0.0</td>\n",
       "      <td>0.0</td>\n",
       "      <td>0.0</td>\n",
       "      <td>meanshift</td>\n",
       "      <td>3.302260</td>\n",
       "    </tr>\n",
       "    <tr>\n",
       "      <th>3</th>\n",
       "      <td>0.3873</td>\n",
       "      <td>1464.9151</td>\n",
       "      <td>0.9241</td>\n",
       "      <td>0.0</td>\n",
       "      <td>0.0</td>\n",
       "      <td>0.0</td>\n",
       "      <td>sc</td>\n",
       "      <td>0.719443</td>\n",
       "    </tr>\n",
       "    <tr>\n",
       "      <th>4</th>\n",
       "      <td>0.3149</td>\n",
       "      <td>1121.6542</td>\n",
       "      <td>0.8878</td>\n",
       "      <td>0.0</td>\n",
       "      <td>0.0</td>\n",
       "      <td>0.0</td>\n",
       "      <td>hclust</td>\n",
       "      <td>0.527781</td>\n",
       "    </tr>\n",
       "    <tr>\n",
       "      <th>5</th>\n",
       "      <td>0.0000</td>\n",
       "      <td>0.0000</td>\n",
       "      <td>0.0000</td>\n",
       "      <td>0.0</td>\n",
       "      <td>0.0</td>\n",
       "      <td>0.0</td>\n",
       "      <td>dbscan</td>\n",
       "      <td>0.309375</td>\n",
       "    </tr>\n",
       "    <tr>\n",
       "      <th>6</th>\n",
       "      <td>0.0976</td>\n",
       "      <td>19.3250</td>\n",
       "      <td>1.2250</td>\n",
       "      <td>0.0</td>\n",
       "      <td>0.0</td>\n",
       "      <td>0.0</td>\n",
       "      <td>optics</td>\n",
       "      <td>35.141843</td>\n",
       "    </tr>\n",
       "    <tr>\n",
       "      <th>7</th>\n",
       "      <td>0.0000</td>\n",
       "      <td>0.0000</td>\n",
       "      <td>0.0000</td>\n",
       "      <td>0.0</td>\n",
       "      <td>0.0</td>\n",
       "      <td>0.0</td>\n",
       "      <td>birch</td>\n",
       "      <td>0.291642</td>\n",
       "    </tr>\n",
       "  </tbody>\n",
       "</table>\n",
       "</div>"
      ],
      "text/plain": [
       "   Silhouette  Calinski-Harabasz  Davies-Bouldin  Homogeneity  Rand Index  \\\n",
       "0      0.3994          1637.5477          0.8706          0.0         0.0   \n",
       "1      0.2587           249.7507          0.6476          0.0         0.0   \n",
       "2      0.0000             0.0000          0.0000          0.0         0.0   \n",
       "3      0.3873          1464.9151          0.9241          0.0         0.0   \n",
       "4      0.3149          1121.6542          0.8878          0.0         0.0   \n",
       "5      0.0000             0.0000          0.0000          0.0         0.0   \n",
       "6      0.0976            19.3250          1.2250          0.0         0.0   \n",
       "7      0.0000             0.0000          0.0000          0.0         0.0   \n",
       "\n",
       "   Completeness      Model       Time  \n",
       "0           0.0     kmeans   0.377512  \n",
       "1           0.0         ap   9.775017  \n",
       "2           0.0  meanshift   3.302260  \n",
       "3           0.0         sc   0.719443  \n",
       "4           0.0     hclust   0.527781  \n",
       "5           0.0     dbscan   0.309375  \n",
       "6           0.0     optics  35.141843  \n",
       "7           0.0      birch   0.291642  "
      ]
     },
     "execution_count": 131,
     "metadata": {},
     "output_type": "execute_result"
    }
   ],
   "source": [
    "performance_df"
   ]
  },
  {
   "cell_type": "markdown",
   "metadata": {},
   "source": [
    "### Results\n",
    "\n",
    "The best performing clustering model is Kmeans, the least exotic of the 8. It produces the highest Silhouette score, which measures the similarity of the points to their assigned clusters vs the other clusters. Spectral Clustering and Agglomerative Clustering also performed well, but were outperformed by Kmeans in all nonzero metrics, including time. The Davies-Bouldin index indicates better clustering at lower values. <br>br>\n",
    "\n",
    "With its good clustering performance, Kmeans is also the second fastest model tested, running in around a third of a second, compared to OPTICS 30+ seconds. <br><br>\n",
    "\n",
    "PyCaret, for Kmeans, only has to search for a single ideal hyperparameter, the number of clusters."
   ]
  },
  {
   "cell_type": "markdown",
   "metadata": {},
   "source": []
  }
 ],
 "metadata": {
  "kernelspec": {
   "display_name": "ml",
   "language": "python",
   "name": "python3"
  },
  "language_info": {
   "codemirror_mode": {
    "name": "ipython",
    "version": 3
   },
   "file_extension": ".py",
   "mimetype": "text/x-python",
   "name": "python",
   "nbconvert_exporter": "python",
   "pygments_lexer": "ipython3",
   "version": "3.11.10"
  }
 },
 "nbformat": 4,
 "nbformat_minor": 2
}
