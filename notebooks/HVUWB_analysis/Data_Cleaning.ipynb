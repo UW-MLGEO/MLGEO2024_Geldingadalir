{
 "cells": [
  {
   "cell_type": "markdown",
   "metadata": {},
   "source": [
    "### Cleaning/Processing Steps\n",
    "The data will be demeaned similar to Zali et al., using a more conservative downsample rate of 20 Hz, given volcanic tremor is typically between 1-9 Hz.\n",
    "\n",
    "*Read in mseed files <br>\n",
    "*Check all are the same length <br>\n",
    "*Demean and detrend <br>\n",
    "*Anti-alias filter and downsample data to 8 Hz from 100 Hz"
   ]
  },
  {
   "cell_type": "code",
   "execution_count": 6,
   "metadata": {},
   "outputs": [],
   "source": [
    "import warnings\n",
    "\n",
    "# Suppress the specific warning from obspy\n",
    "warnings.filterwarnings(\n",
    "    \"ignore\",\n",
    "    message=\"The encoding specified in trace.stats.mseed.encoding does not match the dtype of the data.*\",\n",
    "    category=UserWarning,\n",
    "    module=\"obspy.io.mseed.core\"\n",
    ")"
   ]
  },
  {
   "cell_type": "code",
   "execution_count": 7,
   "metadata": {},
   "outputs": [
    {
     "name": "stdout",
     "output_type": "stream",
     "text": [
      "processed file: /home/jen/snap/MLGEO2024_Geldingadalir/notebooks/HVUWB_analysis/data/processed/57_20241010_hvuwb.mseed\n",
      "processed file: /home/jen/snap/MLGEO2024_Geldingadalir/notebooks/HVUWB_analysis/data/processed/51_20241004_hvuwb.mseed\n",
      "processed file: /home/jen/snap/MLGEO2024_Geldingadalir/notebooks/HVUWB_analysis/data/processed/9_20240823_hvuwb.mseed\n",
      "processed file: /home/jen/snap/MLGEO2024_Geldingadalir/notebooks/HVUWB_analysis/data/processed/40_20240923_hvuwb.mseed\n",
      "processed file: /home/jen/snap/MLGEO2024_Geldingadalir/notebooks/HVUWB_analysis/data/processed/52_20241005_hvuwb.mseed\n",
      "processed file: /home/jen/snap/MLGEO2024_Geldingadalir/notebooks/HVUWB_analysis/data/processed/17_20240831_hvuwb.mseed\n",
      "processed file: /home/jen/snap/MLGEO2024_Geldingadalir/notebooks/HVUWB_analysis/data/processed/26_20240909_hvuwb.mseed\n",
      "processed file: /home/jen/snap/MLGEO2024_Geldingadalir/notebooks/HVUWB_analysis/data/processed/30_20240913_hvuwb.mseed\n",
      "processed file: /home/jen/snap/MLGEO2024_Geldingadalir/notebooks/HVUWB_analysis/data/processed/35_20240918_hvuwb.mseed\n",
      "processed file: /home/jen/snap/MLGEO2024_Geldingadalir/notebooks/HVUWB_analysis/data/processed/21_20240904_hvuwb.mseed\n",
      "processed file: /home/jen/snap/MLGEO2024_Geldingadalir/notebooks/HVUWB_analysis/data/processed/15_20240829_hvuwb.mseed\n",
      "processed file: /home/jen/snap/MLGEO2024_Geldingadalir/notebooks/HVUWB_analysis/data/processed/22_20240905_hvuwb.mseed\n",
      "processed file: /home/jen/snap/MLGEO2024_Geldingadalir/notebooks/HVUWB_analysis/data/processed/47_20240930_hvuwb.mseed\n",
      "processed file: /home/jen/snap/MLGEO2024_Geldingadalir/notebooks/HVUWB_analysis/data/processed/4_20240818_hvuwb.mseed\n",
      "processed file: /home/jen/snap/MLGEO2024_Geldingadalir/notebooks/HVUWB_analysis/data/processed/18_20240901_hvuwb.mseed\n",
      "processed file: /home/jen/snap/MLGEO2024_Geldingadalir/notebooks/HVUWB_analysis/data/processed/31_20240914_hvuwb.mseed\n",
      "processed file: /home/jen/snap/MLGEO2024_Geldingadalir/notebooks/HVUWB_analysis/data/processed/28_20240911_hvuwb.mseed\n",
      "processed file: /home/jen/snap/MLGEO2024_Geldingadalir/notebooks/HVUWB_analysis/data/processed/56_20241009_hvuwb.mseed\n",
      "processed file: /home/jen/snap/MLGEO2024_Geldingadalir/notebooks/HVUWB_analysis/data/processed/2_20240816_hvuwb.mseed\n",
      "processed file: /home/jen/snap/MLGEO2024_Geldingadalir/notebooks/HVUWB_analysis/data/processed/11_20240825_hvuwb.mseed\n",
      "processed file: /home/jen/snap/MLGEO2024_Geldingadalir/notebooks/HVUWB_analysis/data/processed/46_20240929_hvuwb.mseed\n",
      "processed file: /home/jen/snap/MLGEO2024_Geldingadalir/notebooks/HVUWB_analysis/data/processed/55_20241008_hvuwb.mseed\n",
      "processed file: /home/jen/snap/MLGEO2024_Geldingadalir/notebooks/HVUWB_analysis/data/processed/12_20240826_hvuwb.mseed\n",
      "processed file: /home/jen/snap/MLGEO2024_Geldingadalir/notebooks/HVUWB_analysis/data/processed/19_20240902_hvuwb.mseed\n",
      "processed file: /home/jen/snap/MLGEO2024_Geldingadalir/notebooks/HVUWB_analysis/data/processed/20_20240903_hvuwb.mseed\n",
      "processed file: /home/jen/snap/MLGEO2024_Geldingadalir/notebooks/HVUWB_analysis/data/processed/38_20240921_hvuwb.mseed\n",
      "processed file: /home/jen/snap/MLGEO2024_Geldingadalir/notebooks/HVUWB_analysis/data/processed/58_20241011_hvuwb.mseed\n",
      "processed file: /home/jen/snap/MLGEO2024_Geldingadalir/notebooks/HVUWB_analysis/data/processed/34_20240917_hvuwb.mseed\n",
      "processed file: /home/jen/snap/MLGEO2024_Geldingadalir/notebooks/HVUWB_analysis/data/processed/8_20240822_hvuwb.mseed\n",
      "processed file: /home/jen/snap/MLGEO2024_Geldingadalir/notebooks/HVUWB_analysis/data/processed/41_20240924_hvuwb.mseed\n",
      "processed file: /home/jen/snap/MLGEO2024_Geldingadalir/notebooks/HVUWB_analysis/data/processed/39_20240922_hvuwb.mseed\n",
      "processed file: /home/jen/snap/MLGEO2024_Geldingadalir/notebooks/HVUWB_analysis/data/processed/16_20240830_hvuwb.mseed\n",
      "processed file: /home/jen/snap/MLGEO2024_Geldingadalir/notebooks/HVUWB_analysis/data/processed/23_20240906_hvuwb.mseed\n",
      "processed file: /home/jen/snap/MLGEO2024_Geldingadalir/notebooks/HVUWB_analysis/data/processed/27_20240910_hvuwb.mseed\n",
      "processed file: /home/jen/snap/MLGEO2024_Geldingadalir/notebooks/HVUWB_analysis/data/processed/43_20240926_hvuwb.mseed\n",
      "processed file: /home/jen/snap/MLGEO2024_Geldingadalir/notebooks/HVUWB_analysis/data/processed/5_20240819_hvuwb.mseed\n",
      "processed file: /home/jen/snap/MLGEO2024_Geldingadalir/notebooks/HVUWB_analysis/data/processed/10_20240824_hvuwb.mseed\n",
      "processed file: /home/jen/snap/MLGEO2024_Geldingadalir/notebooks/HVUWB_analysis/data/processed/49_20241002_hvuwb.mseed\n",
      "processed file: /home/jen/snap/MLGEO2024_Geldingadalir/notebooks/HVUWB_analysis/data/processed/14_20240828_hvuwb.mseed\n",
      "processed file: /home/jen/snap/MLGEO2024_Geldingadalir/notebooks/HVUWB_analysis/data/processed/54_20241007_hvuwb.mseed\n",
      "processed file: /home/jen/snap/MLGEO2024_Geldingadalir/notebooks/HVUWB_analysis/data/processed/59_20241012_hvuwb.mseed\n",
      "processed file: /home/jen/snap/MLGEO2024_Geldingadalir/notebooks/HVUWB_analysis/data/processed/53_20241006_hvuwb.mseed\n",
      "processed file: /home/jen/snap/MLGEO2024_Geldingadalir/notebooks/HVUWB_analysis/data/processed/48_20241001_hvuwb.mseed\n",
      "processed file: /home/jen/snap/MLGEO2024_Geldingadalir/notebooks/HVUWB_analysis/data/processed/6_20240820_hvuwb.mseed\n",
      "processed file: /home/jen/snap/MLGEO2024_Geldingadalir/notebooks/HVUWB_analysis/data/processed/37_20240920_hvuwb.mseed\n",
      "processed file: /home/jen/snap/MLGEO2024_Geldingadalir/notebooks/HVUWB_analysis/data/processed/60_20241013_hvuwb.mseed\n",
      "processed file: /home/jen/snap/MLGEO2024_Geldingadalir/notebooks/HVUWB_analysis/data/processed/32_20240915_hvuwb.mseed\n",
      "processed file: /home/jen/snap/MLGEO2024_Geldingadalir/notebooks/HVUWB_analysis/data/processed/36_20240919_hvuwb.mseed\n",
      "processed file: /home/jen/snap/MLGEO2024_Geldingadalir/notebooks/HVUWB_analysis/data/processed/33_20240916_hvuwb.mseed\n",
      "processed file: /home/jen/snap/MLGEO2024_Geldingadalir/notebooks/HVUWB_analysis/data/processed/13_20240827_hvuwb.mseed\n",
      "processed file: /home/jen/snap/MLGEO2024_Geldingadalir/notebooks/HVUWB_analysis/data/processed/45_20240928_hvuwb.mseed\n",
      "processed file: /home/jen/snap/MLGEO2024_Geldingadalir/notebooks/HVUWB_analysis/data/processed/24_20240907_hvuwb.mseed\n",
      "processed file: /home/jen/snap/MLGEO2024_Geldingadalir/notebooks/HVUWB_analysis/data/processed/1_20240815_hvuwb.mseed\n",
      "processed file: /home/jen/snap/MLGEO2024_Geldingadalir/notebooks/HVUWB_analysis/data/processed/42_20240925_hvuwb.mseed\n",
      "processed file: /home/jen/snap/MLGEO2024_Geldingadalir/notebooks/HVUWB_analysis/data/processed/50_20241003_hvuwb.mseed\n",
      "processed file: /home/jen/snap/MLGEO2024_Geldingadalir/notebooks/HVUWB_analysis/data/processed/44_20240927_hvuwb.mseed\n",
      "processed file: /home/jen/snap/MLGEO2024_Geldingadalir/notebooks/HVUWB_analysis/data/processed/3_20240817_hvuwb.mseed\n",
      "processed file: /home/jen/snap/MLGEO2024_Geldingadalir/notebooks/HVUWB_analysis/data/processed/7_20240821_hvuwb.mseed\n",
      "processed file: /home/jen/snap/MLGEO2024_Geldingadalir/notebooks/HVUWB_analysis/data/processed/25_20240908_hvuwb.mseed\n",
      "processed file: /home/jen/snap/MLGEO2024_Geldingadalir/notebooks/HVUWB_analysis/data/processed/29_20240912_hvuwb.mseed\n"
     ]
    }
   ],
   "source": [
    "import os\n",
    "from obspy import read\n",
    "import glob\n",
    "import numpy as np\n",
    "\n",
    "# Define the folder paths\n",
    "input_folder = os.getcwd() + '/data/raw'\n",
    "processed_folder = os.getcwd() + '/data/processed'\n",
    "os.makedirs(processed_folder, exist_ok=True)  # Create output directory if it doesn't exist\n",
    "\n",
    "# Target sampling rate after downsampling\n",
    "target_sampling_rate = 8  # Hz\n",
    "\n",
    "length = np.array([])\n",
    "\n",
    "# Process each mseed file in the folder\n",
    "for file_path in glob.glob(f\"{input_folder}/*.mseed\"):\n",
    "    # Read the file\n",
    "    st = read(file_path)\n",
    "    \n",
    "    # Demean, detrend, and downsample each trace\n",
    "    for tr in st:\n",
    "        tr.detrend(\"demean\")   # Remove mean\n",
    "        tr.detrend(\"linear\")   # Remove linear trend\n",
    "        tr.filter(\"lowpass\", freq=target_sampling_rate / 2)  # Anti-aliasing filter\n",
    "        tr.resample(target_sampling_rate)  # Downsample to 8 Hz\n",
    "        \n",
    "    #add data length to array\n",
    "    length = np.append(length, len(tr.data))\n",
    "\n",
    "    # Save the processed data\n",
    "    output_file = os.path.join(processed_folder, os.path.basename(file_path))\n",
    "    st.write(output_file, format=\"MSEED\")\n",
    "    print(f'processed file: {output_file}')"
   ]
  },
  {
   "cell_type": "markdown",
   "metadata": {},
   "source": [
    "Check the lengths of the files."
   ]
  },
  {
   "cell_type": "code",
   "execution_count": 8,
   "metadata": {},
   "outputs": [
    {
     "name": "stdout",
     "output_type": "stream",
     "text": [
      "All files have the same length: 760320 data points.\n"
     ]
    }
   ],
   "source": [
    "# import os\n",
    "# from obspy import read\n",
    "# import glob\n",
    "# import numpy as np\n",
    "\n",
    "# Define the processed folder path = output_folder\n",
    "processed_folder = os.getcwd() + '/data/processed'\n",
    "\n",
    "# Array to store the lengths of each file\n",
    "lengths = []\n",
    "\n",
    "# Check each processed file's length\n",
    "for file_path in glob.glob(f\"{processed_folder}/*.mseed\"):\n",
    "    # Read only metadata\n",
    "    st = read(file_path, headonly=True)\n",
    "    \n",
    "    # Extract the number of data points in each trace\n",
    "    for tr in st:\n",
    "        lengths.append(tr.stats.npts)\n",
    "\n",
    "# Convert to numpy array for easier analysis\n",
    "lengths = np.array(lengths)\n",
    "\n",
    "# Check if all files have the same length\n",
    "if np.all(lengths == lengths[0]):\n",
    "    print(f\"All files have the same length: {lengths[0]} data points.\")\n",
    "else:\n",
    "    print(\"Files have different lengths:\", lengths)"
   ]
  },
  {
   "cell_type": "markdown",
   "metadata": {},
   "source": [
    "~~This is the correct number of points (+1) for 24 hours of data sampled at 25 Hz. The single extra point is a product of the decimation, will be removed in the preparing ai ready data notebook.~~"
   ]
  }
 ],
 "metadata": {
  "kernelspec": {
   "display_name": "mlgeo",
   "language": "python",
   "name": "python3"
  },
  "language_info": {
   "codemirror_mode": {
    "name": "ipython",
    "version": 3
   },
   "file_extension": ".py",
   "mimetype": "text/x-python",
   "name": "python",
   "nbconvert_exporter": "python",
   "pygments_lexer": "ipython3",
   "version": "3.11.10"
  }
 },
 "nbformat": 4,
 "nbformat_minor": 2
}
