{
 "cells": [
  {
   "cell_type": "code",
   "execution_count": null,
   "metadata": {},
   "outputs": [],
   "source": [
    "# import obspy\n",
    "# from obspy import read\n",
    "# # from obspy import UTCDateTime as utc\n",
    "# # from obspy.clients.fdsn import Client\n",
    "# #client = Client('IRIS')\n",
    "\n",
    "# import matplotlib.pyplot as plt\n",
    "# import numpy as np\n",
    "# import os"
   ]
  },
  {
   "cell_type": "markdown",
   "metadata": {},
   "source": [
    "### Cleaning/Processing Steps\n",
    "The data will be demeaned similar to Zali et al., using a more conservative downsample rate of 20 Hz, given volcanic tremor is typically between 1-9 Hz.\n",
    "\n",
    "*Read in mseed files <br>\n",
    "*Check all are the same length <br>\n",
    "*Demean and detrend <br>\n",
    "*Anti-alias filter and downsample data to 8 Hz from 100 Hz"
   ]
  },
  {
   "cell_type": "code",
   "execution_count": null,
   "metadata": {},
   "outputs": [
    {
     "data": {
      "text/plain": [
       "'/home/jen/snap/MLGEO2024_Geldingadalir/notebooks/HVUWB_analysis/data/raw/57_20241010_hvuwb.mseed'"
      ]
     },
     "metadata": {},
     "output_type": "display_data"
    }
   ],
   "source": [
    "import os\n",
    "from obspy import read\n",
    "import glob\n",
    "\n",
    "# Define the folder paths\n",
    "input_folder = os.getcwd() + '/data/raw'\n",
    "output_folder = os.getcwd() + '/data/processed'\n",
    "os.makedirs(output_folder, exist_ok=True)  # Create output directory if it doesn't exist\n",
    "\n",
    "# Target sampling rate after downsampling\n",
    "target_sampling_rate = 8  # Hz\n",
    "\n",
    "# Process each mseed file in the folder\n",
    "for file_path in glob.glob(f\"{input_folder}/*.mseed\"):\n",
    "    # Read the file\n",
    "    st = read(file_path)\n",
    "    display(file_path)\n",
    "    \n",
    "    # Demean, detrend, and downsample each trace\n",
    "    for tr in st:\n",
    "        tr.detrend(\"demean\")   # Remove mean\n",
    "        print(f'demeandone')\n",
    "        tr.detrend(\"linear\")   # Remove linear trend\n",
    "        tr.filter(\"lowpass\", freq=target_sampling_rate / 2)  # Anti-aliasing filter\n",
    "        tr.resample(target_sampling_rate)  # Downsample to 8 Hz\n",
    "\n",
    "    # Save the processed data\n",
    "    output_file = os.path.join(output_folder, os.path.basename(file_path))\n",
    "    st.write(output_file, format=\"MSEED\")\n",
    "    print(f\"Processed and saved: {output_file}\")\n"
   ]
  },
  {
   "cell_type": "markdown",
   "metadata": {},
   "source": [
    "Save simple time series plots to visually inspect for outliers/data issues not a simple way to remove outliers algorithmically, day 87 for example has extremely impulsive events that look like malfunctions, but are real"
   ]
  },
  {
   "cell_type": "code",
   "execution_count": null,
   "metadata": {},
   "outputs": [
    {
     "data": {
      "text/plain": [
       "array([2160001.])"
      ]
     },
     "execution_count": 84,
     "metadata": {},
     "output_type": "execute_result"
    }
   ],
   "source": [
    "#check that all values in length are equal\n",
    "np.unique(length)"
   ]
  },
  {
   "cell_type": "markdown",
   "metadata": {},
   "source": [
    "This is the correct number of points (+1) for 24 hours of data sampled at 25 Hz. The single extra point is a product of the decimation, will be removed in the preparing ai ready data notebook."
   ]
  },
  {
   "cell_type": "markdown",
   "metadata": {},
   "source": []
  }
 ],
 "metadata": {
  "kernelspec": {
   "display_name": "mlgeo",
   "language": "python",
   "name": "python3"
  },
  "language_info": {
   "codemirror_mode": {
    "name": "ipython",
    "version": 3
   },
   "file_extension": ".py",
   "mimetype": "text/x-python",
   "name": "python",
   "nbconvert_exporter": "python",
   "pygments_lexer": "ipython3",
   "version": "3.11.10"
  }
 },
 "nbformat": 4,
 "nbformat_minor": 2
}
