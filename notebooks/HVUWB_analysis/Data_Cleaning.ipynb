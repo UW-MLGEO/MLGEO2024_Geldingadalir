{
 "cells": [
  {
   "cell_type": "markdown",
   "metadata": {},
   "source": [
    "### Cleaning/Processing Steps\n",
    "The data will be demeaned similar to Zali et al., using a more conservative downsample rate of 20 Hz, given volcanic tremor is typically between 1-9 Hz.\n",
    "\n",
    "*Read in mseed files <br>\n",
    "*Check all are the same length <br>\n",
    "*Demean and detrend <br>\n",
    "*Anti-alias filter and downsample data to 8 Hz from 100 Hz"
   ]
  },
  {
   "cell_type": "code",
   "execution_count": 6,
   "metadata": {},
   "outputs": [],
   "source": [
    "import warnings\n",
    "\n",
    "# Suppress the specific warning from obspy\n",
    "warnings.filterwarnings(\n",
    "    \"ignore\",\n",
    "    message=\"The encoding specified in trace.stats.mseed.encoding does not match the dtype of the data.*\",\n",
    "    category=UserWarning,\n",
    "    module=\"obspy.io.mseed.core\"\n",
    ")"
   ]
  },
  {
   "cell_type": "code",
   "execution_count": null,
   "metadata": {},
   "outputs": [],
   "source": [
    "import os\n",
    "from obspy import read\n",
    "import glob\n",
    "import numpy as np\n",
    "\n",
    "# Define the folder paths\n",
    "input_folder = os.getcwd() + '/data/raw'\n",
    "processed_folder = os.getcwd() + '/data/processed'\n",
    "os.makedirs(processed_folder, exist_ok=True)  # Create output directory if it doesn't exist\n",
    "\n",
    "# Target sampling rate after downsampling\n",
    "target_sampling_rate = 8  # Hz\n",
    "\n",
    "length = np.array([])\n",
    "\n",
    "# Process each mseed file in the folder\n",
    "for file_path in glob.glob(f\"{input_folder}/*.mseed\"):\n",
    "    # Read the file\n",
    "    st = read(file_path)\n",
    "    \n",
    "    # Demean, detrend, and downsample each trace\n",
    "    for tr in st:\n",
    "        tr.detrend(\"demean\")   # Remove mean\n",
    "        tr.detrend(\"linear\")   # Remove linear trend\n",
    "        tr.filter(\"lowpass\", freq=target_sampling_rate / 2)  # Anti-aliasing filter\n",
    "        tr.resample(target_sampling_rate)  # Downsample to 8 Hz\n",
    "        \n",
    "    #add data length to array\n",
    "    length = np.append(length, len(tr.data))\n",
    "\n",
    "    # Save the processed data\n",
    "    output_file = os.path.join(processed_folder, os.path.basename(file_path))\n",
    "    st.write(output_file, format=\"MSEED\")\n",
    "    print(f'processed file: {output_file}')"
   ]
  },
  {
   "cell_type": "markdown",
   "metadata": {},
   "source": [
    "Check the lengths of the files."
   ]
  },
  {
   "cell_type": "code",
   "execution_count": null,
   "metadata": {},
   "outputs": [
    {
     "name": "stdout",
     "output_type": "stream",
     "text": [
      "All files have the same length: 760320 data points.\n"
     ]
    }
   ],
   "source": [
    "# import os\n",
    "# from obspy import read\n",
    "# import glob\n",
    "# import numpy as np\n",
    "\n",
    "# Define the processed folder path = output_folder\n",
    "processed_folder = os.getcwd() + '/data/processed'\n",
    "\n",
    "# Array to store the lengths of each file\n",
    "lengths = []\n",
    "\n",
    "# Check each processed file's length\n",
    "for file_path in glob.glob(f\"{processed_folder}/*.mseed\"):\n",
    "    # Read only metadata\n",
    "    st = read(file_path, headonly=True)\n",
    "    \n",
    "    # Extract the number of data points in each trace\n",
    "    for tr in st:\n",
    "        lengths.append(tr.stats.npts)\n",
    "\n",
    "# Convert to numpy array for easier analysis\n",
    "lengths = np.array(lengths)\n",
    "\n",
    "# Check if all files have the same length\n",
    "if np.all(lengths == lengths[0]):\n",
    "    print(f\"All files have the same length: {lengths[0]} data points.\")\n",
    "else:\n",
    "    print(\"Files have different lengths:\", lengths)"
   ]
  },
  {
   "cell_type": "markdown",
   "metadata": {},
   "source": [
    "~~This is the correct number of points (+1) for 24 hours of data sampled at 25 Hz. The single extra point is a product of the decimation, will be removed in the preparing ai ready data notebook.~~"
   ]
  }
 ],
 "metadata": {
  "kernelspec": {
   "display_name": "mlgeo",
   "language": "python",
   "name": "python3"
  },
  "language_info": {
   "codemirror_mode": {
    "name": "ipython",
    "version": 3
   },
   "file_extension": ".py",
   "mimetype": "text/x-python",
   "name": "python",
   "nbconvert_exporter": "python",
   "pygments_lexer": "ipython3",
   "version": "3.11.10"
  }
 },
 "nbformat": 4,
 "nbformat_minor": 2
}
