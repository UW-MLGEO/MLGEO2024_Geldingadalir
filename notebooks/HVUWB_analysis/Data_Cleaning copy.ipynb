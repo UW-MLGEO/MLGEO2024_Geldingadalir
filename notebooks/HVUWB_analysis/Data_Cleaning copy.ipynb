import os
from obspy import read
import glob
import numpy as np

# Define the folder paths
input_folder = os.getcwd() + '/data/raw'
processed_folder = os.getcwd() + '/data/processed'
os.makedirs(processed_folder, exist_ok=True)  # Create output directory if it doesn't exist

# Target sampling rate after downsampling
target_sampling_rate = 8  # Hz

length = np.array([])

# Process each mseed file in the folder
for file_path in glob.glob(f"{input_folder}/*.mseed"):
    # Read the file
    st = read(file_path)
    
    # Demean, detrend, and downsample each trace
    for tr in st:
        tr.detrend("demean")   # Remove mean
        tr.detrend("linear")   # Remove linear trend
        tr.filter("lowpass", freq=target_sampling_rate / 2)  # Anti-aliasing filter
        tr.resample(target_sampling_rate)  # Downsample to 8 Hz
        
    #add data length to array
    length = np.append(length, len(tr.data))

    # Save the processed data
    output_file = os.path.join(processed_folder, os.path.basename(file_path))
    st.write(output_file, format="MSEED")
    print(f'processed file: {output_file}')


