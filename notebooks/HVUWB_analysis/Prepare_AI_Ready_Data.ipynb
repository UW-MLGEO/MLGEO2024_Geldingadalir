{
 "cells": [
  {
   "cell_type": "markdown",
   "metadata": {},
   "source": [
    "## Prepare the data for the model used in the paper ##\n",
    "\n",
    "Read each file and segment them into one hour windows. Each file will contain 28,800 samples per hour at an 8 Hz sampling rate."
   ]
  },
  {
   "cell_type": "code",
   "execution_count": null,
   "metadata": {},
   "outputs": [],
   "source": [
    "import os\n",
    "from obspy import read\n",
    "import glob\n",
    "import numpy as np\n",
    "from obspy import UTCDateTime\n",
    "\n",
    "# Define the processed and output folder paths\n",
    "processed_folder = os.getcwd() + '/data/processed'\n",
    "segmented_output_folder = os.getcwd() + '/data/segmented'\n",
    "os.makedirs(segmented_output_folder, exist_ok=True)  # Create output directory if it doesn't exist\n",
    "\n",
    "# Define the target segment duration (1 hour) in seconds\n",
    "segment_duration = 3600  # seconds\n",
    "\n",
    "# Process each processed file for segmentation\n",
    "for file_path in glob.glob(f\"{processed_folder}/*.mseed\"):\n",
    "    # Read the processed file\n",
    "    st = read(file_path)\n",
    "    \n",
    "    # Split each trace in the Stream object into one-hour segments\n",
    "    for tr in st:\n",
    "        start_time = tr.stats.starttime\n",
    "        end_time = tr.stats.endtime\n",
    "        segment_start = start_time\n",
    "\n",
    "        # Loop over each one-hour segment\n",
    "        while segment_start + segment_duration <= end_time:\n",
    "            # Define the end time for the current segment\n",
    "            segment_end = segment_start + segment_duration\n",
    "\n",
    "            # Slice the trace to create a one-hour segment\n",
    "            segment = tr.slice(starttime=segment_start, endtime=segment_end)\n",
    "            \n",
    "            # Format the filename for the segment\n",
    "            segment_filename = f\"{tr.stats.network}_{tr.stats.station}_{tr.stats.channel}_{segment_start.strftime('%Y%m%dT%H%M%S')}.mseed\"\n",
    "            segment_filepath = os.path.join(segmented_output_folder, segment_filename)\n",
    "\n",
    "            # Save the one-hour segment as a new file\n",
    "            segment.write(segment_filepath, format=\"MSEED\")\n",
    "            print(f'Saved segment file: {segment_filepath}')\n",
    "\n",
    "            # Move to the next hour\n",
    "            segment_start = segment_end"
   ]
  },
  {
   "cell_type": "markdown",
   "metadata": {},
   "source": [
    "Apply the Fourier Transform with the `specified window_length` and `hop_length parameters` to produce a spectrogram of size (96, 128) for each one-hour segment. The data is saved in `segmented_output_folder` from the cell above."
   ]
  },
  {
   "cell_type": "code",
   "execution_count": null,
   "metadata": {},
   "outputs": [],
   "source": [
    "import librosa\n",
    "import numpy as np\n",
    "import glob\n",
    "import os\n",
    "\n",
    "# Define parameters\n",
    "window_length = 256\n",
    "hop_length = 224\n",
    "sampling_rate = 8  # in Hz\n",
    "target_shape = (96, 128)\n",
    "\n",
    "# Process each segmented file for Fourier Transform and spectrogram generation\n",
    "for segment_file in glob.glob(f\"{segmented_output_folder}/*.mseed\"):\n",
    "    # Load the segment using ObsPy and convert to a numpy array\n",
    "    st = read(segment_file)\n",
    "    tr = st[0]  # assuming one trace per file\n",
    "    signal = tr.data  # raw signal data from mseed file\n",
    "\n",
    "    # Compute STFT using librosa\n",
    "    stft_result = librosa.stft(signal, n_fft=window_length, hop_length=hop_length, win_length=window_length)\n",
    "\n",
    "    # Convert to magnitude (power) spectrogram\n",
    "    spectrogram = np.abs(stft_result) ** 2\n",
    "\n",
    "    # Resize spectrogram to the target shape if needed\n",
    "    spectrogram_resized = librosa.util.fix_length(spectrogram, size=target_shape[1], axis=1)[:target_shape[0], :]\n",
    "\n",
    "    # Define the output filename for the spectrogram\n",
    "    spectrogram_filename = os.path.basename(segment_file).replace(\".mseed\", \"_spectrogram.npy\")\n",
    "    spectrogram_filepath = os.path.join(segmented_output_folder, spectrogram_filename)\n",
    "\n",
    "    # Save the spectrogram as a .npy file\n",
    "    np.save(spectrogram_filepath, spectrogram_resized)\n",
    "    print(f'Saved spectrogram file: {spectrogram_filepath}')"
   ]
  }
 ],
 "metadata": {
  "kernelspec": {
   "display_name": "mlgeo",
   "language": "python",
   "name": "python3"
  },
  "language_info": {
   "codemirror_mode": {
    "name": "ipython",
    "version": 3
   },
   "file_extension": ".py",
   "mimetype": "text/x-python",
   "name": "python",
   "nbconvert_exporter": "python",
   "pygments_lexer": "ipython3",
   "version": "3.11.10"
  }
 },
 "nbformat": 4,
 "nbformat_minor": 2
}
