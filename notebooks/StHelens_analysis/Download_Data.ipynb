{
 "cells": [
  {
   "cell_type": "markdown",
   "metadata": {},
   "source": [
    "### Raw Data Download Notebook\n",
    "\n",
    "*Important Note:* This notebook runs using a different environment than this project's computational notebook. ObsPy is required, along with numpy and matplotlib"
   ]
  },
  {
   "cell_type": "markdown",
   "metadata": {},
   "source": [
    "Zali et al. 2024 pulls horizontal seismic data from a single horizontal component from a single station, demeaned and detrended but not converted from instrument response. The data is pulled from March 12 to June 24, ~104 days, beginning 7 days before the Geldingadalir eruption began. The data is also downsampled to the minimum sampling rate necessary to observe the local volcanic tremor.\n",
    "\n",
    "------------------\n",
    "This notebook will download 100 days of data, beginning December 12th,2004 and ending March 17th,2005, from sensor UW.ELK of the Cascade Chain Volcano Monitoring network. Mount St. Despite being famous for its 1980 eruption, the volcano experienced renewed activity in 2004, with an explosive eruption on January 16th,2005, which this dataset will look at. https://www.usgs.gov/volcanoes/mount-st.-helens/science/2004-2008-renewed-volcanic-activity \n",
    "\n",
    "-----------------\n",
    "\n",
    "This notebook will also calculate the distance between the specified sensor and volcano."
   ]
  },
  {
   "cell_type": "code",
   "execution_count": 1,
   "metadata": {},
   "outputs": [],
   "source": [
    "import obspy\n",
    "from obspy import UTCDateTime as utc\n",
    "from obspy.clients.fdsn import Client\n",
    "from obspy.clients.fdsn.header import FDSNNoDataException\n",
    "client = Client('IRIS')\n",
    "from obspy.core.util import AttribDict\n",
    "import numpy as np\n",
    "import os"
   ]
  },
  {
   "cell_type": "markdown",
   "metadata": {},
   "source": [
    "### Data Description\n",
    "\n",
    "The seismic data is downloaded from the IRIS/Earthscope Database using ObsPy. The data downloads as a trace, an array of data with attached metadata, which is then packaged into a stream, which can contain multiple traces. The daily seismic data records are then saved as mseed files, which preserve this data+metadata structure, but requires ObsPy or other specialized software to open."
   ]
  },
  {
   "cell_type": "code",
   "execution_count": 2,
   "metadata": {},
   "outputs": [
    {
     "data": {
      "text/plain": [
       "2004-11-27T00:00:00.000000Z"
      ]
     },
     "execution_count": 2,
     "metadata": {},
     "output_type": "execute_result"
    }
   ],
   "source": [
    "utc('2005-01-16T00:00:00') - 50*24*60*60"
   ]
  },
  {
   "cell_type": "code",
   "execution_count": 3,
   "metadata": {},
   "outputs": [
    {
     "name": "stdout",
     "output_type": "stream",
     "text": [
      "Downloading data from 2004-11-27T00:00:00.000000Z to 2005-03-07T00:00:00.000000Z\n",
      "data download complete, saved to /Users/KatarzynaPerks/Documents/GitHub/kperks_Geldingadalir/notebooks/StHelens_analysis/data/raw/\n"
     ]
    }
   ],
   "source": [
    "#creating variables to download data\n",
    "starttime = utc('2004-11-27T00:00:00') #altered from original to capture half before/after eruption days\n",
    "endtime = starttime + 100 * (60*60*24)\n",
    "\n",
    "#also add a buffer to both ends to chop off once the data has been filtered\n",
    "#and downsampled, kind of arbitrary length, 5% of a day (default ObsPy taper length)\n",
    "buffer = 60*60*24*0.05 #seconds\n",
    "\n",
    "net = 'UW'\n",
    "sta = 'ELK'\n",
    "loc = '*' #wildcard, generally don't care about location code\n",
    "cha = 'EHZ' #vertical component, unlike the horizontal component used in Zali et al. but the only data I could get for Mt. St. Helens\n",
    "\n",
    "#create folder for numpy streams to go into and initialize filepath\n",
    "!mkdir data\n",
    "!mkdir data/raw\n",
    "filepath = os.getcwd() + '/data/raw/'\n",
    "\n",
    "#create arrays to save dates\n",
    "dates = np.array([])\n",
    "\n",
    "#arrays for eruption states\n",
    "states = np.array([])\n",
    "\n",
    "print(f'Downloading data from {starttime} to {endtime}')\n",
    "\n",
    "#download the data piecemeal, here by day\n",
    "for day in range(100):\n",
    "    tr_length = 24*60*60\n",
    "\n",
    "    try:\n",
    "        #actually downloading\n",
    "        st = client.get_waveforms(network=net,\n",
    "                        station=sta,\n",
    "                        location=loc,\n",
    "                        channel=cha,\n",
    "                        starttime=starttime-buffer,\n",
    "                        endtime=starttime+buffer+tr_length)\n",
    "\n",
    "        #instrument sampling rate (hz)\n",
    "        freq = st[0].stats.sampling_rate\n",
    "\n",
    "        #merge traces within stream, linearly interpolating any gaps\n",
    "        st.merge(fill_value='interpolate')\n",
    "        \n",
    "        #print flag if more than one trace still exists\n",
    "        if len(st) > 1:\n",
    "            print('Too many traces')\n",
    "        \n",
    "        #generate filename, day number in front for convenience of reading in\n",
    "        name = str(day+1)+'_sthelens.mseed'\n",
    "        \n",
    "        #save data as mseed, standard for storing seismic data. Preserves metadata and time series info\n",
    "        st.write(filepath+name, format='MSEED')\n",
    "\n",
    "        #adding date\n",
    "        dates = np.append(dates, starttime.date)\n",
    "\n",
    "        starttime += tr_length\n",
    "\n",
    "    except FDSNNoDataException:\n",
    "        print('No data for Day '+str(day))\n",
    "\n",
    "#save dates list for future use\n",
    "np.save(filepath+'date_list', dates)\n",
    "\n",
    "print(f'data download complete, saved to {filepath}')"
   ]
  },
  {
   "cell_type": "markdown",
   "metadata": {
    "vscode": {
     "languageId": "markdown"
    }
   },
   "source": [
    "### Data Modalities and Formats\n",
    "\n",
    "#### Data Modalities\n",
    "The dataset consists of seismic data collected from a single horizontal component (BHN) of the AV.GSTD station located on the Great Sitkin Volcano. The data is recorded continuously over a period of 100 days, capturing the seismic activity before, during, and after the volcanic eruption.\n",
    "\n",
    "#### Data Formats\n",
    "1. **MSEED (Mini-SEED) Files**:\n",
    "    - The seismic data is stored in Mini-SEED format, which is a compact binary format used for storing time series data. Each file contains a day's worth of seismic data, including metadata such as the sampling rate and station information.\n",
    "    - Example file name: `1_sitkin.mseed`, `2_sitkin.mseed`, ..., `100_sitkin.mseed`.\n",
    "2. **Numpy Arrays**:\n",
    "    - The dates corresponding to each day's seismic data are stored in a numpy array and saved as a CSV file (`date_list.csv`). This array helps in mapping the MSEED files to their respective dates.\n",
    "    - Example: `dates = np.array([datetime.date(2021, 5, 16), datetime.date(2021, 5, 17), ...])`.\n",
    "\n",
    "#### Data Processing\n",
    "- The raw seismic data is downloaded using the ObsPy library from the IRIS/Earthscope Database.\n",
    "- The data is merged and interpolated to fill any gaps, ensuring a continuous time series.\n",
    "- The processed data is saved in the MSEED format, preserving both the time series and metadata.\n",
    "\n",
    "This structured approach ensures that the seismic data is well-organized and easily accessible for further analysis and processing."
   ]
  },
  {
   "cell_type": "code",
   "execution_count": 8,
   "metadata": {},
   "outputs": [
    {
     "name": "stdout",
     "output_type": "stream",
     "text": [
      "Example data from 100_sthelens.mseed\n",
      "               network: UW\n",
      "               station: ELK\n",
      "              location: \n",
      "               channel: EHZ\n",
      "             starttime: 2005-03-05T22:48:00.009900Z\n",
      "               endtime: 2005-03-07T01:11:59.999900Z\n",
      "         sampling_rate: 100.0\n",
      "                 delta: 0.01\n",
      "                  npts: 9504000\n",
      "                 calib: 1.0\n",
      "_fdsnws_dataselect_url: http://service.iris.edu/fdsnws/dataselect/1/query\n",
      "               _format: MSEED\n",
      "                 mseed: AttribDict({'dataquality': 'M', 'number_of_records': 10368, 'encoding': 'STEIM1', 'byteorder': '>', 'record_length': 512, 'filesize': 11845120})\n",
      "            processing: ['ObsPy 1.4.1: trim(endtime=UTCDateTime(2005, 3, 7, 1, 11, 59, 999900)::fill_value=None::nearest_sample=True::pad=False::starttime=UTCDateTime(2005, 3, 5, 22, 47, 59, 999900))']\n",
      "\n",
      "Example data from 100_sthelens.mseed\n",
      "[-19 -15 -28 ... -45 -43 -31]\n",
      "\n"
     ]
    }
   ],
   "source": [
    "# display some data from the mseed file\n",
    "print(f'Example data from {name}')\n",
    "print(st[0].stats)\n",
    "print()\n",
    "\n",
    "# display the numpy array\n",
    "print(f'Example data from {name}')\n",
    "print(st[0].data)\n",
    "print()"
   ]
  },
  {
   "cell_type": "markdown",
   "metadata": {},
   "source": [
    "### Calculate Distance Between Sensor and Volcano using Obspy"
   ]
  },
  {
   "cell_type": "code",
   "execution_count": 9,
   "metadata": {},
   "outputs": [],
   "source": [
    "#Input Volcano Coords (degrees, north and east positive)\n",
    "v_lat = 46.191387; v_lon = -122.1956 #Mt.St.Helens"
   ]
  },
  {
   "cell_type": "code",
   "execution_count": 10,
   "metadata": {},
   "outputs": [],
   "source": [
    "#download inventory object of channels that fit specifiers set above, coordinates are contained here\n",
    "inv = client.get_stations(network=net, station=sta, location=loc, channel=cha, starttime=starttime, \n",
    "                    endtime=endtime, level='channel')\n",
    "\n",
    "s_lat = inv[0][0][0].latitude; s_lon = inv[0][0][0].longitude"
   ]
  },
  {
   "cell_type": "code",
   "execution_count": 11,
   "metadata": {},
   "outputs": [
    {
     "name": "stdout",
     "output_type": "stream",
     "text": [
      "Volcano to sensor distance: 17.003 km\n"
     ]
    }
   ],
   "source": [
    "#use obspy function to calculate great circle distance\n",
    "distance, _, _ = obspy.geodetics.gps2dist_azimuth(v_lat, v_lon, s_lat, s_lon)\n",
    "distance /= 1000 #convert from meters to km\n",
    "print('Volcano to sensor distance: '+str(round(distance, 3))+' km')"
   ]
  },
  {
   "cell_type": "code",
   "execution_count": null,
   "metadata": {},
   "outputs": [],
   "source": []
  },
  {
   "cell_type": "code",
   "execution_count": null,
   "metadata": {},
   "outputs": [],
   "source": []
  }
 ],
 "metadata": {
  "kernelspec": {
   "display_name": "Python 3",
   "language": "python",
   "name": "python3"
  },
  "language_info": {
   "codemirror_mode": {
    "name": "ipython",
    "version": 3
   },
   "file_extension": ".py",
   "mimetype": "text/x-python",
   "name": "python",
   "nbconvert_exporter": "python",
   "pygments_lexer": "ipython3",
   "version": "3.11.10"
  }
 },
 "nbformat": 4,
 "nbformat_minor": 2
}
