{
 "cells": [
  {
   "cell_type": "markdown",
   "metadata": {},
   "source": [
    "### Preparing AI Ready Data\n",
    "This notebook extracts statistics from 100 days of seismic data for use in classic machine learning. The environment requires obspy to be installed in addition to the standard mlgeo environment"
   ]
  },
  {
   "cell_type": "code",
   "execution_count": 22,
   "metadata": {},
   "outputs": [],
   "source": [
    "#!pip install obspy\n",
    "import obspy\n",
    "from obspy import read\n",
    "from obspy import UTCDateTime as utc\n",
    "from scipy.signal import stft\n",
    "import numpy as np\n",
    "import os\n",
    "import matplotlib.pyplot as plt\n",
    "import pandas as pd"
   ]
  },
  {
   "cell_type": "code",
   "execution_count": 23,
   "metadata": {},
   "outputs": [],
   "source": [
    "#Make folder for AI ready data\n",
    "! mkdir data/ai_ready\n",
    "filepath = os.getcwd() + '/data/ai_ready/'\n",
    "clean_filepath = os.getcwd() + '/data/clean/'\n",
    "raw_filepath = os.getcwd() + '/data/raw/'"
   ]
  },
  {
   "cell_type": "code",
   "execution_count": 24,
   "metadata": {},
   "outputs": [],
   "source": [
    "#set eruption time for given sensor/volcano\n",
    "eruption_time = utc('2005-01-16T00:00')"
   ]
  },
  {
   "cell_type": "code",
   "execution_count": 25,
   "metadata": {},
   "outputs": [
    {
     "name": "stdout",
     "output_type": "stream",
     "text": [
      "2004-11-27T00:00:00.000000Z\n"
     ]
    }
   ],
   "source": [
    "#read in dates file from Download_Data notebook and convert to UTC objects\n",
    "dates = [utc(date) for date in np.load(raw_filepath+'date_list.npy', allow_pickle=True)]\n",
    "print(dates[0])"
   ]
  },
  {
   "cell_type": "markdown",
   "metadata": {},
   "source": [
    "### Define Functions for Calculating Stats"
   ]
  },
  {
   "cell_type": "code",
   "execution_count": 26,
   "metadata": {},
   "outputs": [],
   "source": [
    "# General Stats Used\n",
    "def stats(data):\n",
    "    mean = np.mean(data)\n",
    "    maxx = np.max(data)\n",
    "    minn = np.min(data)\n",
    "    median = np.median(data)\n",
    "    range = np.abs(maxx - minn)\n",
    "    std = np.std(data)\n",
    "    var = np.var(data)\n",
    "\n",
    "    return(mean, maxx, minn, median, range, std, var)\n",
    "\n",
    "# Spectral Domain, use STFT using the same parameters as Zahra et al. 2024\n",
    "def compute_spec(data):\n",
    "\n",
    "    x = data\n",
    "    fs = 8 # specified by Zahra\n",
    "    nwindow = 256 #given by Zahra\n",
    "    noverlap = 32 #given by Zahra\n",
    "\n",
    "    f, t, spectra = stft(x, fs=fs, nperseg=nwindow, noverlap=noverlap)\n",
    "\n",
    "    #find magnitude of complex spectra\n",
    "    spectra = np.abs(spectra)\n",
    "\n",
    "    #find log 10 of spectra\n",
    "    log_spectra = np.log10(spectra)\n",
    "\n",
    "\n",
    "\n",
    "    return(spectra, log_spectra)"
   ]
  },
  {
   "cell_type": "markdown",
   "metadata": {},
   "source": [
    "### Cell Below Will Save Seismograms in Day Chunks and also Combine Them into 1 Large File"
   ]
  },
  {
   "cell_type": "code",
   "execution_count": 27,
   "metadata": {},
   "outputs": [],
   "source": [
    "#read in cleaned mseed files, save as daily npy files and one giant 100 day file\n",
    "hundred_data = np.array([])\n",
    "\n",
    "for i in range(100):\n",
    "    i += 1\n",
    "\n",
    "    #read mseed\n",
    "    st = read(clean_filepath+str(i)+'_cleaned.mseed')\n",
    "\n",
    "    #save data to day long npys\n",
    "    data = st[0].data \n",
    "    np.save(filepath+str(i)+'_ready.npy', data)\n",
    "\n",
    "    #append to overall array\n",
    "    hundred_data = np.append(hundred_data, data)\n",
    "\n",
    "#save hundred day data npy\n",
    "np.save(filepath+'100_days.npy', hundred_data)"
   ]
  },
  {
   "cell_type": "markdown",
   "metadata": {},
   "source": [
    "### Cells Below Will Compute and Save Time Series and Spectral Statistics For Each Hour of Seismogram Data\n",
    "Data will also be associated with a Before or After Eruption Label in Stats file"
   ]
  },
  {
   "cell_type": "code",
   "execution_count": 28,
   "metadata": {},
   "outputs": [],
   "source": [
    "#initialize statistics dataframe\n",
    "statistics = ['mean','max','min','median','range','std','var',\n",
    "              'spec_mean','spec_max','spec_min','spec_median','spec_range','spec_std','spec_var',\n",
    "              'speclog_mean','speclog_max','speclog_min','speclog_median','speclog_range','speclog_std','speclog_var',\n",
    "              'state']\n",
    "\n",
    "stats_df = pd.DataFrame(columns=statistics)"
   ]
  },
  {
   "cell_type": "code",
   "execution_count": 29,
   "metadata": {},
   "outputs": [],
   "source": [
    "for i in range(100):\n",
    "    date = dates[i]\n",
    "    date += 30*60 #add half an hour for determining eruption state\n",
    "    i += 1\n",
    "\n",
    "    #read mseed\n",
    "    st = read(clean_filepath+str(i)+'_cleaned.mseed')\n",
    "    data = st[0].data\n",
    "    hz = st[0].stats.sampling_rate\n",
    "\n",
    "    #THIS ASSUMES DATA CONTAINS 24 HOURS OF DATA PER DATA\n",
    "    split_data = np.array_split(data, 2)\n",
    "\n",
    "    for half in np.arange(2):\n",
    "        date += 12*60*60  # increment by 12 hours for each half\n",
    "        if date >= eruption_time:\n",
    "            state = 'after'\n",
    "        elif date < eruption_time:\n",
    "            state = 'before'\n",
    "\n",
    "        data = split_data[half]\n",
    "        spectra, log_spectra = compute_spec(data)\n",
    "\n",
    "        tmean, tmax, tmin, tmedian, trange, tstd, tvar = stats(data)\n",
    "\n",
    "        smean, smax, smin, smedian, srange, sstd, svar = stats(spectra)\n",
    "\n",
    "        slmean, slmax, slmin, slmedian, slrange, slstd, slvar = stats(log_spectra)\n",
    "\n",
    "        stats_df.loc[len(stats_df)] = tmean, tmax, tmin, tmedian, trange, tstd, tvar, smean, smax, \\\n",
    "            smin, smedian, srange, sstd, svar, slmean, slmax, slmin, slmedian, slrange, slstd, slvar, state\n",
    "        \n",
    "        \n"
   ]
  },
  {
   "cell_type": "code",
   "execution_count": 30,
   "metadata": {},
   "outputs": [
    {
     "data": {
      "text/html": [
       "<div>\n",
       "<style scoped>\n",
       "    .dataframe tbody tr th:only-of-type {\n",
       "        vertical-align: middle;\n",
       "    }\n",
       "\n",
       "    .dataframe tbody tr th {\n",
       "        vertical-align: top;\n",
       "    }\n",
       "\n",
       "    .dataframe thead th {\n",
       "        text-align: right;\n",
       "    }\n",
       "</style>\n",
       "<table border=\"1\" class=\"dataframe\">\n",
       "  <thead>\n",
       "    <tr style=\"text-align: right;\">\n",
       "      <th></th>\n",
       "      <th>mean</th>\n",
       "      <th>max</th>\n",
       "      <th>min</th>\n",
       "      <th>median</th>\n",
       "      <th>range</th>\n",
       "      <th>std</th>\n",
       "      <th>var</th>\n",
       "      <th>spec_mean</th>\n",
       "      <th>spec_max</th>\n",
       "      <th>spec_min</th>\n",
       "      <th>...</th>\n",
       "      <th>spec_std</th>\n",
       "      <th>spec_var</th>\n",
       "      <th>speclog_mean</th>\n",
       "      <th>speclog_max</th>\n",
       "      <th>speclog_min</th>\n",
       "      <th>speclog_median</th>\n",
       "      <th>speclog_range</th>\n",
       "      <th>speclog_std</th>\n",
       "      <th>speclog_var</th>\n",
       "      <th>state</th>\n",
       "    </tr>\n",
       "  </thead>\n",
       "  <tbody>\n",
       "    <tr>\n",
       "      <th>0</th>\n",
       "      <td>2.405779</td>\n",
       "      <td>359.358296</td>\n",
       "      <td>-436.681086</td>\n",
       "      <td>2.457358</td>\n",
       "      <td>796.039383</td>\n",
       "      <td>27.819862</td>\n",
       "      <td>773.944698</td>\n",
       "      <td>1.349449</td>\n",
       "      <td>42.351115</td>\n",
       "      <td>0.000565</td>\n",
       "      <td>...</td>\n",
       "      <td>1.721720</td>\n",
       "      <td>2.964321</td>\n",
       "      <td>-0.075843</td>\n",
       "      <td>1.626865</td>\n",
       "      <td>-3.247877</td>\n",
       "      <td>-0.069392</td>\n",
       "      <td>4.874742</td>\n",
       "      <td>0.428355</td>\n",
       "      <td>0.183488</td>\n",
       "      <td>before</td>\n",
       "    </tr>\n",
       "    <tr>\n",
       "      <th>1</th>\n",
       "      <td>-0.950467</td>\n",
       "      <td>2792.007085</td>\n",
       "      <td>-3626.343103</td>\n",
       "      <td>-0.890512</td>\n",
       "      <td>6418.350188</td>\n",
       "      <td>43.829779</td>\n",
       "      <td>1921.049533</td>\n",
       "      <td>1.565712</td>\n",
       "      <td>421.398378</td>\n",
       "      <td>0.000368</td>\n",
       "      <td>...</td>\n",
       "      <td>3.249615</td>\n",
       "      <td>10.560000</td>\n",
       "      <td>-0.019853</td>\n",
       "      <td>2.624693</td>\n",
       "      <td>-3.434664</td>\n",
       "      <td>-0.009073</td>\n",
       "      <td>6.059357</td>\n",
       "      <td>0.433242</td>\n",
       "      <td>0.187699</td>\n",
       "      <td>before</td>\n",
       "    </tr>\n",
       "    <tr>\n",
       "      <th>2</th>\n",
       "      <td>1.954878</td>\n",
       "      <td>446.572562</td>\n",
       "      <td>-513.103438</td>\n",
       "      <td>2.172117</td>\n",
       "      <td>959.676000</td>\n",
       "      <td>32.268532</td>\n",
       "      <td>1041.258151</td>\n",
       "      <td>1.622005</td>\n",
       "      <td>56.014858</td>\n",
       "      <td>0.000530</td>\n",
       "      <td>...</td>\n",
       "      <td>1.895827</td>\n",
       "      <td>3.594158</td>\n",
       "      <td>0.008601</td>\n",
       "      <td>1.748303</td>\n",
       "      <td>-3.275908</td>\n",
       "      <td>0.022684</td>\n",
       "      <td>5.024212</td>\n",
       "      <td>0.434314</td>\n",
       "      <td>0.188629</td>\n",
       "      <td>before</td>\n",
       "    </tr>\n",
       "  </tbody>\n",
       "</table>\n",
       "<p>3 rows × 22 columns</p>\n",
       "</div>"
      ],
      "text/plain": [
       "       mean          max          min    median        range        std  \\\n",
       "0  2.405779   359.358296  -436.681086  2.457358   796.039383  27.819862   \n",
       "1 -0.950467  2792.007085 -3626.343103 -0.890512  6418.350188  43.829779   \n",
       "2  1.954878   446.572562  -513.103438  2.172117   959.676000  32.268532   \n",
       "\n",
       "           var  spec_mean    spec_max  spec_min  ...  spec_std   spec_var  \\\n",
       "0   773.944698   1.349449   42.351115  0.000565  ...  1.721720   2.964321   \n",
       "1  1921.049533   1.565712  421.398378  0.000368  ...  3.249615  10.560000   \n",
       "2  1041.258151   1.622005   56.014858  0.000530  ...  1.895827   3.594158   \n",
       "\n",
       "   speclog_mean  speclog_max  speclog_min  speclog_median  speclog_range  \\\n",
       "0     -0.075843     1.626865    -3.247877       -0.069392       4.874742   \n",
       "1     -0.019853     2.624693    -3.434664       -0.009073       6.059357   \n",
       "2      0.008601     1.748303    -3.275908        0.022684       5.024212   \n",
       "\n",
       "   speclog_std  speclog_var   state  \n",
       "0     0.428355     0.183488  before  \n",
       "1     0.433242     0.187699  before  \n",
       "2     0.434314     0.188629  before  \n",
       "\n",
       "[3 rows x 22 columns]"
      ]
     },
     "execution_count": 30,
     "metadata": {},
     "output_type": "execute_result"
    }
   ],
   "source": [
    "#inspect dataframe header\n",
    "stats_df.head(3)"
   ]
  },
  {
   "cell_type": "code",
   "execution_count": 31,
   "metadata": {},
   "outputs": [],
   "source": [
    "#save stats to csv file\n",
    "stats_df.to_csv(path_or_buf=filepath+'statistics.csv', index=False)"
   ]
  },
  {
   "cell_type": "code",
   "execution_count": null,
   "metadata": {},
   "outputs": [],
   "source": []
  }
 ],
 "metadata": {
  "kernelspec": {
   "display_name": "Python 3",
   "language": "python",
   "name": "python3"
  },
  "language_info": {
   "codemirror_mode": {
    "name": "ipython",
    "version": 3
   },
   "file_extension": ".py",
   "mimetype": "text/x-python",
   "name": "python",
   "nbconvert_exporter": "python",
   "pygments_lexer": "ipython3",
   "version": "3.11.10"
  }
 },
 "nbformat": 4,
 "nbformat_minor": 2
}
