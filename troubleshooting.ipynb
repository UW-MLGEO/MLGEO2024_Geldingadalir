{
 "cells": [
  {
   "cell_type": "markdown",
   "metadata": {},
   "source": [
    "[Kernel crashes when using numpy](https://github.com/microsoft/vscode-jupyter/wiki/Kernel-crashes-when-using-numpy)"
   ]
  }
 ],
 "metadata": {
  "language_info": {
   "name": "python"
  }
 },
 "nbformat": 4,
 "nbformat_minor": 2
}
